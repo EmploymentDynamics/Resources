{
 "cells": [
  {
   "cell_type": "code",
   "execution_count": 11,
   "metadata": {},
   "outputs": [],
   "source": [
    "import pandas as pd\n",
    "import numpy as np\n",
    "import matplotlib.pyplot as plt\n",
    "import seaborn as sns\n",
    "\n",
    "import warnings\n",
    "warnings.filterwarnings('ignore')"
   ]
  },
  {
   "cell_type": "code",
   "execution_count": 3,
   "metadata": {},
   "outputs": [
    {
     "data": {
      "text/html": [
       "<div>\n",
       "<style scoped>\n",
       "    .dataframe tbody tr th:only-of-type {\n",
       "        vertical-align: middle;\n",
       "    }\n",
       "\n",
       "    .dataframe tbody tr th {\n",
       "        vertical-align: top;\n",
       "    }\n",
       "\n",
       "    .dataframe thead th {\n",
       "        text-align: right;\n",
       "    }\n",
       "</style>\n",
       "<table border=\"1\" class=\"dataframe\">\n",
       "  <thead>\n",
       "    <tr style=\"text-align: right;\">\n",
       "      <th></th>\n",
       "      <th>Unnamed: 0.1</th>\n",
       "      <th>Unnamed: 0.1.1</th>\n",
       "      <th>ID</th>\n",
       "      <th>Birth Year</th>\n",
       "      <th>Gender Flag</th>\n",
       "      <th>Skillset1 Weight</th>\n",
       "      <th>Skillset2 Weight</th>\n",
       "      <th>City of profile</th>\n",
       "      <th>Country of profile</th>\n",
       "      <th>Education</th>\n",
       "      <th>...</th>\n",
       "      <th>s2-Product Management</th>\n",
       "      <th>s2-Public Policy</th>\n",
       "      <th>s2-Real Estate</th>\n",
       "      <th>s2-Retail and Fashion</th>\n",
       "      <th>s2-Sales</th>\n",
       "      <th>s2-Social Media and Communications</th>\n",
       "      <th>s2-Software Engineering</th>\n",
       "      <th>s2-Video and Film Production</th>\n",
       "      <th>s2-Web Design</th>\n",
       "      <th>s2-Web Development</th>\n",
       "    </tr>\n",
       "  </thead>\n",
       "  <tbody>\n",
       "    <tr>\n",
       "      <th>0</th>\n",
       "      <td>0</td>\n",
       "      <td>0</td>\n",
       "      <td>3095f7eb-b536-39ca-8bd4-949a290deed9</td>\n",
       "      <td>1997</td>\n",
       "      <td>2</td>\n",
       "      <td>0.874223</td>\n",
       "      <td>0.075843</td>\n",
       "      <td>NaN</td>\n",
       "      <td>United States</td>\n",
       "      <td>4</td>\n",
       "      <td>...</td>\n",
       "      <td>0</td>\n",
       "      <td>0</td>\n",
       "      <td>0</td>\n",
       "      <td>0</td>\n",
       "      <td>0</td>\n",
       "      <td>0</td>\n",
       "      <td>1</td>\n",
       "      <td>0</td>\n",
       "      <td>0</td>\n",
       "      <td>0</td>\n",
       "    </tr>\n",
       "    <tr>\n",
       "      <th>1</th>\n",
       "      <td>1</td>\n",
       "      <td>1</td>\n",
       "      <td>3095f7eb-b536-39ca-8bd4-949a290deed9</td>\n",
       "      <td>1997</td>\n",
       "      <td>2</td>\n",
       "      <td>0.874223</td>\n",
       "      <td>0.075843</td>\n",
       "      <td>NaN</td>\n",
       "      <td>United States</td>\n",
       "      <td>4</td>\n",
       "      <td>...</td>\n",
       "      <td>0</td>\n",
       "      <td>0</td>\n",
       "      <td>0</td>\n",
       "      <td>0</td>\n",
       "      <td>0</td>\n",
       "      <td>0</td>\n",
       "      <td>1</td>\n",
       "      <td>0</td>\n",
       "      <td>0</td>\n",
       "      <td>0</td>\n",
       "    </tr>\n",
       "    <tr>\n",
       "      <th>2</th>\n",
       "      <td>2</td>\n",
       "      <td>2</td>\n",
       "      <td>3095f7eb-b536-39ca-8bd4-949a290deed9</td>\n",
       "      <td>1997</td>\n",
       "      <td>2</td>\n",
       "      <td>0.874223</td>\n",
       "      <td>0.075843</td>\n",
       "      <td>NaN</td>\n",
       "      <td>United States</td>\n",
       "      <td>4</td>\n",
       "      <td>...</td>\n",
       "      <td>0</td>\n",
       "      <td>0</td>\n",
       "      <td>0</td>\n",
       "      <td>0</td>\n",
       "      <td>0</td>\n",
       "      <td>0</td>\n",
       "      <td>1</td>\n",
       "      <td>0</td>\n",
       "      <td>0</td>\n",
       "      <td>0</td>\n",
       "    </tr>\n",
       "    <tr>\n",
       "      <th>3</th>\n",
       "      <td>3</td>\n",
       "      <td>3</td>\n",
       "      <td>3095f7eb-b536-39ca-8bd4-949a290deed9</td>\n",
       "      <td>1997</td>\n",
       "      <td>2</td>\n",
       "      <td>0.874223</td>\n",
       "      <td>0.075843</td>\n",
       "      <td>NaN</td>\n",
       "      <td>United States</td>\n",
       "      <td>4</td>\n",
       "      <td>...</td>\n",
       "      <td>0</td>\n",
       "      <td>0</td>\n",
       "      <td>0</td>\n",
       "      <td>0</td>\n",
       "      <td>0</td>\n",
       "      <td>0</td>\n",
       "      <td>1</td>\n",
       "      <td>0</td>\n",
       "      <td>0</td>\n",
       "      <td>0</td>\n",
       "    </tr>\n",
       "    <tr>\n",
       "      <th>4</th>\n",
       "      <td>4</td>\n",
       "      <td>4</td>\n",
       "      <td>3095f7eb-b536-39ca-8bd4-949a290deed9</td>\n",
       "      <td>1997</td>\n",
       "      <td>2</td>\n",
       "      <td>0.874223</td>\n",
       "      <td>0.075843</td>\n",
       "      <td>NaN</td>\n",
       "      <td>United States</td>\n",
       "      <td>4</td>\n",
       "      <td>...</td>\n",
       "      <td>0</td>\n",
       "      <td>0</td>\n",
       "      <td>0</td>\n",
       "      <td>0</td>\n",
       "      <td>0</td>\n",
       "      <td>0</td>\n",
       "      <td>1</td>\n",
       "      <td>0</td>\n",
       "      <td>0</td>\n",
       "      <td>0</td>\n",
       "    </tr>\n",
       "  </tbody>\n",
       "</table>\n",
       "<p>5 rows × 87 columns</p>\n",
       "</div>"
      ],
      "text/plain": [
       "   Unnamed: 0.1  Unnamed: 0.1.1                                    ID  \\\n",
       "0             0               0  3095f7eb-b536-39ca-8bd4-949a290deed9   \n",
       "1             1               1  3095f7eb-b536-39ca-8bd4-949a290deed9   \n",
       "2             2               2  3095f7eb-b536-39ca-8bd4-949a290deed9   \n",
       "3             3               3  3095f7eb-b536-39ca-8bd4-949a290deed9   \n",
       "4             4               4  3095f7eb-b536-39ca-8bd4-949a290deed9   \n",
       "\n",
       "   Birth Year  Gender Flag  Skillset1 Weight  Skillset2 Weight  \\\n",
       "0        1997            2          0.874223          0.075843   \n",
       "1        1997            2          0.874223          0.075843   \n",
       "2        1997            2          0.874223          0.075843   \n",
       "3        1997            2          0.874223          0.075843   \n",
       "4        1997            2          0.874223          0.075843   \n",
       "\n",
       "  City of profile Country of profile  Education        ...          \\\n",
       "0             NaN      United States          4        ...           \n",
       "1             NaN      United States          4        ...           \n",
       "2             NaN      United States          4        ...           \n",
       "3             NaN      United States          4        ...           \n",
       "4             NaN      United States          4        ...           \n",
       "\n",
       "   s2-Product Management s2-Public Policy s2-Real Estate  \\\n",
       "0                      0                0              0   \n",
       "1                      0                0              0   \n",
       "2                      0                0              0   \n",
       "3                      0                0              0   \n",
       "4                      0                0              0   \n",
       "\n",
       "   s2-Retail and Fashion s2-Sales s2-Social Media and Communications  \\\n",
       "0                      0        0                                  0   \n",
       "1                      0        0                                  0   \n",
       "2                      0        0                                  0   \n",
       "3                      0        0                                  0   \n",
       "4                      0        0                                  0   \n",
       "\n",
       "  s2-Software Engineering s2-Video and Film Production s2-Web Design  \\\n",
       "0                       1                            0             0   \n",
       "1                       1                            0             0   \n",
       "2                       1                            0             0   \n",
       "3                       1                            0             0   \n",
       "4                       1                            0             0   \n",
       "\n",
       "  s2-Web Development  \n",
       "0                  0  \n",
       "1                  0  \n",
       "2                  0  \n",
       "3                  0  \n",
       "4                  0  \n",
       "\n",
       "[5 rows x 87 columns]"
      ]
     },
     "execution_count": 3,
     "metadata": {},
     "output_type": "execute_result"
    }
   ],
   "source": [
    "data= pd.read_csv(\"/Users/wl/Desktop/UCB/Data X/Project/Datasets/newData2.csv\", index_col=0)\n",
    "data.head()"
   ]
  },
  {
   "cell_type": "code",
   "execution_count": 3,
   "metadata": {},
   "outputs": [],
   "source": [
    "#data['Gender Flag'] = data['Gender Flag'].replace({0: 'unknown', 1: 'female', 2: 'male'})\n",
    "#data['Education'] = data['Education'].replace({0: 'unknown', 1: 'High School', 2: 'Vocational degree', 3: 'Associates', \n",
    "#                                               4: 'Bachelors', 5:'Masters', 6: 'MBA', 7: 'PhD'})\n",
    "#data['Length'] = data['Length']*1/30\n",
    "# Categorize length in 1:'0-6 months', 2:'6-12 months', 3:'12-18 months', 4:'18-24 months', 5:'more than 2 years'\n",
    "#data['Length']=pd.cut(data['Length'], bins=[0, 6, 12, 18,24,1000000], \n",
    "#                                             include_lowest=True, \n",
    "#                                             labels=['<6mo','6-12mo','12-18mo','12-24mo','>24mo'])\n",
    "\n",
    "# Convert Birthyear to Age in 1:'> 45 yrs old', 2:'36-45 yrs old', 3:'26-35 yrs old', 4:'< 26 yrs old'\n",
    "#data['Age']=pd.cut(data['Age'], bins=[0, 25, 35, 45, 100000], \n",
    "#                                             include_lowest=True, \n",
    "#                                             labels=['>45 yrs old','36-45 yrs old','26-35 yrs old','<26 yrs old'])\n",
    "\n"
   ]
  },
  {
   "cell_type": "code",
   "execution_count": 4,
   "metadata": {},
   "outputs": [
    {
     "name": "stdout",
     "output_type": "stream",
     "text": [
      "<class 'pandas.core.frame.DataFrame'>\n",
      "Int64Index: 110082 entries, 0 to 110081\n",
      "Data columns (total 87 columns):\n",
      "Unnamed: 0.1                               110082 non-null int64\n",
      "Unnamed: 0.1.1                             110082 non-null int64\n",
      "ID                                         110082 non-null object\n",
      "Birth Year                                 110082 non-null int64\n",
      "Gender Flag                                110082 non-null int64\n",
      "Skillset1 Weight                           110082 non-null float64\n",
      "Skillset2 Weight                           110082 non-null float64\n",
      "City of profile                            99845 non-null object\n",
      "Country of profile                         110082 non-null object\n",
      "Education                                  110082 non-null int64\n",
      "Elite Institution                          110082 non-null int64\n",
      "Start Date                                 110082 non-null object\n",
      "End Date                                   110082 non-null object\n",
      "Length                                     110069 non-null float64\n",
      "Role                                       110082 non-null object\n",
      "Dept                                       68867 non-null object\n",
      "Location                                   60438 non-null object\n",
      "Industry                                   110082 non-null object\n",
      "Layoff Date                                110082 non-null object\n",
      "Company Name                               110082 non-null object\n",
      "Employees Affected                         110082 non-null int64\n",
      "laid_off                                   110082 non-null int64\n",
      "Age                                        110082 non-null int64\n",
      "s1-Administration                          110082 non-null int64\n",
      "s1-Business Development                    110082 non-null int64\n",
      "s1-Data Analysis                           110082 non-null int64\n",
      "s1-Design                                  110082 non-null int64\n",
      "s1-Digital Marketing                       110082 non-null int64\n",
      "s1-Electrical Engineering                  110082 non-null int64\n",
      "s1-Energy, Oil, and Gas                    110082 non-null int64\n",
      "s1-Finance                                 110082 non-null int64\n",
      "s1-Healthcare                              110082 non-null int64\n",
      "s1-Hospitality                             110082 non-null int64\n",
      "s1-Human Resources                         110082 non-null int64\n",
      "s1-IT Management and Support               110082 non-null int64\n",
      "s1-Industrial Management                   110082 non-null int64\n",
      "s1-Insurance                               110082 non-null int64\n",
      "s1-Legal                                   110082 non-null int64\n",
      "s1-Logistics                               110082 non-null int64\n",
      "s1-Manufacturing and Process Management    110082 non-null int64\n",
      "s1-Military                                110082 non-null int64\n",
      "s1-Mobile Telecommunications               110082 non-null int64\n",
      "s1-Musical Production                      110082 non-null int64\n",
      "s1-Non-Profit and Community                110082 non-null int64\n",
      "s1-Operations Management                   110082 non-null int64\n",
      "s1-Product Management                      110082 non-null int64\n",
      "s1-Public Policy                           110082 non-null int64\n",
      "s1-Real Estate                             110082 non-null int64\n",
      "s1-Retail and Fashion                      110082 non-null int64\n",
      "s1-Sales                                   110082 non-null int64\n",
      "s1-Social Media and Communications         110082 non-null int64\n",
      "s1-Software Engineering                    110082 non-null int64\n",
      "s1-Video and Film Production               110082 non-null int64\n",
      "s1-Web Design                              110082 non-null int64\n",
      "s1-Web Development                         110082 non-null int64\n",
      "s2-Administration                          110082 non-null int64\n",
      "s2-Business Development                    110082 non-null int64\n",
      "s2-Data Analysis                           110082 non-null int64\n",
      "s2-Design                                  110082 non-null int64\n",
      "s2-Digital Marketing                       110082 non-null int64\n",
      "s2-Electrical Engineering                  110082 non-null int64\n",
      "s2-Energy, Oil, and Gas                    110082 non-null int64\n",
      "s2-Finance                                 110082 non-null int64\n",
      "s2-Healthcare                              110082 non-null int64\n",
      "s2-Hospitality                             110082 non-null int64\n",
      "s2-Human Resources                         110082 non-null int64\n",
      "s2-IT Management and Support               110082 non-null int64\n",
      "s2-Industrial Management                   110082 non-null int64\n",
      "s2-Insurance                               110082 non-null int64\n",
      "s2-Legal                                   110082 non-null int64\n",
      "s2-Logistics                               110082 non-null int64\n",
      "s2-Manufacturing and Process Management    110082 non-null int64\n",
      "s2-Military                                110082 non-null int64\n",
      "s2-Mobile Telecommunications               110082 non-null int64\n",
      "s2-Musical Production                      110082 non-null int64\n",
      "s2-Non-Profit and Community                110082 non-null int64\n",
      "s2-Operations Management                   110082 non-null int64\n",
      "s2-Product Management                      110082 non-null int64\n",
      "s2-Public Policy                           110082 non-null int64\n",
      "s2-Real Estate                             110082 non-null int64\n",
      "s2-Retail and Fashion                      110082 non-null int64\n",
      "s2-Sales                                   110082 non-null int64\n",
      "s2-Social Media and Communications         110082 non-null int64\n",
      "s2-Software Engineering                    110082 non-null int64\n",
      "s2-Video and Film Production               110082 non-null int64\n",
      "s2-Web Design                              110082 non-null int64\n",
      "s2-Web Development                         110082 non-null int64\n",
      "dtypes: float64(3), int64(73), object(11)\n",
      "memory usage: 73.9+ MB\n"
     ]
    }
   ],
   "source": [
    "data.info()"
   ]
  },
  {
   "cell_type": "code",
   "execution_count": 6,
   "metadata": {},
   "outputs": [],
   "source": [
    "data = data.drop(['Unnamed: 0.1','Unnamed: 0.1.1'],axis = 1)"
   ]
  },
  {
   "cell_type": "code",
   "execution_count": 7,
   "metadata": {},
   "outputs": [
    {
     "data": {
      "text/plain": [
       "array(['Manufacturing', 'Tech', 'Finance', 'Consumer', 'Healthcare',\n",
       "       'Transportation'], dtype=object)"
      ]
     },
     "execution_count": 7,
     "metadata": {},
     "output_type": "execute_result"
    }
   ],
   "source": [
    "data['Industry'].unique()"
   ]
  },
  {
   "cell_type": "code",
   "execution_count": 75,
   "metadata": {},
   "outputs": [
    {
     "name": "stdout",
     "output_type": "stream",
     "text": [
      "The shape of tech data:  (30088, 85)\n",
      "The shape of finance data:  (6889, 85)\n",
      "The shape of consumer data:  (14015, 85)\n",
      "The shape of healthcare data:  (11690, 85)\n",
      "The shape of transportation data:  (930, 85)\n"
     ]
    }
   ],
   "source": [
    "# split dataset according to Industry\n",
    "dataTech = data[data['Industry']=='Tech']\n",
    "print('The shape of tech data: ',dataTech.shape)\n",
    "dataFin = data[data['Industry']=='Finance']\n",
    "print('The shape of finance data: ',dataFin.shape)\n",
    "dataCon = data[data['Industry']=='Consumer']\n",
    "print('The shape of consumer data: ',dataCon.shape)\n",
    "dataHealth = data[data['Industry']=='Healthcare']\n",
    "print('The shape of healthcare data: ',dataHealth.shape)\n",
    "dataManu = data[data['Industry']=='Manufacturing']\n",
    "print('The shape of transportation data: ',dataTrans.shape)"
   ]
  },
  {
   "cell_type": "code",
   "execution_count": 9,
   "metadata": {},
   "outputs": [
    {
     "data": {
      "text/plain": [
       "0         2\n",
       "1         2\n",
       "2         2\n",
       "3         2\n",
       "4         2\n",
       "5         2\n",
       "6         2\n",
       "7         2\n",
       "8         2\n",
       "9         2\n",
       "10        2\n",
       "11        2\n",
       "12        2\n",
       "13        2\n",
       "14        2\n",
       "15        2\n",
       "16        2\n",
       "17        2\n",
       "18        2\n",
       "19        2\n",
       "20        2\n",
       "21        1\n",
       "22        1\n",
       "23        1\n",
       "24        2\n",
       "25        2\n",
       "26        2\n",
       "27        0\n",
       "28        0\n",
       "29        2\n",
       "         ..\n",
       "110052    2\n",
       "110053    2\n",
       "110054    0\n",
       "110055    0\n",
       "110056    1\n",
       "110057    1\n",
       "110058    1\n",
       "110059    1\n",
       "110060    2\n",
       "110061    2\n",
       "110062    1\n",
       "110063    2\n",
       "110064    2\n",
       "110065    2\n",
       "110066    2\n",
       "110067    2\n",
       "110068    2\n",
       "110069    0\n",
       "110070    2\n",
       "110071    2\n",
       "110072    2\n",
       "110073    2\n",
       "110074    2\n",
       "110075    2\n",
       "110076    2\n",
       "110077    2\n",
       "110078    2\n",
       "110079    2\n",
       "110080    2\n",
       "110081    0\n",
       "Name: Gender Flag, Length: 110082, dtype: int64"
      ]
     },
     "execution_count": 9,
     "metadata": {},
     "output_type": "execute_result"
    }
   ],
   "source": [
    "data['Gender Flag']"
   ]
  },
  {
   "cell_type": "code",
   "execution_count": 13,
   "metadata": {},
   "outputs": [],
   "source": [
    "# type(dataTech['Gender Flag'][0])"
   ]
  },
  {
   "cell_type": "code",
   "execution_count": 14,
   "metadata": {},
   "outputs": [
    {
     "data": {
      "text/plain": [
       "Text(0.5, 1.0, 'Transportation')"
      ]
     },
     "execution_count": 14,
     "metadata": {},
     "output_type": "execute_result"
    },
    {
     "data": {
      "image/png": "[encoded data removed]",
      "text/plain": [
       "<Figure size 1440x216 with 5 Axes>"
      ]
     },
     "metadata": {
      "needs_background": "light"
     },
     "output_type": "display_data"
    }
   ],
   "source": [
    "# distribution of gender\n",
    "fig, axs = plt.subplots(ncols=5,figsize=(20,3))\n",
    "sns.distplot(dataTech['Gender Flag'], ax=axs[0]).set_title('Tech')\n",
    "sns.distplot(dataFin['Gender Flag'], ax=axs[1]).set_title('Finance')\n",
    "sns.distplot(dataCon['Gender Flag'], ax=axs[2]).set_title('Consumer')\n",
    "sns.distplot(dataHealth['Gender Flag'], ax=axs[3]).set_title('Healthcare')\n",
    "sns.distplot(dataTrans['Gender Flag'], ax=axs[4]).set_title('Transportation')"
   ]
  },
  {
   "cell_type": "code",
   "execution_count": 15,
   "metadata": {},
   "outputs": [
    {
     "data": {
      "text/plain": [
       "Text(0.5, 1.0, 'Transportation')"
      ]
     },
     "execution_count": 15,
     "metadata": {},
     "output_type": "execute_result"
    },
    {
     "data": {
      "image/png": "[encoded data removed]",
      "text/plain": [
       "<Figure size 1440x216 with 5 Axes>"
      ]
     },
     "metadata": {
      "needs_background": "light"
     },
     "output_type": "display_data"
    }
   ],
   "source": [
    "# distribution of education\n",
    "fig, axs = plt.subplots(ncols=5,figsize=(20,3))\n",
    "sns.distplot(dataTech['Education'], ax=axs[0]).set_title('Tech')\n",
    "sns.distplot(dataFin['Education'], ax=axs[1]).set_title('Finance')\n",
    "sns.distplot(dataCon['Education'], ax=axs[2]).set_title('Consumer')\n",
    "sns.distplot(dataHealth['Education'], ax=axs[3]).set_title('Healthcare')\n",
    "sns.distplot(dataTrans['Education'], ax=axs[4]).set_title('Transportation')"
   ]
  },
  {
   "cell_type": "code",
   "execution_count": 16,
   "metadata": {},
   "outputs": [
    {
     "data": {
      "text/plain": [
       "Text(0.5, 1.0, 'Transportation')"
      ]
     },
     "execution_count": 16,
     "metadata": {},
     "output_type": "execute_result"
    },
    {
     "data": {
      "image/png": "[encoded data removed]",
      "text/plain": [
       "<Figure size 1440x216 with 5 Axes>"
      ]
     },
     "metadata": {
      "needs_background": "light"
     },
     "output_type": "display_data"
    }
   ],
   "source": [
    "# distribution of Elite institution\n",
    "fig, axs = plt.subplots(ncols=5,figsize=(20,3))\n",
    "sns.distplot(dataTech['Elite Institution'], ax=axs[0]).set_title('Tech')\n",
    "sns.distplot(dataFin['Elite Institution'], ax=axs[1]).set_title('Finance')\n",
    "sns.distplot(dataCon['Elite Institution'], ax=axs[2]).set_title('Consumer')\n",
    "sns.distplot(dataHealth['Elite Institution'], ax=axs[3]).set_title('Healthcare')\n",
    "sns.distplot(dataTrans['Elite Institution'], ax=axs[4]).set_title('Transportation')"
   ]
  },
  {
   "cell_type": "code",
   "execution_count": 17,
   "metadata": {},
   "outputs": [
    {
     "data": {
      "text/plain": [
       "Text(0.5, 1.0, 'Transportation')"
      ]
     },
     "execution_count": 17,
     "metadata": {},
     "output_type": "execute_result"
    },
    {
     "data": {
      "image/png": "[encoded data removed]",
      "text/plain": [
       "<Figure size 1440x216 with 5 Axes>"
      ]
     },
     "metadata": {
      "needs_background": "light"
     },
     "output_type": "display_data"
    }
   ],
   "source": [
    "# distribution of age\n",
    "fig, axs = plt.subplots(ncols=5,figsize=(20,3))\n",
    "sns.distplot(dataTech['Age'], ax=axs[0]).set_title('Tech')\n",
    "sns.distplot(dataFin['Age'], ax=axs[1]).set_title('Finance')\n",
    "sns.distplot(dataCon['Age'], ax=axs[2]).set_title('Consumer')\n",
    "sns.distplot(dataHealth['Age'], ax=axs[3]).set_title('Healthcare')\n",
    "sns.distplot(dataTrans['Age'], ax=axs[4]).set_title('Transportation')"
   ]
  },
  {
   "cell_type": "code",
   "execution_count": 18,
   "metadata": {},
   "outputs": [
    {
     "name": "stdout",
     "output_type": "stream",
     "text": [
      "number of laidoff people in tech: 2492\n",
      "number of non-laidoff people in tech: 27596\n",
      "number of laidoff people in finance: 376\n",
      "number of non-laidoff people in finance: 6513\n",
      "number of laidoff people in consumer: 1140\n",
      "number of non-laidoff people in consumer: 12875\n",
      "number of laidoff people in healthcare: 326\n",
      "number of non-laidoff people in healthcare: 11364\n",
      "number of laidoff people in transportation: 46\n",
      "number of non-laidoff people in transportation: 884\n"
     ]
    }
   ],
   "source": [
    "# check if the dataset is balanced\n",
    "print(\"number of laidoff people in tech:\",len(dataTech[dataTech['laid_off']==1]))\n",
    "print(\"number of non-laidoff people in tech:\",len(dataTech[dataTech['laid_off']==0]))\n",
    "print(\"number of laidoff people in finance:\",len(dataFin[dataFin['laid_off']==1]))\n",
    "print(\"number of non-laidoff people in finance:\",len(dataFin[dataFin['laid_off']==0]))\n",
    "print(\"number of laidoff people in consumer:\",len(dataCon[dataCon['laid_off']==1]))\n",
    "print(\"number of non-laidoff people in consumer:\",len(dataCon[dataCon['laid_off']==0]))\n",
    "print(\"number of laidoff people in healthcare:\",len(dataHealth[dataHealth['laid_off']==1]))\n",
    "print(\"number of non-laidoff people in healthcare:\",len(dataHealth[dataHealth['laid_off']==0]))\n",
    "print(\"number of laidoff people in transportation:\",len(dataTrans[dataTrans['laid_off']==1]))\n",
    "print(\"number of non-laidoff people in transportation:\",len(dataTrans[dataTrans['laid_off']==0]))\n"
   ]
  },
  {
   "cell_type": "code",
   "execution_count": 19,
   "metadata": {},
   "outputs": [
    {
     "data": {
      "text/plain": [
       "numpy.float64"
      ]
     },
     "execution_count": 19,
     "metadata": {},
     "output_type": "execute_result"
    }
   ],
   "source": [
    "type(data['Skillset1 Weight'][0])"
   ]
  },
  {
   "cell_type": "code",
   "execution_count": null,
   "metadata": {},
   "outputs": [],
   "source": []
  },
  {
   "cell_type": "markdown",
   "metadata": {},
   "source": [
    "## Tech"
   ]
  },
  {
   "cell_type": "code",
   "execution_count": 20,
   "metadata": {},
   "outputs": [],
   "source": [
    "# make balanced data\n",
    "not_laid_off_tech = dataTech[dataTech['laid_off'] == 0]\n",
    "laid_off_tech = dataTech[dataTech['laid_off'] == 1]\n",
    "np.random.seed(101)\n",
    "not_laid_off_tech = not_laid_off_tech.sample(n=7500) \n",
    "dataTech = pd.concat([not_laid_off_tech, laid_off_tech])"
   ]
  },
  {
   "cell_type": "code",
   "execution_count": 21,
   "metadata": {},
   "outputs": [
    {
     "name": "stdout",
     "output_type": "stream",
     "text": [
      "2492\n",
      "7500\n"
     ]
    }
   ],
   "source": [
    "print(len(dataTech[dataTech['laid_off']==1]))\n",
    "print(len(dataTech[dataTech['laid_off']==0]))"
   ]
  },
  {
   "cell_type": "code",
   "execution_count": 22,
   "metadata": {},
   "outputs": [
    {
     "name": "stdout",
     "output_type": "stream",
     "text": [
      "training data has 7993 observation with 70 features\n",
      "test data has 1999 observation with 70 features\n"
     ]
    }
   ],
   "source": [
    "from sklearn.model_selection import train_test_split\n",
    "# Reserve 20% for testing\n",
    "y = dataTech['laid_off']\n",
    "X = dataTech.drop(['Length', 'ID','Birth Year','City of profile', 'Country of profile',\n",
    "                   'Start Date','End Date','Role', 'Dept', 'Company Name',\n",
    "                   'Location','Industry','laid_off','Layoff Date', 'Employees Affected'],axis = 1)\n",
    "X_train, X_test, y_train, y_test = train_test_split(X, y, test_size=0.2,random_state=101)\n",
    "\n",
    "print('training data has %d observation with %d features'% X_train.shape)\n",
    "print('test data has %d observation with %d features'% X_test.shape)"
   ]
  },
  {
   "cell_type": "code",
   "execution_count": 23,
   "metadata": {},
   "outputs": [],
   "source": [
    "# Scale the data, using standardization\n",
    "from sklearn.preprocessing import StandardScaler\n",
    "scaler = StandardScaler()\n",
    "X_train = scaler.fit_transform(X_train)\n",
    "X_test = scaler.transform(X_test)"
   ]
  },
  {
   "cell_type": "code",
   "execution_count": 24,
   "metadata": {},
   "outputs": [
    {
     "data": {
      "text/plain": [
       "0.8579289644822411"
      ]
     },
     "execution_count": 24,
     "metadata": {},
     "output_type": "execute_result"
    }
   ],
   "source": [
    "# Random forest to see feature importance\n",
    "from sklearn.ensemble import RandomForestClassifier\n",
    "RF = RandomForestClassifier()\n",
    "RF.fit(X_train, y_train)\n",
    "RF.score(X_test,y_test)"
   ]
  },
  {
   "cell_type": "code",
   "execution_count": 25,
   "metadata": {},
   "outputs": [
    {
     "data": {
      "text/plain": [
       "GridSearchCV(cv=5, error_score='raise-deprecating',\n",
       "       estimator=RandomForestClassifier(bootstrap=True, class_weight=None, criterion='gini',\n",
       "            max_depth=None, max_features='auto', max_leaf_nodes=None,\n",
       "            min_impurity_decrease=0.0, min_impurity_split=None,\n",
       "            min_samples_leaf=1, min_samples_split=2,\n",
       "            min_weight_fraction_leaf=0.0, n_estimators='warn', n_jobs=None,\n",
       "            oob_score=False, random_state=None, verbose=0,\n",
       "            warm_start=False),\n",
       "       fit_params=None, iid='warn', n_jobs=None,\n",
       "       param_grid={'n_estimators': [40, 60, 80]}, pre_dispatch='2*n_jobs',\n",
       "       refit=True, return_train_score='warn', scoring=None, verbose=0)"
      ]
     },
     "execution_count": 25,
     "metadata": {},
     "output_type": "execute_result"
    }
   ],
   "source": [
    "# hypermarameter tuning for Random Forest\n",
    "from sklearn.model_selection import GridSearchCV\n",
    "parameters = {\n",
    "    'n_estimators' : [40,60,80]\n",
    "}\n",
    "Grid_RF = GridSearchCV(RandomForestClassifier(),parameters, cv=5)\n",
    "Grid_RF.fit(X_train, y_train)"
   ]
  },
  {
   "cell_type": "code",
   "execution_count": 26,
   "metadata": {},
   "outputs": [
    {
     "name": "stdout",
     "output_type": "stream",
     "text": [
      "Best score: 0.832\n",
      "Best parameters set:\n",
      "\tn_estimators: 60\n"
     ]
    }
   ],
   "source": [
    "# best number of trees\n",
    "def print_grid_search_metrics(gs):\n",
    "    print (\"Best score: %0.3f\" % gs.best_score_)\n",
    "    print (\"Best parameters set:\")\n",
    "    best_parameters = gs.best_params_\n",
    "    for param_name in sorted(parameters.keys()):\n",
    "        print(\"\\t%s: %r\" % (param_name, best_parameters[param_name]))\n",
    "\n",
    "print_grid_search_metrics(Grid_RF)"
   ]
  },
  {
   "cell_type": "code",
   "execution_count": 27,
   "metadata": {},
   "outputs": [
    {
     "name": "stdout",
     "output_type": "stream",
     "text": [
      "Feature importance ranking by Random Forest Model:\n",
      "Skillset2 Weight: 0.2068\n",
      "Skillset1 Weight: 0.1868\n",
      "Age: 0.1526\n",
      "Education: 0.0625\n",
      "Gender Flag: 0.0512\n",
      "Elite Institution: 0.0247\n",
      "s2-Sales: 0.0174\n",
      "s1-Electrical Engineering: 0.0148\n",
      "s1-Sales: 0.014\n",
      "s2-Administration: 0.0122\n",
      "s2-Software Engineering: 0.0102\n",
      "s1-Software Engineering: 0.0101\n",
      "s1-Finance: 0.0093\n",
      "s2-Business Development: 0.0092\n",
      "s1-Human Resources: 0.0091\n",
      "s2-IT Management and Support: 0.0088\n",
      "s1-Product Management: 0.0087\n",
      "s2-Human Resources: 0.0086\n",
      "s2-Product Management: 0.0084\n",
      "s1-Web Design: 0.0083\n",
      "s1-IT Management and Support: 0.0083\n",
      "s1-Administration: 0.0082\n",
      "s1-Digital Marketing: 0.0081\n",
      "s2-Finance: 0.008\n",
      "s2-Web Development: 0.0069\n",
      "s2-Data Analysis: 0.0069\n",
      "s2-Social Media and Communications: 0.0066\n",
      "s2-Digital Marketing: 0.0064\n",
      "s2-Operations Management: 0.0062\n",
      "s2-Electrical Engineering: 0.006\n",
      "s2-Web Design: 0.0058\n",
      "s1-Web Development: 0.005\n",
      "s1-Operations Management: 0.0048\n",
      "s2-Manufacturing and Process Management: 0.0045\n",
      "s2-Logistics: 0.0045\n",
      "s2-Video and Film Production: 0.0043\n",
      "s2-Non-Profit and Community: 0.0042\n",
      "s1-Video and Film Production: 0.0042\n",
      "s1-Business Development: 0.0042\n",
      "s2-Mobile Telecommunications: 0.0041\n",
      "s2-Retail and Fashion: 0.004\n",
      "s2-Design: 0.004\n",
      "s1-Mobile Telecommunications: 0.004\n",
      "s1-Data Analysis: 0.0038\n",
      "s1-Social Media and Communications: 0.0034\n",
      "s1-Legal: 0.0027\n",
      "s1-Non-Profit and Community: 0.0024\n",
      "s2-Industrial Management: 0.0022\n",
      "s2-Healthcare: 0.0019\n",
      "s1-Military: 0.0018\n",
      "s1-Logistics: 0.0018\n",
      "s2-Legal: 0.0017\n",
      "s2-Musical Production: 0.0015\n",
      "s1-Manufacturing and Process Management: 0.0015\n",
      "s1-Healthcare: 0.0015\n",
      "s1-Hospitality: 0.0012\n",
      "s1-Design: 0.0012\n",
      "s2-Public Policy: 0.0011\n",
      "s1-Musical Production: 0.0011\n",
      "s2-Energy, Oil, and Gas: 0.0009\n",
      "s1-Real Estate: 0.0009\n",
      "s1-Insurance: 0.0008\n",
      "s2-Military: 0.0007\n",
      "s1-Retail and Fashion: 0.0007\n",
      "s2-Real Estate: 0.0005\n",
      "s2-Insurance: 0.0005\n",
      "s2-Hospitality: 0.0005\n",
      "s1-Industrial Management: 0.0003\n",
      "s1-Public Policy: 0.0001\n",
      "s1-Energy, Oil, and Gas: 0.0001\n"
     ]
    }
   ],
   "source": [
    "# feature importance\n",
    "importances = RF.feature_importances_\n",
    "# Print the feature ranking\n",
    "print(\"Feature importance ranking by Random Forest Model:\")\n",
    "for k,v in sorted(zip(map(lambda x: round(x, 4), importances), X.columns), reverse=True):\n",
    "    print (v + \": \" + str(k))"
   ]
  },
  {
   "cell_type": "markdown",
   "metadata": {},
   "source": [
    "###  for tech industry, Age > Education> Gender Flag> Elite Institution"
   ]
  },
  {
   "cell_type": "code",
   "execution_count": 28,
   "metadata": {},
   "outputs": [
    {
     "data": {
      "text/plain": [
       "0.7573786893446723"
      ]
     },
     "execution_count": 28,
     "metadata": {},
     "output_type": "execute_result"
    }
   ],
   "source": [
    "# Lasso regression\n",
    "from sklearn.linear_model import LogisticRegression\n",
    "LR = LogisticRegression()\n",
    "LR.fit(X_train, y_train)\n",
    "LR.score(X_test, y_test)"
   ]
  },
  {
   "cell_type": "code",
   "execution_count": 29,
   "metadata": {},
   "outputs": [
    {
     "data": {
      "text/plain": [
       "GridSearchCV(cv=5, error_score='raise-deprecating',\n",
       "       estimator=LogisticRegression(C=1.0, class_weight=None, dual=False, fit_intercept=True,\n",
       "          intercept_scaling=1, max_iter=100, multi_class='warn',\n",
       "          n_jobs=None, penalty='l2', random_state=None, solver='warn',\n",
       "          tol=0.0001, verbose=0, warm_start=False),\n",
       "       fit_params=None, iid='warn', n_jobs=None,\n",
       "       param_grid={'penalty': ('l1', 'l2'), 'C': (1, 5, 10)},\n",
       "       pre_dispatch='2*n_jobs', refit=True, return_train_score='warn',\n",
       "       scoring=None, verbose=0)"
      ]
     },
     "execution_count": 29,
     "metadata": {},
     "output_type": "execute_result"
    }
   ],
   "source": [
    "parameters = {\n",
    "    'penalty':('l1', 'l2'), \n",
    "    'C':(1, 5, 10)\n",
    "}\n",
    "Grid_LR = GridSearchCV(LogisticRegression(),parameters, cv=5)\n",
    "Grid_LR.fit(X_train, y_train)"
   ]
  },
  {
   "cell_type": "code",
   "execution_count": 30,
   "metadata": {},
   "outputs": [
    {
     "name": "stdout",
     "output_type": "stream",
     "text": [
      "Best score: 0.754\n",
      "Best parameters set:\n",
      "\tC: 1\n",
      "\tpenalty: 'l1'\n"
     ]
    }
   ],
   "source": [
    "print_grid_search_metrics(Grid_LR)"
   ]
  },
  {
   "cell_type": "code",
   "execution_count": 31,
   "metadata": {},
   "outputs": [],
   "source": [
    "best_LR_model = Grid_LR.best_estimator_"
   ]
  },
  {
   "cell_type": "code",
   "execution_count": 32,
   "metadata": {},
   "outputs": [
    {
     "name": "stdout",
     "output_type": "stream",
     "text": [
      "Logistic Regression (L1) Coefficients\n",
      "s1-Sales: -0.2212\n",
      "s1-Electrical Engineering: 0.2032\n",
      "Skillset1 Weight: -0.1848\n",
      "Age: -0.1779\n",
      "Education: 0.1399\n",
      "s1-Product Management: -0.1221\n",
      "s1-Operations Management: -0.1088\n",
      "s2-Military: -0.1019\n",
      "Skillset2 Weight: -0.1015\n",
      "s1-Software Engineering: 0.0939\n",
      "s2-Energy, Oil, and Gas: -0.0925\n",
      "s2-Retail and Fashion: 0.091\n",
      "s1-Web Development: 0.0884\n",
      "s2-Product Management: -0.0798\n",
      "s2-Non-Profit and Community: 0.0702\n",
      "s2-Data Analysis: 0.0695\n",
      "s2-Electrical Engineering: 0.0682\n",
      "s2-Hospitality: -0.0646\n",
      "s1-Mobile Telecommunications: 0.0622\n",
      "s1-Finance: -0.0612\n",
      "s2-Web Development: 0.0523\n",
      "s2-Human Resources: 0.0521\n",
      "s2-Digital Marketing: -0.0477\n",
      "s1-Retail and Fashion: -0.0468\n",
      "s1-Data Analysis: 0.0467\n",
      "s2-Software Engineering: 0.0441\n",
      "s2-Manufacturing and Process Management: 0.0438\n",
      "s1-Legal: 0.0391\n",
      "s1-Insurance: 0.0389\n",
      "s1-Non-Profit and Community: -0.0371\n",
      "s2-Logistics: -0.037\n",
      "s1-Real Estate: -0.0368\n",
      "s2-Video and Film Production: 0.0363\n",
      "s2-Insurance: 0.0337\n",
      "s1-Digital Marketing: -0.032\n",
      "s2-IT Management and Support: -0.0306\n",
      "Elite Institution: -0.0305\n",
      "Gender Flag: 0.0275\n",
      "s2-Sales: -0.0253\n",
      "s1-Manufacturing and Process Management: 0.0251\n",
      "s2-Web Design: -0.0248\n",
      "s2-Legal: 0.0243\n",
      "s2-Musical Production: 0.024\n",
      "s1-Healthcare: 0.0217\n",
      "s1-Video and Film Production: -0.0213\n",
      "s2-Design: 0.0196\n",
      "s1-Hospitality: 0.0194\n",
      "s1-Web Design: 0.0179\n",
      "s2-Public Policy: 0.017\n",
      "s1-Social Media and Communications: 0.0168\n",
      "s2-Operations Management: -0.0152\n",
      "s1-Public Policy: -0.0147\n",
      "s1-Administration: 0.0145\n",
      "s2-Healthcare: 0.0143\n",
      "s1-Industrial Management: -0.0128\n",
      "s1-Business Development: -0.0127\n",
      "s1-Musical Production: 0.0112\n",
      "s2-Finance: -0.009\n",
      "s2-Administration: 0.0075\n",
      "s2-Mobile Telecommunications: -0.0073\n",
      "s2-Social Media and Communications: 0.0055\n",
      "s2-Real Estate: -0.0053\n",
      "s1-Human Resources: 0.0036\n",
      "s1-Military: 0.0036\n",
      "s1-IT Management and Support: -0.0017\n",
      "s1-Logistics: 0.0006\n",
      "s2-Industrial Management: -0.0004\n",
      "s1-Energy, Oil, and Gas: 0.0003\n",
      "s1-Design: 0.0\n",
      "s2-Business Development: 0.0\n"
     ]
    }
   ],
   "source": [
    "scaler = StandardScaler()\n",
    "X_l1 = scaler.fit_transform(X)\n",
    "best_LR_model.fit(X_l1, y)\n",
    "best_LR_model.coef_[0]\n",
    "print (\"Logistic Regression (L1) Coefficients\")\n",
    "for k,v in sorted(zip(map(lambda x: round(x, 4), best_LR_model.coef_[0]), \\\n",
    "                      X.columns), key=lambda k_v:(-abs(k_v[0]),k_v[1])):\n",
    "    print (v + \": \" + str(k))"
   ]
  },
  {
   "cell_type": "code",
   "execution_count": 33,
   "metadata": {},
   "outputs": [
    {
     "data": {
      "text/plain": [
       "LogisticRegression(C=1, class_weight=None, dual=False, fit_intercept=True,\n",
       "          intercept_scaling=1, max_iter=100, multi_class='warn',\n",
       "          n_jobs=None, penalty='l1', random_state=None, solver='warn',\n",
       "          tol=0.0001, verbose=0, warm_start=False)"
      ]
     },
     "execution_count": 33,
     "metadata": {},
     "output_type": "execute_result"
    }
   ],
   "source": [
    "best_LR_model.fit(X_train, y_train)"
   ]
  },
  {
   "cell_type": "code",
   "execution_count": 34,
   "metadata": {},
   "outputs": [
    {
     "data": {
      "text/plain": [
       "0.7573786893446723"
      ]
     },
     "execution_count": 34,
     "metadata": {},
     "output_type": "execute_result"
    }
   ],
   "source": [
    "y_pred = best_LR_model.predict_proba(X_test)\n",
    "best_LR_model.score(X_test, y_test)"
   ]
  },
  {
   "cell_type": "code",
   "execution_count": 35,
   "metadata": {},
   "outputs": [
    {
     "name": "stdout",
     "output_type": "stream",
     "text": [
      "              precision    recall  f1-score   support\n",
      "\n",
      "non-laid_off       0.76      0.98      0.86      1508\n",
      "    laid_off       0.55      0.07      0.12       491\n",
      "\n",
      "   micro avg       0.76      0.76      0.76      1999\n",
      "   macro avg       0.66      0.52      0.49      1999\n",
      "weighted avg       0.71      0.76      0.68      1999\n",
      "\n"
     ]
    }
   ],
   "source": [
    "from sklearn.metrics import classification_report\n",
    "y_true = y_test \n",
    "y_pred = best_LR_model.predict(X_test)\n",
    "target_names = ['non-laid_off', 'laid_off']\n",
    "print(classification_report(y_true, y_pred, target_names=target_names))"
   ]
  },
  {
   "cell_type": "code",
   "execution_count": 36,
   "metadata": {},
   "outputs": [
    {
     "data": {
      "image/png": "[encoded data removed]",
      "text/plain": [
       "<Figure size 432x288 with 1 Axes>"
      ]
     },
     "metadata": {
      "needs_background": "light"
     },
     "output_type": "display_data"
    }
   ],
   "source": [
    "from sklearn.metrics import roc_curve,auc\n",
    "prob = best_LR_model.predict_proba(X_test)\n",
    "pred = prob[:,1]\n",
    "fpr, tpr, threshold = roc_curve(y_test, pred)\n",
    "roc_auc = auc(fpr, tpr)\n",
    "\n",
    "plt.title(\"ROC curve\")\n",
    "plt.plot(fpr,tpr,'b',label= 'AUC = %0.2f' % roc_auc)\n",
    "plt.legend(loc = 'lower right')\n",
    "plt.plot([0, 1], [0, 1],'r--')\n",
    "plt.xlim([0, 1])\n",
    "plt.ylim([0, 1])\n",
    "plt.ylabel('True Positive Rate')\n",
    "plt.xlabel('False Positive Rate')\n",
    "plt.show()"
   ]
  },
  {
   "cell_type": "code",
   "execution_count": 39,
   "metadata": {},
   "outputs": [],
   "source": [
    "# naive bayes\n",
    "#from sklearn.naive_bayes import GaussianNB\n",
    "#nb = GaussianNB()\n",
    "#nb.fit(X_train, y_train)\n",
    "#nb.score(X_test,y_test)"
   ]
  },
  {
   "cell_type": "code",
   "execution_count": 40,
   "metadata": {},
   "outputs": [],
   "source": [
    "#nb.fit(X_l1, y)\n",
    "#nb.coef_[0]\n",
    "#print (\"Naive Bayes Coefficients\")\n",
    "#for k,v in sorted(zip(map(lambda x: round(x, 4), nb.coef_[0]), \\\n",
    "                      #X.columns), key=lambda k_v:(-abs(k_v[0]),k_v[1])):\n",
    "    #print (v + \": \" + str(k))"
   ]
  },
  {
   "cell_type": "markdown",
   "metadata": {},
   "source": [
    "## Consumers"
   ]
  },
  {
   "cell_type": "code",
   "execution_count": 41,
   "metadata": {},
   "outputs": [],
   "source": [
    "not_laid_off_con = dataCon[dataCon['laid_off'] == 0]\n",
    "laid_off_con = dataCon[dataCon['laid_off'] == 1]\n",
    "np.random.seed(101)\n",
    "not_laid_off_con = not_laid_off_con.sample(n=5000) \n",
    "dataCon = pd.concat([not_laid_off_con, laid_off_con])"
   ]
  },
  {
   "cell_type": "code",
   "execution_count": 42,
   "metadata": {},
   "outputs": [
    {
     "name": "stdout",
     "output_type": "stream",
     "text": [
      "1140\n",
      "5000\n"
     ]
    }
   ],
   "source": [
    "print(len(dataCon[dataCon['laid_off']==1]))\n",
    "print(len(dataCon[dataCon['laid_off']==0]))"
   ]
  },
  {
   "cell_type": "code",
   "execution_count": 43,
   "metadata": {},
   "outputs": [
    {
     "name": "stdout",
     "output_type": "stream",
     "text": [
      "training data has 4912 observation with 71 features\n",
      "test data has 1228 observation with 71 features\n"
     ]
    }
   ],
   "source": [
    "from sklearn import model_selection\n",
    "# Reserve 20% for testing\n",
    "y1 = dataCon['laid_off']\n",
    "X1 = dataCon.drop(['Length', 'ID','Birth Year','City of profile', 'Country of profile',\n",
    "                   'Start Date','End Date','Role', 'Dept', 'Company Name',\n",
    "                   'Location','Industry','laid_off','Layoff Date'],axis = 1)\n",
    "X1_train, X1_test, y1_train, y1_test = model_selection.train_test_split(X1, y1, test_size=0.2,random_state=101)\n",
    "\n",
    "print('training data has %d observation with %d features'% X1_train.shape)\n",
    "print('test data has %d observation with %d features'% X1_test.shape)"
   ]
  },
  {
   "cell_type": "code",
   "execution_count": 44,
   "metadata": {},
   "outputs": [],
   "source": [
    "# Scale the data, using standardization\n",
    "from sklearn.preprocessing import StandardScaler\n",
    "scaler = StandardScaler()\n",
    "X1_train = scaler.fit_transform(X1_train)\n",
    "X1_test = scaler.transform(X1_test)"
   ]
  },
  {
   "cell_type": "code",
   "execution_count": 45,
   "metadata": {},
   "outputs": [
    {
     "data": {
      "text/plain": [
       "0.9014657980456026"
      ]
     },
     "execution_count": 45,
     "metadata": {},
     "output_type": "execute_result"
    }
   ],
   "source": [
    "# Random forest to see feature importance\n",
    "from sklearn.ensemble import RandomForestClassifier\n",
    "RF = RandomForestClassifier()\n",
    "RF.fit(X1_train, y1_train)\n",
    "RF.score(X1_test,y1_test)"
   ]
  },
  {
   "cell_type": "code",
   "execution_count": 46,
   "metadata": {},
   "outputs": [
    {
     "data": {
      "text/plain": [
       "GridSearchCV(cv=5, error_score='raise-deprecating',\n",
       "       estimator=RandomForestClassifier(bootstrap=True, class_weight=None, criterion='gini',\n",
       "            max_depth=None, max_features='auto', max_leaf_nodes=None,\n",
       "            min_impurity_decrease=0.0, min_impurity_split=None,\n",
       "            min_samples_leaf=1, min_samples_split=2,\n",
       "            min_weight_fraction_leaf=0.0, n_estimators='warn', n_jobs=None,\n",
       "            oob_score=False, random_state=None, verbose=0,\n",
       "            warm_start=False),\n",
       "       fit_params=None, iid='warn', n_jobs=None,\n",
       "       param_grid={'n_estimators': [40, 60, 80]}, pre_dispatch='2*n_jobs',\n",
       "       refit=True, return_train_score='warn', scoring=None, verbose=0)"
      ]
     },
     "execution_count": 46,
     "metadata": {},
     "output_type": "execute_result"
    }
   ],
   "source": [
    "# hypermarameter tuning for Random Forest\n",
    "from sklearn.model_selection import GridSearchCV\n",
    "parameters = {\n",
    "    'n_estimators' : [40,60,80]\n",
    "}\n",
    "Grid_RF = GridSearchCV(RandomForestClassifier(),parameters, cv=5)\n",
    "Grid_RF.fit(X1_train, y1_train)"
   ]
  },
  {
   "cell_type": "code",
   "execution_count": 47,
   "metadata": {},
   "outputs": [
    {
     "name": "stdout",
     "output_type": "stream",
     "text": [
      "Best score: 0.909\n",
      "Best parameters set:\n",
      "\tn_estimators: 40\n"
     ]
    }
   ],
   "source": [
    "# best number of trees\n",
    "def print_grid_search_metrics(gs):\n",
    "    print (\"Best score: %0.3f\" % gs.best_score_)\n",
    "    print (\"Best parameters set:\")\n",
    "    best_parameters = gs.best_params_\n",
    "    for param_name in sorted(parameters.keys()):\n",
    "        print(\"\\t%s: %r\" % (param_name, best_parameters[param_name]))\n",
    "\n",
    "print_grid_search_metrics(Grid_RF)"
   ]
  },
  {
   "cell_type": "code",
   "execution_count": 48,
   "metadata": {},
   "outputs": [
    {
     "name": "stdout",
     "output_type": "stream",
     "text": [
      "Feature importance ranking by Random Forest Model:\n",
      "Skillset1 Weight: 0.1489\n",
      "Skillset2 Weight: 0.1484\n",
      "Age: 0.1262\n",
      "s1-Administration: 0.117\n",
      "Education: 0.0667\n",
      "Gender Flag: 0.0369\n",
      "s2-Business Development: 0.0209\n",
      "s1-Business Development: 0.0187\n",
      "s2-Sales: 0.0148\n",
      "s1-IT Management and Support: 0.014\n",
      "s1-Data Analysis: 0.0134\n",
      "s1-Sales: 0.0125\n",
      "s2-IT Management and Support: 0.0119\n",
      "s2-Data Analysis: 0.0119\n",
      "Elite Institution: 0.0114\n",
      "s2-Social Media and Communications: 0.0107\n",
      "s2-Digital Marketing: 0.0091\n",
      "s1-Software Engineering: 0.0086\n",
      "s2-Design: 0.0082\n",
      "s2-Video and Film Production: 0.008\n",
      "s1-Public Policy: 0.0071\n",
      "s1-Video and Film Production: 0.0067\n",
      "s1-Manufacturing and Process Management: 0.0067\n",
      "s1-Social Media and Communications: 0.0065\n",
      "s2-Software Engineering: 0.0063\n",
      "s2-Public Policy: 0.0061\n",
      "s2-Hospitality: 0.006\n",
      "s2-Electrical Engineering: 0.0059\n",
      "s1-Electrical Engineering: 0.0059\n",
      "s1-Energy, Oil, and Gas: 0.0058\n",
      "s1-Hospitality: 0.0055\n",
      "s1-Design: 0.0052\n",
      "s2-Manufacturing and Process Management: 0.0049\n",
      "s1-Product Management: 0.0048\n",
      "s2-Human Resources: 0.0047\n",
      "s2-Healthcare: 0.0047\n",
      "s2-Energy, Oil, and Gas: 0.0046\n",
      "s1-Operations Management: 0.0046\n",
      "s1-Healthcare: 0.0046\n",
      "s1-Digital Marketing: 0.0045\n",
      "s1-Human Resources: 0.0042\n",
      "s2-Mobile Telecommunications: 0.0041\n",
      "s2-Administration: 0.004\n",
      "s1-Retail and Fashion: 0.004\n",
      "s2-Industrial Management: 0.0038\n",
      "s1-Real Estate: 0.0038\n",
      "s2-Web Development: 0.0036\n",
      "s2-Operations Management: 0.0035\n",
      "s1-Web Development: 0.0034\n",
      "s1-Industrial Management: 0.0033\n",
      "s1-Insurance: 0.0032\n",
      "s1-Mobile Telecommunications: 0.003\n",
      "s1-Web Design: 0.0025\n",
      "s2-Insurance: 0.0023\n",
      "s2-Logistics: 0.0022\n",
      "s2-Product Management: 0.0021\n",
      "s2-Legal: 0.0017\n",
      "s2-Real Estate: 0.0016\n",
      "s1-Finance: 0.0015\n",
      "s1-Legal: 0.0014\n",
      "s2-Finance: 0.0013\n",
      "s1-Non-Profit and Community: 0.0012\n",
      "s2-Web Design: 0.0011\n",
      "s2-Retail and Fashion: 0.0007\n",
      "s2-Non-Profit and Community: 0.0007\n",
      "s2-Military: 0.0006\n",
      "s2-Musical Production: 0.0005\n",
      "s1-Military: 0.0002\n",
      "s1-Logistics: 0.0001\n",
      "s1-Musical Production: 0.0\n"
     ]
    }
   ],
   "source": [
    "# feature importance\n",
    "importances = RF.feature_importances_\n",
    "# Print the feature ranking\n",
    "print(\"Feature importance ranking by Random Forest Model:\")\n",
    "for k,v in sorted(zip(map(lambda x: round(x, 4), importances), X.columns), reverse=True):\n",
    "    print (v + \": \" + str(k))"
   ]
  },
  {
   "cell_type": "markdown",
   "metadata": {},
   "source": [
    "### For Consumer Products industry, Age > s1-Administration >Education> Gender"
   ]
  },
  {
   "cell_type": "code",
   "execution_count": 49,
   "metadata": {},
   "outputs": [
    {
     "data": {
      "text/plain": [
       "0.8200325732899023"
      ]
     },
     "execution_count": 49,
     "metadata": {},
     "output_type": "execute_result"
    }
   ],
   "source": [
    "# Lasso regression\n",
    "from sklearn.linear_model import LogisticRegression\n",
    "LR = LogisticRegression()\n",
    "LR.fit(X1_train, y1_train)\n",
    "LR.score(X1_test, y1_test)"
   ]
  },
  {
   "cell_type": "code",
   "execution_count": 50,
   "metadata": {},
   "outputs": [
    {
     "data": {
      "text/plain": [
       "GridSearchCV(cv=5, error_score='raise-deprecating',\n",
       "       estimator=LogisticRegression(C=1.0, class_weight=None, dual=False, fit_intercept=True,\n",
       "          intercept_scaling=1, max_iter=100, multi_class='warn',\n",
       "          n_jobs=None, penalty='l2', random_state=None, solver='warn',\n",
       "          tol=0.0001, verbose=0, warm_start=False),\n",
       "       fit_params=None, iid='warn', n_jobs=None,\n",
       "       param_grid={'penalty': ('l1', 'l2'), 'C': (1, 5, 10)},\n",
       "       pre_dispatch='2*n_jobs', refit=True, return_train_score='warn',\n",
       "       scoring=None, verbose=0)"
      ]
     },
     "execution_count": 50,
     "metadata": {},
     "output_type": "execute_result"
    }
   ],
   "source": [
    "# hyperparameter tuning\n",
    "parameters = {\n",
    "    'penalty':('l1', 'l2'), \n",
    "    'C':(1, 5, 10)\n",
    "}\n",
    "Grid_LR = GridSearchCV(LogisticRegression(),parameters, cv=5)\n",
    "Grid_LR.fit(X1_train, y1_train)"
   ]
  },
  {
   "cell_type": "code",
   "execution_count": 51,
   "metadata": {},
   "outputs": [
    {
     "name": "stdout",
     "output_type": "stream",
     "text": [
      "Best score: 0.815\n",
      "Best parameters set:\n",
      "\tC: 5\n",
      "\tpenalty: 'l1'\n"
     ]
    }
   ],
   "source": [
    "print_grid_search_metrics(Grid_LR)"
   ]
  },
  {
   "cell_type": "code",
   "execution_count": 52,
   "metadata": {},
   "outputs": [
    {
     "data": {
      "text/plain": [
       "LogisticRegression(C=1, class_weight=None, dual=False, fit_intercept=True,\n",
       "          intercept_scaling=1, max_iter=100, multi_class='warn',\n",
       "          n_jobs=None, penalty='l1', random_state=None, solver='warn',\n",
       "          tol=0.0001, verbose=0, warm_start=False)"
      ]
     },
     "execution_count": 52,
     "metadata": {},
     "output_type": "execute_result"
    }
   ],
   "source": [
    "best_LR_model.fit(X1_train, y1_train)"
   ]
  },
  {
   "cell_type": "code",
   "execution_count": 53,
   "metadata": {},
   "outputs": [
    {
     "name": "stdout",
     "output_type": "stream",
     "text": [
      "Logistic Regression (L1) Coefficients\n",
      "s1-Administration: -0.32\n",
      "s1-Product Management: 0.1764\n",
      "s1-Industrial Management: -0.1715\n",
      "s1-Business Development: 0.1575\n",
      "s2-Web Design: -0.1327\n",
      "s2-Logistics: 0.1321\n",
      "s1-Electrical Engineering: 0.1285\n",
      "Education: 0.128\n",
      "s2-Operations Management: -0.1276\n",
      "s2-Military: -0.1203\n",
      "Gender Flag: -0.1196\n",
      "s1-Public Policy: 0.1187\n",
      "s2-Energy, Oil, and Gas: 0.1187\n",
      "s2-Retail and Fashion: -0.1182\n",
      "s1-Energy, Oil, and Gas: 0.1172\n",
      "s2-Business Development: 0.1166\n",
      "s2-Data Analysis: -0.1098\n",
      "s1-Non-Profit and Community: -0.1077\n",
      "Skillset2 Weight: 0.1062\n",
      "s1-Healthcare: -0.0937\n",
      "s1-Video and Film Production: 0.0918\n",
      "s2-Manufacturing and Process Management: 0.0866\n",
      "s2-Hospitality: 0.0865\n",
      "s1-Design: 0.0818\n",
      "s2-Healthcare: 0.0805\n",
      "s2-Software Engineering: -0.0796\n",
      "s1-Software Engineering: 0.0751\n",
      "s2-Product Management: -0.0733\n",
      "Elite Institution: 0.0703\n",
      "s2-Social Media and Communications: -0.069\n",
      "s1-Legal: -0.0626\n",
      "s1-Logistics: 0.0603\n",
      "s2-Industrial Management: -0.0602\n",
      "s1-Web Development: -0.058\n",
      "s1-Finance: 0.0564\n",
      "s2-Design: 0.0555\n",
      "s2-Musical Production: -0.0551\n",
      "Skillset1 Weight: -0.0533\n",
      "s2-Real Estate: 0.0529\n",
      "s2-Administration: -0.0506\n",
      "s1-Operations Management: 0.0479\n",
      "s1-Retail and Fashion: 0.0452\n",
      "s2-Finance: 0.0423\n",
      "s2-Human Resources: 0.0406\n",
      "s2-Sales: -0.0404\n",
      "s1-Web Design: -0.0393\n",
      "s1-Military: -0.0391\n",
      "s1-Mobile Telecommunications: -0.0388\n",
      "s2-Video and Film Production: 0.0388\n",
      "s1-Insurance: 0.0386\n",
      "s1-Social Media and Communications: -0.0327\n",
      "s1-Sales: -0.0316\n",
      "s1-Digital Marketing: 0.0278\n",
      "s1-Real Estate: 0.0257\n",
      "s1-Manufacturing and Process Management: 0.0251\n",
      "s2-Non-Profit and Community: 0.0249\n",
      "s1-Human Resources: -0.0248\n",
      "s2-Insurance: 0.0207\n",
      "s2-Digital Marketing: -0.0206\n",
      "s1-IT Management and Support: -0.0183\n",
      "s1-Hospitality: 0.0173\n",
      "s2-Public Policy: 0.0165\n",
      "s2-IT Management and Support: 0.0099\n",
      "s2-Web Development: -0.0091\n",
      "s2-Electrical Engineering: -0.0087\n",
      "Age: -0.0075\n",
      "s2-Legal: -0.0068\n",
      "s1-Data Analysis: 0.0\n",
      "s1-Musical Production: 0.0\n",
      "s2-Mobile Telecommunications: 0.0\n"
     ]
    }
   ],
   "source": [
    "scaler = StandardScaler()\n",
    "X_l2 = scaler.fit_transform(X1)\n",
    "best_LR_model.fit(X_l2, y1)\n",
    "best_LR_model.coef_[0]\n",
    "print (\"Logistic Regression (L1) Coefficients\")\n",
    "for k,v in sorted(zip(map(lambda x: round(x, 4), best_LR_model.coef_[0]), \\\n",
    "                      X.columns), key=lambda k_v:(-abs(k_v[0]),k_v[1])):\n",
    "    print (v + \": \" + str(k))"
   ]
  },
  {
   "cell_type": "code",
   "execution_count": 54,
   "metadata": {},
   "outputs": [
    {
     "data": {
      "text/plain": [
       "0.8249185667752443"
      ]
     },
     "execution_count": 54,
     "metadata": {},
     "output_type": "execute_result"
    }
   ],
   "source": [
    "y_pred = best_LR_model.predict_proba(X1_test)\n",
    "best_LR_model.score(X1_test, y1_test)"
   ]
  },
  {
   "cell_type": "code",
   "execution_count": 55,
   "metadata": {},
   "outputs": [
    {
     "name": "stdout",
     "output_type": "stream",
     "text": [
      "              precision    recall  f1-score   support\n",
      "\n",
      "non-laid_off       0.83      0.99      0.90      1012\n",
      "    laid_off       0.52      0.06      0.10       216\n",
      "\n",
      "   micro avg       0.82      0.82      0.82      1228\n",
      "   macro avg       0.68      0.52      0.50      1228\n",
      "weighted avg       0.78      0.82      0.76      1228\n",
      "\n"
     ]
    }
   ],
   "source": [
    "from sklearn.metrics import classification_report\n",
    "y1_true = y1_test \n",
    "y1_pred = best_LR_model.predict(X1_test)\n",
    "target_names = ['non-laid_off', 'laid_off']\n",
    "print(classification_report(y1_true, y1_pred, target_names=target_names))"
   ]
  },
  {
   "cell_type": "code",
   "execution_count": 56,
   "metadata": {},
   "outputs": [
    {
     "data": {
      "image/png": "[encoded data removed]",
      "text/plain": [
       "<Figure size 432x288 with 1 Axes>"
      ]
     },
     "metadata": {
      "needs_background": "light"
     },
     "output_type": "display_data"
    }
   ],
   "source": [
    "from sklearn.metrics import roc_curve,auc\n",
    "prob = best_LR_model.predict_proba(X1_test)\n",
    "pred = prob[:,1]\n",
    "fpr, tpr, threshold = roc_curve(y1_test, pred)\n",
    "roc_auc = auc(fpr, tpr)\n",
    "\n",
    "plt.title(\"ROC curve\")\n",
    "plt.plot(fpr,tpr,'b',label= 'AUC = %0.2f' % roc_auc)\n",
    "plt.legend(loc = 'lower right')\n",
    "plt.plot([0, 1], [0, 1],'r--')\n",
    "plt.xlim([0, 1])\n",
    "plt.ylim([0, 1])\n",
    "plt.ylabel('True Positive Rate')\n",
    "plt.xlabel('False Positive Rate')\n",
    "plt.show()"
   ]
  },
  {
   "cell_type": "markdown",
   "metadata": {},
   "source": [
    "### Healthcare"
   ]
  },
  {
   "cell_type": "code",
   "execution_count": 57,
   "metadata": {},
   "outputs": [],
   "source": [
    "not_laid_off_Health = dataHealth[dataHealth['laid_off'] == 0]\n",
    "laid_off_Health = dataHealth[dataHealth['laid_off'] == 1]\n",
    "np.random.seed(101)\n",
    "not_laid_off_Health = not_laid_off_Health.sample(n=700) \n",
    "dataHealth = pd.concat([not_laid_off_Health, laid_off_Health])"
   ]
  },
  {
   "cell_type": "code",
   "execution_count": 58,
   "metadata": {},
   "outputs": [
    {
     "name": "stdout",
     "output_type": "stream",
     "text": [
      "326\n",
      "700\n"
     ]
    }
   ],
   "source": [
    "print(len(dataHealth[dataHealth['laid_off']==1]))\n",
    "print(len(dataHealth[dataHealth['laid_off']==0]))"
   ]
  },
  {
   "cell_type": "code",
   "execution_count": 59,
   "metadata": {},
   "outputs": [
    {
     "name": "stdout",
     "output_type": "stream",
     "text": [
      "training data has 7993 observation with 70 features\n",
      "test data has 1999 observation with 70 features\n"
     ]
    }
   ],
   "source": [
    "from sklearn import model_selection\n",
    "y2 = dataHealth['laid_off']\n",
    "X2 = dataHealth.drop(['Length', 'ID','Birth Year','City of profile', 'Country of profile',\n",
    "                   'Start Date','End Date','Role', 'Dept', 'Company Name',\n",
    "                   'Location','Industry','laid_off','Layoff Date', 'Employees Affected'],axis = 1)\n",
    "X2_train, X2_test, y2_train, y2_test = model_selection.train_test_split(X2, y2, test_size=0.2,random_state=101)\n",
    "\n",
    "print('training data has %d observation with %d features'% X_train.shape)\n",
    "print('test data has %d observation with %d features'% X_test.shape)"
   ]
  },
  {
   "cell_type": "code",
   "execution_count": 60,
   "metadata": {},
   "outputs": [],
   "source": [
    "from sklearn.preprocessing import StandardScaler\n",
    "scaler = StandardScaler()\n",
    "X2_train = scaler.fit_transform(X2_train)\n",
    "X2_test = scaler.transform(X2_test)"
   ]
  },
  {
   "cell_type": "code",
   "execution_count": 61,
   "metadata": {},
   "outputs": [
    {
     "data": {
      "text/plain": [
       "0.7184466019417476"
      ]
     },
     "execution_count": 61,
     "metadata": {},
     "output_type": "execute_result"
    }
   ],
   "source": [
    "from sklearn.ensemble import RandomForestClassifier\n",
    "RF = RandomForestClassifier()\n",
    "RF.fit(X2_train, y2_train)\n",
    "RF.score(X2_test,y2_test)"
   ]
  },
  {
   "cell_type": "code",
   "execution_count": 62,
   "metadata": {},
   "outputs": [
    {
     "data": {
      "text/plain": [
       "GridSearchCV(cv=5, error_score='raise-deprecating',\n",
       "       estimator=RandomForestClassifier(bootstrap=True, class_weight=None, criterion='gini',\n",
       "            max_depth=None, max_features='auto', max_leaf_nodes=None,\n",
       "            min_impurity_decrease=0.0, min_impurity_split=None,\n",
       "            min_samples_leaf=1, min_samples_split=2,\n",
       "            min_weight_fraction_leaf=0.0, n_estimators='warn', n_jobs=None,\n",
       "            oob_score=False, random_state=None, verbose=0,\n",
       "            warm_start=False),\n",
       "       fit_params=None, iid='warn', n_jobs=None,\n",
       "       param_grid={'n_estimators': [40, 60, 80]}, pre_dispatch='2*n_jobs',\n",
       "       refit=True, return_train_score='warn', scoring=None, verbose=0)"
      ]
     },
     "execution_count": 62,
     "metadata": {},
     "output_type": "execute_result"
    }
   ],
   "source": [
    "from sklearn.model_selection import GridSearchCV\n",
    "parameters = {\n",
    "    'n_estimators' : [40,60,80]\n",
    "}\n",
    "Grid_RF = GridSearchCV(RandomForestClassifier(),parameters, cv=5)\n",
    "Grid_RF.fit(X2_train, y2_train)\n",
    "\n"
   ]
  },
  {
   "cell_type": "code",
   "execution_count": 63,
   "metadata": {},
   "outputs": [
    {
     "name": "stdout",
     "output_type": "stream",
     "text": [
      "Best score: 0.691\n",
      "Best parameters set:\n",
      "\tn_estimators: 80\n"
     ]
    }
   ],
   "source": [
    "print_grid_search_metrics(Grid_RF)"
   ]
  },
  {
   "cell_type": "code",
   "execution_count": 64,
   "metadata": {},
   "outputs": [
    {
     "name": "stdout",
     "output_type": "stream",
     "text": [
      "Feature importance ranking by Random Forest Model:\n",
      "Skillset1 Weight: 0.1729\n",
      "Skillset2 Weight: 0.158\n",
      "Age: 0.1365\n",
      "Education: 0.0664\n",
      "Gender Flag: 0.0495\n",
      "s1-Healthcare: 0.0261\n",
      "Elite Institution: 0.0223\n",
      "s2-Healthcare: 0.02\n",
      "s2-Electrical Engineering: 0.0199\n",
      "s2-Web Development: 0.0175\n",
      "s2-Administration: 0.017\n",
      "s2-Business Development: 0.0144\n",
      "s1-Business Development: 0.0143\n",
      "s1-Product Management: 0.0138\n",
      "s2-Human Resources: 0.0133\n",
      "s2-Sales: 0.0127\n",
      "s2-Manufacturing and Process Management: 0.0114\n",
      "s1-Manufacturing and Process Management: 0.0114\n",
      "s1-Finance: 0.0107\n",
      "s1-Administration: 0.0107\n",
      "s2-Software Engineering: 0.0105\n",
      "s1-Software Engineering: 0.0104\n",
      "s2-Product Management: 0.0098\n",
      "s2-Design: 0.0098\n",
      "s2-Industrial Management: 0.0092\n",
      "s1-Electrical Engineering: 0.0082\n",
      "s2-Operations Management: 0.008\n",
      "s1-Data Analysis: 0.0078\n",
      "s2-Digital Marketing: 0.0077\n",
      "s1-Human Resources: 0.007\n",
      "s1-Sales: 0.0069\n",
      "s2-Finance: 0.0065\n",
      "s2-Data Analysis: 0.0065\n",
      "s1-Logistics: 0.0057\n",
      "s1-Web Design: 0.0054\n",
      "s1-IT Management and Support: 0.0051\n",
      "s2-Non-Profit and Community: 0.0048\n",
      "s1-Legal: 0.0044\n",
      "s1-Operations Management: 0.0039\n",
      "s1-Web Development: 0.0038\n",
      "s2-IT Management and Support: 0.0036\n",
      "s1-Video and Film Production: 0.0034\n",
      "s2-Energy, Oil, and Gas: 0.0032\n",
      "s2-Social Media and Communications: 0.0029\n",
      "s1-Hospitality: 0.0029\n",
      "s1-Social Media and Communications: 0.0028\n",
      "s1-Musical Production: 0.0028\n",
      "s1-Non-Profit and Community: 0.0027\n",
      "s2-Web Design: 0.0025\n",
      "s2-Video and Film Production: 0.0021\n",
      "s2-Logistics: 0.002\n",
      "s2-Hospitality: 0.0016\n",
      "s2-Public Policy: 0.001\n",
      "s2-Legal: 0.001\n",
      "s1-Design: 0.001\n",
      "s1-Digital Marketing: 0.0008\n",
      "s1-Retail and Fashion: 0.0007\n",
      "s2-Retail and Fashion: 0.0006\n",
      "s1-Real Estate: 0.0006\n",
      "s2-Military: 0.0005\n",
      "s2-Insurance: 0.0004\n",
      "s2-Mobile Telecommunications: 0.0001\n",
      "s1-Public Policy: 0.0001\n",
      "s2-Real Estate: 0.0\n",
      "s2-Musical Production: 0.0\n",
      "s1-Mobile Telecommunications: 0.0\n",
      "s1-Military: 0.0\n",
      "s1-Insurance: 0.0\n",
      "s1-Industrial Management: 0.0\n",
      "s1-Energy, Oil, and Gas: 0.0\n"
     ]
    }
   ],
   "source": [
    "importances = RF.feature_importances_\n",
    "# Print the feature ranking\n",
    "print(\"Feature importance ranking by Random Forest Model:\")\n",
    "for k,v in sorted(zip(map(lambda x: round(x, 4), importances), X.columns), reverse=True):\n",
    "    print (v + \": \" + str(k))"
   ]
  },
  {
   "cell_type": "markdown",
   "metadata": {},
   "source": [
    "### for healthcare industry, Age >Education>Gender >Elite Institution"
   ]
  },
  {
   "cell_type": "code",
   "execution_count": 65,
   "metadata": {},
   "outputs": [
    {
     "data": {
      "text/plain": [
       "GridSearchCV(cv=5, error_score='raise-deprecating',\n",
       "       estimator=LogisticRegression(C=1.0, class_weight=None, dual=False, fit_intercept=True,\n",
       "          intercept_scaling=1, max_iter=100, multi_class='warn',\n",
       "          n_jobs=None, penalty='l2', random_state=None, solver='warn',\n",
       "          tol=0.0001, verbose=0, warm_start=False),\n",
       "       fit_params=None, iid='warn', n_jobs=None,\n",
       "       param_grid={'penalty': ('l1', 'l2'), 'C': (1, 5, 10)},\n",
       "       pre_dispatch='2*n_jobs', refit=True, return_train_score='warn',\n",
       "       scoring=None, verbose=0)"
      ]
     },
     "execution_count": 65,
     "metadata": {},
     "output_type": "execute_result"
    }
   ],
   "source": [
    "from sklearn.linear_model import LogisticRegression\n",
    "LR = LogisticRegression()\n",
    "LR.fit(X2_train, y2_train)\n",
    "LR.score(X2_test, y2_test)\n",
    "\n",
    "parameters = {\n",
    "    'penalty':('l1', 'l2'), \n",
    "    'C':(1, 5, 10)\n",
    "}\n",
    "Grid_LR = GridSearchCV(LogisticRegression(),parameters, cv=5)\n",
    "Grid_LR.fit(X2_train, y2_train)"
   ]
  },
  {
   "cell_type": "code",
   "execution_count": 66,
   "metadata": {},
   "outputs": [
    {
     "name": "stdout",
     "output_type": "stream",
     "text": [
      "Logistic Regression (L1) Coefficients\n",
      "Age: -0.3504\n",
      "s2-Web Development: 0.3152\n",
      "s1-Non-Profit and Community: -0.2296\n",
      "s1-Public Policy: -0.2153\n",
      "Education: 0.2139\n",
      "s2-Electrical Engineering: 0.2046\n",
      "s1-Military: -0.1733\n",
      "s2-Public Policy: -0.1598\n",
      "s1-Software Engineering: 0.1567\n",
      "s1-Energy, Oil, and Gas: -0.1504\n",
      "Skillset1 Weight: -0.1495\n",
      "s1-Finance: 0.1387\n",
      "Skillset2 Weight: -0.1301\n",
      "s1-Legal: 0.1291\n",
      "s2-Design: 0.1083\n",
      "s1-Human Resources: -0.105\n",
      "s2-Software Engineering: 0.1024\n",
      "s2-Sales: -0.1006\n",
      "s1-Operations Management: 0.0954\n",
      "s1-Mobile Telecommunications: -0.0928\n",
      "s2-Finance: 0.0896\n",
      "s1-Web Design: 0.0888\n",
      "s1-Retail and Fashion: -0.0882\n",
      "s2-Musical Production: -0.081\n",
      "s1-Video and Film Production: 0.077\n",
      "s2-IT Management and Support: 0.0748\n",
      "s2-Energy, Oil, and Gas: 0.0728\n",
      "s1-Social Media and Communications: -0.0714\n",
      "s2-Hospitality: 0.0673\n",
      "s1-Web Development: 0.0613\n",
      "s1-Data Analysis: 0.0591\n",
      "s2-Social Media and Communications: -0.0587\n",
      "s2-Video and Film Production: 0.0582\n",
      "s2-Legal: 0.0577\n",
      "s1-Healthcare: -0.0568\n",
      "s1-Hospitality: 0.0566\n",
      "s2-Logistics: -0.0548\n",
      "s2-Administration: 0.0507\n",
      "s1-Musical Production: 0.049\n",
      "s1-Business Development: -0.0466\n",
      "s2-Mobile Telecommunications: -0.0456\n",
      "s2-Web Design: 0.0444\n",
      "s1-Real Estate: 0.0426\n",
      "Gender Flag: 0.0398\n",
      "s2-Human Resources: -0.0345\n",
      "s1-Design: 0.0342\n",
      "s1-Sales: -0.0328\n",
      "s2-Data Analysis: 0.0323\n",
      "s1-Logistics: 0.0317\n",
      "s2-Insurance: -0.0306\n",
      "s1-Industrial Management: 0.0256\n",
      "s2-Digital Marketing: 0.0248\n",
      "s2-Product Management: -0.024\n",
      "s2-Non-Profit and Community: -0.022\n",
      "s1-Electrical Engineering: 0.0186\n",
      "s2-Healthcare: -0.0135\n",
      "s2-Manufacturing and Process Management: 0.0134\n",
      "s2-Military: 0.009\n",
      "s1-IT Management and Support: -0.008\n",
      "s2-Retail and Fashion: 0.0066\n",
      "Elite Institution: -0.0054\n",
      "s2-Business Development: -0.0037\n",
      "s1-Administration: 0.0\n",
      "s1-Digital Marketing: 0.0\n",
      "s1-Insurance: 0.0\n",
      "s1-Manufacturing and Process Management: 0.0\n",
      "s1-Product Management: 0.0\n",
      "s2-Industrial Management: 0.0\n",
      "s2-Operations Management: 0.0\n",
      "s2-Real Estate: 0.0\n"
     ]
    }
   ],
   "source": [
    "best_LR_model.fit(X2_train, y2_train)\n",
    "\n",
    "scaler = StandardScaler()\n",
    "X_l2 = scaler.fit_transform(X2)\n",
    "best_LR_model.fit(X_l2, y2)\n",
    "best_LR_model.coef_[0]\n",
    "print (\"Logistic Regression (L1) Coefficients\")\n",
    "for k,v in sorted(zip(map(lambda x: round(x, 4), best_LR_model.coef_[0]), \\\n",
    "                      X2.columns), key=lambda k_v:(-abs(k_v[0]),k_v[1])):\n",
    "    print (v + \": \" + str(k))"
   ]
  },
  {
   "cell_type": "markdown",
   "metadata": {},
   "source": [
    "### Finance"
   ]
  },
  {
   "cell_type": "code",
   "execution_count": 67,
   "metadata": {},
   "outputs": [],
   "source": [
    "not_laid_off_Fin = dataFin[dataFin['laid_off'] == 0]\n",
    "laid_off_Fin = dataFin[dataFin['laid_off'] == 1]\n",
    "np.random.seed(101)\n",
    "not_laid_off_Fin = not_laid_off_Fin.sample(n=700) \n",
    "dataFin = pd.concat([not_laid_off_Fin, laid_off_Fin])"
   ]
  },
  {
   "cell_type": "code",
   "execution_count": 68,
   "metadata": {},
   "outputs": [
    {
     "name": "stdout",
     "output_type": "stream",
     "text": [
      "training data has 860 observation with 70 features\n",
      "test data has 216 observation with 70 features\n"
     ]
    }
   ],
   "source": [
    "from sklearn.model_selection import train_test_split\n",
    "# Reserve 20% for testing\n",
    "y3 = dataFin['laid_off']\n",
    "X3 = dataFin.drop(['Length', 'ID','Birth Year','City of profile', 'Country of profile',\n",
    "                   'Start Date','End Date','Role', 'Dept', 'Company Name',\n",
    "                   'Location','Industry','laid_off','Layoff Date', 'Employees Affected'],axis = 1)\n",
    "X3_train, X3_test, y3_train, y3_test = train_test_split(X3, y3, test_size=0.2,random_state=101)\n",
    "\n",
    "print('training data has %d observation with %d features'% X3_train.shape)\n",
    "print('test data has %d observation with %d features'% X3_test.shape)"
   ]
  },
  {
   "cell_type": "code",
   "execution_count": 69,
   "metadata": {},
   "outputs": [],
   "source": [
    "from sklearn.preprocessing import StandardScaler\n",
    "scaler = StandardScaler()\n",
    "X3_train = scaler.fit_transform(X3_train)\n",
    "X3_test = scaler.transform(X3_test)"
   ]
  },
  {
   "cell_type": "code",
   "execution_count": 70,
   "metadata": {},
   "outputs": [
    {
     "data": {
      "text/plain": [
       "0.6527777777777778"
      ]
     },
     "execution_count": 70,
     "metadata": {},
     "output_type": "execute_result"
    }
   ],
   "source": [
    "from sklearn.ensemble import RandomForestClassifier\n",
    "RF = RandomForestClassifier()\n",
    "RF.fit(X3_train, y3_train)\n",
    "RF.score(X3_test,y3_test)"
   ]
  },
  {
   "cell_type": "code",
   "execution_count": 71,
   "metadata": {},
   "outputs": [
    {
     "data": {
      "text/plain": [
       "GridSearchCV(cv=5, error_score='raise-deprecating',\n",
       "       estimator=RandomForestClassifier(bootstrap=True, class_weight=None, criterion='gini',\n",
       "            max_depth=None, max_features='auto', max_leaf_nodes=None,\n",
       "            min_impurity_decrease=0.0, min_impurity_split=None,\n",
       "            min_samples_leaf=1, min_samples_split=2,\n",
       "            min_weight_fraction_leaf=0.0, n_estimators='warn', n_jobs=None,\n",
       "            oob_score=False, random_state=None, verbose=0,\n",
       "            warm_start=False),\n",
       "       fit_params=None, iid='warn', n_jobs=None,\n",
       "       param_grid={'n_estimators': [40, 60, 80]}, pre_dispatch='2*n_jobs',\n",
       "       refit=True, return_train_score='warn', scoring=None, verbose=0)"
      ]
     },
     "execution_count": 71,
     "metadata": {},
     "output_type": "execute_result"
    }
   ],
   "source": [
    "from sklearn.model_selection import GridSearchCV\n",
    "parameters = {\n",
    "    'n_estimators' : [40,60,80]\n",
    "}\n",
    "Grid_RF = GridSearchCV(RandomForestClassifier(),parameters, cv=5)\n",
    "Grid_RF.fit(X3_train, y3_train)"
   ]
  },
  {
   "cell_type": "code",
   "execution_count": 72,
   "metadata": {},
   "outputs": [
    {
     "name": "stdout",
     "output_type": "stream",
     "text": [
      "Feature importance ranking by Random Forest Model:\n",
      "Skillset1 Weight: 0.1779\n",
      "Skillset2 Weight: 0.1728\n",
      "Age: 0.1641\n",
      "Education: 0.0639\n",
      "Gender Flag: 0.0398\n",
      "Elite Institution: 0.0244\n",
      "s1-Administration: 0.0241\n",
      "s1-Finance: 0.0219\n",
      "s2-Finance: 0.0216\n",
      "s2-Sales: 0.0208\n",
      "s2-Administration: 0.0151\n",
      "s2-Product Management: 0.0138\n",
      "s1-Sales: 0.0134\n",
      "s1-Product Management: 0.0125\n",
      "s2-Human Resources: 0.0109\n",
      "s2-Real Estate: 0.0107\n",
      "s1-Human Resources: 0.0098\n",
      "s2-Data Analysis: 0.0092\n",
      "s1-Operations Management: 0.0083\n",
      "s1-Software Engineering: 0.0077\n",
      "s1-IT Management and Support: 0.0074\n",
      "s2-Business Development: 0.0073\n",
      "s2-Retail and Fashion: 0.0069\n",
      "s2-Insurance: 0.0065\n",
      "s2-Non-Profit and Community: 0.0061\n",
      "s1-Retail and Fashion: 0.0061\n",
      "s2-Social Media and Communications: 0.006\n",
      "s2-IT Management and Support: 0.006\n",
      "s2-Software Engineering: 0.0058\n",
      "s1-Insurance: 0.0058\n",
      "s1-Web Development: 0.0057\n",
      "s2-Web Development: 0.0056\n",
      "s1-Business Development: 0.0054\n",
      "s2-Operations Management: 0.0051\n",
      "s1-Legal: 0.005\n",
      "s2-Logistics: 0.0049\n",
      "s1-Data Analysis: 0.0048\n",
      "s1-Real Estate: 0.0047\n",
      "s2-Mobile Telecommunications: 0.0044\n",
      "s2-Digital Marketing: 0.0044\n",
      "s2-Manufacturing and Process Management: 0.0036\n",
      "s1-Digital Marketing: 0.0034\n",
      "s2-Industrial Management: 0.0032\n",
      "s1-Social Media and Communications: 0.0032\n",
      "s1-Web Design: 0.0028\n",
      "s1-Military: 0.0026\n",
      "s1-Healthcare: 0.0025\n",
      "s1-Non-Profit and Community: 0.0024\n",
      "s2-Web Design: 0.0023\n",
      "s2-Video and Film Production: 0.0023\n",
      "s2-Hospitality: 0.0019\n",
      "s2-Public Policy: 0.0017\n",
      "s1-Musical Production: 0.0016\n",
      "s2-Electrical Engineering: 0.0015\n",
      "s2-Design: 0.0015\n",
      "s1-Hospitality: 0.0013\n",
      "s1-Video and Film Production: 0.0012\n",
      "s1-Design: 0.001\n",
      "s1-Mobile Telecommunications: 0.0008\n",
      "s1-Logistics: 0.0007\n",
      "s1-Energy, Oil, and Gas: 0.0007\n",
      "s2-Energy, Oil, and Gas: 0.0004\n",
      "s1-Industrial Management: 0.0004\n",
      "s2-Healthcare: 0.0002\n",
      "s2-Musical Production: 0.0\n",
      "s2-Military: 0.0\n",
      "s2-Legal: 0.0\n",
      "s1-Public Policy: 0.0\n",
      "s1-Manufacturing and Process Management: 0.0\n",
      "s1-Electrical Engineering: 0.0\n"
     ]
    }
   ],
   "source": [
    "importances = RF.feature_importances_\n",
    "# Print the feature ranking\n",
    "print(\"Feature importance ranking by Random Forest Model:\")\n",
    "for k,v in sorted(zip(map(lambda x: round(x, 4), importances), X3.columns), reverse=True):\n",
    "    print (v + \": \" + str(k))"
   ]
  },
  {
   "cell_type": "markdown",
   "metadata": {},
   "source": [
    "### for finance industry, Age > Education>Gender Flag> s1-Finance> Elite Institution"
   ]
  },
  {
   "cell_type": "code",
   "execution_count": 73,
   "metadata": {},
   "outputs": [
    {
     "data": {
      "text/plain": [
       "0.6574074074074074"
      ]
     },
     "execution_count": 73,
     "metadata": {},
     "output_type": "execute_result"
    }
   ],
   "source": [
    "from sklearn.linear_model import LogisticRegression\n",
    "LR = LogisticRegression()\n",
    "LR.fit(X3_train, y3_train)\n",
    "LR.score(X3_test, y3_test)"
   ]
  },
  {
   "cell_type": "code",
   "execution_count": 74,
   "metadata": {},
   "outputs": [
    {
     "name": "stdout",
     "output_type": "stream",
     "text": [
      "Logistic Regression (L1) Coefficients\n",
      "Age: -0.4268\n",
      "s1-Mobile Telecommunications: -0.3919\n",
      "Skillset1 Weight: -0.3265\n",
      "Skillset2 Weight: -0.2472\n",
      "s1-Web Design: 0.2065\n",
      "s1-Military: 0.1871\n",
      "s2-Electrical Engineering: 0.1816\n",
      "s1-Logistics: -0.1812\n",
      "s1-Energy, Oil, and Gas: -0.1778\n",
      "s2-Sales: -0.1742\n",
      "Education: 0.1731\n",
      "s1-Industrial Management: 0.1559\n",
      "s1-Musical Production: 0.1395\n",
      "s2-Design: -0.1389\n",
      "s1-Healthcare: -0.1381\n",
      "s2-Musical Production: -0.1245\n",
      "s1-Human Resources: -0.1231\n",
      "s2-Military: 0.1193\n",
      "s1-Non-Profit and Community: -0.1141\n",
      "s1-Retail and Fashion: 0.1064\n",
      "s1-Operations Management: -0.1048\n",
      "s2-Operations Management: -0.103\n",
      "s2-Finance: 0.1002\n",
      "s2-Insurance: -0.0913\n",
      "s1-Digital Marketing: -0.0845\n",
      "s2-Web Design: 0.0803\n",
      "s2-Software Engineering: 0.0799\n",
      "s2-Social Media and Communications: -0.0771\n",
      "s2-Real Estate: -0.075\n",
      "s1-Software Engineering: 0.0713\n",
      "s1-Finance: 0.0697\n",
      "s2-Legal: -0.0688\n",
      "s2-Manufacturing and Process Management: -0.0676\n",
      "s2-Retail and Fashion: 0.0661\n",
      "s1-Video and Film Production: 0.065\n",
      "s1-Web Development: 0.0648\n",
      "s2-Data Analysis: 0.063\n",
      "s1-Sales: -0.0567\n",
      "s2-IT Management and Support: -0.0544\n",
      "s1-Business Development: 0.0518\n",
      "s1-Social Media and Communications: 0.0484\n",
      "s1-Product Management: 0.0482\n",
      "s1-Legal: -0.0455\n",
      "s2-Healthcare: -0.0447\n",
      "Gender Flag: -0.0442\n",
      "s2-Digital Marketing: -0.0437\n",
      "s2-Public Policy: 0.0411\n",
      "s1-IT Management and Support: 0.0402\n",
      "s2-Video and Film Production: 0.0279\n",
      "s1-Administration: -0.0253\n",
      "s1-Real Estate: -0.0229\n",
      "s2-Product Management: 0.0228\n",
      "s1-Public Policy: 0.0204\n",
      "s2-Non-Profit and Community: 0.0203\n",
      "s2-Logistics: -0.0176\n",
      "s1-Hospitality: -0.0133\n",
      "s2-Industrial Management: 0.0096\n",
      "s2-Human Resources: -0.0087\n",
      "s2-Mobile Telecommunications: -0.0063\n",
      "Elite Institution: 0.0062\n",
      "s1-Design: 0.0042\n",
      "s1-Data Analysis: -0.0029\n",
      "s2-Hospitality: 0.0025\n",
      "s2-Business Development: 0.0008\n",
      "s1-Electrical Engineering: 0.0\n",
      "s1-Insurance: 0.0\n",
      "s1-Manufacturing and Process Management: 0.0\n",
      "s2-Administration: 0.0\n",
      "s2-Energy, Oil, and Gas: 0.0\n",
      "s2-Web Development: 0.0\n"
     ]
    }
   ],
   "source": [
    "best_LR_model.fit(X3_train, y3_train)\n",
    "\n",
    "scaler = StandardScaler()\n",
    "X_l2 = scaler.fit_transform(X3)\n",
    "best_LR_model.fit(X_l2, y3)\n",
    "best_LR_model.coef_[0]\n",
    "print (\"Logistic Regression (L1) Coefficients\")\n",
    "for k,v in sorted(zip(map(lambda x: round(x, 4), best_LR_model.coef_[0]), \\\n",
    "                      X3.columns), key=lambda k_v:(-abs(k_v[0]),k_v[1])):\n",
    "    print (v + \": \" + str(k))"
   ]
  },
  {
   "cell_type": "markdown",
   "metadata": {},
   "source": [
    "### Manufacturing"
   ]
  },
  {
   "cell_type": "code",
   "execution_count": 76,
   "metadata": {},
   "outputs": [],
   "source": [
    "not_laid_off_Manu = dataManu[dataManu['laid_off'] == 0]\n",
    "laid_off_Manu = dataManu[dataManu['laid_off'] == 1]\n",
    "np.random.seed(101)\n",
    "not_laid_off_Manu = not_laid_off_Manu.sample(n=80) \n",
    "dataManu = pd.concat([not_laid_off_Manu, laid_off_Manu])"
   ]
  },
  {
   "cell_type": "code",
   "execution_count": 77,
   "metadata": {},
   "outputs": [
    {
     "name": "stdout",
     "output_type": "stream",
     "text": [
      "training data has 2696 observation with 70 features\n",
      "test data has 675 observation with 70 features\n"
     ]
    }
   ],
   "source": [
    "from sklearn.model_selection import train_test_split\n",
    "# Reserve 20% for testing\n",
    "y4 = dataManu['laid_off']\n",
    "X4 = dataManu.drop(['Length', 'ID','Birth Year','City of profile', 'Country of profile',\n",
    "                   'Start Date','End Date','Role', 'Dept', 'Company Name',\n",
    "                   'Location','Industry','laid_off','Layoff Date', 'Employees Affected',],axis = 1)\n",
    "X4_train, X4_test, y4_train, y4_test = train_test_split(X4, y4, test_size=0.2,random_state=101)\n",
    "\n",
    "print('training data has %d observation with %d features'% X4_train.shape)\n",
    "print('test data has %d observation with %d features'% X4_test.shape)"
   ]
  },
  {
   "cell_type": "code",
   "execution_count": 78,
   "metadata": {},
   "outputs": [],
   "source": [
    "from sklearn.preprocessing import StandardScaler\n",
    "scaler = StandardScaler()\n",
    "X4_train = scaler.fit_transform(X4_train)\n",
    "X4_test = scaler.transform(X4_test)"
   ]
  },
  {
   "cell_type": "code",
   "execution_count": 79,
   "metadata": {},
   "outputs": [
    {
     "data": {
      "text/plain": [
       "0.9733333333333334"
      ]
     },
     "execution_count": 79,
     "metadata": {},
     "output_type": "execute_result"
    }
   ],
   "source": [
    "from sklearn.ensemble import RandomForestClassifier\n",
    "RF = RandomForestClassifier()\n",
    "RF.fit(X4_train, y4_train)\n",
    "RF.score(X4_test,y4_test)"
   ]
  },
  {
   "cell_type": "code",
   "execution_count": 80,
   "metadata": {},
   "outputs": [
    {
     "data": {
      "text/plain": [
       "GridSearchCV(cv=5, error_score='raise-deprecating',\n",
       "       estimator=RandomForestClassifier(bootstrap=True, class_weight=None, criterion='gini',\n",
       "            max_depth=None, max_features='auto', max_leaf_nodes=None,\n",
       "            min_impurity_decrease=0.0, min_impurity_split=None,\n",
       "            min_samples_leaf=1, min_samples_split=2,\n",
       "            min_weight_fraction_leaf=0.0, n_estimators='warn', n_jobs=None,\n",
       "            oob_score=False, random_state=None, verbose=0,\n",
       "            warm_start=False),\n",
       "       fit_params=None, iid='warn', n_jobs=None,\n",
       "       param_grid={'n_estimators': [40, 60, 80]}, pre_dispatch='2*n_jobs',\n",
       "       refit=True, return_train_score='warn', scoring=None, verbose=0)"
      ]
     },
     "execution_count": 80,
     "metadata": {},
     "output_type": "execute_result"
    }
   ],
   "source": [
    "from sklearn.model_selection import GridSearchCV\n",
    "parameters = {\n",
    "    'n_estimators' : [40,60,80]\n",
    "}\n",
    "Grid_RF = GridSearchCV(RandomForestClassifier(),parameters, cv=5)\n",
    "Grid_RF.fit(X4_train, y4_train)"
   ]
  },
  {
   "cell_type": "code",
   "execution_count": 81,
   "metadata": {},
   "outputs": [
    {
     "name": "stdout",
     "output_type": "stream",
     "text": [
      "Feature importance ranking by Random Forest Model:\n",
      "Skillset1 Weight: 0.246\n",
      "Skillset2 Weight: 0.2179\n",
      "Age: 0.1253\n",
      "Education: 0.0805\n",
      "Gender Flag: 0.0542\n",
      "Elite Institution: 0.0191\n",
      "s2-Sales: 0.0139\n",
      "s2-IT Management and Support: 0.0134\n",
      "s1-Administration: 0.0124\n",
      "s1-Product Management: 0.0115\n",
      "s1-Electrical Engineering: 0.0114\n",
      "s1-Software Engineering: 0.011\n",
      "s2-Software Engineering: 0.0106\n",
      "s2-Human Resources: 0.0096\n",
      "s1-Operations Management: 0.0089\n",
      "s2-Mobile Telecommunications: 0.0088\n",
      "s2-Public Policy: 0.0085\n",
      "s1-Finance: 0.0084\n",
      "s1-IT Management and Support: 0.008\n",
      "s2-Finance: 0.0078\n",
      "s1-Sales: 0.0078\n",
      "s1-Web Design: 0.0073\n",
      "s2-Healthcare: 0.0068\n",
      "s2-Administration: 0.0064\n",
      "s2-Social Media and Communications: 0.0061\n",
      "s2-Data Analysis: 0.006\n",
      "s2-Product Management: 0.0059\n",
      "s1-Hospitality: 0.0057\n",
      "s2-Operations Management: 0.0055\n",
      "s2-Web Development: 0.0047\n",
      "s2-Manufacturing and Process Management: 0.0045\n",
      "s2-Electrical Engineering: 0.0041\n",
      "s2-Digital Marketing: 0.0039\n",
      "s1-Mobile Telecommunications: 0.0039\n",
      "s1-Legal: 0.0035\n",
      "s2-Industrial Management: 0.0034\n",
      "s2-Hospitality: 0.0029\n",
      "s1-Data Analysis: 0.0027\n",
      "s2-Design: 0.0025\n",
      "s1-Human Resources: 0.0025\n",
      "s1-Business Development: 0.0024\n",
      "s2-Business Development: 0.0023\n",
      "s2-Web Design: 0.0021\n",
      "s1-Web Development: 0.0014\n",
      "s1-Logistics: 0.0014\n",
      "s2-Video and Film Production: 0.0011\n",
      "s1-Social Media and Communications: 0.0011\n",
      "s1-Healthcare: 0.001\n",
      "s2-Logistics: 0.0009\n",
      "s1-Design: 0.0008\n",
      "s1-Manufacturing and Process Management: 0.0007\n",
      "s1-Digital Marketing: 0.0006\n",
      "s2-Musical Production: 0.0004\n",
      "s1-Video and Film Production: 0.0004\n",
      "s2-Non-Profit and Community: 0.0001\n",
      "s2-Legal: 0.0001\n",
      "s2-Retail and Fashion: 0.0\n",
      "s2-Real Estate: 0.0\n",
      "s2-Military: 0.0\n",
      "s2-Insurance: 0.0\n",
      "s2-Energy, Oil, and Gas: 0.0\n",
      "s1-Retail and Fashion: 0.0\n",
      "s1-Real Estate: 0.0\n",
      "s1-Public Policy: 0.0\n",
      "s1-Non-Profit and Community: 0.0\n",
      "s1-Musical Production: 0.0\n",
      "s1-Military: 0.0\n",
      "s1-Insurance: 0.0\n",
      "s1-Industrial Management: 0.0\n",
      "s1-Energy, Oil, and Gas: 0.0\n"
     ]
    }
   ],
   "source": [
    "importances = RF.feature_importances_\n",
    "# Print the feature ranking\n",
    "print(\"Feature importance ranking by Random Forest Model:\")\n",
    "for k,v in sorted(zip(map(lambda x: round(x, 4), importances), X4.columns), reverse=True):\n",
    "    print (v + \": \" + str(k))"
   ]
  },
  {
   "cell_type": "markdown",
   "metadata": {},
   "source": [
    "### for manufacturing industry, Age> Education> Gender Flag>Elite Institution"
   ]
  },
  {
   "cell_type": "code",
   "execution_count": 82,
   "metadata": {},
   "outputs": [
    {
     "data": {
      "text/plain": [
       "0.9748148148148148"
      ]
     },
     "execution_count": 82,
     "metadata": {},
     "output_type": "execute_result"
    }
   ],
   "source": [
    "from sklearn.linear_model import LogisticRegression\n",
    "LR = LogisticRegression()\n",
    "LR.fit(X4_train, y4_train)\n",
    "LR.score(X4_test, y4_test)"
   ]
  },
  {
   "cell_type": "code",
   "execution_count": 83,
   "metadata": {},
   "outputs": [
    {
     "name": "stdout",
     "output_type": "stream",
     "text": [
      "Logistic Regression (L1) Coefficients\n",
      "Skillset1 Weight: -0.5153\n",
      "s1-Web Development: 0.2758\n",
      "s1-Digital Marketing: 0.2597\n",
      "s1-Sales: -0.2455\n",
      "s1-Administration: -0.2389\n",
      "Skillset2 Weight: -0.228\n",
      "s1-Manufacturing and Process Management: 0.22\n",
      "s2-Logistics: 0.2195\n",
      "Age: -0.2093\n",
      "s1-Finance: -0.1801\n",
      "s1-Logistics: 0.1744\n",
      "s2-Video and Film Production: 0.1717\n",
      "s1-Video and Film Production: 0.1692\n",
      "s1-Mobile Telecommunications: 0.1572\n",
      "s2-Business Development: 0.1452\n",
      "s1-Legal: 0.1395\n",
      "s2-Web Development: 0.1371\n",
      "s1-Operations Management: -0.1288\n",
      "s1-Product Management: -0.1135\n",
      "s2-Industrial Management: -0.1104\n",
      "s2-Human Resources: -0.1059\n",
      "s2-Non-Profit and Community: 0.1033\n",
      "s2-Social Media and Communications: -0.1031\n",
      "s2-Manufacturing and Process Management: 0.1022\n",
      "s1-Non-Profit and Community: 0.1004\n",
      "s2-IT Management and Support: -0.1002\n",
      "s2-Web Design: -0.1\n",
      "s2-Data Analysis: -0.0986\n",
      "s2-Public Policy: -0.0965\n",
      "s1-IT Management and Support: -0.0883\n",
      "s1-Human Resources: -0.0875\n",
      "s2-Product Management: 0.0808\n",
      "s1-Healthcare: 0.0776\n",
      "s1-Social Media and Communications: -0.0705\n",
      "s2-Digital Marketing: 0.0685\n",
      "s2-Administration: 0.0677\n",
      "s1-Data Analysis: -0.0619\n",
      "s2-Military: 0.0609\n",
      "s2-Legal: 0.0598\n",
      "s1-Hospitality: -0.0567\n",
      "s2-Operations Management: -0.0507\n",
      "s1-Software Engineering: 0.0468\n",
      "s2-Musical Production: 0.046\n",
      "s2-Hospitality: -0.0448\n",
      "s2-Software Engineering: -0.0437\n",
      "Elite Institution: 0.0432\n",
      "s2-Sales: -0.0401\n",
      "s2-Design: -0.0369\n",
      "s2-Healthcare: -0.0358\n",
      "s2-Electrical Engineering: 0.0346\n",
      "s1-Industrial Management: 0.0332\n",
      "s2-Finance: 0.0326\n",
      "s2-Energy, Oil, and Gas: 0.0319\n",
      "Education: -0.0315\n",
      "s1-Design: -0.0286\n",
      "s1-Public Policy: 0.0285\n",
      "s2-Insurance: 0.0213\n",
      "s1-Real Estate: 0.0199\n",
      "s1-Electrical Engineering: 0.0103\n",
      "s1-Web Design: -0.0027\n",
      "s2-Real Estate: 0.0016\n",
      "Gender Flag: 0.0\n",
      "s1-Business Development: 0.0\n",
      "s1-Energy, Oil, and Gas: 0.0\n",
      "s1-Insurance: 0.0\n",
      "s1-Military: 0.0\n",
      "s1-Musical Production: 0.0\n",
      "s1-Retail and Fashion: 0.0\n",
      "s2-Mobile Telecommunications: 0.0\n",
      "s2-Retail and Fashion: 0.0\n"
     ]
    }
   ],
   "source": [
    "best_LR_model.fit(X4_train, y4_train)\n",
    "\n",
    "scaler = StandardScaler()\n",
    "X_l2 = scaler.fit_transform(X4)\n",
    "best_LR_model.fit(X_l2, y4)\n",
    "best_LR_model.coef_[0]\n",
    "print (\"Logistic Regression (L1) Coefficients\")\n",
    "for k,v in sorted(zip(map(lambda x: round(x, 4), best_LR_model.coef_[0]), \\\n",
    "                      X4.columns), key=lambda k_v:(-abs(k_v[0]),k_v[1])):\n",
    "    print (v + \": \" + str(k))"
   ]
  },
  {
   "cell_type": "code",
   "execution_count": null,
   "metadata": {},
   "outputs": [],
   "source": []
  },
  {
   "cell_type": "code",
   "execution_count": null,
   "metadata": {},
   "outputs": [],
   "source": []
  }
 ],
 "metadata": {
  "kernelspec": {
   "display_name": "Python 3",
   "language": "python",
   "name": "python3"
  },
  "language_info": {
   "codemirror_mode": {
    "name": "ipython",
    "version": 3
   },
   "file_extension": ".py",
   "mimetype": "text/x-python",
   "name": "python",
   "nbconvert_exporter": "python",
   "pygments_lexer": "ipython3",
   "version": "3.7.2"
  }
 },
 "nbformat": 4,
 "nbformat_minor": 2
}

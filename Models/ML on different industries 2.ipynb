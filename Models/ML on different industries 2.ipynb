{
 "cells": [
  {
   "cell_type": "code",
   "execution_count": 90,
   "metadata": {},
   "outputs": [],
   "source": [
    "import pandas as pd\n",
    "import numpy as np\n",
    "import matplotlib.pyplot as plt\n",
    "import seaborn as sns\n",
    "\n",
    "import warnings\n",
    "warnings.filterwarnings('ignore')"
   ]
  },
  {
   "cell_type": "code",
   "execution_count": 91,
   "metadata": {},
   "outputs": [
    {
     "data": {
      "text/html": [
       "<div>\n",
       "<style scoped>\n",
       "    .dataframe tbody tr th:only-of-type {\n",
       "        vertical-align: middle;\n",
       "    }\n",
       "\n",
       "    .dataframe tbody tr th {\n",
       "        vertical-align: top;\n",
       "    }\n",
       "\n",
       "    .dataframe thead th {\n",
       "        text-align: right;\n",
       "    }\n",
       "</style>\n",
       "<table border=\"1\" class=\"dataframe\">\n",
       "  <thead>\n",
       "    <tr style=\"text-align: right;\">\n",
       "      <th></th>\n",
       "      <th>Unnamed: 0</th>\n",
       "      <th>Unnamed: 0.1</th>\n",
       "      <th>ID</th>\n",
       "      <th>Birth Year</th>\n",
       "      <th>Gender Flag</th>\n",
       "      <th>Skillset1 Weight</th>\n",
       "      <th>Skillset2 Weight</th>\n",
       "      <th>City of profile</th>\n",
       "      <th>Country of profile</th>\n",
       "      <th>Education</th>\n",
       "      <th>...</th>\n",
       "      <th>s2-Product Management</th>\n",
       "      <th>s2-Public Policy</th>\n",
       "      <th>s2-Real Estate</th>\n",
       "      <th>s2-Retail and Fashion</th>\n",
       "      <th>s2-Sales</th>\n",
       "      <th>s2-Social Media and Communications</th>\n",
       "      <th>s2-Software Engineering</th>\n",
       "      <th>s2-Video and Film Production</th>\n",
       "      <th>s2-Web Design</th>\n",
       "      <th>s2-Web Development</th>\n",
       "    </tr>\n",
       "  </thead>\n",
       "  <tbody>\n",
       "    <tr>\n",
       "      <th>0</th>\n",
       "      <td>0</td>\n",
       "      <td>0</td>\n",
       "      <td>d5dc4adf-7444-38c2-84d7-10dcaa5cba78</td>\n",
       "      <td>2001</td>\n",
       "      <td>2</td>\n",
       "      <td>0.868526</td>\n",
       "      <td>0.085376</td>\n",
       "      <td>San Francisco</td>\n",
       "      <td>United States</td>\n",
       "      <td>0</td>\n",
       "      <td>...</td>\n",
       "      <td>0</td>\n",
       "      <td>0</td>\n",
       "      <td>0</td>\n",
       "      <td>0</td>\n",
       "      <td>0</td>\n",
       "      <td>0</td>\n",
       "      <td>0</td>\n",
       "      <td>0</td>\n",
       "      <td>0</td>\n",
       "      <td>0</td>\n",
       "    </tr>\n",
       "    <tr>\n",
       "      <th>1</th>\n",
       "      <td>1</td>\n",
       "      <td>1</td>\n",
       "      <td>d5dc4adf-7444-38c2-84d7-10dcaa5cba78</td>\n",
       "      <td>2001</td>\n",
       "      <td>2</td>\n",
       "      <td>0.868526</td>\n",
       "      <td>0.085376</td>\n",
       "      <td>San Francisco</td>\n",
       "      <td>United States</td>\n",
       "      <td>0</td>\n",
       "      <td>...</td>\n",
       "      <td>0</td>\n",
       "      <td>0</td>\n",
       "      <td>0</td>\n",
       "      <td>0</td>\n",
       "      <td>0</td>\n",
       "      <td>0</td>\n",
       "      <td>0</td>\n",
       "      <td>0</td>\n",
       "      <td>0</td>\n",
       "      <td>0</td>\n",
       "    </tr>\n",
       "    <tr>\n",
       "      <th>2</th>\n",
       "      <td>6</td>\n",
       "      <td>8</td>\n",
       "      <td>3b31713b-a554-333f-ae6b-823ab4eaa360</td>\n",
       "      <td>1980</td>\n",
       "      <td>1</td>\n",
       "      <td>0.329413</td>\n",
       "      <td>0.180861</td>\n",
       "      <td>Albany</td>\n",
       "      <td>United States</td>\n",
       "      <td>5</td>\n",
       "      <td>...</td>\n",
       "      <td>0</td>\n",
       "      <td>0</td>\n",
       "      <td>0</td>\n",
       "      <td>0</td>\n",
       "      <td>0</td>\n",
       "      <td>0</td>\n",
       "      <td>0</td>\n",
       "      <td>0</td>\n",
       "      <td>0</td>\n",
       "      <td>0</td>\n",
       "    </tr>\n",
       "    <tr>\n",
       "      <th>3</th>\n",
       "      <td>7</td>\n",
       "      <td>9</td>\n",
       "      <td>3b31713b-a554-333f-ae6b-823ab4eaa360</td>\n",
       "      <td>1980</td>\n",
       "      <td>1</td>\n",
       "      <td>0.329413</td>\n",
       "      <td>0.180861</td>\n",
       "      <td>Albany</td>\n",
       "      <td>United States</td>\n",
       "      <td>5</td>\n",
       "      <td>...</td>\n",
       "      <td>0</td>\n",
       "      <td>0</td>\n",
       "      <td>0</td>\n",
       "      <td>0</td>\n",
       "      <td>0</td>\n",
       "      <td>0</td>\n",
       "      <td>0</td>\n",
       "      <td>0</td>\n",
       "      <td>0</td>\n",
       "      <td>0</td>\n",
       "    </tr>\n",
       "    <tr>\n",
       "      <th>4</th>\n",
       "      <td>8</td>\n",
       "      <td>10</td>\n",
       "      <td>3b31713b-a554-333f-ae6b-823ab4eaa360</td>\n",
       "      <td>1980</td>\n",
       "      <td>1</td>\n",
       "      <td>0.329413</td>\n",
       "      <td>0.180861</td>\n",
       "      <td>Albany</td>\n",
       "      <td>United States</td>\n",
       "      <td>5</td>\n",
       "      <td>...</td>\n",
       "      <td>0</td>\n",
       "      <td>0</td>\n",
       "      <td>0</td>\n",
       "      <td>0</td>\n",
       "      <td>0</td>\n",
       "      <td>0</td>\n",
       "      <td>0</td>\n",
       "      <td>0</td>\n",
       "      <td>0</td>\n",
       "      <td>0</td>\n",
       "    </tr>\n",
       "  </tbody>\n",
       "</table>\n",
       "<p>5 rows × 87 columns</p>\n",
       "</div>"
      ],
      "text/plain": [
       "   Unnamed: 0  Unnamed: 0.1                                    ID  Birth Year  \\\n",
       "0           0             0  d5dc4adf-7444-38c2-84d7-10dcaa5cba78        2001   \n",
       "1           1             1  d5dc4adf-7444-38c2-84d7-10dcaa5cba78        2001   \n",
       "2           6             8  3b31713b-a554-333f-ae6b-823ab4eaa360        1980   \n",
       "3           7             9  3b31713b-a554-333f-ae6b-823ab4eaa360        1980   \n",
       "4           8            10  3b31713b-a554-333f-ae6b-823ab4eaa360        1980   \n",
       "\n",
       "   Gender Flag  Skillset1 Weight  Skillset2 Weight City of profile  \\\n",
       "0            2          0.868526          0.085376   San Francisco   \n",
       "1            2          0.868526          0.085376   San Francisco   \n",
       "2            1          0.329413          0.180861          Albany   \n",
       "3            1          0.329413          0.180861          Albany   \n",
       "4            1          0.329413          0.180861          Albany   \n",
       "\n",
       "  Country of profile  Education        ...          s2-Product Management  \\\n",
       "0      United States          0        ...                              0   \n",
       "1      United States          0        ...                              0   \n",
       "2      United States          5        ...                              0   \n",
       "3      United States          5        ...                              0   \n",
       "4      United States          5        ...                              0   \n",
       "\n",
       "  s2-Public Policy s2-Real Estate  s2-Retail and Fashion s2-Sales  \\\n",
       "0                0              0                      0        0   \n",
       "1                0              0                      0        0   \n",
       "2                0              0                      0        0   \n",
       "3                0              0                      0        0   \n",
       "4                0              0                      0        0   \n",
       "\n",
       "  s2-Social Media and Communications s2-Software Engineering  \\\n",
       "0                                  0                       0   \n",
       "1                                  0                       0   \n",
       "2                                  0                       0   \n",
       "3                                  0                       0   \n",
       "4                                  0                       0   \n",
       "\n",
       "  s2-Video and Film Production s2-Web Design s2-Web Development  \n",
       "0                            0             0                  0  \n",
       "1                            0             0                  0  \n",
       "2                            0             0                  0  \n",
       "3                            0             0                  0  \n",
       "4                            0             0                  0  \n",
       "\n",
       "[5 rows x 87 columns]"
      ]
     },
     "execution_count": 91,
     "metadata": {},
     "output_type": "execute_result"
    }
   ],
   "source": [
    "data= pd.read_csv(\"/Users/Jade/Desktop/newData2.csv\")\n",
    "data.head()"
   ]
  },
  {
   "cell_type": "code",
   "execution_count": 3,
   "metadata": {},
   "outputs": [],
   "source": [
    "#data['Gender Flag'] = data['Gender Flag'].replace({0: 'unknown', 1: 'female', 2: 'male'})\n",
    "#data['Education'] = data['Education'].replace({0: 'unknown', 1: 'High School', 2: 'Vocational degree', 3: 'Associates', \n",
    "#                                               4: 'Bachelors', 5:'Masters', 6: 'MBA', 7: 'PhD'})\n",
    "#data['Length'] = data['Length']*1/30\n",
    "# Categorize length in 1:'0-6 months', 2:'6-12 months', 3:'12-18 months', 4:'18-24 months', 5:'more than 2 years'\n",
    "#data['Length']=pd.cut(data['Length'], bins=[0, 6, 12, 18,24,1000000], \n",
    "#                                             include_lowest=True, \n",
    "#                                             labels=['<6mo','6-12mo','12-18mo','12-24mo','>24mo'])\n",
    "\n",
    "# Convert Birthyear to Age in 1:'> 45 yrs old', 2:'36-45 yrs old', 3:'26-35 yrs old', 4:'< 26 yrs old'\n",
    "#data['Age']=pd.cut(data['Age'], bins=[0, 25, 35, 45, 100000], \n",
    "#                                             include_lowest=True, \n",
    "#                                             labels=['>45 yrs old','36-45 yrs old','26-35 yrs old','<26 yrs old'])\n",
    "\n"
   ]
  },
  {
   "cell_type": "code",
   "execution_count": 92,
   "metadata": {},
   "outputs": [
    {
     "name": "stdout",
     "output_type": "stream",
     "text": [
      "<class 'pandas.core.frame.DataFrame'>\n",
      "RangeIndex: 63985 entries, 0 to 63984\n",
      "Data columns (total 87 columns):\n",
      "Unnamed: 0                                 63985 non-null int64\n",
      "Unnamed: 0.1                               63985 non-null int64\n",
      "ID                                         63985 non-null object\n",
      "Birth Year                                 63985 non-null int64\n",
      "Gender Flag                                63985 non-null int64\n",
      "Skillset1 Weight                           63985 non-null float64\n",
      "Skillset2 Weight                           63985 non-null float64\n",
      "City of profile                            58061 non-null object\n",
      "Country of profile                         63985 non-null object\n",
      "Education                                  63985 non-null int64\n",
      "Elite Institution                          63985 non-null int64\n",
      "Start Date                                 63985 non-null object\n",
      "End Date                                   63985 non-null object\n",
      "Length                                     63985 non-null int64\n",
      "Role                                       63985 non-null object\n",
      "Dept                                       37755 non-null object\n",
      "Location                                   34406 non-null object\n",
      "Industry                                   63985 non-null object\n",
      "Layoff Date                                63985 non-null object\n",
      "Company Name                               63985 non-null object\n",
      "Employees Affected                         63985 non-null int64\n",
      "laid_off                                   63985 non-null int64\n",
      "Age                                        63985 non-null int64\n",
      "s1-Administration                          63985 non-null int64\n",
      "s1-Business Development                    63985 non-null int64\n",
      "s1-Data Analysis                           63985 non-null int64\n",
      "s1-Design                                  63985 non-null int64\n",
      "s1-Digital Marketing                       63985 non-null int64\n",
      "s1-Electrical Engineering                  63985 non-null int64\n",
      "s1-Energy, Oil, and Gas                    63985 non-null int64\n",
      "s1-Finance                                 63985 non-null int64\n",
      "s1-Healthcare                              63985 non-null int64\n",
      "s1-Hospitality                             63985 non-null int64\n",
      "s1-Human Resources                         63985 non-null int64\n",
      "s1-IT Management and Support               63985 non-null int64\n",
      "s1-Industrial Management                   63985 non-null int64\n",
      "s1-Insurance                               63985 non-null int64\n",
      "s1-Legal                                   63985 non-null int64\n",
      "s1-Logistics                               63985 non-null int64\n",
      "s1-Manufacturing and Process Management    63985 non-null int64\n",
      "s1-Military                                63985 non-null int64\n",
      "s1-Mobile Telecommunications               63985 non-null int64\n",
      "s1-Musical Production                      63985 non-null int64\n",
      "s1-Non-Profit and Community                63985 non-null int64\n",
      "s1-Operations Management                   63985 non-null int64\n",
      "s1-Product Management                      63985 non-null int64\n",
      "s1-Public Policy                           63985 non-null int64\n",
      "s1-Real Estate                             63985 non-null int64\n",
      "s1-Retail and Fashion                      63985 non-null int64\n",
      "s1-Sales                                   63985 non-null int64\n",
      "s1-Social Media and Communications         63985 non-null int64\n",
      "s1-Software Engineering                    63985 non-null int64\n",
      "s1-Video and Film Production               63985 non-null int64\n",
      "s1-Web Design                              63985 non-null int64\n",
      "s1-Web Development                         63985 non-null int64\n",
      "s2-Administration                          63985 non-null int64\n",
      "s2-Business Development                    63985 non-null int64\n",
      "s2-Data Analysis                           63985 non-null int64\n",
      "s2-Design                                  63985 non-null int64\n",
      "s2-Digital Marketing                       63985 non-null int64\n",
      "s2-Electrical Engineering                  63985 non-null int64\n",
      "s2-Energy, Oil, and Gas                    63985 non-null int64\n",
      "s2-Finance                                 63985 non-null int64\n",
      "s2-Healthcare                              63985 non-null int64\n",
      "s2-Hospitality                             63985 non-null int64\n",
      "s2-Human Resources                         63985 non-null int64\n",
      "s2-IT Management and Support               63985 non-null int64\n",
      "s2-Industrial Management                   63985 non-null int64\n",
      "s2-Insurance                               63985 non-null int64\n",
      "s2-Legal                                   63985 non-null int64\n",
      "s2-Logistics                               63985 non-null int64\n",
      "s2-Manufacturing and Process Management    63985 non-null int64\n",
      "s2-Military                                63985 non-null int64\n",
      "s2-Mobile Telecommunications               63985 non-null int64\n",
      "s2-Musical Production                      63985 non-null int64\n",
      "s2-Non-Profit and Community                63985 non-null int64\n",
      "s2-Operations Management                   63985 non-null int64\n",
      "s2-Product Management                      63985 non-null int64\n",
      "s2-Public Policy                           63985 non-null int64\n",
      "s2-Real Estate                             63985 non-null int64\n",
      "s2-Retail and Fashion                      63985 non-null int64\n",
      "s2-Sales                                   63985 non-null int64\n",
      "s2-Social Media and Communications         63985 non-null int64\n",
      "s2-Software Engineering                    63985 non-null int64\n",
      "s2-Video and Film Production               63985 non-null int64\n",
      "s2-Web Design                              63985 non-null int64\n",
      "s2-Web Development                         63985 non-null int64\n",
      "dtypes: float64(2), int64(74), object(11)\n",
      "memory usage: 42.5+ MB\n"
     ]
    }
   ],
   "source": [
    "data.info()"
   ]
  },
  {
   "cell_type": "code",
   "execution_count": 93,
   "metadata": {},
   "outputs": [],
   "source": [
    "data = data.drop(['Unnamed: 0','Unnamed: 0.1'],axis = 1)"
   ]
  },
  {
   "cell_type": "code",
   "execution_count": 94,
   "metadata": {},
   "outputs": [
    {
     "data": {
      "text/plain": [
       "array(['Tech', 'Finance', 'Consumer', 'Healthcare', 'Transportation'],\n",
       "      dtype=object)"
      ]
     },
     "execution_count": 94,
     "metadata": {},
     "output_type": "execute_result"
    }
   ],
   "source": [
    "data['Industry'].unique()"
   ]
  },
  {
   "cell_type": "code",
   "execution_count": 8,
   "metadata": {},
   "outputs": [
    {
     "name": "stdout",
     "output_type": "stream",
     "text": [
      "The shape of tech data:  (30400, 85)\n",
      "The shape of finance data:  (6918, 85)\n",
      "The shape of consumer data:  (14033, 85)\n",
      "The shape of healthcare data:  (11694, 85)\n",
      "The shape of transportation data:  (940, 85)\n"
     ]
    }
   ],
   "source": [
    "# split dataset according to Industry\n",
    "dataTech = data[data['Industry']=='Tech']\n",
    "print('The shape of tech data: ',dataTech.shape)\n",
    "dataFin = data[data['Industry']=='Finance']\n",
    "print('The shape of finance data: ',dataFin.shape)\n",
    "dataCon = data[data['Industry']=='Consumer']\n",
    "print('The shape of consumer data: ',dataCon.shape)\n",
    "dataHealth = data[data['Industry']=='Healthcare']\n",
    "print('The shape of healthcare data: ',dataHealth.shape)\n",
    "dataTrans = data[data['Industry']=='Transportation']\n",
    "print('The shape of transportation data: ',dataTrans.shape)"
   ]
  },
  {
   "cell_type": "code",
   "execution_count": 9,
   "metadata": {},
   "outputs": [
    {
     "data": {
      "text/plain": [
       "0        2\n",
       "1        2\n",
       "2        1\n",
       "3        1\n",
       "4        1\n",
       "5        2\n",
       "6        2\n",
       "7        2\n",
       "8        0\n",
       "9        0\n",
       "10       2\n",
       "11       2\n",
       "12       0\n",
       "13       0\n",
       "14       1\n",
       "15       1\n",
       "16       1\n",
       "17       1\n",
       "18       1\n",
       "19       1\n",
       "20       1\n",
       "21       1\n",
       "22       1\n",
       "23       1\n",
       "24       1\n",
       "25       1\n",
       "26       0\n",
       "27       0\n",
       "28       0\n",
       "29       0\n",
       "        ..\n",
       "63955    2\n",
       "63956    2\n",
       "63957    0\n",
       "63958    0\n",
       "63959    1\n",
       "63960    1\n",
       "63961    1\n",
       "63962    1\n",
       "63963    2\n",
       "63964    2\n",
       "63965    1\n",
       "63966    2\n",
       "63967    2\n",
       "63968    2\n",
       "63969    2\n",
       "63970    2\n",
       "63971    2\n",
       "63972    0\n",
       "63973    2\n",
       "63974    2\n",
       "63975    2\n",
       "63976    2\n",
       "63977    2\n",
       "63978    2\n",
       "63979    2\n",
       "63980    2\n",
       "63981    2\n",
       "63982    2\n",
       "63983    2\n",
       "63984    0\n",
       "Name: Gender Flag, Length: 63985, dtype: int64"
      ]
     },
     "execution_count": 9,
     "metadata": {},
     "output_type": "execute_result"
    }
   ],
   "source": [
    "data['Gender Flag']"
   ]
  },
  {
   "cell_type": "code",
   "execution_count": 9,
   "metadata": {},
   "outputs": [
    {
     "data": {
      "text/plain": [
       "numpy.int64"
      ]
     },
     "execution_count": 9,
     "metadata": {},
     "output_type": "execute_result"
    }
   ],
   "source": [
    "type(dataTech['Gender Flag'][0])"
   ]
  },
  {
   "cell_type": "code",
   "execution_count": 10,
   "metadata": {},
   "outputs": [
    {
     "data": {
      "text/plain": [
       "Text(0.5,1,'Transportation')"
      ]
     },
     "execution_count": 10,
     "metadata": {},
     "output_type": "execute_result"
    },
    {
     "data": {
      "image/png": "[encoded data removed]",
      "text/plain": [
       "<Figure size 1440x216 with 5 Axes>"
      ]
     },
     "metadata": {},
     "output_type": "display_data"
    }
   ],
   "source": [
    "# distribution of gender\n",
    "fig, axs = plt.subplots(ncols=5,figsize=(20,3))\n",
    "sns.distplot(dataTech['Gender Flag'], ax=axs[0]).set_title('Tech')\n",
    "sns.distplot(dataFin['Gender Flag'], ax=axs[1]).set_title('Finance')\n",
    "sns.distplot(dataCon['Gender Flag'], ax=axs[2]).set_title('Consumer')\n",
    "sns.distplot(dataHealth['Gender Flag'], ax=axs[3]).set_title('Healthcare')\n",
    "sns.distplot(dataTrans['Gender Flag'], ax=axs[4]).set_title('Transportation')"
   ]
  },
  {
   "cell_type": "code",
   "execution_count": 11,
   "metadata": {},
   "outputs": [
    {
     "data": {
      "text/plain": [
       "Text(0.5,1,'Transportation')"
      ]
     },
     "execution_count": 11,
     "metadata": {},
     "output_type": "execute_result"
    },
    {
     "data": {
      "image/png": "[encoded data removed]",
      "text/plain": [
       "<Figure size 1440x216 with 5 Axes>"
      ]
     },
     "metadata": {},
     "output_type": "display_data"
    }
   ],
   "source": [
    "# distribution of education\n",
    "fig, axs = plt.subplots(ncols=5,figsize=(20,3))\n",
    "sns.distplot(dataTech['Education'], ax=axs[0]).set_title('Tech')\n",
    "sns.distplot(dataFin['Education'], ax=axs[1]).set_title('Finance')\n",
    "sns.distplot(dataCon['Education'], ax=axs[2]).set_title('Consumer')\n",
    "sns.distplot(dataHealth['Education'], ax=axs[3]).set_title('Healthcare')\n",
    "sns.distplot(dataTrans['Education'], ax=axs[4]).set_title('Transportation')"
   ]
  },
  {
   "cell_type": "code",
   "execution_count": 12,
   "metadata": {},
   "outputs": [
    {
     "data": {
      "text/plain": [
       "Text(0.5,1,'Transportation')"
      ]
     },
     "execution_count": 12,
     "metadata": {},
     "output_type": "execute_result"
    },
    {
     "data": {
      "image/png": "[encoded data removed]",
      "text/plain": [
       "<Figure size 1440x216 with 5 Axes>"
      ]
     },
     "metadata": {},
     "output_type": "display_data"
    }
   ],
   "source": [
    "# distribution of Elite institution\n",
    "fig, axs = plt.subplots(ncols=5,figsize=(20,3))\n",
    "sns.distplot(dataTech['Elite Institution'], ax=axs[0]).set_title('Tech')\n",
    "sns.distplot(dataFin['Elite Institution'], ax=axs[1]).set_title('Finance')\n",
    "sns.distplot(dataCon['Elite Institution'], ax=axs[2]).set_title('Consumer')\n",
    "sns.distplot(dataHealth['Elite Institution'], ax=axs[3]).set_title('Healthcare')\n",
    "sns.distplot(dataTrans['Elite Institution'], ax=axs[4]).set_title('Transportation')"
   ]
  },
  {
   "cell_type": "code",
   "execution_count": 13,
   "metadata": {},
   "outputs": [
    {
     "data": {
      "text/plain": [
       "Text(0.5,1,'Transportation')"
      ]
     },
     "execution_count": 13,
     "metadata": {},
     "output_type": "execute_result"
    },
    {
     "data": {
      "image/png": "[encoded data removed]",
      "text/plain": [
       "<Figure size 1440x216 with 5 Axes>"
      ]
     },
     "metadata": {},
     "output_type": "display_data"
    }
   ],
   "source": [
    "# distribution of age\n",
    "fig, axs = plt.subplots(ncols=5,figsize=(20,3))\n",
    "sns.distplot(dataTech['Age'], ax=axs[0]).set_title('Tech')\n",
    "sns.distplot(dataFin['Age'], ax=axs[1]).set_title('Finance')\n",
    "sns.distplot(dataCon['Age'], ax=axs[2]).set_title('Consumer')\n",
    "sns.distplot(dataHealth['Age'], ax=axs[3]).set_title('Healthcare')\n",
    "sns.distplot(dataTrans['Age'], ax=axs[4]).set_title('Transportation')"
   ]
  },
  {
   "cell_type": "code",
   "execution_count": 14,
   "metadata": {},
   "outputs": [
    {
     "name": "stdout",
     "output_type": "stream",
     "text": [
      "number of laidoff people in tech: 2510\n",
      "number of non-laidoff people in tech: 27890\n",
      "number of laidoff people in finance: 378\n",
      "number of non-laidoff people in finance: 6540\n",
      "number of laidoff people in consumer: 1147\n",
      "number of non-laidoff people in consumer: 12886\n",
      "number of laidoff people in healthcare: 328\n",
      "number of non-laidoff people in healthcare: 11366\n",
      "number of laidoff people in transportation: 46\n",
      "number of non-laidoff people in transportation: 894\n"
     ]
    }
   ],
   "source": [
    "# check if the dataset is balanced\n",
    "print(\"number of laidoff people in tech:\",len(dataTech[dataTech['laid_off']==1]))\n",
    "print(\"number of non-laidoff people in tech:\",len(dataTech[dataTech['laid_off']==0]))\n",
    "print(\"number of laidoff people in finance:\",len(dataFin[dataFin['laid_off']==1]))\n",
    "print(\"number of non-laidoff people in finance:\",len(dataFin[dataFin['laid_off']==0]))\n",
    "print(\"number of laidoff people in consumer:\",len(dataCon[dataCon['laid_off']==1]))\n",
    "print(\"number of non-laidoff people in consumer:\",len(dataCon[dataCon['laid_off']==0]))\n",
    "print(\"number of laidoff people in healthcare:\",len(dataHealth[dataHealth['laid_off']==1]))\n",
    "print(\"number of non-laidoff people in healthcare:\",len(dataHealth[dataHealth['laid_off']==0]))\n",
    "print(\"number of laidoff people in transportation:\",len(dataTrans[dataTrans['laid_off']==1]))\n",
    "print(\"number of non-laidoff people in transportation:\",len(dataTrans[dataTrans['laid_off']==0]))\n"
   ]
  },
  {
   "cell_type": "code",
   "execution_count": 15,
   "metadata": {},
   "outputs": [
    {
     "data": {
      "text/plain": [
       "numpy.float64"
      ]
     },
     "execution_count": 15,
     "metadata": {},
     "output_type": "execute_result"
    }
   ],
   "source": [
    "type(data['Skillset1 Weight'][0])"
   ]
  },
  {
   "cell_type": "code",
   "execution_count": null,
   "metadata": {},
   "outputs": [],
   "source": []
  },
  {
   "cell_type": "markdown",
   "metadata": {},
   "source": [
    "## Tech"
   ]
  },
  {
   "cell_type": "code",
   "execution_count": 15,
   "metadata": {},
   "outputs": [],
   "source": [
    "# make balanced data\n",
    "not_laid_off_tech = dataTech[dataTech['laid_off'] == 0]\n",
    "laid_off_tech = dataTech[dataTech['laid_off'] == 1]\n",
    "np.random.seed(101)\n",
    "not_laid_off_tech = not_laid_off_tech.sample(n=7500) \n",
    "dataTech = pd.concat([not_laid_off_tech, laid_off_tech])"
   ]
  },
  {
   "cell_type": "code",
   "execution_count": 16,
   "metadata": {},
   "outputs": [
    {
     "name": "stdout",
     "output_type": "stream",
     "text": [
      "2510\n",
      "7500\n"
     ]
    }
   ],
   "source": [
    "print(len(dataTech[dataTech['laid_off']==1]))\n",
    "print(len(dataTech[dataTech['laid_off']==0]))"
   ]
  },
  {
   "cell_type": "code",
   "execution_count": 17,
   "metadata": {},
   "outputs": [
    {
     "name": "stdout",
     "output_type": "stream",
     "text": [
      "training data has 8008 observation with 70 features\n",
      "test data has 2002 observation with 70 features\n"
     ]
    }
   ],
   "source": [
    "from sklearn.model_selection import train_test_split\n",
    "# Reserve 20% for testing\n",
    "y = dataTech['laid_off']\n",
    "X = dataTech.drop(['Length', 'ID','Birth Year','City of profile', 'Country of profile',\n",
    "                   'Start Date','End Date','Role', 'Dept', 'Company Name',\n",
    "                   'Location','Industry','laid_off','Layoff Date', 'Employees Affected'],axis = 1)\n",
    "X_train, X_test, y_train, y_test = train_test_split(X, y, test_size=0.2,random_state=101)\n",
    "\n",
    "print('training data has %d observation with %d features'% X_train.shape)\n",
    "print('test data has %d observation with %d features'% X_test.shape)"
   ]
  },
  {
   "cell_type": "code",
   "execution_count": 18,
   "metadata": {},
   "outputs": [],
   "source": [
    "# Scale the data, using standardization\n",
    "from sklearn.preprocessing import StandardScaler\n",
    "scaler = StandardScaler()\n",
    "X_train = scaler.fit_transform(X_train)\n",
    "X_test = scaler.transform(X_test)"
   ]
  },
  {
   "cell_type": "code",
   "execution_count": 19,
   "metadata": {},
   "outputs": [
    {
     "name": "stderr",
     "output_type": "stream",
     "text": [
      "/Users/Jade/anaconda3/lib/python3.6/site-packages/sklearn/ensemble/weight_boosting.py:29: DeprecationWarning: numpy.core.umath_tests is an internal NumPy module and should not be imported. It will be removed in a future NumPy release.\n",
      "  from numpy.core.umath_tests import inner1d\n"
     ]
    },
    {
     "data": {
      "text/plain": [
       "0.8426573426573427"
      ]
     },
     "execution_count": 19,
     "metadata": {},
     "output_type": "execute_result"
    }
   ],
   "source": [
    "# Random forest to see feature importance\n",
    "from sklearn.ensemble import RandomForestClassifier\n",
    "RF = RandomForestClassifier()\n",
    "RF.fit(X_train, y_train)\n",
    "RF.score(X_test,y_test)"
   ]
  },
  {
   "cell_type": "code",
   "execution_count": 20,
   "metadata": {},
   "outputs": [
    {
     "data": {
      "text/plain": [
       "GridSearchCV(cv=5, error_score='raise',\n",
       "       estimator=RandomForestClassifier(bootstrap=True, class_weight=None, criterion='gini',\n",
       "            max_depth=None, max_features='auto', max_leaf_nodes=None,\n",
       "            min_impurity_decrease=0.0, min_impurity_split=None,\n",
       "            min_samples_leaf=1, min_samples_split=2,\n",
       "            min_weight_fraction_leaf=0.0, n_estimators=10, n_jobs=1,\n",
       "            oob_score=False, random_state=None, verbose=0,\n",
       "            warm_start=False),\n",
       "       fit_params=None, iid=True, n_jobs=1,\n",
       "       param_grid={'n_estimators': [40, 60, 80]}, pre_dispatch='2*n_jobs',\n",
       "       refit=True, return_train_score='warn', scoring=None, verbose=0)"
      ]
     },
     "execution_count": 20,
     "metadata": {},
     "output_type": "execute_result"
    }
   ],
   "source": [
    "# hypermarameter tuning for Random Forest\n",
    "from sklearn.model_selection import GridSearchCV\n",
    "parameters = {\n",
    "    'n_estimators' : [40,60,80]\n",
    "}\n",
    "Grid_RF = GridSearchCV(RandomForestClassifier(),parameters, cv=5)\n",
    "Grid_RF.fit(X_train, y_train)"
   ]
  },
  {
   "cell_type": "code",
   "execution_count": 21,
   "metadata": {},
   "outputs": [
    {
     "name": "stdout",
     "output_type": "stream",
     "text": [
      "Best score: 0.840\n",
      "Best parameters set:\n",
      "\tn_estimators: 60\n"
     ]
    }
   ],
   "source": [
    "# best number of trees\n",
    "def print_grid_search_metrics(gs):\n",
    "    print (\"Best score: %0.3f\" % gs.best_score_)\n",
    "    print (\"Best parameters set:\")\n",
    "    best_parameters = gs.best_params_\n",
    "    for param_name in sorted(parameters.keys()):\n",
    "        print(\"\\t%s: %r\" % (param_name, best_parameters[param_name]))\n",
    "\n",
    "print_grid_search_metrics(Grid_RF)"
   ]
  },
  {
   "cell_type": "code",
   "execution_count": 22,
   "metadata": {},
   "outputs": [
    {
     "name": "stdout",
     "output_type": "stream",
     "text": [
      "Feature importance ranking by Random Forest Model:\n",
      "Skillset2 Weight: 0.1983\n",
      "Skillset1 Weight: 0.1964\n",
      "Age: 0.1553\n",
      "Education: 0.0618\n",
      "Gender Flag: 0.046\n",
      "Elite Institution: 0.0242\n",
      "s1-Electrical Engineering: 0.0169\n",
      "s2-Product Management: 0.0132\n",
      "s1-Sales: 0.013\n",
      "s2-Sales: 0.0128\n",
      "s1-Software Engineering: 0.0121\n",
      "s2-Administration: 0.0118\n",
      "s2-IT Management and Support: 0.0113\n",
      "s2-Software Engineering: 0.0112\n",
      "s2-Business Development: 0.0099\n",
      "s2-Web Development: 0.0097\n",
      "s1-Finance: 0.0094\n",
      "s1-Product Management: 0.0088\n",
      "s1-Web Development: 0.0085\n",
      "s1-Administration: 0.0084\n",
      "s2-Social Media and Communications: 0.0082\n",
      "s1-Digital Marketing: 0.0081\n",
      "s2-Human Resources: 0.0077\n",
      "s1-Web Design: 0.0076\n",
      "s1-IT Management and Support: 0.0071\n",
      "s2-Digital Marketing: 0.0068\n",
      "s1-Human Resources: 0.0068\n",
      "s2-Web Design: 0.0066\n",
      "s2-Data Analysis: 0.0063\n",
      "s2-Finance: 0.0062\n",
      "s2-Operations Management: 0.006\n",
      "s2-Electrical Engineering: 0.0058\n",
      "s2-Mobile Telecommunications: 0.0055\n",
      "s1-Social Media and Communications: 0.0045\n",
      "s1-Business Development: 0.0041\n",
      "s1-Operations Management: 0.0039\n",
      "s2-Video and Film Production: 0.0037\n",
      "s2-Logistics: 0.0037\n",
      "s2-Non-Profit and Community: 0.0036\n",
      "s2-Design: 0.0036\n",
      "s1-Video and Film Production: 0.0035\n",
      "s1-Mobile Telecommunications: 0.0035\n",
      "s1-Data Analysis: 0.0033\n",
      "s1-Legal: 0.0031\n",
      "s2-Manufacturing and Process Management: 0.0029\n",
      "s1-Manufacturing and Process Management: 0.0027\n",
      "s2-Industrial Management: 0.0024\n",
      "s1-Non-Profit and Community: 0.0024\n",
      "s1-Design: 0.0022\n",
      "s1-Logistics: 0.002\n",
      "s2-Retail and Fashion: 0.0017\n",
      "s2-Legal: 0.0017\n",
      "s1-Musical Production: 0.0015\n",
      "s1-Military: 0.0015\n",
      "s2-Musical Production: 0.0014\n",
      "s2-Public Policy: 0.0012\n",
      "s1-Real Estate: 0.0012\n",
      "s1-Hospitality: 0.0012\n",
      "s2-Healthcare: 0.0011\n",
      "s1-Healthcare: 0.001\n",
      "s2-Military: 0.0009\n",
      "s2-Real Estate: 0.0007\n",
      "s1-Insurance: 0.0006\n",
      "s2-Insurance: 0.0003\n",
      "s1-Retail and Fashion: 0.0003\n",
      "s1-Public Policy: 0.0003\n",
      "s2-Hospitality: 0.0002\n",
      "s2-Energy, Oil, and Gas: 0.0002\n",
      "s1-Industrial Management: 0.0001\n",
      "s1-Energy, Oil, and Gas: 0.0001\n"
     ]
    }
   ],
   "source": [
    "# feature importance\n",
    "importances = RF.feature_importances_\n",
    "# Print the feature ranking\n",
    "print(\"Feature importance ranking by Random Forest Model:\")\n",
    "for k,v in sorted(zip(map(lambda x: round(x, 4), importances), X.columns), reverse=True):\n",
    "    print (v + \": \" + str(k))"
   ]
  },
  {
   "cell_type": "markdown",
   "metadata": {},
   "source": [
    "###  for tech industry, Age > Education> Gender Flag> Elite Institution"
   ]
  },
  {
   "cell_type": "code",
   "execution_count": 23,
   "metadata": {},
   "outputs": [
    {
     "data": {
      "text/plain": [
       "0.7522477522477522"
      ]
     },
     "execution_count": 23,
     "metadata": {},
     "output_type": "execute_result"
    }
   ],
   "source": [
    "# Lasso regression\n",
    "from sklearn.linear_model import LogisticRegression\n",
    "LR = LogisticRegression()\n",
    "LR.fit(X_train, y_train)\n",
    "LR.score(X_test, y_test)"
   ]
  },
  {
   "cell_type": "code",
   "execution_count": 24,
   "metadata": {},
   "outputs": [
    {
     "data": {
      "text/plain": [
       "GridSearchCV(cv=5, error_score='raise',\n",
       "       estimator=LogisticRegression(C=1.0, class_weight=None, dual=False, fit_intercept=True,\n",
       "          intercept_scaling=1, max_iter=100, multi_class='ovr', n_jobs=1,\n",
       "          penalty='l2', random_state=None, solver='liblinear', tol=0.0001,\n",
       "          verbose=0, warm_start=False),\n",
       "       fit_params=None, iid=True, n_jobs=1,\n",
       "       param_grid={'penalty': ('l1', 'l2'), 'C': (1, 5, 10)},\n",
       "       pre_dispatch='2*n_jobs', refit=True, return_train_score='warn',\n",
       "       scoring=None, verbose=0)"
      ]
     },
     "execution_count": 24,
     "metadata": {},
     "output_type": "execute_result"
    }
   ],
   "source": [
    "parameters = {\n",
    "    'penalty':('l1', 'l2'), \n",
    "    'C':(1, 5, 10)\n",
    "}\n",
    "Grid_LR = GridSearchCV(LogisticRegression(),parameters, cv=5)\n",
    "Grid_LR.fit(X_train, y_train)"
   ]
  },
  {
   "cell_type": "code",
   "execution_count": 25,
   "metadata": {},
   "outputs": [
    {
     "name": "stdout",
     "output_type": "stream",
     "text": [
      "Best score: 0.755\n",
      "Best parameters set:\n",
      "\tC: 1\n",
      "\tpenalty: 'l1'\n"
     ]
    }
   ],
   "source": [
    "print_grid_search_metrics(Grid_LR)"
   ]
  },
  {
   "cell_type": "code",
   "execution_count": 26,
   "metadata": {},
   "outputs": [],
   "source": [
    "best_LR_model = Grid_LR.best_estimator_"
   ]
  },
  {
   "cell_type": "code",
   "execution_count": 27,
   "metadata": {},
   "outputs": [
    {
     "name": "stdout",
     "output_type": "stream",
     "text": [
      "Logistic Regression (L1) Coefficients\n",
      "s1-Electrical Engineering: 0.2335\n",
      "Age: -0.1856\n",
      "s1-Sales: -0.183\n",
      "Skillset1 Weight: -0.1693\n",
      "Education: 0.1417\n",
      "s1-Software Engineering: 0.1191\n",
      "s1-Product Management: -0.1115\n",
      "Skillset2 Weight: -0.1031\n",
      "s1-Web Development: 0.1007\n",
      "s2-Military: -0.0907\n",
      "s2-Retail and Fashion: 0.0758\n",
      "s2-Energy, Oil, and Gas: -0.0747\n",
      "s1-Mobile Telecommunications: 0.0743\n",
      "s2-Non-Profit and Community: 0.0742\n",
      "s1-Legal: 0.0737\n",
      "s1-Operations Management: -0.0721\n",
      "s2-Data Analysis: 0.0688\n",
      "s1-Real Estate: -0.0676\n",
      "s2-Hospitality: -0.0635\n",
      "s2-Product Management: -0.0598\n",
      "s2-Web Development: 0.0537\n",
      "s2-Electrical Engineering: 0.0508\n",
      "s1-Web Design: 0.0476\n",
      "s2-Manufacturing and Process Management: 0.0466\n",
      "s2-Software Engineering: 0.0449\n",
      "s2-Digital Marketing: -0.0428\n",
      "s1-Data Analysis: 0.0407\n",
      "s1-Non-Profit and Community: -0.0397\n",
      "s1-Administration: 0.0382\n",
      "s1-Manufacturing and Process Management: 0.037\n",
      "s1-Hospitality: 0.0363\n",
      "Elite Institution: -0.036\n",
      "s2-Human Resources: 0.0356\n",
      "s2-Video and Film Production: 0.0351\n",
      "s2-Logistics: -0.0334\n",
      "s2-Healthcare: 0.0331\n",
      "s1-Healthcare: 0.0323\n",
      "s1-Insurance: 0.0321\n",
      "s1-Finance: -0.0317\n",
      "s1-Military: 0.0247\n",
      "s2-Public Policy: 0.0245\n",
      "s2-Operations Management: -0.0207\n",
      "s1-Energy, Oil, and Gas: -0.02\n",
      "s2-IT Management and Support: -0.0197\n",
      "s2-Finance: -0.0194\n",
      "s2-Musical Production: 0.0191\n",
      "s2-Insurance: 0.0184\n",
      "s2-Administration: 0.0179\n",
      "s1-Musical Production: 0.0176\n",
      "s1-Human Resources: 0.0175\n",
      "s1-Retail and Fashion: -0.0172\n",
      "s1-Industrial Management: 0.0158\n",
      "s2-Mobile Telecommunications: -0.0156\n",
      "s2-Legal: 0.0153\n",
      "Gender Flag: -0.0139\n",
      "s2-Web Design: -0.0138\n",
      "s2-Industrial Management: 0.0108\n",
      "s1-Logistics: -0.0104\n",
      "s1-Video and Film Production: -0.0102\n",
      "s2-Real Estate: -0.0101\n",
      "s1-Social Media and Communications: -0.0083\n",
      "s2-Sales: -0.0073\n",
      "s2-Design: -0.0059\n",
      "s1-Business Development: -0.0039\n",
      "s1-Public Policy: -0.0034\n",
      "s1-Design: -0.0032\n",
      "s2-Social Media and Communications: 0.0013\n",
      "s1-Digital Marketing: 0.0\n",
      "s1-IT Management and Support: 0.0\n",
      "s2-Business Development: 0.0\n"
     ]
    }
   ],
   "source": [
    "scaler = StandardScaler()\n",
    "X_l1 = scaler.fit_transform(X)\n",
    "best_LR_model.fit(X_l1, y)\n",
    "best_LR_model.coef_[0]\n",
    "print (\"Logistic Regression (L1) Coefficients\")\n",
    "for k,v in sorted(zip(map(lambda x: round(x, 4), best_LR_model.coef_[0]), \\\n",
    "                      X.columns), key=lambda k_v:(-abs(k_v[0]),k_v[1])):\n",
    "    print (v + \": \" + str(k))"
   ]
  },
  {
   "cell_type": "code",
   "execution_count": 28,
   "metadata": {},
   "outputs": [
    {
     "data": {
      "text/plain": [
       "LogisticRegression(C=1, class_weight=None, dual=False, fit_intercept=True,\n",
       "          intercept_scaling=1, max_iter=100, multi_class='ovr', n_jobs=1,\n",
       "          penalty='l1', random_state=None, solver='liblinear', tol=0.0001,\n",
       "          verbose=0, warm_start=False)"
      ]
     },
     "execution_count": 28,
     "metadata": {},
     "output_type": "execute_result"
    }
   ],
   "source": [
    "best_LR_model.fit(X_train, y_train)"
   ]
  },
  {
   "cell_type": "code",
   "execution_count": 29,
   "metadata": {},
   "outputs": [
    {
     "data": {
      "text/plain": [
       "0.7517482517482518"
      ]
     },
     "execution_count": 29,
     "metadata": {},
     "output_type": "execute_result"
    }
   ],
   "source": [
    "y_pred = best_LR_model.predict_proba(X_test)\n",
    "best_LR_model.score(X_test, y_test)"
   ]
  },
  {
   "cell_type": "code",
   "execution_count": 30,
   "metadata": {},
   "outputs": [
    {
     "name": "stdout",
     "output_type": "stream",
     "text": [
      "              precision    recall  f1-score   support\n",
      "\n",
      "non-laid_off       0.76      0.98      0.86      1500\n",
      "    laid_off       0.54      0.07      0.13       502\n",
      "\n",
      " avg / total       0.70      0.75      0.67      2002\n",
      "\n"
     ]
    }
   ],
   "source": [
    "from sklearn.metrics import classification_report\n",
    "y_true = y_test \n",
    "y_pred = best_LR_model.predict(X_test)\n",
    "target_names = ['non-laid_off', 'laid_off']\n",
    "print(classification_report(y_true, y_pred, target_names=target_names))"
   ]
  },
  {
   "cell_type": "code",
   "execution_count": 31,
   "metadata": {},
   "outputs": [
    {
     "data": {
      "image/png": "[encoded data removed]",
      "text/plain": [
       "<Figure size 432x288 with 1 Axes>"
      ]
     },
     "metadata": {},
     "output_type": "display_data"
    }
   ],
   "source": [
    "from sklearn.metrics import roc_curve,auc\n",
    "prob = best_LR_model.predict_proba(X_test)\n",
    "pred = prob[:,1]\n",
    "fpr, tpr, threshold = roc_curve(y_test, pred)\n",
    "roc_auc = auc(fpr, tpr)\n",
    "\n",
    "plt.title(\"ROC curve\")\n",
    "plt.plot(fpr,tpr,'b',label= 'AUC = %0.2f' % roc_auc)\n",
    "plt.legend(loc = 'lower right')\n",
    "plt.plot([0, 1], [0, 1],'r--')\n",
    "plt.xlim([0, 1])\n",
    "plt.ylim([0, 1])\n",
    "plt.ylabel('True Positive Rate')\n",
    "plt.xlabel('False Positive Rate')\n",
    "plt.show()"
   ]
  },
  {
   "cell_type": "code",
   "execution_count": 32,
   "metadata": {},
   "outputs": [
    {
     "data": {
      "text/plain": [
       "0.7322677322677322"
      ]
     },
     "execution_count": 32,
     "metadata": {},
     "output_type": "execute_result"
    }
   ],
   "source": [
    "# naive bayes\n",
    "from sklearn.naive_bayes import GaussianNB\n",
    "nb = GaussianNB()\n",
    "nb.fit(X_train, y_train)\n",
    "nb.score(X_test,y_test)"
   ]
  },
  {
   "cell_type": "code",
   "execution_count": 36,
   "metadata": {},
   "outputs": [
    {
     "ename": "AttributeError",
     "evalue": "'GaussianNB' object has no attribute 'coef_'",
     "output_type": "error",
     "traceback": [
      "\u001b[1;31m---------------------------------------------------------------------------\u001b[0m",
      "\u001b[1;31mAttributeError\u001b[0m                            Traceback (most recent call last)",
      "\u001b[1;32m<ipython-input-36-604b7d35a9b3>\u001b[0m in \u001b[0;36m<module>\u001b[1;34m\u001b[0m\n\u001b[0;32m      1\u001b[0m \u001b[0mnb\u001b[0m\u001b[1;33m.\u001b[0m\u001b[0mfit\u001b[0m\u001b[1;33m(\u001b[0m\u001b[0mX_l1\u001b[0m\u001b[1;33m,\u001b[0m \u001b[0my\u001b[0m\u001b[1;33m)\u001b[0m\u001b[1;33m\u001b[0m\u001b[1;33m\u001b[0m\u001b[0m\n\u001b[1;32m----> 2\u001b[1;33m \u001b[0mnb\u001b[0m\u001b[1;33m.\u001b[0m\u001b[0mcoef_\u001b[0m\u001b[1;33m[\u001b[0m\u001b[1;36m0\u001b[0m\u001b[1;33m]\u001b[0m\u001b[1;33m\u001b[0m\u001b[1;33m\u001b[0m\u001b[0m\n\u001b[0m\u001b[0;32m      3\u001b[0m \u001b[0mprint\u001b[0m \u001b[1;33m(\u001b[0m\u001b[1;34m\"Logistic Regression (L1) Coefficients\"\u001b[0m\u001b[1;33m)\u001b[0m\u001b[1;33m\u001b[0m\u001b[1;33m\u001b[0m\u001b[0m\n\u001b[0;32m      4\u001b[0m for k,v in sorted(zip(map(lambda x: round(x, 4), nb.coef_[0]), \\\n\u001b[0;32m      5\u001b[0m                       X.columns), key=lambda k_v:(-abs(k_v[0]),k_v[1])):\n",
      "\u001b[1;31mAttributeError\u001b[0m: 'GaussianNB' object has no attribute 'coef_'"
     ]
    }
   ],
   "source": [
    "nb.fit(X_l1, y)\n",
    "nb.coef_[0]\n",
    "print (\"Logistic Regression (L1) Coefficients\")\n",
    "for k,v in sorted(zip(map(lambda x: round(x, 4), nb.coef_[0]), \\\n",
    "                      X.columns), key=lambda k_v:(-abs(k_v[0]),k_v[1])):\n",
    "    print (v + \": \" + str(k))"
   ]
  },
  {
   "cell_type": "markdown",
   "metadata": {},
   "source": [
    "## Consumers"
   ]
  },
  {
   "cell_type": "code",
   "execution_count": 47,
   "metadata": {},
   "outputs": [],
   "source": [
    "not_laid_off_con = dataCon[dataCon['laid_off'] == 0]\n",
    "laid_off_con = dataCon[dataCon['laid_off'] == 1]\n",
    "np.random.seed(101)\n",
    "not_laid_off_con = not_laid_off_con.sample(n=5000) \n",
    "dataCon = pd.concat([not_laid_off_con, laid_off_con])"
   ]
  },
  {
   "cell_type": "code",
   "execution_count": 48,
   "metadata": {},
   "outputs": [
    {
     "name": "stdout",
     "output_type": "stream",
     "text": [
      "1147\n",
      "5000\n"
     ]
    }
   ],
   "source": [
    "print(len(dataCon[dataCon['laid_off']==1]))\n",
    "print(len(dataCon[dataCon['laid_off']==0]))"
   ]
  },
  {
   "cell_type": "code",
   "execution_count": 49,
   "metadata": {},
   "outputs": [
    {
     "name": "stdout",
     "output_type": "stream",
     "text": [
      "training data has 4917 observation with 71 features\n",
      "test data has 1230 observation with 71 features\n"
     ]
    }
   ],
   "source": [
    "from sklearn import model_selection\n",
    "# Reserve 20% for testing\n",
    "y1 = dataCon['laid_off']\n",
    "X1 = dataCon.drop(['Length', 'ID','Birth Year','City of profile', 'Country of profile',\n",
    "                   'Start Date','End Date','Role', 'Dept', 'Company Name',\n",
    "                   'Location','Industry','laid_off','Layoff Date'],axis = 1)\n",
    "X1_train, X1_test, y1_train, y1_test = model_selection.train_test_split(X1, y1, test_size=0.2,random_state=101)\n",
    "\n",
    "print('training data has %d observation with %d features'% X1_train.shape)\n",
    "print('test data has %d observation with %d features'% X1_test.shape)"
   ]
  },
  {
   "cell_type": "code",
   "execution_count": 50,
   "metadata": {},
   "outputs": [],
   "source": [
    "# Scale the data, using standardization\n",
    "from sklearn.preprocessing import StandardScaler\n",
    "scaler = StandardScaler()\n",
    "X1_train = scaler.fit_transform(X1_train)\n",
    "X1_test = scaler.transform(X1_test)"
   ]
  },
  {
   "cell_type": "code",
   "execution_count": 51,
   "metadata": {},
   "outputs": [
    {
     "data": {
      "text/plain": [
       "0.9121951219512195"
      ]
     },
     "execution_count": 51,
     "metadata": {},
     "output_type": "execute_result"
    }
   ],
   "source": [
    "# Random forest to see feature importance\n",
    "from sklearn.ensemble import RandomForestClassifier\n",
    "RF = RandomForestClassifier()\n",
    "RF.fit(X1_train, y1_train)\n",
    "RF.score(X1_test,y1_test)"
   ]
  },
  {
   "cell_type": "code",
   "execution_count": 52,
   "metadata": {},
   "outputs": [
    {
     "data": {
      "text/plain": [
       "GridSearchCV(cv=5, error_score='raise',\n",
       "       estimator=RandomForestClassifier(bootstrap=True, class_weight=None, criterion='gini',\n",
       "            max_depth=None, max_features='auto', max_leaf_nodes=None,\n",
       "            min_impurity_decrease=0.0, min_impurity_split=None,\n",
       "            min_samples_leaf=1, min_samples_split=2,\n",
       "            min_weight_fraction_leaf=0.0, n_estimators=10, n_jobs=1,\n",
       "            oob_score=False, random_state=None, verbose=0,\n",
       "            warm_start=False),\n",
       "       fit_params=None, iid=True, n_jobs=1,\n",
       "       param_grid={'n_estimators': [40, 60, 80]}, pre_dispatch='2*n_jobs',\n",
       "       refit=True, return_train_score='warn', scoring=None, verbose=0)"
      ]
     },
     "execution_count": 52,
     "metadata": {},
     "output_type": "execute_result"
    }
   ],
   "source": [
    "# hypermarameter tuning for Random Forest\n",
    "from sklearn.model_selection import GridSearchCV\n",
    "parameters = {\n",
    "    'n_estimators' : [40,60,80]\n",
    "}\n",
    "Grid_RF = GridSearchCV(RandomForestClassifier(),parameters, cv=5)\n",
    "Grid_RF.fit(X1_train, y1_train)"
   ]
  },
  {
   "cell_type": "code",
   "execution_count": 53,
   "metadata": {},
   "outputs": [
    {
     "name": "stdout",
     "output_type": "stream",
     "text": [
      "Best score: 0.904\n",
      "Best parameters set:\n",
      "\tn_estimators: 60\n"
     ]
    }
   ],
   "source": [
    "# best number of trees\n",
    "def print_grid_search_metrics(gs):\n",
    "    print (\"Best score: %0.3f\" % gs.best_score_)\n",
    "    print (\"Best parameters set:\")\n",
    "    best_parameters = gs.best_params_\n",
    "    for param_name in sorted(parameters.keys()):\n",
    "        print(\"\\t%s: %r\" % (param_name, best_parameters[param_name]))\n",
    "\n",
    "print_grid_search_metrics(Grid_RF)"
   ]
  },
  {
   "cell_type": "code",
   "execution_count": 54,
   "metadata": {},
   "outputs": [
    {
     "name": "stdout",
     "output_type": "stream",
     "text": [
      "Feature importance ranking by Random Forest Model:\n",
      "Skillset2 Weight: 0.1565\n",
      "Skillset1 Weight: 0.1413\n",
      "Age: 0.1287\n",
      "s1-Administration: 0.1175\n",
      "Education: 0.0536\n",
      "Gender Flag: 0.0491\n",
      "s2-Business Development: 0.0188\n",
      "s1-Business Development: 0.016\n",
      "s2-IT Management and Support: 0.0158\n",
      "s1-Data Analysis: 0.014\n",
      "s1-Sales: 0.0133\n",
      "s1-IT Management and Support: 0.0131\n",
      "s2-Sales: 0.0118\n",
      "Elite Institution: 0.0111\n",
      "s2-Data Analysis: 0.0104\n",
      "s2-Design: 0.0098\n",
      "s2-Software Engineering: 0.0084\n",
      "s2-Social Media and Communications: 0.0075\n",
      "s2-Video and Film Production: 0.0074\n",
      "s1-Manufacturing and Process Management: 0.0074\n",
      "s1-Product Management: 0.0072\n",
      "s1-Electrical Engineering: 0.0068\n",
      "s2-Public Policy: 0.0066\n",
      "s1-Digital Marketing: 0.0066\n",
      "s2-Healthcare: 0.0065\n",
      "s1-Software Engineering: 0.0063\n",
      "s1-Video and Film Production: 0.0061\n",
      "s1-Public Policy: 0.0061\n",
      "s2-Administration: 0.006\n",
      "s2-Manufacturing and Process Management: 0.0059\n",
      "s2-Electrical Engineering: 0.0059\n",
      "s1-Social Media and Communications: 0.0059\n",
      "s1-Hospitality: 0.0059\n",
      "s2-Digital Marketing: 0.0058\n",
      "s1-Healthcare: 0.0054\n",
      "s1-Mobile Telecommunications: 0.0053\n",
      "s2-Hospitality: 0.0047\n",
      "s2-Operations Management: 0.0046\n",
      "s2-Human Resources: 0.0045\n",
      "s1-Operations Management: 0.0044\n",
      "s1-Design: 0.0044\n",
      "s1-Retail and Fashion: 0.0043\n",
      "s1-Insurance: 0.0043\n",
      "s2-Logistics: 0.0038\n",
      "s1-Web Development: 0.0037\n",
      "s2-Web Development: 0.0035\n",
      "s2-Industrial Management: 0.0035\n",
      "s1-Industrial Management: 0.0035\n",
      "s1-Human Resources: 0.0031\n",
      "s1-Web Design: 0.003\n",
      "s1-Energy, Oil, and Gas: 0.0029\n",
      "s2-Mobile Telecommunications: 0.0028\n",
      "s2-Insurance: 0.0028\n",
      "s2-Non-Profit and Community: 0.0024\n",
      "s2-Energy, Oil, and Gas: 0.0024\n",
      "s2-Product Management: 0.0023\n",
      "s1-Real Estate: 0.0021\n",
      "s1-Non-Profit and Community: 0.0021\n",
      "s1-Finance: 0.0015\n",
      "s2-Legal: 0.0014\n",
      "s2-Military: 0.0013\n",
      "s2-Retail and Fashion: 0.0011\n",
      "s2-Web Design: 0.001\n",
      "s2-Real Estate: 0.0009\n",
      "s1-Logistics: 0.0007\n",
      "s2-Finance: 0.0005\n",
      "s1-Legal: 0.0005\n",
      "s2-Musical Production: 0.0004\n",
      "s1-Musical Production: 0.0\n",
      "s1-Military: 0.0\n"
     ]
    }
   ],
   "source": [
    "# feature importance\n",
    "importances = RF.feature_importances_\n",
    "# Print the feature ranking\n",
    "print(\"Feature importance ranking by Random Forest Model:\")\n",
    "for k,v in sorted(zip(map(lambda x: round(x, 4), importances), X.columns), reverse=True):\n",
    "    print (v + \": \" + str(k))"
   ]
  },
  {
   "cell_type": "markdown",
   "metadata": {},
   "source": [
    "### For Consumer Products industry, Age > s1-Administration >Education> Gender"
   ]
  },
  {
   "cell_type": "code",
   "execution_count": 56,
   "metadata": {},
   "outputs": [
    {
     "data": {
      "text/plain": [
       "0.8414634146341463"
      ]
     },
     "execution_count": 56,
     "metadata": {},
     "output_type": "execute_result"
    }
   ],
   "source": [
    "# Lasso regression\n",
    "from sklearn.linear_model import LogisticRegression\n",
    "LR = LogisticRegression()\n",
    "LR.fit(X1_train, y1_train)\n",
    "LR.score(X1_test, y1_test)"
   ]
  },
  {
   "cell_type": "code",
   "execution_count": 57,
   "metadata": {},
   "outputs": [
    {
     "data": {
      "text/plain": [
       "GridSearchCV(cv=5, error_score='raise',\n",
       "       estimator=LogisticRegression(C=1.0, class_weight=None, dual=False, fit_intercept=True,\n",
       "          intercept_scaling=1, max_iter=100, multi_class='ovr', n_jobs=1,\n",
       "          penalty='l2', random_state=None, solver='liblinear', tol=0.0001,\n",
       "          verbose=0, warm_start=False),\n",
       "       fit_params=None, iid=True, n_jobs=1,\n",
       "       param_grid={'penalty': ('l1', 'l2'), 'C': (1, 5, 10)},\n",
       "       pre_dispatch='2*n_jobs', refit=True, return_train_score='warn',\n",
       "       scoring=None, verbose=0)"
      ]
     },
     "execution_count": 57,
     "metadata": {},
     "output_type": "execute_result"
    }
   ],
   "source": [
    "# hyperparameter tuning\n",
    "parameters = {\n",
    "    'penalty':('l1', 'l2'), \n",
    "    'C':(1, 5, 10)\n",
    "}\n",
    "Grid_LR = GridSearchCV(LogisticRegression(),parameters, cv=5)\n",
    "Grid_LR.fit(X1_train, y1_train)"
   ]
  },
  {
   "cell_type": "code",
   "execution_count": 58,
   "metadata": {},
   "outputs": [
    {
     "name": "stdout",
     "output_type": "stream",
     "text": [
      "Best score: 0.810\n",
      "Best parameters set:\n",
      "\tC: 1\n",
      "\tpenalty: 'l1'\n"
     ]
    }
   ],
   "source": [
    "print_grid_search_metrics(Grid_LR)"
   ]
  },
  {
   "cell_type": "code",
   "execution_count": 59,
   "metadata": {},
   "outputs": [
    {
     "data": {
      "text/plain": [
       "LogisticRegression(C=1, class_weight=None, dual=False, fit_intercept=True,\n",
       "          intercept_scaling=1, max_iter=100, multi_class='ovr', n_jobs=1,\n",
       "          penalty='l1', random_state=None, solver='liblinear', tol=0.0001,\n",
       "          verbose=0, warm_start=False)"
      ]
     },
     "execution_count": 59,
     "metadata": {},
     "output_type": "execute_result"
    }
   ],
   "source": [
    "best_LR_model.fit(X1_train, y1_train)"
   ]
  },
  {
   "cell_type": "code",
   "execution_count": 60,
   "metadata": {},
   "outputs": [
    {
     "name": "stdout",
     "output_type": "stream",
     "text": [
      "Logistic Regression (L1) Coefficients\n",
      "s1-Administration: -0.2973\n",
      "s1-Product Management: 0.215\n",
      "s1-Industrial Management: -0.1824\n",
      "s1-Business Development: 0.1557\n",
      "Education: 0.1375\n",
      "s2-Logistics: 0.1311\n",
      "s1-Electrical Engineering: 0.1292\n",
      "s2-Military: -0.1271\n",
      "Gender Flag: -0.1214\n",
      "Skillset2 Weight: 0.1159\n",
      "s1-Energy, Oil, and Gas: 0.1159\n",
      "s2-Business Development: 0.108\n",
      "s2-Energy, Oil, and Gas: 0.106\n",
      "s2-Operations Management: -0.1048\n",
      "s1-Public Policy: 0.1035\n",
      "s2-Data Analysis: -0.1024\n",
      "s2-Industrial Management: -0.1016\n",
      "s1-Video and Film Production: 0.0987\n",
      "s1-Healthcare: -0.0986\n",
      "s2-Retail and Fashion: -0.0976\n",
      "s2-Hospitality: 0.0934\n",
      "s2-Healthcare: 0.0923\n",
      "s2-Manufacturing and Process Management: 0.087\n",
      "s2-Software Engineering: -0.0846\n",
      "s1-Web Development: -0.0808\n",
      "s1-Design: 0.0778\n",
      "s2-Administration: -0.0706\n",
      "s1-Finance: 0.067\n",
      "s1-Legal: -0.0609\n",
      "s2-Social Media and Communications: -0.0603\n",
      "s1-Web Design: -0.0594\n",
      "s2-Product Management: -0.0578\n",
      "Skillset1 Weight: -0.0556\n",
      "s2-Video and Film Production: 0.0556\n",
      "Elite Institution: 0.055\n",
      "s1-Mobile Telecommunications: -0.0545\n",
      "s2-Web Design: -0.0537\n",
      "s2-Real Estate: 0.0532\n",
      "s2-Design: 0.0528\n",
      "s1-Social Media and Communications: -0.0512\n",
      "s1-Operations Management: 0.0493\n",
      "s2-Finance: 0.0491\n",
      "s2-Human Resources: 0.0468\n",
      "s1-Retail and Fashion: 0.0447\n",
      "s1-Software Engineering: 0.0433\n",
      "s1-Logistics: 0.04\n",
      "s1-Military: -0.0393\n",
      "s1-Non-Profit and Community: -0.0367\n",
      "s2-Non-Profit and Community: 0.0366\n",
      "s1-Sales: -0.0364\n",
      "s2-Sales: -0.0349\n",
      "s1-Real Estate: 0.0334\n",
      "s1-Insurance: 0.028\n",
      "s2-Public Policy: 0.0273\n",
      "s2-Musical Production: -0.0261\n",
      "s2-IT Management and Support: 0.0235\n",
      "s1-Manufacturing and Process Management: 0.023\n",
      "s1-Musical Production: -0.0213\n",
      "s2-Insurance: 0.0187\n",
      "s1-Human Resources: -0.0164\n",
      "s2-Digital Marketing: -0.0141\n",
      "Age: 0.0122\n",
      "s1-IT Management and Support: -0.0106\n",
      "s1-Hospitality: 0.0043\n",
      "s1-Digital Marketing: 0.0013\n",
      "s2-Legal: -0.0013\n",
      "s1-Data Analysis: 0.0\n",
      "s2-Electrical Engineering: 0.0\n",
      "s2-Mobile Telecommunications: 0.0\n",
      "s2-Web Development: 0.0\n"
     ]
    }
   ],
   "source": [
    "scaler = StandardScaler()\n",
    "X_l2 = scaler.fit_transform(X1)\n",
    "best_LR_model.fit(X_l2, y1)\n",
    "best_LR_model.coef_[0]\n",
    "print (\"Logistic Regression (L1) Coefficients\")\n",
    "for k,v in sorted(zip(map(lambda x: round(x, 4), best_LR_model.coef_[0]), \\\n",
    "                      X.columns), key=lambda k_v:(-abs(k_v[0]),k_v[1])):\n",
    "    print (v + \": \" + str(k))"
   ]
  },
  {
   "cell_type": "code",
   "execution_count": 61,
   "metadata": {},
   "outputs": [
    {
     "data": {
      "text/plain": [
       "0.8390243902439024"
      ]
     },
     "execution_count": 61,
     "metadata": {},
     "output_type": "execute_result"
    }
   ],
   "source": [
    "y_pred = best_LR_model.predict_proba(X1_test)\n",
    "best_LR_model.score(X1_test, y1_test)"
   ]
  },
  {
   "cell_type": "code",
   "execution_count": 62,
   "metadata": {},
   "outputs": [
    {
     "name": "stdout",
     "output_type": "stream",
     "text": [
      "              precision    recall  f1-score   support\n",
      "\n",
      "non-laid_off       0.85      0.98      0.91      1028\n",
      "    laid_off       0.56      0.10      0.17       202\n",
      "\n",
      " avg / total       0.80      0.84      0.79      1230\n",
      "\n"
     ]
    }
   ],
   "source": [
    "from sklearn.metrics import classification_report\n",
    "y1_true = y1_test \n",
    "y1_pred = best_LR_model.predict(X1_test)\n",
    "target_names = ['non-laid_off', 'laid_off']\n",
    "print(classification_report(y1_true, y1_pred, target_names=target_names))"
   ]
  },
  {
   "cell_type": "code",
   "execution_count": 63,
   "metadata": {},
   "outputs": [
    {
     "data": {
      "image/png": "[encoded data removed]",
      "text/plain": [
       "<Figure size 432x288 with 1 Axes>"
      ]
     },
     "metadata": {},
     "output_type": "display_data"
    }
   ],
   "source": [
    "from sklearn.metrics import roc_curve,auc\n",
    "prob = best_LR_model.predict_proba(X1_test)\n",
    "pred = prob[:,1]\n",
    "fpr, tpr, threshold = roc_curve(y1_test, pred)\n",
    "roc_auc = auc(fpr, tpr)\n",
    "\n",
    "plt.title(\"ROC curve\")\n",
    "plt.plot(fpr,tpr,'b',label= 'AUC = %0.2f' % roc_auc)\n",
    "plt.legend(loc = 'lower right')\n",
    "plt.plot([0, 1], [0, 1],'r--')\n",
    "plt.xlim([0, 1])\n",
    "plt.ylim([0, 1])\n",
    "plt.ylabel('True Positive Rate')\n",
    "plt.xlabel('False Positive Rate')\n",
    "plt.show()"
   ]
  },
  {
   "cell_type": "markdown",
   "metadata": {},
   "source": [
    "### Healthcare"
   ]
  },
  {
   "cell_type": "code",
   "execution_count": 64,
   "metadata": {},
   "outputs": [],
   "source": [
    "not_laid_off_Health = dataHealth[dataHealth['laid_off'] == 0]\n",
    "laid_off_Health = dataHealth[dataHealth['laid_off'] == 1]\n",
    "np.random.seed(101)\n",
    "not_laid_off_Health = not_laid_off_Health.sample(n=700) \n",
    "dataHealth = pd.concat([not_laid_off_Health, laid_off_Health])"
   ]
  },
  {
   "cell_type": "code",
   "execution_count": 65,
   "metadata": {},
   "outputs": [
    {
     "name": "stdout",
     "output_type": "stream",
     "text": [
      "328\n",
      "700\n"
     ]
    }
   ],
   "source": [
    "print(len(dataHealth[dataHealth['laid_off']==1]))\n",
    "print(len(dataHealth[dataHealth['laid_off']==0]))"
   ]
  },
  {
   "cell_type": "code",
   "execution_count": 66,
   "metadata": {},
   "outputs": [
    {
     "name": "stdout",
     "output_type": "stream",
     "text": [
      "training data has 8008 observation with 70 features\n",
      "test data has 2002 observation with 70 features\n"
     ]
    }
   ],
   "source": [
    "from sklearn import model_selection\n",
    "y2 = dataHealth['laid_off']\n",
    "X2 = dataHealth.drop(['Length', 'ID','Birth Year','City of profile', 'Country of profile',\n",
    "                   'Start Date','End Date','Role', 'Dept', 'Company Name',\n",
    "                   'Location','Industry','laid_off','Layoff Date', 'Employees Affected'],axis = 1)\n",
    "X2_train, X2_test, y2_train, y2_test = model_selection.train_test_split(X2, y2, test_size=0.2,random_state=101)\n",
    "\n",
    "print('training data has %d observation with %d features'% X_train.shape)\n",
    "print('test data has %d observation with %d features'% X_test.shape)"
   ]
  },
  {
   "cell_type": "code",
   "execution_count": 67,
   "metadata": {},
   "outputs": [],
   "source": [
    "from sklearn.preprocessing import StandardScaler\n",
    "scaler = StandardScaler()\n",
    "X2_train = scaler.fit_transform(X2_train)\n",
    "X2_test = scaler.transform(X2_test)"
   ]
  },
  {
   "cell_type": "code",
   "execution_count": 68,
   "metadata": {},
   "outputs": [
    {
     "data": {
      "text/plain": [
       "0.6893203883495146"
      ]
     },
     "execution_count": 68,
     "metadata": {},
     "output_type": "execute_result"
    }
   ],
   "source": [
    "from sklearn.ensemble import RandomForestClassifier\n",
    "RF = RandomForestClassifier()\n",
    "RF.fit(X2_train, y2_train)\n",
    "RF.score(X2_test,y2_test)"
   ]
  },
  {
   "cell_type": "code",
   "execution_count": 69,
   "metadata": {},
   "outputs": [
    {
     "data": {
      "text/plain": [
       "GridSearchCV(cv=5, error_score='raise',\n",
       "       estimator=RandomForestClassifier(bootstrap=True, class_weight=None, criterion='gini',\n",
       "            max_depth=None, max_features='auto', max_leaf_nodes=None,\n",
       "            min_impurity_decrease=0.0, min_impurity_split=None,\n",
       "            min_samples_leaf=1, min_samples_split=2,\n",
       "            min_weight_fraction_leaf=0.0, n_estimators=10, n_jobs=1,\n",
       "            oob_score=False, random_state=None, verbose=0,\n",
       "            warm_start=False),\n",
       "       fit_params=None, iid=True, n_jobs=1,\n",
       "       param_grid={'n_estimators': [40, 60, 80]}, pre_dispatch='2*n_jobs',\n",
       "       refit=True, return_train_score='warn', scoring=None, verbose=0)"
      ]
     },
     "execution_count": 69,
     "metadata": {},
     "output_type": "execute_result"
    }
   ],
   "source": [
    "from sklearn.model_selection import GridSearchCV\n",
    "parameters = {\n",
    "    'n_estimators' : [40,60,80]\n",
    "}\n",
    "Grid_RF = GridSearchCV(RandomForestClassifier(),parameters, cv=5)\n",
    "Grid_RF.fit(X2_train, y2_train)\n",
    "\n"
   ]
  },
  {
   "cell_type": "code",
   "execution_count": 70,
   "metadata": {},
   "outputs": [
    {
     "name": "stdout",
     "output_type": "stream",
     "text": [
      "Best score: 0.663\n",
      "Best parameters set:\n",
      "\tn_estimators: 60\n"
     ]
    }
   ],
   "source": [
    "print_grid_search_metrics(Grid_RF)"
   ]
  },
  {
   "cell_type": "code",
   "execution_count": 71,
   "metadata": {},
   "outputs": [
    {
     "name": "stdout",
     "output_type": "stream",
     "text": [
      "Feature importance ranking by Random Forest Model:\n",
      "Skillset2 Weight: 0.1712\n",
      "Skillset1 Weight: 0.1631\n",
      "Age: 0.1574\n",
      "Education: 0.0708\n",
      "Gender Flag: 0.0506\n",
      "Elite Institution: 0.032\n",
      "s1-Healthcare: 0.0195\n",
      "s2-Healthcare: 0.017\n",
      "s2-Sales: 0.016\n",
      "s1-Software Engineering: 0.014\n",
      "s2-Human Resources: 0.0134\n",
      "s2-Manufacturing and Process Management: 0.0124\n",
      "s2-Business Development: 0.0117\n",
      "s2-Industrial Management: 0.0115\n",
      "s2-Finance: 0.0113\n",
      "s2-Electrical Engineering: 0.0112\n",
      "s1-Business Development: 0.0112\n",
      "s2-Administration: 0.0111\n",
      "s2-Web Development: 0.0107\n",
      "s1-Human Resources: 0.0102\n",
      "s1-Legal: 0.0094\n",
      "s1-Finance: 0.0092\n",
      "s1-Manufacturing and Process Management: 0.0088\n",
      "s1-Product Management: 0.0087\n",
      "s1-Administration: 0.0083\n",
      "s2-Design: 0.008\n",
      "s2-Data Analysis: 0.0077\n",
      "s1-Logistics: 0.0072\n",
      "s2-Product Management: 0.0071\n",
      "s1-Data Analysis: 0.0064\n",
      "s1-Operations Management: 0.006\n",
      "s1-Sales: 0.0058\n",
      "s2-Digital Marketing: 0.0051\n",
      "s2-IT Management and Support: 0.0047\n",
      "s1-IT Management and Support: 0.0047\n",
      "s1-Electrical Engineering: 0.0047\n",
      "s2-Non-Profit and Community: 0.0043\n",
      "s2-Software Engineering: 0.0039\n",
      "s2-Hospitality: 0.0039\n",
      "s2-Mobile Telecommunications: 0.0038\n",
      "s2-Web Design: 0.0033\n",
      "s1-Digital Marketing: 0.0033\n",
      "s1-Web Design: 0.0032\n",
      "s2-Operations Management: 0.0028\n",
      "s2-Energy, Oil, and Gas: 0.0028\n",
      "s2-Social Media and Communications: 0.0027\n",
      "s1-Hospitality: 0.0027\n",
      "s1-Social Media and Communications: 0.0024\n",
      "s1-Industrial Management: 0.0023\n",
      "s1-Web Development: 0.0022\n",
      "s2-Logistics: 0.002\n",
      "s2-Retail and Fashion: 0.0016\n",
      "s1-Real Estate: 0.0016\n",
      "s2-Insurance: 0.0013\n",
      "s1-Military: 0.0013\n",
      "s2-Musical Production: 0.0012\n",
      "s1-Retail and Fashion: 0.0012\n",
      "s1-Musical Production: 0.0012\n",
      "s2-Legal: 0.0011\n",
      "s1-Design: 0.0011\n",
      "s1-Mobile Telecommunications: 0.001\n",
      "s2-Public Policy: 0.0008\n",
      "s2-Video and Film Production: 0.0007\n",
      "s1-Video and Film Production: 0.0007\n",
      "s1-Non-Profit and Community: 0.0007\n",
      "s2-Military: 0.0006\n",
      "s2-Real Estate: 0.0\n",
      "s1-Public Policy: 0.0\n",
      "s1-Insurance: 0.0\n",
      "s1-Energy, Oil, and Gas: 0.0\n"
     ]
    }
   ],
   "source": [
    "importances = RF.feature_importances_\n",
    "# Print the feature ranking\n",
    "print(\"Feature importance ranking by Random Forest Model:\")\n",
    "for k,v in sorted(zip(map(lambda x: round(x, 4), importances), X.columns), reverse=True):\n",
    "    print (v + \": \" + str(k))"
   ]
  },
  {
   "cell_type": "markdown",
   "metadata": {},
   "source": [
    "### for healthcare industry, Age >Education>Gender >Elite Institution"
   ]
  },
  {
   "cell_type": "code",
   "execution_count": 72,
   "metadata": {},
   "outputs": [
    {
     "data": {
      "text/plain": [
       "GridSearchCV(cv=5, error_score='raise',\n",
       "       estimator=LogisticRegression(C=1.0, class_weight=None, dual=False, fit_intercept=True,\n",
       "          intercept_scaling=1, max_iter=100, multi_class='ovr', n_jobs=1,\n",
       "          penalty='l2', random_state=None, solver='liblinear', tol=0.0001,\n",
       "          verbose=0, warm_start=False),\n",
       "       fit_params=None, iid=True, n_jobs=1,\n",
       "       param_grid={'penalty': ('l1', 'l2'), 'C': (1, 5, 10)},\n",
       "       pre_dispatch='2*n_jobs', refit=True, return_train_score='warn',\n",
       "       scoring=None, verbose=0)"
      ]
     },
     "execution_count": 72,
     "metadata": {},
     "output_type": "execute_result"
    }
   ],
   "source": [
    "from sklearn.linear_model import LogisticRegression\n",
    "LR = LogisticRegression()\n",
    "LR.fit(X2_train, y2_train)\n",
    "LR.score(X2_test, y2_test)\n",
    "\n",
    "parameters = {\n",
    "    'penalty':('l1', 'l2'), \n",
    "    'C':(1, 5, 10)\n",
    "}\n",
    "Grid_LR = GridSearchCV(LogisticRegression(),parameters, cv=5)\n",
    "Grid_LR.fit(X2_train, y2_train)"
   ]
  },
  {
   "cell_type": "code",
   "execution_count": 73,
   "metadata": {},
   "outputs": [
    {
     "name": "stdout",
     "output_type": "stream",
     "text": [
      "Logistic Regression (L1) Coefficients\n",
      "Age: -0.4147\n",
      "s2-Web Development: 0.306\n",
      "Education: 0.2791\n",
      "s1-Public Policy: -0.2154\n",
      "s1-Software Engineering: 0.2076\n",
      "s2-Electrical Engineering: 0.1883\n",
      "s1-Non-Profit and Community: -0.1719\n",
      "s1-Healthcare: -0.1669\n",
      "s1-Finance: 0.1625\n",
      "s1-Military: -0.1621\n",
      "s2-Administration: 0.159\n",
      "s2-Musical Production: -0.1506\n",
      "s2-Energy, Oil, and Gas: 0.1345\n",
      "s1-Digital Marketing: -0.1233\n",
      "s2-Web Design: 0.1201\n",
      "s1-Mobile Telecommunications: -0.1194\n",
      "s1-Retail and Fashion: -0.1194\n",
      "s1-Logistics: 0.1178\n",
      "s2-Legal: 0.1175\n",
      "s2-Public Policy: -0.1141\n",
      "s2-Industrial Management: -0.1025\n",
      "s2-Insurance: 0.1007\n",
      "Elite Institution: -0.0965\n",
      "s2-Software Engineering: 0.0949\n",
      "s1-Administration: 0.094\n",
      "s1-Legal: 0.0907\n",
      "Skillset2 Weight: -0.0865\n",
      "s2-Design: 0.084\n",
      "s2-Sales: -0.0672\n",
      "s1-Musical Production: 0.0666\n",
      "s2-Non-Profit and Community: -0.0659\n",
      "s1-Social Media and Communications: -0.0654\n",
      "s1-Data Analysis: 0.0636\n",
      "s2-Logistics: -0.0632\n",
      "s2-Military: -0.0566\n",
      "s1-IT Management and Support: -0.0546\n",
      "s1-Video and Film Production: 0.0509\n",
      "s2-IT Management and Support: 0.0473\n",
      "s1-Web Development: 0.0462\n",
      "s1-Design: -0.0428\n",
      "s1-Web Design: 0.0413\n",
      "s2-Operations Management: 0.0401\n",
      "s1-Hospitality: 0.0395\n",
      "s2-Mobile Telecommunications: 0.0366\n",
      "s1-Manufacturing and Process Management: 0.0286\n",
      "s2-Video and Film Production: 0.028\n",
      "s2-Finance: 0.0259\n",
      "s2-Data Analysis: -0.0233\n",
      "s1-Human Resources: -0.021\n",
      "s1-Sales: -0.021\n",
      "s2-Retail and Fashion: 0.0155\n",
      "s1-Operations Management: 0.0143\n",
      "s2-Social Media and Communications: -0.014\n",
      "s2-Hospitality: 0.0133\n",
      "s1-Real Estate: 0.013\n",
      "s2-Human Resources: -0.0128\n",
      "s1-Electrical Engineering: -0.0117\n",
      "Gender Flag: 0.0116\n",
      "Skillset1 Weight: -0.0106\n",
      "s2-Healthcare: -0.0091\n",
      "s2-Manufacturing and Process Management: 0.008\n",
      "s2-Business Development: -0.003\n",
      "s1-Industrial Management: 0.0026\n",
      "s1-Business Development: 0.0\n",
      "s1-Energy, Oil, and Gas: 0.0\n",
      "s1-Insurance: 0.0\n",
      "s1-Product Management: 0.0\n",
      "s2-Digital Marketing: 0.0\n",
      "s2-Product Management: 0.0\n",
      "s2-Real Estate: 0.0\n"
     ]
    }
   ],
   "source": [
    "best_LR_model.fit(X2_train, y2_train)\n",
    "\n",
    "scaler = StandardScaler()\n",
    "X_l2 = scaler.fit_transform(X2)\n",
    "best_LR_model.fit(X_l2, y2)\n",
    "best_LR_model.coef_[0]\n",
    "print (\"Logistic Regression (L1) Coefficients\")\n",
    "for k,v in sorted(zip(map(lambda x: round(x, 4), best_LR_model.coef_[0]), \\\n",
    "                      X2.columns), key=lambda k_v:(-abs(k_v[0]),k_v[1])):\n",
    "    print (v + \": \" + str(k))"
   ]
  },
  {
   "cell_type": "markdown",
   "metadata": {},
   "source": [
    "### Finance"
   ]
  },
  {
   "cell_type": "code",
   "execution_count": 74,
   "metadata": {},
   "outputs": [],
   "source": [
    "not_laid_off_Fin = dataFin[dataFin['laid_off'] == 0]\n",
    "laid_off_Fin = dataFin[dataFin['laid_off'] == 1]\n",
    "np.random.seed(101)\n",
    "not_laid_off_Fin = not_laid_off_Fin.sample(n=700) \n",
    "dataFin = pd.concat([not_laid_off_Fin, laid_off_Fin])"
   ]
  },
  {
   "cell_type": "code",
   "execution_count": 75,
   "metadata": {},
   "outputs": [
    {
     "name": "stdout",
     "output_type": "stream",
     "text": [
      "training data has 862 observation with 70 features\n",
      "test data has 216 observation with 70 features\n"
     ]
    }
   ],
   "source": [
    "from sklearn.model_selection import train_test_split\n",
    "# Reserve 20% for testing\n",
    "y3 = dataFin['laid_off']\n",
    "X3 = dataFin.drop(['Length', 'ID','Birth Year','City of profile', 'Country of profile',\n",
    "                   'Start Date','End Date','Role', 'Dept', 'Company Name',\n",
    "                   'Location','Industry','laid_off','Layoff Date', 'Employees Affected'],axis = 1)\n",
    "X3_train, X3_test, y3_train, y3_test = train_test_split(X3, y3, test_size=0.2,random_state=101)\n",
    "\n",
    "print('training data has %d observation with %d features'% X3_train.shape)\n",
    "print('test data has %d observation with %d features'% X3_test.shape)"
   ]
  },
  {
   "cell_type": "code",
   "execution_count": 76,
   "metadata": {},
   "outputs": [],
   "source": [
    "from sklearn.preprocessing import StandardScaler\n",
    "scaler = StandardScaler()\n",
    "X3_train = scaler.fit_transform(X3_train)\n",
    "X3_test = scaler.transform(X3_test)"
   ]
  },
  {
   "cell_type": "code",
   "execution_count": 77,
   "metadata": {},
   "outputs": [
    {
     "data": {
      "text/plain": [
       "0.6481481481481481"
      ]
     },
     "execution_count": 77,
     "metadata": {},
     "output_type": "execute_result"
    }
   ],
   "source": [
    "from sklearn.ensemble import RandomForestClassifier\n",
    "RF = RandomForestClassifier()\n",
    "RF.fit(X3_train, y3_train)\n",
    "RF.score(X3_test,y3_test)"
   ]
  },
  {
   "cell_type": "code",
   "execution_count": 78,
   "metadata": {},
   "outputs": [
    {
     "data": {
      "text/plain": [
       "GridSearchCV(cv=5, error_score='raise',\n",
       "       estimator=RandomForestClassifier(bootstrap=True, class_weight=None, criterion='gini',\n",
       "            max_depth=None, max_features='auto', max_leaf_nodes=None,\n",
       "            min_impurity_decrease=0.0, min_impurity_split=None,\n",
       "            min_samples_leaf=1, min_samples_split=2,\n",
       "            min_weight_fraction_leaf=0.0, n_estimators=10, n_jobs=1,\n",
       "            oob_score=False, random_state=None, verbose=0,\n",
       "            warm_start=False),\n",
       "       fit_params=None, iid=True, n_jobs=1,\n",
       "       param_grid={'n_estimators': [40, 60, 80]}, pre_dispatch='2*n_jobs',\n",
       "       refit=True, return_train_score='warn', scoring=None, verbose=0)"
      ]
     },
     "execution_count": 78,
     "metadata": {},
     "output_type": "execute_result"
    }
   ],
   "source": [
    "from sklearn.model_selection import GridSearchCV\n",
    "parameters = {\n",
    "    'n_estimators' : [40,60,80]\n",
    "}\n",
    "Grid_RF = GridSearchCV(RandomForestClassifier(),parameters, cv=5)\n",
    "Grid_RF.fit(X3_train, y3_train)"
   ]
  },
  {
   "cell_type": "code",
   "execution_count": 79,
   "metadata": {},
   "outputs": [
    {
     "name": "stdout",
     "output_type": "stream",
     "text": [
      "Feature importance ranking by Random Forest Model:\n",
      "Skillset1 Weight: 0.1895\n",
      "Skillset2 Weight: 0.1747\n",
      "Age: 0.1567\n",
      "Education: 0.0716\n",
      "Gender Flag: 0.0397\n",
      "s1-Finance: 0.0223\n",
      "Elite Institution: 0.0201\n",
      "s2-Sales: 0.0168\n",
      "s2-Administration: 0.0161\n",
      "s1-Administration: 0.0144\n",
      "s2-Business Development: 0.0143\n",
      "s2-Finance: 0.0141\n",
      "s2-Product Management: 0.0131\n",
      "s1-Product Management: 0.0121\n",
      "s1-Human Resources: 0.0114\n",
      "s2-Data Analysis: 0.0111\n",
      "s1-Operations Management: 0.0103\n",
      "s2-Real Estate: 0.0099\n",
      "s2-Human Resources: 0.0095\n",
      "s2-Software Engineering: 0.0093\n",
      "s1-Data Analysis: 0.009\n",
      "s2-Retail and Fashion: 0.0085\n",
      "s1-Sales: 0.0085\n",
      "s1-Software Engineering: 0.0077\n",
      "s1-Retail and Fashion: 0.0077\n",
      "s1-Digital Marketing: 0.0073\n",
      "s2-Web Development: 0.0069\n",
      "s1-Real Estate: 0.0067\n",
      "s2-Digital Marketing: 0.0065\n",
      "s2-Insurance: 0.0063\n",
      "s1-Business Development: 0.0057\n",
      "s1-Non-Profit and Community: 0.0056\n",
      "s2-Video and Film Production: 0.0044\n",
      "s2-Design: 0.0044\n",
      "s2-Social Media and Communications: 0.0043\n",
      "s1-Web Design: 0.0042\n",
      "s2-Logistics: 0.0038\n",
      "s1-Legal: 0.0037\n",
      "s2-Web Design: 0.0035\n",
      "s1-Web Development: 0.0034\n",
      "s1-Hospitality: 0.0033\n",
      "s2-IT Management and Support: 0.0031\n",
      "s1-Industrial Management: 0.0031\n",
      "s1-IT Management and Support: 0.003\n",
      "s2-Operations Management: 0.0029\n",
      "s2-Non-Profit and Community: 0.0026\n",
      "s1-Insurance: 0.0025\n",
      "s1-Healthcare: 0.0025\n",
      "s2-Mobile Telecommunications: 0.0024\n",
      "s2-Industrial Management: 0.0024\n",
      "s2-Healthcare: 0.0023\n",
      "s1-Social Media and Communications: 0.0019\n",
      "s1-Military: 0.0018\n",
      "s1-Logistics: 0.0015\n",
      "s2-Hospitality: 0.0014\n",
      "s1-Video and Film Production: 0.0014\n",
      "s2-Military: 0.0013\n",
      "s2-Manufacturing and Process Management: 0.0013\n",
      "s2-Electrical Engineering: 0.0011\n",
      "s1-Design: 0.001\n",
      "s1-Musical Production: 0.0009\n",
      "s1-Mobile Telecommunications: 0.0009\n",
      "s2-Public Policy: 0.0001\n",
      "s2-Legal: 0.0001\n",
      "s2-Musical Production: 0.0\n",
      "s2-Energy, Oil, and Gas: 0.0\n",
      "s1-Public Policy: 0.0\n",
      "s1-Manufacturing and Process Management: 0.0\n",
      "s1-Energy, Oil, and Gas: 0.0\n",
      "s1-Electrical Engineering: 0.0\n"
     ]
    }
   ],
   "source": [
    "importances = RF.feature_importances_\n",
    "# Print the feature ranking\n",
    "print(\"Feature importance ranking by Random Forest Model:\")\n",
    "for k,v in sorted(zip(map(lambda x: round(x, 4), importances), X3.columns), reverse=True):\n",
    "    print (v + \": \" + str(k))"
   ]
  },
  {
   "cell_type": "markdown",
   "metadata": {},
   "source": [
    "### for finance industry, Age > Education>Gender Flag> s1-Finance> Elite Institution"
   ]
  },
  {
   "cell_type": "code",
   "execution_count": 80,
   "metadata": {},
   "outputs": [
    {
     "data": {
      "text/plain": [
       "0.6574074074074074"
      ]
     },
     "execution_count": 80,
     "metadata": {},
     "output_type": "execute_result"
    }
   ],
   "source": [
    "from sklearn.linear_model import LogisticRegression\n",
    "LR = LogisticRegression()\n",
    "LR.fit(X3_train, y3_train)\n",
    "LR.score(X3_test, y3_test)"
   ]
  },
  {
   "cell_type": "code",
   "execution_count": 81,
   "metadata": {},
   "outputs": [
    {
     "name": "stdout",
     "output_type": "stream",
     "text": [
      "Logistic Regression (L1) Coefficients\n",
      "Age: -0.3925\n",
      "s1-Human Resources: -0.1948\n",
      "s1-Military: 0.1908\n",
      "s1-Mobile Telecommunications: -0.181\n",
      "s1-Real Estate: -0.1808\n",
      "s2-Retail and Fashion: 0.1649\n",
      "s1-Logistics: -0.1608\n",
      "s2-Legal: -0.1522\n",
      "Skillset1 Weight: -0.1479\n",
      "s1-Non-Profit and Community: -0.1461\n",
      "s2-Insurance: -0.1443\n",
      "s1-Digital Marketing: -0.1359\n",
      "s1-Musical Production: 0.1342\n",
      "Education: 0.1338\n",
      "s1-Retail and Fashion: 0.1249\n",
      "s2-Musical Production: -0.1029\n",
      "s2-Sales: -0.1006\n",
      "Skillset2 Weight: -0.0934\n",
      "s1-Healthcare: -0.0912\n",
      "s2-Digital Marketing: -0.09\n",
      "s2-Real Estate: -0.0874\n",
      "s1-Web Design: 0.0863\n",
      "s2-Social Media and Communications: -0.0797\n",
      "s2-Software Engineering: 0.0758\n",
      "s2-Business Development: 0.0701\n",
      "s2-Finance: 0.0679\n",
      "s2-Human Resources: 0.0674\n",
      "s1-Business Development: 0.0651\n",
      "s2-Non-Profit and Community: 0.0627\n",
      "s2-Design: -0.0618\n",
      "Gender Flag: -0.0595\n",
      "s1-Hospitality: -0.0582\n",
      "s2-Electrical Engineering: 0.0577\n",
      "s1-Administration: -0.0549\n",
      "s2-IT Management and Support: 0.0538\n",
      "s2-Data Analysis: 0.0521\n",
      "s1-Industrial Management: 0.0519\n",
      "s1-Software Engineering: 0.0508\n",
      "s2-Operations Management: -0.0432\n",
      "s2-Video and Film Production: -0.043\n",
      "s1-Operations Management: -0.0417\n",
      "s2-Healthcare: -0.0404\n",
      "s2-Mobile Telecommunications: 0.0397\n",
      "s2-Product Management: -0.0368\n",
      "s1-Data Analysis: 0.0359\n",
      "Elite Institution: 0.0342\n",
      "s1-Legal: -0.0328\n",
      "s1-Sales: -0.029\n",
      "s2-Energy, Oil, and Gas: 0.0284\n",
      "s1-Insurance: 0.0251\n",
      "s2-Public Policy: 0.0249\n",
      "s1-Web Development: 0.0241\n",
      "s1-Social Media and Communications: 0.0204\n",
      "s1-Design: 0.0187\n",
      "s2-Manufacturing and Process Management: -0.0156\n",
      "s1-Product Management: 0.0149\n",
      "s2-Web Design: 0.0145\n",
      "s1-IT Management and Support: -0.0139\n",
      "s1-Public Policy: -0.0138\n",
      "s2-Military: 0.0128\n",
      "s1-Video and Film Production: 0.012\n",
      "s2-Administration: -0.0108\n",
      "s2-Logistics: 0.0086\n",
      "s2-Hospitality: -0.007\n",
      "s2-Industrial Management: 0.0063\n",
      "s1-Electrical Engineering: 0.0\n",
      "s1-Energy, Oil, and Gas: 0.0\n",
      "s1-Finance: 0.0\n",
      "s1-Manufacturing and Process Management: 0.0\n",
      "s2-Web Development: 0.0\n"
     ]
    }
   ],
   "source": [
    "best_LR_model.fit(X3_train, y3_train)\n",
    "\n",
    "scaler = StandardScaler()\n",
    "X_l2 = scaler.fit_transform(X3)\n",
    "best_LR_model.fit(X_l2, y3)\n",
    "best_LR_model.coef_[0]\n",
    "print (\"Logistic Regression (L1) Coefficients\")\n",
    "for k,v in sorted(zip(map(lambda x: round(x, 4), best_LR_model.coef_[0]), \\\n",
    "                      X3.columns), key=lambda k_v:(-abs(k_v[0]),k_v[1])):\n",
    "    print (v + \": \" + str(k))"
   ]
  },
  {
   "cell_type": "markdown",
   "metadata": {},
   "source": [
    "### Transportation"
   ]
  },
  {
   "cell_type": "code",
   "execution_count": 82,
   "metadata": {},
   "outputs": [],
   "source": [
    "not_laid_off_Trans = dataTrans[dataTrans['laid_off'] == 0]\n",
    "laid_off_Trans = dataTrans[dataTrans['laid_off'] == 1]\n",
    "np.random.seed(101)\n",
    "not_laid_off_Trans = not_laid_off_Trans.sample(n=80) \n",
    "dataTrans = pd.concat([not_laid_off_Trans, laid_off_Trans])"
   ]
  },
  {
   "cell_type": "code",
   "execution_count": 83,
   "metadata": {},
   "outputs": [
    {
     "name": "stdout",
     "output_type": "stream",
     "text": [
      "training data has 100 observation with 70 features\n",
      "test data has 26 observation with 70 features\n"
     ]
    }
   ],
   "source": [
    "from sklearn.model_selection import train_test_split\n",
    "# Reserve 20% for testing\n",
    "y4 = dataTrans['laid_off']\n",
    "X4 = dataTrans.drop(['Length', 'ID','Birth Year','City of profile', 'Country of profile',\n",
    "                   'Start Date','End Date','Role', 'Dept', 'Company Name',\n",
    "                   'Location','Industry','laid_off','Layoff Date', 'Employees Affected',],axis = 1)\n",
    "X4_train, X4_test, y4_train, y4_test = train_test_split(X4, y4, test_size=0.2,random_state=101)\n",
    "\n",
    "print('training data has %d observation with %d features'% X4_train.shape)\n",
    "print('test data has %d observation with %d features'% X4_test.shape)"
   ]
  },
  {
   "cell_type": "code",
   "execution_count": 84,
   "metadata": {},
   "outputs": [],
   "source": [
    "from sklearn.preprocessing import StandardScaler\n",
    "scaler = StandardScaler()\n",
    "X4_train = scaler.fit_transform(X4_train)\n",
    "X4_test = scaler.transform(X4_test)"
   ]
  },
  {
   "cell_type": "code",
   "execution_count": 85,
   "metadata": {},
   "outputs": [
    {
     "data": {
      "text/plain": [
       "0.6153846153846154"
      ]
     },
     "execution_count": 85,
     "metadata": {},
     "output_type": "execute_result"
    }
   ],
   "source": [
    "from sklearn.ensemble import RandomForestClassifier\n",
    "RF = RandomForestClassifier()\n",
    "RF.fit(X4_train, y4_train)\n",
    "RF.score(X4_test,y4_test)"
   ]
  },
  {
   "cell_type": "code",
   "execution_count": 86,
   "metadata": {},
   "outputs": [
    {
     "data": {
      "text/plain": [
       "GridSearchCV(cv=5, error_score='raise',\n",
       "       estimator=RandomForestClassifier(bootstrap=True, class_weight=None, criterion='gini',\n",
       "            max_depth=None, max_features='auto', max_leaf_nodes=None,\n",
       "            min_impurity_decrease=0.0, min_impurity_split=None,\n",
       "            min_samples_leaf=1, min_samples_split=2,\n",
       "            min_weight_fraction_leaf=0.0, n_estimators=10, n_jobs=1,\n",
       "            oob_score=False, random_state=None, verbose=0,\n",
       "            warm_start=False),\n",
       "       fit_params=None, iid=True, n_jobs=1,\n",
       "       param_grid={'n_estimators': [40, 60, 80]}, pre_dispatch='2*n_jobs',\n",
       "       refit=True, return_train_score='warn', scoring=None, verbose=0)"
      ]
     },
     "execution_count": 86,
     "metadata": {},
     "output_type": "execute_result"
    }
   ],
   "source": [
    "from sklearn.model_selection import GridSearchCV\n",
    "parameters = {\n",
    "    'n_estimators' : [40,60,80]\n",
    "}\n",
    "Grid_RF = GridSearchCV(RandomForestClassifier(),parameters, cv=5)\n",
    "Grid_RF.fit(X4_train, y4_train)"
   ]
  },
  {
   "cell_type": "code",
   "execution_count": 87,
   "metadata": {},
   "outputs": [
    {
     "name": "stdout",
     "output_type": "stream",
     "text": [
      "Feature importance ranking by Random Forest Model:\n",
      "Skillset1 Weight: 0.1764\n",
      "Skillset2 Weight: 0.1438\n",
      "Age: 0.1245\n",
      "Education: 0.0688\n",
      "Gender Flag: 0.0501\n",
      "s1-Administration: 0.0468\n",
      "s2-Administration: 0.0371\n",
      "s2-Retail and Fashion: 0.0234\n",
      "s1-Design: 0.022\n",
      "s1-Public Policy: 0.0214\n",
      "s2-Design: 0.0198\n",
      "s1-Manufacturing and Process Management: 0.0172\n",
      "s2-Non-Profit and Community: 0.0162\n",
      "s1-Finance: 0.0158\n",
      "s2-Logistics: 0.0144\n",
      "s1-Sales: 0.0143\n",
      "s1-Hospitality: 0.0133\n",
      "s1-Non-Profit and Community: 0.013\n",
      "s1-Retail and Fashion: 0.0117\n",
      "Elite Institution: 0.0111\n",
      "s1-Product Management: 0.011\n",
      "s2-Sales: 0.0102\n",
      "s2-Business Development: 0.0098\n",
      "s1-Logistics: 0.0097\n",
      "s2-Human Resources: 0.0087\n",
      "s1-Healthcare: 0.008\n",
      "s1-Energy, Oil, and Gas: 0.0077\n",
      "s2-Electrical Engineering: 0.0076\n",
      "s2-Industrial Management: 0.0066\n",
      "s1-Military: 0.0053\n",
      "s2-Finance: 0.0052\n",
      "s1-Electrical Engineering: 0.0052\n",
      "s1-Real Estate: 0.0045\n",
      "s2-Energy, Oil, and Gas: 0.004\n",
      "s2-Manufacturing and Process Management: 0.0034\n",
      "s2-Military: 0.0033\n",
      "s2-Data Analysis: 0.0033\n",
      "s1-Business Development: 0.0033\n",
      "s1-Social Media and Communications: 0.0032\n",
      "s1-Web Development: 0.003\n",
      "s1-Musical Production: 0.0026\n",
      "s1-Human Resources: 0.0024\n",
      "s2-Web Design: 0.0022\n",
      "s1-Web Design: 0.0022\n",
      "s2-Digital Marketing: 0.0018\n",
      "s2-Hospitality: 0.0015\n",
      "s2-Healthcare: 0.0011\n",
      "s2-Public Policy: 0.0009\n",
      "s2-Social Media and Communications: 0.0006\n",
      "s1-Insurance: 0.0003\n",
      "s2-Software Engineering: 0.0001\n",
      "s2-Insurance: 0.0001\n",
      "s2-Web Development: 0.0\n",
      "s2-Video and Film Production: 0.0\n",
      "s2-Real Estate: 0.0\n",
      "s2-Product Management: 0.0\n",
      "s2-Operations Management: 0.0\n",
      "s2-Musical Production: 0.0\n",
      "s2-Mobile Telecommunications: 0.0\n",
      "s2-Legal: 0.0\n",
      "s2-IT Management and Support: 0.0\n",
      "s1-Video and Film Production: 0.0\n",
      "s1-Software Engineering: 0.0\n",
      "s1-Operations Management: 0.0\n",
      "s1-Mobile Telecommunications: 0.0\n",
      "s1-Legal: 0.0\n",
      "s1-Industrial Management: 0.0\n",
      "s1-IT Management and Support: 0.0\n",
      "s1-Digital Marketing: 0.0\n",
      "s1-Data Analysis: 0.0\n"
     ]
    }
   ],
   "source": [
    "importances = RF.feature_importances_\n",
    "# Print the feature ranking\n",
    "print(\"Feature importance ranking by Random Forest Model:\")\n",
    "for k,v in sorted(zip(map(lambda x: round(x, 4), importances), X4.columns), reverse=True):\n",
    "    print (v + \": \" + str(k))"
   ]
  },
  {
   "cell_type": "markdown",
   "metadata": {},
   "source": [
    "### for transportation industry, Age> Education> Gender Flag>s1-Administration"
   ]
  },
  {
   "cell_type": "code",
   "execution_count": 88,
   "metadata": {},
   "outputs": [
    {
     "data": {
      "text/plain": [
       "0.5"
      ]
     },
     "execution_count": 88,
     "metadata": {},
     "output_type": "execute_result"
    }
   ],
   "source": [
    "from sklearn.linear_model import LogisticRegression\n",
    "LR = LogisticRegression()\n",
    "LR.fit(X4_train, y4_train)\n",
    "LR.score(X4_test, y4_test)"
   ]
  },
  {
   "cell_type": "code",
   "execution_count": 89,
   "metadata": {},
   "outputs": [
    {
     "name": "stdout",
     "output_type": "stream",
     "text": [
      "Logistic Regression (L1) Coefficients\n",
      "s1-Manufacturing and Process Management: -0.7368\n",
      "s2-Retail and Fashion: 0.541\n",
      "s2-Data Analysis: -0.5346\n",
      "Skillset2 Weight: 0.5087\n",
      "s1-Design: -0.4806\n",
      "s1-Musical Production: 0.4377\n",
      "s1-Healthcare: 0.4302\n",
      "s1-Military: 0.4264\n",
      "s1-Non-Profit and Community: -0.3692\n",
      "s1-Social Media and Communications: -0.3467\n",
      "s1-Energy, Oil, and Gas: 0.3426\n",
      "s2-Non-Profit and Community: 0.3331\n",
      "s2-Administration: 0.3296\n",
      "s1-Retail and Fashion: 0.3254\n",
      "s2-Hospitality: -0.3097\n",
      "Age: -0.3039\n",
      "s1-Industrial Management: -0.2834\n",
      "Skillset1 Weight: 0.272\n",
      "s2-Healthcare: -0.2673\n",
      "s2-Social Media and Communications: -0.2574\n",
      "s1-Web Design: 0.2563\n",
      "Elite Institution: -0.2511\n",
      "s1-Hospitality: 0.2404\n",
      "s2-Military: 0.2212\n",
      "s2-Manufacturing and Process Management: -0.2096\n",
      "s1-Administration: 0.2091\n",
      "s2-Insurance: -0.185\n",
      "s1-Product Management: 0.182\n",
      "s2-Electrical Engineering: 0.1749\n",
      "s2-Software Engineering: -0.1725\n",
      "s1-Business Development: -0.1616\n",
      "s1-Real Estate: -0.1395\n",
      "s1-Video and Film Production: -0.1271\n",
      "Education: 0.1198\n",
      "s2-Logistics: 0.1128\n",
      "s1-Insurance: 0.0816\n",
      "s2-Web Design: -0.0781\n",
      "s2-Digital Marketing: 0.0676\n",
      "s2-Human Resources: -0.0372\n",
      "s2-Finance: -0.0345\n",
      "s1-Finance: -0.0183\n",
      "s1-Web Development: 0.0077\n",
      "Gender Flag: 0.0048\n",
      "s1-Data Analysis: 0.0\n",
      "s1-Digital Marketing: 0.0\n",
      "s1-Electrical Engineering: 0.0\n",
      "s1-Human Resources: 0.0\n",
      "s1-IT Management and Support: 0.0\n",
      "s1-Legal: 0.0\n",
      "s1-Logistics: 0.0\n",
      "s1-Mobile Telecommunications: 0.0\n",
      "s1-Operations Management: 0.0\n",
      "s1-Public Policy: 0.0\n",
      "s1-Sales: 0.0\n",
      "s1-Software Engineering: 0.0\n",
      "s2-Business Development: 0.0\n",
      "s2-Design: 0.0\n",
      "s2-Energy, Oil, and Gas: 0.0\n",
      "s2-IT Management and Support: 0.0\n",
      "s2-Industrial Management: 0.0\n",
      "s2-Legal: 0.0\n",
      "s2-Mobile Telecommunications: 0.0\n",
      "s2-Musical Production: 0.0\n",
      "s2-Operations Management: 0.0\n",
      "s2-Product Management: 0.0\n",
      "s2-Public Policy: 0.0\n",
      "s2-Real Estate: 0.0\n",
      "s2-Sales: 0.0\n",
      "s2-Video and Film Production: 0.0\n",
      "s2-Web Development: 0.0\n"
     ]
    }
   ],
   "source": [
    "best_LR_model.fit(X4_train, y4_train)\n",
    "\n",
    "scaler = StandardScaler()\n",
    "X_l2 = scaler.fit_transform(X4)\n",
    "best_LR_model.fit(X_l2, y4)\n",
    "best_LR_model.coef_[0]\n",
    "print (\"Logistic Regression (L1) Coefficients\")\n",
    "for k,v in sorted(zip(map(lambda x: round(x, 4), best_LR_model.coef_[0]), \\\n",
    "                      X4.columns), key=lambda k_v:(-abs(k_v[0]),k_v[1])):\n",
    "    print (v + \": \" + str(k))"
   ]
  },
  {
   "cell_type": "code",
   "execution_count": null,
   "metadata": {},
   "outputs": [],
   "source": []
  },
  {
   "cell_type": "code",
   "execution_count": null,
   "metadata": {},
   "outputs": [],
   "source": []
  }
 ],
 "metadata": {
  "kernelspec": {
   "display_name": "Python 3",
   "language": "python",
   "name": "python3"
  },
  "language_info": {
   "codemirror_mode": {
    "name": "ipython",
    "version": 3
   },
   "file_extension": ".py",
   "mimetype": "text/x-python",
   "name": "python",
   "nbconvert_exporter": "python",
   "pygments_lexer": "ipython3",
   "version": "3.6.5"
  }
 },
 "nbformat": 4,
 "nbformat_minor": 2
}

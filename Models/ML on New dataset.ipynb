{
 "cells": [
  {
   "cell_type": "code",
   "execution_count": 1,
   "metadata": {},
   "outputs": [
    {
     "name": "stderr",
     "output_type": "stream",
     "text": [
      "/Users/Jade/anaconda3/lib/python3.6/site-packages/IPython/core/interactiveshell.py:2785: DtypeWarning: Columns (12,24) have mixed types. Specify dtype option on import or set low_memory=False.\n",
      "  interactivity=interactivity, compiler=compiler, result=result)\n"
     ]
    },
    {
     "data": {
      "text/html": [
       "<div>\n",
       "<style scoped>\n",
       "    .dataframe tbody tr th:only-of-type {\n",
       "        vertical-align: middle;\n",
       "    }\n",
       "\n",
       "    .dataframe tbody tr th {\n",
       "        vertical-align: top;\n",
       "    }\n",
       "\n",
       "    .dataframe thead th {\n",
       "        text-align: right;\n",
       "    }\n",
       "</style>\n",
       "<table border=\"1\" class=\"dataframe\">\n",
       "  <thead>\n",
       "    <tr style=\"text-align: right;\">\n",
       "      <th></th>\n",
       "      <th>ID</th>\n",
       "      <th>Birth Year</th>\n",
       "      <th>Gender Flag</th>\n",
       "      <th>Skillset1</th>\n",
       "      <th>Skillset1 Weight</th>\n",
       "      <th>Skillset2</th>\n",
       "      <th>Skillset2 Weight</th>\n",
       "      <th>City of profile</th>\n",
       "      <th>Country of profile</th>\n",
       "      <th>Education</th>\n",
       "      <th>...</th>\n",
       "      <th>Company</th>\n",
       "      <th>Company_Norm</th>\n",
       "      <th>Ticker</th>\n",
       "      <th>Exchange</th>\n",
       "      <th>Location</th>\n",
       "      <th>Industry</th>\n",
       "      <th>Layoff Date</th>\n",
       "      <th>Company Name</th>\n",
       "      <th>Employees Affected</th>\n",
       "      <th>laid_off</th>\n",
       "    </tr>\n",
       "  </thead>\n",
       "  <tbody>\n",
       "    <tr>\n",
       "      <th>0</th>\n",
       "      <td>6b89d91d-7b71-37fe-bb4c-0084018d63c0</td>\n",
       "      <td>2001</td>\n",
       "      <td>0</td>\n",
       "      <td>Software Engineering</td>\n",
       "      <td>0.570285</td>\n",
       "      <td>Web Development</td>\n",
       "      <td>0.277136</td>\n",
       "      <td>San Ramon</td>\n",
       "      <td>United States</td>\n",
       "      <td>0</td>\n",
       "      <td>...</td>\n",
       "      <td>VMware</td>\n",
       "      <td>VMware</td>\n",
       "      <td>VMW</td>\n",
       "      <td>XNYS</td>\n",
       "      <td>san francisco, ca</td>\n",
       "      <td>541512</td>\n",
       "      <td>3/12/2018</td>\n",
       "      <td>VMware, Inc</td>\n",
       "      <td>159</td>\n",
       "      <td>0.0</td>\n",
       "    </tr>\n",
       "    <tr>\n",
       "      <th>1</th>\n",
       "      <td>6b89d91d-7b71-37fe-bb4c-0084018d63c0</td>\n",
       "      <td>2001</td>\n",
       "      <td>0</td>\n",
       "      <td>Software Engineering</td>\n",
       "      <td>0.570285</td>\n",
       "      <td>Web Development</td>\n",
       "      <td>0.277136</td>\n",
       "      <td>San Ramon</td>\n",
       "      <td>United States</td>\n",
       "      <td>0</td>\n",
       "      <td>...</td>\n",
       "      <td>VMware</td>\n",
       "      <td>VMware</td>\n",
       "      <td>VMW</td>\n",
       "      <td>XNYS</td>\n",
       "      <td>san francisco, ca</td>\n",
       "      <td>541512</td>\n",
       "      <td>3/28/2016</td>\n",
       "      <td>VMware, Inc</td>\n",
       "      <td>170</td>\n",
       "      <td>0.0</td>\n",
       "    </tr>\n",
       "    <tr>\n",
       "      <th>2</th>\n",
       "      <td>10bbd07e-09b0-3e33-9b6d-897b2d18ad43</td>\n",
       "      <td>1985</td>\n",
       "      <td>0</td>\n",
       "      <td>Software Engineering</td>\n",
       "      <td>0.664485</td>\n",
       "      <td>Web Development</td>\n",
       "      <td>0.236152</td>\n",
       "      <td>San Francisco</td>\n",
       "      <td>United States</td>\n",
       "      <td>5</td>\n",
       "      <td>...</td>\n",
       "      <td>Intel Corporation</td>\n",
       "      <td>Intel Corporation</td>\n",
       "      <td>INTC</td>\n",
       "      <td>XNAS</td>\n",
       "      <td>portland, oregon area</td>\n",
       "      <td>334413</td>\n",
       "      <td>6/30/2018</td>\n",
       "      <td>Intel Corporation</td>\n",
       "      <td>65</td>\n",
       "      <td>0.0</td>\n",
       "    </tr>\n",
       "    <tr>\n",
       "      <th>3</th>\n",
       "      <td>10bbd07e-09b0-3e33-9b6d-897b2d18ad43</td>\n",
       "      <td>1985</td>\n",
       "      <td>0</td>\n",
       "      <td>Software Engineering</td>\n",
       "      <td>0.664485</td>\n",
       "      <td>Web Development</td>\n",
       "      <td>0.236152</td>\n",
       "      <td>San Francisco</td>\n",
       "      <td>United States</td>\n",
       "      <td>5</td>\n",
       "      <td>...</td>\n",
       "      <td>Intel Corporation</td>\n",
       "      <td>Intel Corporation</td>\n",
       "      <td>INTC</td>\n",
       "      <td>XNAS</td>\n",
       "      <td>portland, oregon area</td>\n",
       "      <td>334413</td>\n",
       "      <td>2/24/2017</td>\n",
       "      <td>Intel Corporation</td>\n",
       "      <td>54</td>\n",
       "      <td>0.0</td>\n",
       "    </tr>\n",
       "    <tr>\n",
       "      <th>4</th>\n",
       "      <td>10bbd07e-09b0-3e33-9b6d-897b2d18ad43</td>\n",
       "      <td>1985</td>\n",
       "      <td>0</td>\n",
       "      <td>Software Engineering</td>\n",
       "      <td>0.664485</td>\n",
       "      <td>Web Development</td>\n",
       "      <td>0.236152</td>\n",
       "      <td>San Francisco</td>\n",
       "      <td>United States</td>\n",
       "      <td>5</td>\n",
       "      <td>...</td>\n",
       "      <td>Intel Corporation</td>\n",
       "      <td>Intel Corporation</td>\n",
       "      <td>INTC</td>\n",
       "      <td>XNAS</td>\n",
       "      <td>portland, oregon area</td>\n",
       "      <td>334413</td>\n",
       "      <td>7/15/2015</td>\n",
       "      <td>Intel Corporation</td>\n",
       "      <td>165</td>\n",
       "      <td>0.0</td>\n",
       "    </tr>\n",
       "  </tbody>\n",
       "</table>\n",
       "<p>5 rows × 29 columns</p>\n",
       "</div>"
      ],
      "text/plain": [
       "                                     ID Birth Year  Gender Flag  \\\n",
       "0  6b89d91d-7b71-37fe-bb4c-0084018d63c0       2001            0   \n",
       "1  6b89d91d-7b71-37fe-bb4c-0084018d63c0       2001            0   \n",
       "2  10bbd07e-09b0-3e33-9b6d-897b2d18ad43       1985            0   \n",
       "3  10bbd07e-09b0-3e33-9b6d-897b2d18ad43       1985            0   \n",
       "4  10bbd07e-09b0-3e33-9b6d-897b2d18ad43       1985            0   \n",
       "\n",
       "              Skillset1  Skillset1 Weight        Skillset2  Skillset2 Weight  \\\n",
       "0  Software Engineering          0.570285  Web Development          0.277136   \n",
       "1  Software Engineering          0.570285  Web Development          0.277136   \n",
       "2  Software Engineering          0.664485  Web Development          0.236152   \n",
       "3  Software Engineering          0.664485  Web Development          0.236152   \n",
       "4  Software Engineering          0.664485  Web Development          0.236152   \n",
       "\n",
       "  City of profile Country of profile  Education   ...               Company  \\\n",
       "0       San Ramon      United States          0   ...                VMware   \n",
       "1       San Ramon      United States          0   ...                VMware   \n",
       "2   San Francisco      United States          5   ...     Intel Corporation   \n",
       "3   San Francisco      United States          5   ...     Intel Corporation   \n",
       "4   San Francisco      United States          5   ...     Intel Corporation   \n",
       "\n",
       "        Company_Norm Ticker Exchange               Location  Industry  \\\n",
       "0             VMware    VMW     XNYS      san francisco, ca    541512   \n",
       "1             VMware    VMW     XNYS      san francisco, ca    541512   \n",
       "2  Intel Corporation   INTC     XNAS  portland, oregon area    334413   \n",
       "3  Intel Corporation   INTC     XNAS  portland, oregon area    334413   \n",
       "4  Intel Corporation   INTC     XNAS  portland, oregon area    334413   \n",
       "\n",
       "   Layoff Date       Company Name Employees Affected laid_off  \n",
       "0    3/12/2018        VMware, Inc                159      0.0  \n",
       "1    3/28/2016        VMware, Inc                170      0.0  \n",
       "2    6/30/2018  Intel Corporation                 65      0.0  \n",
       "3    2/24/2017  Intel Corporation                 54      0.0  \n",
       "4    7/15/2015  Intel Corporation                165      0.0  \n",
       "\n",
       "[5 rows x 29 columns]"
      ]
     },
     "execution_count": 1,
     "metadata": {},
     "output_type": "execute_result"
    }
   ],
   "source": [
    "import pandas as pd\n",
    "import numpy as np\n",
    "import sklearn\n",
    "import matplotlib.pyplot as plt\n",
    "dataV2= pd.read_csv(\"/Users/Jade/Desktop/TrainingDatasetV2.csv\",encoding = \"latin1\")\n",
    "dataV2.head()"
   ]
  },
  {
   "cell_type": "code",
   "execution_count": 2,
   "metadata": {},
   "outputs": [
    {
     "data": {
      "text/html": [
       "<div>\n",
       "<style scoped>\n",
       "    .dataframe tbody tr th:only-of-type {\n",
       "        vertical-align: middle;\n",
       "    }\n",
       "\n",
       "    .dataframe tbody tr th {\n",
       "        vertical-align: top;\n",
       "    }\n",
       "\n",
       "    .dataframe thead th {\n",
       "        text-align: right;\n",
       "    }\n",
       "</style>\n",
       "<table border=\"1\" class=\"dataframe\">\n",
       "  <thead>\n",
       "    <tr style=\"text-align: right;\">\n",
       "      <th></th>\n",
       "      <th>ID</th>\n",
       "      <th>Birth Year</th>\n",
       "      <th>Gender Flag</th>\n",
       "      <th>Skillset1 Weight</th>\n",
       "      <th>Skillset2 Weight</th>\n",
       "      <th>City of profile</th>\n",
       "      <th>Country of profile</th>\n",
       "      <th>Education</th>\n",
       "      <th>Elite Institution</th>\n",
       "      <th>Start Date</th>\n",
       "      <th>...</th>\n",
       "      <th>s2-Product Management</th>\n",
       "      <th>s2-Public Policy</th>\n",
       "      <th>s2-Real Estate</th>\n",
       "      <th>s2-Retail and Fashion</th>\n",
       "      <th>s2-Sales</th>\n",
       "      <th>s2-Social Media and Communications</th>\n",
       "      <th>s2-Software Engineering</th>\n",
       "      <th>s2-Video and Film Production</th>\n",
       "      <th>s2-Web Design</th>\n",
       "      <th>s2-Web Development</th>\n",
       "    </tr>\n",
       "  </thead>\n",
       "  <tbody>\n",
       "    <tr>\n",
       "      <th>0</th>\n",
       "      <td>6b89d91d-7b71-37fe-bb4c-0084018d63c0</td>\n",
       "      <td>2001</td>\n",
       "      <td>0</td>\n",
       "      <td>0.570285</td>\n",
       "      <td>0.277136</td>\n",
       "      <td>San Ramon</td>\n",
       "      <td>United States</td>\n",
       "      <td>0</td>\n",
       "      <td>0</td>\n",
       "      <td>2007/1/1</td>\n",
       "      <td>...</td>\n",
       "      <td>0</td>\n",
       "      <td>0</td>\n",
       "      <td>0</td>\n",
       "      <td>0</td>\n",
       "      <td>0</td>\n",
       "      <td>0</td>\n",
       "      <td>0</td>\n",
       "      <td>0</td>\n",
       "      <td>0</td>\n",
       "      <td>1</td>\n",
       "    </tr>\n",
       "    <tr>\n",
       "      <th>1</th>\n",
       "      <td>6b89d91d-7b71-37fe-bb4c-0084018d63c0</td>\n",
       "      <td>2001</td>\n",
       "      <td>0</td>\n",
       "      <td>0.570285</td>\n",
       "      <td>0.277136</td>\n",
       "      <td>San Ramon</td>\n",
       "      <td>United States</td>\n",
       "      <td>0</td>\n",
       "      <td>0</td>\n",
       "      <td>2007/1/1</td>\n",
       "      <td>...</td>\n",
       "      <td>0</td>\n",
       "      <td>0</td>\n",
       "      <td>0</td>\n",
       "      <td>0</td>\n",
       "      <td>0</td>\n",
       "      <td>0</td>\n",
       "      <td>0</td>\n",
       "      <td>0</td>\n",
       "      <td>0</td>\n",
       "      <td>1</td>\n",
       "    </tr>\n",
       "    <tr>\n",
       "      <th>2</th>\n",
       "      <td>10bbd07e-09b0-3e33-9b6d-897b2d18ad43</td>\n",
       "      <td>1985</td>\n",
       "      <td>0</td>\n",
       "      <td>0.664485</td>\n",
       "      <td>0.236152</td>\n",
       "      <td>San Francisco</td>\n",
       "      <td>United States</td>\n",
       "      <td>5</td>\n",
       "      <td>0</td>\n",
       "      <td>2016/5/1</td>\n",
       "      <td>...</td>\n",
       "      <td>0</td>\n",
       "      <td>0</td>\n",
       "      <td>0</td>\n",
       "      <td>0</td>\n",
       "      <td>0</td>\n",
       "      <td>0</td>\n",
       "      <td>0</td>\n",
       "      <td>0</td>\n",
       "      <td>0</td>\n",
       "      <td>1</td>\n",
       "    </tr>\n",
       "    <tr>\n",
       "      <th>3</th>\n",
       "      <td>10bbd07e-09b0-3e33-9b6d-897b2d18ad43</td>\n",
       "      <td>1985</td>\n",
       "      <td>0</td>\n",
       "      <td>0.664485</td>\n",
       "      <td>0.236152</td>\n",
       "      <td>San Francisco</td>\n",
       "      <td>United States</td>\n",
       "      <td>5</td>\n",
       "      <td>0</td>\n",
       "      <td>2016/5/1</td>\n",
       "      <td>...</td>\n",
       "      <td>0</td>\n",
       "      <td>0</td>\n",
       "      <td>0</td>\n",
       "      <td>0</td>\n",
       "      <td>0</td>\n",
       "      <td>0</td>\n",
       "      <td>0</td>\n",
       "      <td>0</td>\n",
       "      <td>0</td>\n",
       "      <td>1</td>\n",
       "    </tr>\n",
       "    <tr>\n",
       "      <th>4</th>\n",
       "      <td>10bbd07e-09b0-3e33-9b6d-897b2d18ad43</td>\n",
       "      <td>1985</td>\n",
       "      <td>0</td>\n",
       "      <td>0.664485</td>\n",
       "      <td>0.236152</td>\n",
       "      <td>San Francisco</td>\n",
       "      <td>United States</td>\n",
       "      <td>5</td>\n",
       "      <td>0</td>\n",
       "      <td>2016/5/1</td>\n",
       "      <td>...</td>\n",
       "      <td>0</td>\n",
       "      <td>0</td>\n",
       "      <td>0</td>\n",
       "      <td>0</td>\n",
       "      <td>0</td>\n",
       "      <td>0</td>\n",
       "      <td>0</td>\n",
       "      <td>0</td>\n",
       "      <td>0</td>\n",
       "      <td>1</td>\n",
       "    </tr>\n",
       "  </tbody>\n",
       "</table>\n",
       "<p>5 rows × 91 columns</p>\n",
       "</div>"
      ],
      "text/plain": [
       "                                     ID Birth Year  Gender Flag  \\\n",
       "0  6b89d91d-7b71-37fe-bb4c-0084018d63c0       2001            0   \n",
       "1  6b89d91d-7b71-37fe-bb4c-0084018d63c0       2001            0   \n",
       "2  10bbd07e-09b0-3e33-9b6d-897b2d18ad43       1985            0   \n",
       "3  10bbd07e-09b0-3e33-9b6d-897b2d18ad43       1985            0   \n",
       "4  10bbd07e-09b0-3e33-9b6d-897b2d18ad43       1985            0   \n",
       "\n",
       "   Skillset1 Weight  Skillset2 Weight City of profile Country of profile  \\\n",
       "0          0.570285          0.277136       San Ramon      United States   \n",
       "1          0.570285          0.277136       San Ramon      United States   \n",
       "2          0.664485          0.236152   San Francisco      United States   \n",
       "3          0.664485          0.236152   San Francisco      United States   \n",
       "4          0.664485          0.236152   San Francisco      United States   \n",
       "\n",
       "   Education  Elite Institution Start Date        ...          \\\n",
       "0          0                  0   2007/1/1        ...           \n",
       "1          0                  0   2007/1/1        ...           \n",
       "2          5                  0   2016/5/1        ...           \n",
       "3          5                  0   2016/5/1        ...           \n",
       "4          5                  0   2016/5/1        ...           \n",
       "\n",
       "  s2-Product Management s2-Public Policy  s2-Real Estate  \\\n",
       "0                     0                0               0   \n",
       "1                     0                0               0   \n",
       "2                     0                0               0   \n",
       "3                     0                0               0   \n",
       "4                     0                0               0   \n",
       "\n",
       "   s2-Retail and Fashion  s2-Sales s2-Social Media and Communications  \\\n",
       "0                      0         0                                  0   \n",
       "1                      0         0                                  0   \n",
       "2                      0         0                                  0   \n",
       "3                      0         0                                  0   \n",
       "4                      0         0                                  0   \n",
       "\n",
       "  s2-Software Engineering s2-Video and Film Production s2-Web Design  \\\n",
       "0                       0                            0             0   \n",
       "1                       0                            0             0   \n",
       "2                       0                            0             0   \n",
       "3                       0                            0             0   \n",
       "4                       0                            0             0   \n",
       "\n",
       "  s2-Web Development  \n",
       "0                  1  \n",
       "1                  1  \n",
       "2                  1  \n",
       "3                  1  \n",
       "4                  1  \n",
       "\n",
       "[5 rows x 91 columns]"
      ]
     },
     "execution_count": 2,
     "metadata": {},
     "output_type": "execute_result"
    }
   ],
   "source": [
    "# use one-hot encoding to encode skillsets\n",
    "encodeSkill1 = pd.get_dummies(dataV2['Skillset1'], prefix = 's1', prefix_sep='-')\n",
    "encodeSkill2 = pd.get_dummies(dataV2['Skillset2'], prefix = 's2', prefix_sep='-') \n",
    "dataV2 = dataV2.drop(['Skillset1','Skillset2'], axis = 1)\n",
    "dataV2 = dataV2.join(encodeSkill1) \n",
    "dataV2 = dataV2.join(encodeSkill2)\n",
    "dataV2.head()"
   ]
  },
  {
   "cell_type": "code",
   "execution_count": 3,
   "metadata": {},
   "outputs": [
    {
     "data": {
      "text/plain": [
       "Index(['ID', 'Birth Year', 'Gender Flag', 'Skillset1 Weight',\n",
       "       'Skillset2 Weight', 'City of profile', 'Country of profile',\n",
       "       'Education', 'Elite Institution', 'Start Date', 'StartFlag', 'End Date',\n",
       "       'EndFlag', 'CurrentEmployFlag', 'Length', 'Role', 'Dept', 'Company',\n",
       "       'Company_Norm', 'Ticker', 'Exchange', 'Location', 'Industry',\n",
       "       'Layoff Date', 'Company Name', 'Employees Affected', 'laid_off',\n",
       "       's1-Administration', 's1-Business Development', 's1-Data Analysis',\n",
       "       's1-Design', 's1-Digital Marketing', 's1-Electrical Engineering',\n",
       "       's1-Energy, Oil, and Gas', 's1-Finance', 's1-Healthcare',\n",
       "       's1-Hospitality', 's1-Human Resources', 's1-IT Management and Support',\n",
       "       's1-Industrial Management', 's1-Insurance', 's1-Legal', 's1-Logistics',\n",
       "       's1-Manufacturing and Process Management', 's1-Military',\n",
       "       's1-Mobile Telecommunications', 's1-Musical Production',\n",
       "       's1-Non-Profit and Community', 's1-Operations Management',\n",
       "       's1-Product Management', 's1-Public Policy', 's1-Real Estate',\n",
       "       's1-Retail and Fashion', 's1-Sales',\n",
       "       's1-Social Media and Communications', 's1-Software Engineering',\n",
       "       's1-Video and Film Production', 's1-Web Design', 's1-Web Development',\n",
       "       's2-Administration', 's2-Business Development', 's2-Data Analysis',\n",
       "       's2-Design', 's2-Digital Marketing', 's2-Electrical Engineering',\n",
       "       's2-Energy, Oil, and Gas', 's2-Finance', 's2-Healthcare',\n",
       "       's2-Hospitality', 's2-Human Resources', 's2-IT Management and Support',\n",
       "       's2-Industrial Management', 's2-Insurance', 's2-Legal', 's2-Logistics',\n",
       "       's2-Manufacturing and Process Management', 's2-Military',\n",
       "       's2-Mobile Telecommunications', 's2-Musical Production',\n",
       "       's2-Non-Profit and Community', 's2-Operations Management',\n",
       "       's2-Product Management', 's2-Public Policy', 's2-Real Estate',\n",
       "       's2-Retail and Fashion', 's2-Sales',\n",
       "       's2-Social Media and Communications', 's2-Software Engineering',\n",
       "       's2-Video and Film Production', 's2-Web Design', 's2-Web Development'],\n",
       "      dtype='object')"
      ]
     },
     "execution_count": 3,
     "metadata": {},
     "output_type": "execute_result"
    }
   ],
   "source": [
    "dataV2.columns"
   ]
  },
  {
   "cell_type": "code",
   "execution_count": 4,
   "metadata": {},
   "outputs": [
    {
     "name": "stdout",
     "output_type": "stream",
     "text": [
      "<class 'pandas.core.frame.DataFrame'>\n",
      "RangeIndex: 106108 entries, 0 to 106107\n",
      "Data columns (total 91 columns):\n",
      "ID                                         106108 non-null object\n",
      "Birth Year                                 106108 non-null object\n",
      "Gender Flag                                106108 non-null int64\n",
      "Skillset1 Weight                           106108 non-null float64\n",
      "Skillset2 Weight                           106108 non-null float64\n",
      "City of profile                            97438 non-null object\n",
      "Country of profile                         106108 non-null object\n",
      "Education                                  106108 non-null int64\n",
      "Elite Institution                          106108 non-null int64\n",
      "Start Date                                 106108 non-null object\n",
      "StartFlag                                  106108 non-null object\n",
      "End Date                                   106108 non-null object\n",
      "EndFlag                                    106108 non-null int64\n",
      "CurrentEmployFlag                          106108 non-null int64\n",
      "Length                                     106108 non-null int64\n",
      "Role                                       106108 non-null object\n",
      "Dept                                       78015 non-null object\n",
      "Company                                    106108 non-null object\n",
      "Company_Norm                               106108 non-null object\n",
      "Ticker                                     105802 non-null object\n",
      "Exchange                                   106060 non-null object\n",
      "Location                                   76824 non-null object\n",
      "Industry                                   106060 non-null object\n",
      "Layoff Date                                106106 non-null object\n",
      "Company Name                               106108 non-null object\n",
      "Employees Affected                         106108 non-null int64\n",
      "laid_off                                   106101 non-null float64\n",
      "s1-Administration                          106108 non-null uint8\n",
      "s1-Business Development                    106108 non-null uint8\n",
      "s1-Data Analysis                           106108 non-null uint8\n",
      "s1-Design                                  106108 non-null uint8\n",
      "s1-Digital Marketing                       106108 non-null uint8\n",
      "s1-Electrical Engineering                  106108 non-null uint8\n",
      "s1-Energy, Oil, and Gas                    106108 non-null uint8\n",
      "s1-Finance                                 106108 non-null uint8\n",
      "s1-Healthcare                              106108 non-null uint8\n",
      "s1-Hospitality                             106108 non-null uint8\n",
      "s1-Human Resources                         106108 non-null uint8\n",
      "s1-IT Management and Support               106108 non-null uint8\n",
      "s1-Industrial Management                   106108 non-null uint8\n",
      "s1-Insurance                               106108 non-null uint8\n",
      "s1-Legal                                   106108 non-null uint8\n",
      "s1-Logistics                               106108 non-null uint8\n",
      "s1-Manufacturing and Process Management    106108 non-null uint8\n",
      "s1-Military                                106108 non-null uint8\n",
      "s1-Mobile Telecommunications               106108 non-null uint8\n",
      "s1-Musical Production                      106108 non-null uint8\n",
      "s1-Non-Profit and Community                106108 non-null uint8\n",
      "s1-Operations Management                   106108 non-null uint8\n",
      "s1-Product Management                      106108 non-null uint8\n",
      "s1-Public Policy                           106108 non-null uint8\n",
      "s1-Real Estate                             106108 non-null uint8\n",
      "s1-Retail and Fashion                      106108 non-null uint8\n",
      "s1-Sales                                   106108 non-null uint8\n",
      "s1-Social Media and Communications         106108 non-null uint8\n",
      "s1-Software Engineering                    106108 non-null uint8\n",
      "s1-Video and Film Production               106108 non-null uint8\n",
      "s1-Web Design                              106108 non-null uint8\n",
      "s1-Web Development                         106108 non-null uint8\n",
      "s2-Administration                          106108 non-null uint8\n",
      "s2-Business Development                    106108 non-null uint8\n",
      "s2-Data Analysis                           106108 non-null uint8\n",
      "s2-Design                                  106108 non-null uint8\n",
      "s2-Digital Marketing                       106108 non-null uint8\n",
      "s2-Electrical Engineering                  106108 non-null uint8\n",
      "s2-Energy, Oil, and Gas                    106108 non-null uint8\n",
      "s2-Finance                                 106108 non-null uint8\n",
      "s2-Healthcare                              106108 non-null uint8\n",
      "s2-Hospitality                             106108 non-null uint8\n",
      "s2-Human Resources                         106108 non-null uint8\n",
      "s2-IT Management and Support               106108 non-null uint8\n",
      "s2-Industrial Management                   106108 non-null uint8\n",
      "s2-Insurance                               106108 non-null uint8\n",
      "s2-Legal                                   106108 non-null uint8\n",
      "s2-Logistics                               106108 non-null uint8\n",
      "s2-Manufacturing and Process Management    106108 non-null uint8\n",
      "s2-Military                                106108 non-null uint8\n",
      "s2-Mobile Telecommunications               106108 non-null uint8\n",
      "s2-Musical Production                      106108 non-null uint8\n",
      "s2-Non-Profit and Community                106108 non-null uint8\n",
      "s2-Operations Management                   106108 non-null uint8\n",
      "s2-Product Management                      106108 non-null uint8\n",
      "s2-Public Policy                           106108 non-null uint8\n",
      "s2-Real Estate                             106108 non-null uint8\n",
      "s2-Retail and Fashion                      106108 non-null uint8\n",
      "s2-Sales                                   106108 non-null uint8\n",
      "s2-Social Media and Communications         106108 non-null uint8\n",
      "s2-Software Engineering                    106108 non-null uint8\n",
      "s2-Video and Film Production               106108 non-null uint8\n",
      "s2-Web Design                              106108 non-null uint8\n",
      "s2-Web Development                         106108 non-null uint8\n",
      "dtypes: float64(3), int64(7), object(17), uint8(64)\n",
      "memory usage: 28.3+ MB\n"
     ]
    }
   ],
   "source": [
    "dataV2.info()"
   ]
  },
  {
   "cell_type": "code",
   "execution_count": 5,
   "metadata": {},
   "outputs": [
    {
     "name": "stdout",
     "output_type": "stream",
     "text": [
      "<class 'pandas.core.frame.DataFrame'>\n",
      "Int64Index: 106101 entries, 0 to 106107\n",
      "Data columns (total 91 columns):\n",
      "ID                                         106101 non-null object\n",
      "Birth Year                                 106101 non-null object\n",
      "Gender Flag                                106101 non-null int64\n",
      "Skillset1 Weight                           106101 non-null float64\n",
      "Skillset2 Weight                           106101 non-null float64\n",
      "City of profile                            97431 non-null object\n",
      "Country of profile                         106101 non-null object\n",
      "Education                                  106101 non-null int64\n",
      "Elite Institution                          106101 non-null int64\n",
      "Start Date                                 106101 non-null object\n",
      "StartFlag                                  106101 non-null object\n",
      "End Date                                   106101 non-null object\n",
      "EndFlag                                    106101 non-null int64\n",
      "CurrentEmployFlag                          106101 non-null int64\n",
      "Length                                     106101 non-null int64\n",
      "Role                                       106101 non-null object\n",
      "Dept                                       78008 non-null object\n",
      "Company                                    106101 non-null object\n",
      "Company_Norm                               106101 non-null object\n",
      "Ticker                                     105795 non-null object\n",
      "Exchange                                   106053 non-null object\n",
      "Location                                   76817 non-null object\n",
      "Industry                                   106053 non-null object\n",
      "Layoff Date                                106099 non-null object\n",
      "Company Name                               106101 non-null object\n",
      "Employees Affected                         106101 non-null int64\n",
      "laid_off                                   106101 non-null float64\n",
      "s1-Administration                          106101 non-null uint8\n",
      "s1-Business Development                    106101 non-null uint8\n",
      "s1-Data Analysis                           106101 non-null uint8\n",
      "s1-Design                                  106101 non-null uint8\n",
      "s1-Digital Marketing                       106101 non-null uint8\n",
      "s1-Electrical Engineering                  106101 non-null uint8\n",
      "s1-Energy, Oil, and Gas                    106101 non-null uint8\n",
      "s1-Finance                                 106101 non-null uint8\n",
      "s1-Healthcare                              106101 non-null uint8\n",
      "s1-Hospitality                             106101 non-null uint8\n",
      "s1-Human Resources                         106101 non-null uint8\n",
      "s1-IT Management and Support               106101 non-null uint8\n",
      "s1-Industrial Management                   106101 non-null uint8\n",
      "s1-Insurance                               106101 non-null uint8\n",
      "s1-Legal                                   106101 non-null uint8\n",
      "s1-Logistics                               106101 non-null uint8\n",
      "s1-Manufacturing and Process Management    106101 non-null uint8\n",
      "s1-Military                                106101 non-null uint8\n",
      "s1-Mobile Telecommunications               106101 non-null uint8\n",
      "s1-Musical Production                      106101 non-null uint8\n",
      "s1-Non-Profit and Community                106101 non-null uint8\n",
      "s1-Operations Management                   106101 non-null uint8\n",
      "s1-Product Management                      106101 non-null uint8\n",
      "s1-Public Policy                           106101 non-null uint8\n",
      "s1-Real Estate                             106101 non-null uint8\n",
      "s1-Retail and Fashion                      106101 non-null uint8\n",
      "s1-Sales                                   106101 non-null uint8\n",
      "s1-Social Media and Communications         106101 non-null uint8\n",
      "s1-Software Engineering                    106101 non-null uint8\n",
      "s1-Video and Film Production               106101 non-null uint8\n",
      "s1-Web Design                              106101 non-null uint8\n",
      "s1-Web Development                         106101 non-null uint8\n",
      "s2-Administration                          106101 non-null uint8\n",
      "s2-Business Development                    106101 non-null uint8\n",
      "s2-Data Analysis                           106101 non-null uint8\n",
      "s2-Design                                  106101 non-null uint8\n",
      "s2-Digital Marketing                       106101 non-null uint8\n",
      "s2-Electrical Engineering                  106101 non-null uint8\n",
      "s2-Energy, Oil, and Gas                    106101 non-null uint8\n",
      "s2-Finance                                 106101 non-null uint8\n",
      "s2-Healthcare                              106101 non-null uint8\n",
      "s2-Hospitality                             106101 non-null uint8\n",
      "s2-Human Resources                         106101 non-null uint8\n",
      "s2-IT Management and Support               106101 non-null uint8\n",
      "s2-Industrial Management                   106101 non-null uint8\n",
      "s2-Insurance                               106101 non-null uint8\n",
      "s2-Legal                                   106101 non-null uint8\n",
      "s2-Logistics                               106101 non-null uint8\n",
      "s2-Manufacturing and Process Management    106101 non-null uint8\n",
      "s2-Military                                106101 non-null uint8\n",
      "s2-Mobile Telecommunications               106101 non-null uint8\n",
      "s2-Musical Production                      106101 non-null uint8\n",
      "s2-Non-Profit and Community                106101 non-null uint8\n",
      "s2-Operations Management                   106101 non-null uint8\n",
      "s2-Product Management                      106101 non-null uint8\n",
      "s2-Public Policy                           106101 non-null uint8\n",
      "s2-Real Estate                             106101 non-null uint8\n",
      "s2-Retail and Fashion                      106101 non-null uint8\n",
      "s2-Sales                                   106101 non-null uint8\n",
      "s2-Social Media and Communications         106101 non-null uint8\n",
      "s2-Software Engineering                    106101 non-null uint8\n",
      "s2-Video and Film Production               106101 non-null uint8\n",
      "s2-Web Design                              106101 non-null uint8\n",
      "s2-Web Development                         106101 non-null uint8\n",
      "dtypes: float64(3), int64(7), object(17), uint8(64)\n",
      "memory usage: 29.1+ MB\n"
     ]
    }
   ],
   "source": [
    "dataV2 = dataV2.dropna(subset=['laid_off'])\n",
    "dataV2.info()"
   ]
  },
  {
   "cell_type": "code",
   "execution_count": 6,
   "metadata": {},
   "outputs": [],
   "source": [
    "dataV2 = dataV2[dataV2['Birth Year' ]!= 'None']\n",
    "dataV2['Birth Year'] = dataV2['Birth Year'].astype(float)\n",
    "dataV2 = dataV2.dropna(subset=['Length'])"
   ]
  },
  {
   "cell_type": "code",
   "execution_count": 7,
   "metadata": {},
   "outputs": [
    {
     "name": "stdout",
     "output_type": "stream",
     "text": [
      "8038\n",
      "98023\n"
     ]
    }
   ],
   "source": [
    "print(len(dataV2[dataV2['laid_off']==1]))\n",
    "print(len(dataV2[dataV2['laid_off']==0]))"
   ]
  },
  {
   "cell_type": "code",
   "execution_count": 8,
   "metadata": {},
   "outputs": [
    {
     "data": {
      "text/plain": [
       "LogisticRegression(C=1.0, class_weight=None, dual=False, fit_intercept=True,\n",
       "          intercept_scaling=1, max_iter=100, multi_class='ovr', n_jobs=1,\n",
       "          penalty='l2', random_state=None, solver='liblinear', tol=0.0001,\n",
       "          verbose=0, warm_start=False)"
      ]
     },
     "execution_count": 8,
     "metadata": {},
     "output_type": "execute_result"
    }
   ],
   "source": [
    "from sklearn import metrics\n",
    "from sklearn.linear_model import LogisticRegression\n",
    "from sklearn.model_selection import train_test_split\n",
    "from sklearn.linear_model import LinearRegression\n",
    "from sklearn.preprocessing import StandardScaler\n",
    "y = dataV2['laid_off']\n",
    "X = dataV2.drop(['ID',\n",
    "       'City of profile', 'Country of profile','Elite Institution',\n",
    "       'Start Date', 'StartFlag', 'End Date',\n",
    "       'EndFlag', 'CurrentEmployFlag', 'laid_off', 'Role', 'Dept', 'Company',\n",
    "       'Company_Norm', 'Ticker', 'Exchange', 'Location',\n",
    "       'Industry', 'Layoff Date', 'Company Name'],axis = 1)\n",
    "X_train, X_test, y_train, y_test = train_test_split(X, y, test_size=0.3,random_state=101)\n",
    "logreg = LogisticRegression()\n",
    "logreg.fit(X_train, y_train)\n"
   ]
  },
  {
   "cell_type": "code",
   "execution_count": 9,
   "metadata": {},
   "outputs": [
    {
     "data": {
      "text/plain": [
       "0.9266790282535592"
      ]
     },
     "execution_count": 9,
     "metadata": {},
     "output_type": "execute_result"
    }
   ],
   "source": [
    "logreg.score(X_test,y_test)"
   ]
  },
  {
   "cell_type": "code",
   "execution_count": 10,
   "metadata": {},
   "outputs": [
    {
     "name": "stdout",
     "output_type": "stream",
     "text": [
      "5705\n",
      "68537\n"
     ]
    }
   ],
   "source": [
    "print(len(y_train[y_train == 1]))\n",
    "print(len(y_train[y_train == 0]))"
   ]
  },
  {
   "cell_type": "code",
   "execution_count": 11,
   "metadata": {},
   "outputs": [
    {
     "name": "stdout",
     "output_type": "stream",
     "text": [
      "2333\n",
      "29486\n"
     ]
    }
   ],
   "source": [
    "print(len(y_test[y_test == 1]))\n",
    "print(len(y_test[y_test == 0]))"
   ]
  },
  {
   "cell_type": "code",
   "execution_count": 12,
   "metadata": {},
   "outputs": [
    {
     "name": "stdout",
     "output_type": "stream",
     "text": [
      "Confusion matrix of test data is: \n",
      "           Predicted 0  Predicted 1\n",
      "Actual 0        29486            0\n",
      "Actual 1         2333            0\n"
     ]
    }
   ],
   "source": [
    "# calculate confusion matrix & precision, recall, f-score\n",
    "from sklearn.metrics import confusion_matrix, classification_report\n",
    "y_true = y_test \n",
    "y_pred = logreg.predict(X_test)\n",
    "CM = pd.DataFrame(confusion_matrix(y_true, y_pred),columns = ['Predicted 0','Predicted 1'],\\\n",
    "                  index = ['Actual 0','Actual 1']\n",
    "                 )\n",
    "print ('Confusion matrix of test data is: \\n', CM)"
   ]
  },
  {
   "cell_type": "code",
   "execution_count": 13,
   "metadata": {},
   "outputs": [
    {
     "name": "stdout",
     "output_type": "stream",
     "text": [
      "              precision    recall  f1-score   support\n",
      "\n",
      "non-laid_off       0.93      1.00      0.96     29486\n",
      "    laid_off       0.00      0.00      0.00      2333\n",
      "\n",
      " avg / total       0.86      0.93      0.89     31819\n",
      "\n"
     ]
    },
    {
     "name": "stderr",
     "output_type": "stream",
     "text": [
      "/Users/Jade/anaconda3/lib/python3.6/site-packages/sklearn/metrics/classification.py:1135: UndefinedMetricWarning: Precision and F-score are ill-defined and being set to 0.0 in labels with no predicted samples.\n",
      "  'precision', 'predicted', average, warn_for)\n"
     ]
    }
   ],
   "source": [
    "target_names = ['non-laid_off', 'laid_off']\n",
    "print(classification_report(y_true, y_pred, target_names=target_names))"
   ]
  },
  {
   "cell_type": "markdown",
   "metadata": {},
   "source": [
    "## From the result above, the prediction for laid_off is bad since the dataset is imbalanced: the number of non-laid_off(laid_off = 0) is much more than the number of laid_off(laid_off = 1)"
   ]
  },
  {
   "cell_type": "code",
   "execution_count": 14,
   "metadata": {},
   "outputs": [
    {
     "data": {
      "text/plain": [
       "0.9307332097174644"
      ]
     },
     "execution_count": 14,
     "metadata": {},
     "output_type": "execute_result"
    }
   ],
   "source": [
    "# Method 1\n",
    "# use tree-based model to deal with the effect of imbalanced data\n",
    "from sklearn.ensemble import RandomForestClassifier\n",
    "RF = RandomForestClassifier()\n",
    "RF.fit(X_train, y_train)\n",
    "RF.score(X_test,y_test)"
   ]
  },
  {
   "cell_type": "code",
   "execution_count": 13,
   "metadata": {},
   "outputs": [
    {
     "data": {
      "text/plain": [
       "GridSearchCV(cv=5, error_score='raise',\n",
       "       estimator=RandomForestClassifier(bootstrap=True, class_weight=None, criterion='gini',\n",
       "            max_depth=None, max_features='auto', max_leaf_nodes=None,\n",
       "            min_impurity_decrease=0.0, min_impurity_split=None,\n",
       "            min_samples_leaf=1, min_samples_split=2,\n",
       "            min_weight_fraction_leaf=0.0, n_estimators=10, n_jobs=1,\n",
       "            oob_score=False, random_state=None, verbose=0,\n",
       "            warm_start=False),\n",
       "       fit_params=None, iid=True, n_jobs=1,\n",
       "       param_grid={'n_estimators': [40, 60, 80]}, pre_dispatch='2*n_jobs',\n",
       "       refit=True, return_train_score='warn', scoring=None, verbose=0)"
      ]
     },
     "execution_count": 13,
     "metadata": {},
     "output_type": "execute_result"
    }
   ],
   "source": [
    "# hypermarameter tuning for Random Forest\n",
    "from sklearn.model_selection import GridSearchCV\n",
    "parameters = {\n",
    "    'n_estimators' : [40,60,80]\n",
    "}\n",
    "Grid_RF = GridSearchCV(RandomForestClassifier(),parameters, cv=5)\n",
    "Grid_RF.fit(X_train, y_train)"
   ]
  },
  {
   "cell_type": "code",
   "execution_count": 14,
   "metadata": {},
   "outputs": [
    {
     "name": "stdout",
     "output_type": "stream",
     "text": [
      "Best score: 0.927\n",
      "Best parameters set:\n",
      "\tn_estimators: 60\n"
     ]
    }
   ],
   "source": [
    "# best number of trees\n",
    "def print_grid_search_metrics(gs):\n",
    "    print (\"Best score: %0.3f\" % gs.best_score_)\n",
    "    print (\"Best parameters set:\")\n",
    "    best_parameters = gs.best_params_\n",
    "    for param_name in sorted(parameters.keys()):\n",
    "        print(\"\\t%s: %r\" % (param_name, best_parameters[param_name]))\n",
    "\n",
    "print_grid_search_metrics(Grid_RF)"
   ]
  },
  {
   "cell_type": "code",
   "execution_count": 20,
   "metadata": {},
   "outputs": [
    {
     "name": "stdout",
     "output_type": "stream",
     "text": [
      "Feature importance ranking by Random Forest Model:\n",
      "Skillset1 Weight: 0.1574\n",
      "Employees Affected: 0.157\n",
      "Length: 0.1521\n",
      "Skillset2 Weight: 0.1498\n",
      "Birth Year: 0.1085\n",
      "Education: 0.0461\n",
      "Gender Flag: 0.0298\n",
      "s2-Administration: 0.0088\n",
      "s2-IT Management and Support: 0.0081\n",
      "s2-Sales: 0.0079\n",
      "s1-Software Engineering: 0.0074\n",
      "s2-Mobile Telecommunications: 0.0072\n",
      "s2-Software Engineering: 0.007\n",
      "s2-Product Management: 0.0069\n",
      "s1-Sales: 0.0068\n",
      "s2-Web Development: 0.0066\n",
      "s1-Mobile Telecommunications: 0.0066\n",
      "s2-Electrical Engineering: 0.0064\n",
      "s1-Product Management: 0.0056\n",
      "s2-Business Development: 0.0055\n",
      "s1-IT Management and Support: 0.0055\n",
      "s2-Human Resources: 0.0053\n",
      "s1-Electrical Engineering: 0.0046\n",
      "s2-Data Analysis: 0.0045\n",
      "s1-Web Development: 0.0045\n",
      "s1-Administration: 0.0044\n",
      "s1-Finance: 0.0039\n",
      "s1-Digital Marketing: 0.0038\n",
      "s2-Finance: 0.0037\n",
      "s2-Manufacturing and Process Management: 0.0036\n",
      "s1-Human Resources: 0.0036\n",
      "s2-Social Media and Communications: 0.0035\n",
      "s2-Digital Marketing: 0.0035\n",
      "s1-Business Development: 0.0035\n",
      "s2-Web Design: 0.0034\n",
      "s2-Operations Management: 0.0033\n",
      "s1-Web Design: 0.0033\n",
      "s1-Operations Management: 0.0027\n",
      "s1-Data Analysis: 0.0027\n",
      "s2-Video and Film Production: 0.0026\n",
      "s1-Social Media and Communications: 0.0026\n",
      "s1-Video and Film Production: 0.0023\n",
      "s2-Industrial Management: 0.002\n",
      "s2-Design: 0.002\n",
      "s1-Manufacturing and Process Management: 0.002\n",
      "s2-Healthcare: 0.0017\n",
      "s1-Logistics: 0.0017\n",
      "s2-Logistics: 0.0015\n",
      "s1-Legal: 0.0015\n",
      "s2-Military: 0.0014\n",
      "s2-Public Policy: 0.0013\n",
      "s2-Non-Profit and Community: 0.0012\n",
      "s2-Musical Production: 0.0012\n",
      "s1-Non-Profit and Community: 0.0012\n",
      "s1-Design: 0.0012\n",
      "s2-Legal: 0.001\n",
      "s2-Retail and Fashion: 0.0008\n",
      "s1-Military: 0.0007\n",
      "s2-Hospitality: 0.0006\n",
      "s2-Energy, Oil, and Gas: 0.0006\n",
      "s2-Real Estate: 0.0005\n",
      "s1-Retail and Fashion: 0.0005\n",
      "s1-Industrial Management: 0.0005\n",
      "s1-Healthcare: 0.0005\n",
      "s1-Hospitality: 0.0004\n",
      "s1-Real Estate: 0.0003\n",
      "s1-Public Policy: 0.0003\n",
      "s1-Musical Production: 0.0003\n",
      "s2-Insurance: 0.0002\n",
      "s1-Insurance: 0.0002\n",
      "s1-Energy, Oil, and Gas: 0.0002\n"
     ]
    }
   ],
   "source": [
    "# feature importance\n",
    "importances = RF.feature_importances_\n",
    "# Print the feature ranking\n",
    "print(\"Feature importance ranking by Random Forest Model:\")\n",
    "for k,v in sorted(zip(map(lambda x: round(x, 4), importances), X_train.columns), reverse=True):\n",
    "    print (v + \": \" + str(k))"
   ]
  },
  {
   "cell_type": "code",
   "execution_count": 15,
   "metadata": {},
   "outputs": [
    {
     "name": "stdout",
     "output_type": "stream",
     "text": [
      "Training data size after dropping excessive observations:  (26061, 91)\n"
     ]
    }
   ],
   "source": [
    "# Method 2\n",
    "# drop non-laid_off data to get balance dataset, make ratio of not_laid_off/laid_off<=10\n",
    "not_laid_off = dataV2[dataV2['laid_off'] == 0]\n",
    "laid_off = dataV2[dataV2['laid_off'] == 1]\n",
    "np.random.seed(101)\n",
    "drop_indices = np.random.choice(not_laid_off.index, 80000, replace=False)\n",
    "not_laid_off = not_laid_off.drop(drop_indices)\n",
    "\n",
    "dataV2 = pd.concat([not_laid_off, laid_off])\n",
    "print('Training data size after dropping excessive observations: ', dataV2.shape)\n"
   ]
  },
  {
   "cell_type": "code",
   "execution_count": 16,
   "metadata": {},
   "outputs": [
    {
     "data": {
      "text/plain": [
       "LogisticRegression(C=1.0, class_weight=None, dual=False, fit_intercept=True,\n",
       "          intercept_scaling=1, max_iter=100, multi_class='ovr', n_jobs=1,\n",
       "          penalty='l2', random_state=None, solver='liblinear', tol=0.0001,\n",
       "          verbose=0, warm_start=False)"
      ]
     },
     "execution_count": 16,
     "metadata": {},
     "output_type": "execute_result"
    }
   ],
   "source": [
    "y = dataV2['laid_off']\n",
    "X = dataV2.drop(['ID',\n",
    "       'City of profile', 'Country of profile','Elite Institution',\n",
    "       'Start Date', 'StartFlag', 'End Date',\n",
    "       'EndFlag', 'CurrentEmployFlag', 'laid_off', 'Role', 'Dept', 'Company',\n",
    "       'Company_Norm', 'Ticker', 'Exchange', 'Location',\n",
    "       'Industry', 'Layoff Date', 'Company Name'],axis = 1)\n",
    "X_train, X_test, y_train, y_test = train_test_split(X, y, test_size=0.3,random_state=101)\n",
    "logreg = LogisticRegression()\n",
    "logreg.fit(X_train, y_train)"
   ]
  },
  {
   "cell_type": "code",
   "execution_count": 17,
   "metadata": {},
   "outputs": [
    {
     "data": {
      "text/plain": [
       "0.6949737818135311"
      ]
     },
     "execution_count": 17,
     "metadata": {},
     "output_type": "execute_result"
    }
   ],
   "source": [
    "logreg.score(X_test,y_test)"
   ]
  },
  {
   "cell_type": "code",
   "execution_count": 18,
   "metadata": {},
   "outputs": [
    {
     "name": "stdout",
     "output_type": "stream",
     "text": [
      "5639\n",
      "12603\n"
     ]
    }
   ],
   "source": [
    "print(len(y_train[y_train == 1]))\n",
    "print(len(y_train[y_train == 0]))"
   ]
  },
  {
   "cell_type": "code",
   "execution_count": 19,
   "metadata": {},
   "outputs": [
    {
     "name": "stdout",
     "output_type": "stream",
     "text": [
      "2399\n",
      "5420\n"
     ]
    }
   ],
   "source": [
    "print(len(y_test[y_test == 1]))\n",
    "print(len(y_test[y_test == 0]))"
   ]
  },
  {
   "cell_type": "code",
   "execution_count": 20,
   "metadata": {},
   "outputs": [
    {
     "name": "stdout",
     "output_type": "stream",
     "text": [
      "Confusion matrix of test data is: \n",
      "           Predicted 0  Predicted 1\n",
      "Actual 0         5344           76\n",
      "Actual 1         2309           90\n"
     ]
    }
   ],
   "source": [
    "# calculate confusion matrix & precision, recall, f-score\n",
    "from sklearn.metrics import confusion_matrix, classification_report\n",
    "y_true = y_test \n",
    "y_pred = logreg.predict(X_test)\n",
    "CM = pd.DataFrame(confusion_matrix(y_true, y_pred),columns = ['Predicted 0','Predicted 1'],\\\n",
    "                  index = ['Actual 0','Actual 1']\n",
    "                 )\n",
    "print ('Confusion matrix of test data is: \\n', CM)"
   ]
  },
  {
   "cell_type": "code",
   "execution_count": 21,
   "metadata": {},
   "outputs": [
    {
     "name": "stdout",
     "output_type": "stream",
     "text": [
      "              precision    recall  f1-score   support\n",
      "\n",
      "non-laid_off       0.70      0.99      0.82      5420\n",
      "    laid_off       0.54      0.04      0.07      2399\n",
      "\n",
      " avg / total       0.65      0.69      0.59      7819\n",
      "\n"
     ]
    }
   ],
   "source": [
    "target_names = ['non-laid_off', 'laid_off']\n",
    "print(classification_report(y_true, y_pred, target_names=target_names))"
   ]
  },
  {
   "cell_type": "code",
   "execution_count": 25,
   "metadata": {},
   "outputs": [
    {
     "data": {
      "image/png": "[encoded data removed]",
      "text/plain": [
       "<Figure size 432x288 with 1 Axes>"
      ]
     },
     "metadata": {},
     "output_type": "display_data"
    }
   ],
   "source": [
    "from sklearn.metrics import roc_curve,auc\n",
    "prob = logreg.predict_proba(X_test)\n",
    "pred = prob[:,1]\n",
    "fpr, tpr, threshold = roc_curve(y_test, pred)\n",
    "roc_auc = auc(fpr, tpr)\n",
    "\n",
    "plt.title(\"ROC curve\")\n",
    "plt.plot(fpr,tpr,'b',label= 'AUC = %0.2f' % roc_auc)\n",
    "plt.legend(loc = 'lower right')\n",
    "plt.plot([0, 1], [0, 1],'r--')\n",
    "plt.xlim([0, 1])\n",
    "plt.ylim([0, 1])\n",
    "plt.ylabel('True Positive Rate')\n",
    "plt.xlabel('False Positive Rate')\n",
    "plt.show()"
   ]
  },
  {
   "cell_type": "code",
   "execution_count": null,
   "metadata": {},
   "outputs": [],
   "source": []
  }
 ],
 "metadata": {
  "kernelspec": {
   "display_name": "Python 3",
   "language": "python",
   "name": "python3"
  },
  "language_info": {
   "codemirror_mode": {
    "name": "ipython",
    "version": 3
   },
   "file_extension": ".py",
   "mimetype": "text/x-python",
   "name": "python",
   "nbconvert_exporter": "python",
   "pygments_lexer": "ipython3",
   "version": "3.6.5"
  }
 },
 "nbformat": 4,
 "nbformat_minor": 2
}

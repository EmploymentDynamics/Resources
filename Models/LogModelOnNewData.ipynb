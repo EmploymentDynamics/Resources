{
 "cells": [
  {
   "cell_type": "code",
   "execution_count": 1,
   "metadata": {
    "scrolled": true
   },
   "outputs": [
    {
     "name": "stderr",
     "output_type": "stream",
     "text": [
      "D:\\Anaconda\\envs\\data-x\\lib\\site-packages\\IPython\\core\\interactiveshell.py:3020: DtypeWarning: Columns (2,11,13,30,31,33) have mixed types. Specify dtype option on import or set low_memory=False.\n",
      "  interactivity=interactivity, compiler=compiler, result=result)\n"
     ]
    },
    {
     "data": {
      "text/html": [
       "<div>\n",
       "<style scoped>\n",
       "    .dataframe tbody tr th:only-of-type {\n",
       "        vertical-align: middle;\n",
       "    }\n",
       "\n",
       "    .dataframe tbody tr th {\n",
       "        vertical-align: top;\n",
       "    }\n",
       "\n",
       "    .dataframe thead th {\n",
       "        text-align: right;\n",
       "    }\n",
       "</style>\n",
       "<table border=\"1\" class=\"dataframe\">\n",
       "  <thead>\n",
       "    <tr style=\"text-align: right;\">\n",
       "      <th></th>\n",
       "      <th>Unnamed: 0</th>\n",
       "      <th>ID</th>\n",
       "      <th>Birth Year</th>\n",
       "      <th>Gender Flag</th>\n",
       "      <th>Skillset1</th>\n",
       "      <th>Skillset1 Weight</th>\n",
       "      <th>Skillset2</th>\n",
       "      <th>Skillset2 Weight</th>\n",
       "      <th>City of profile</th>\n",
       "      <th>Country of profile</th>\n",
       "      <th>...</th>\n",
       "      <th>DegreeType</th>\n",
       "      <th>EliteFlag</th>\n",
       "      <th>Dummy1</th>\n",
       "      <th>Dummy2</th>\n",
       "      <th>Dummy3</th>\n",
       "      <th>Dummy4</th>\n",
       "      <th>Layoff Date</th>\n",
       "      <th>Company Name</th>\n",
       "      <th>Employees Affected</th>\n",
       "      <th>laid_off</th>\n",
       "    </tr>\n",
       "  </thead>\n",
       "  <tbody>\n",
       "    <tr>\n",
       "      <th>0</th>\n",
       "      <td>0</td>\n",
       "      <td>3095f7eb-b536-39ca-8bd4-949a290deed9</td>\n",
       "      <td>1997</td>\n",
       "      <td>2</td>\n",
       "      <td>Web Development</td>\n",
       "      <td>0.874223</td>\n",
       "      <td>Software Engineering</td>\n",
       "      <td>0.075843</td>\n",
       "      <td>NaN</td>\n",
       "      <td>United States</td>\n",
       "      <td>...</td>\n",
       "      <td>NaN</td>\n",
       "      <td>False</td>\n",
       "      <td>NaN</td>\n",
       "      <td>NaN</td>\n",
       "      <td>BBG000BWNFZ9</td>\n",
       "      <td>1497024570000</td>\n",
       "      <td>10/23/2015</td>\n",
       "      <td>Western Digital Technologies, Inc.</td>\n",
       "      <td>56</td>\n",
       "      <td>0</td>\n",
       "    </tr>\n",
       "    <tr>\n",
       "      <th>1</th>\n",
       "      <td>0</td>\n",
       "      <td>3095f7eb-b536-39ca-8bd4-949a290deed9</td>\n",
       "      <td>1997</td>\n",
       "      <td>2</td>\n",
       "      <td>Web Development</td>\n",
       "      <td>0.874223</td>\n",
       "      <td>Software Engineering</td>\n",
       "      <td>0.075843</td>\n",
       "      <td>NaN</td>\n",
       "      <td>United States</td>\n",
       "      <td>...</td>\n",
       "      <td>NaN</td>\n",
       "      <td>False</td>\n",
       "      <td>NaN</td>\n",
       "      <td>NaN</td>\n",
       "      <td>BBG000BWNFZ9</td>\n",
       "      <td>1497024570000</td>\n",
       "      <td>10/24/2016</td>\n",
       "      <td>Western Digital Technologies, Inc.</td>\n",
       "      <td>59</td>\n",
       "      <td>0</td>\n",
       "    </tr>\n",
       "    <tr>\n",
       "      <th>2</th>\n",
       "      <td>0</td>\n",
       "      <td>3095f7eb-b536-39ca-8bd4-949a290deed9</td>\n",
       "      <td>1997</td>\n",
       "      <td>2</td>\n",
       "      <td>Web Development</td>\n",
       "      <td>0.874223</td>\n",
       "      <td>Software Engineering</td>\n",
       "      <td>0.075843</td>\n",
       "      <td>NaN</td>\n",
       "      <td>United States</td>\n",
       "      <td>...</td>\n",
       "      <td>NaN</td>\n",
       "      <td>False</td>\n",
       "      <td>NaN</td>\n",
       "      <td>NaN</td>\n",
       "      <td>BBG000BWNFZ9</td>\n",
       "      <td>1497024570000</td>\n",
       "      <td>6/17/2016</td>\n",
       "      <td>Western Digital Technologies, Inc.</td>\n",
       "      <td>71</td>\n",
       "      <td>0</td>\n",
       "    </tr>\n",
       "    <tr>\n",
       "      <th>3</th>\n",
       "      <td>0</td>\n",
       "      <td>3095f7eb-b536-39ca-8bd4-949a290deed9</td>\n",
       "      <td>1997</td>\n",
       "      <td>2</td>\n",
       "      <td>Web Development</td>\n",
       "      <td>0.874223</td>\n",
       "      <td>Software Engineering</td>\n",
       "      <td>0.075843</td>\n",
       "      <td>NaN</td>\n",
       "      <td>United States</td>\n",
       "      <td>...</td>\n",
       "      <td>NaN</td>\n",
       "      <td>False</td>\n",
       "      <td>NaN</td>\n",
       "      <td>NaN</td>\n",
       "      <td>BBG000BWNFZ9</td>\n",
       "      <td>1497024570000</td>\n",
       "      <td>7/3/2016</td>\n",
       "      <td>Western Digital Technologies, Inc.</td>\n",
       "      <td>337</td>\n",
       "      <td>0</td>\n",
       "    </tr>\n",
       "    <tr>\n",
       "      <th>4</th>\n",
       "      <td>0</td>\n",
       "      <td>3095f7eb-b536-39ca-8bd4-949a290deed9</td>\n",
       "      <td>1997</td>\n",
       "      <td>2</td>\n",
       "      <td>Web Development</td>\n",
       "      <td>0.874223</td>\n",
       "      <td>Software Engineering</td>\n",
       "      <td>0.075843</td>\n",
       "      <td>NaN</td>\n",
       "      <td>United States</td>\n",
       "      <td>...</td>\n",
       "      <td>NaN</td>\n",
       "      <td>False</td>\n",
       "      <td>NaN</td>\n",
       "      <td>NaN</td>\n",
       "      <td>BBG000BWNFZ9</td>\n",
       "      <td>1497024570000</td>\n",
       "      <td>8/27/2018</td>\n",
       "      <td>Western Digital Technologies, Inc.</td>\n",
       "      <td>79</td>\n",
       "      <td>0</td>\n",
       "    </tr>\n",
       "  </tbody>\n",
       "</table>\n",
       "<p>5 rows × 38 columns</p>\n",
       "</div>"
      ],
      "text/plain": [
       "   Unnamed: 0                                    ID Birth Year  Gender Flag  \\\n",
       "0           0  3095f7eb-b536-39ca-8bd4-949a290deed9       1997            2   \n",
       "1           0  3095f7eb-b536-39ca-8bd4-949a290deed9       1997            2   \n",
       "2           0  3095f7eb-b536-39ca-8bd4-949a290deed9       1997            2   \n",
       "3           0  3095f7eb-b536-39ca-8bd4-949a290deed9       1997            2   \n",
       "4           0  3095f7eb-b536-39ca-8bd4-949a290deed9       1997            2   \n",
       "\n",
       "         Skillset1  Skillset1 Weight             Skillset2  Skillset2 Weight  \\\n",
       "0  Web Development          0.874223  Software Engineering          0.075843   \n",
       "1  Web Development          0.874223  Software Engineering          0.075843   \n",
       "2  Web Development          0.874223  Software Engineering          0.075843   \n",
       "3  Web Development          0.874223  Software Engineering          0.075843   \n",
       "4  Web Development          0.874223  Software Engineering          0.075843   \n",
       "\n",
       "  City of profile Country of profile  ...  DegreeType EliteFlag Dummy1 Dummy2  \\\n",
       "0             NaN      United States  ...         NaN     False    NaN    NaN   \n",
       "1             NaN      United States  ...         NaN     False    NaN    NaN   \n",
       "2             NaN      United States  ...         NaN     False    NaN    NaN   \n",
       "3             NaN      United States  ...         NaN     False    NaN    NaN   \n",
       "4             NaN      United States  ...         NaN     False    NaN    NaN   \n",
       "\n",
       "         Dummy3         Dummy4  Layoff Date  \\\n",
       "0  BBG000BWNFZ9  1497024570000   10/23/2015   \n",
       "1  BBG000BWNFZ9  1497024570000   10/24/2016   \n",
       "2  BBG000BWNFZ9  1497024570000    6/17/2016   \n",
       "3  BBG000BWNFZ9  1497024570000     7/3/2016   \n",
       "4  BBG000BWNFZ9  1497024570000    8/27/2018   \n",
       "\n",
       "                         Company Name Employees Affected laid_off  \n",
       "0  Western Digital Technologies, Inc.                 56        0  \n",
       "1  Western Digital Technologies, Inc.                 59        0  \n",
       "2  Western Digital Technologies, Inc.                 71        0  \n",
       "3  Western Digital Technologies, Inc.                337        0  \n",
       "4  Western Digital Technologies, Inc.                 79        0  \n",
       "\n",
       "[5 rows x 38 columns]"
      ]
     },
     "execution_count": 1,
     "metadata": {},
     "output_type": "execute_result"
    }
   ],
   "source": [
    "import pandas as pd\n",
    "import numpy as np\n",
    "import sklearn\n",
    "import matplotlib.pyplot as plt\n",
    "import math\n",
    "dataV1= pd.read_csv(r\"C:\\Ran\\Berkeley\\IEOR\\290\\Project\\Data\\TrainingDatasetV1.csv\",encoding = \"latin1\")\n",
    "dataV1.head()"
   ]
  },
  {
   "cell_type": "code",
   "execution_count": 2,
   "metadata": {},
   "outputs": [
    {
     "data": {
      "text/html": [
       "<div>\n",
       "<style scoped>\n",
       "    .dataframe tbody tr th:only-of-type {\n",
       "        vertical-align: middle;\n",
       "    }\n",
       "\n",
       "    .dataframe tbody tr th {\n",
       "        vertical-align: top;\n",
       "    }\n",
       "\n",
       "    .dataframe thead th {\n",
       "        text-align: right;\n",
       "    }\n",
       "</style>\n",
       "<table border=\"1\" class=\"dataframe\">\n",
       "  <thead>\n",
       "    <tr style=\"text-align: right;\">\n",
       "      <th></th>\n",
       "      <th>Unnamed: 0</th>\n",
       "      <th>ID</th>\n",
       "      <th>Birth Year</th>\n",
       "      <th>Gender Flag</th>\n",
       "      <th>Skillset1 Weight</th>\n",
       "      <th>Skillset2 Weight</th>\n",
       "      <th>City of profile</th>\n",
       "      <th>Country of profile</th>\n",
       "      <th>Education</th>\n",
       "      <th>Elite Institution</th>\n",
       "      <th>...</th>\n",
       "      <th>s2-Retail and Fashion</th>\n",
       "      <th>s2-Sales</th>\n",
       "      <th>s2-Sales Management</th>\n",
       "      <th>s2-Social Media and Communications</th>\n",
       "      <th>s2-Software Engineering</th>\n",
       "      <th>s2-Technical Product Management</th>\n",
       "      <th>s2-Video and Film Production</th>\n",
       "      <th>s2-Visual Design</th>\n",
       "      <th>s2-Web Design</th>\n",
       "      <th>s2-Web Development</th>\n",
       "    </tr>\n",
       "  </thead>\n",
       "  <tbody>\n",
       "    <tr>\n",
       "      <th>0</th>\n",
       "      <td>0</td>\n",
       "      <td>3095f7eb-b536-39ca-8bd4-949a290deed9</td>\n",
       "      <td>1997</td>\n",
       "      <td>2</td>\n",
       "      <td>0.874223</td>\n",
       "      <td>0.075843</td>\n",
       "      <td>NaN</td>\n",
       "      <td>United States</td>\n",
       "      <td>4</td>\n",
       "      <td>False</td>\n",
       "      <td>...</td>\n",
       "      <td>0</td>\n",
       "      <td>0</td>\n",
       "      <td>0</td>\n",
       "      <td>0</td>\n",
       "      <td>1</td>\n",
       "      <td>0</td>\n",
       "      <td>0</td>\n",
       "      <td>0</td>\n",
       "      <td>0</td>\n",
       "      <td>0</td>\n",
       "    </tr>\n",
       "    <tr>\n",
       "      <th>1</th>\n",
       "      <td>0</td>\n",
       "      <td>3095f7eb-b536-39ca-8bd4-949a290deed9</td>\n",
       "      <td>1997</td>\n",
       "      <td>2</td>\n",
       "      <td>0.874223</td>\n",
       "      <td>0.075843</td>\n",
       "      <td>NaN</td>\n",
       "      <td>United States</td>\n",
       "      <td>4</td>\n",
       "      <td>False</td>\n",
       "      <td>...</td>\n",
       "      <td>0</td>\n",
       "      <td>0</td>\n",
       "      <td>0</td>\n",
       "      <td>0</td>\n",
       "      <td>1</td>\n",
       "      <td>0</td>\n",
       "      <td>0</td>\n",
       "      <td>0</td>\n",
       "      <td>0</td>\n",
       "      <td>0</td>\n",
       "    </tr>\n",
       "    <tr>\n",
       "      <th>2</th>\n",
       "      <td>0</td>\n",
       "      <td>3095f7eb-b536-39ca-8bd4-949a290deed9</td>\n",
       "      <td>1997</td>\n",
       "      <td>2</td>\n",
       "      <td>0.874223</td>\n",
       "      <td>0.075843</td>\n",
       "      <td>NaN</td>\n",
       "      <td>United States</td>\n",
       "      <td>4</td>\n",
       "      <td>False</td>\n",
       "      <td>...</td>\n",
       "      <td>0</td>\n",
       "      <td>0</td>\n",
       "      <td>0</td>\n",
       "      <td>0</td>\n",
       "      <td>1</td>\n",
       "      <td>0</td>\n",
       "      <td>0</td>\n",
       "      <td>0</td>\n",
       "      <td>0</td>\n",
       "      <td>0</td>\n",
       "    </tr>\n",
       "    <tr>\n",
       "      <th>3</th>\n",
       "      <td>0</td>\n",
       "      <td>3095f7eb-b536-39ca-8bd4-949a290deed9</td>\n",
       "      <td>1997</td>\n",
       "      <td>2</td>\n",
       "      <td>0.874223</td>\n",
       "      <td>0.075843</td>\n",
       "      <td>NaN</td>\n",
       "      <td>United States</td>\n",
       "      <td>4</td>\n",
       "      <td>False</td>\n",
       "      <td>...</td>\n",
       "      <td>0</td>\n",
       "      <td>0</td>\n",
       "      <td>0</td>\n",
       "      <td>0</td>\n",
       "      <td>1</td>\n",
       "      <td>0</td>\n",
       "      <td>0</td>\n",
       "      <td>0</td>\n",
       "      <td>0</td>\n",
       "      <td>0</td>\n",
       "    </tr>\n",
       "    <tr>\n",
       "      <th>4</th>\n",
       "      <td>0</td>\n",
       "      <td>3095f7eb-b536-39ca-8bd4-949a290deed9</td>\n",
       "      <td>1997</td>\n",
       "      <td>2</td>\n",
       "      <td>0.874223</td>\n",
       "      <td>0.075843</td>\n",
       "      <td>NaN</td>\n",
       "      <td>United States</td>\n",
       "      <td>4</td>\n",
       "      <td>False</td>\n",
       "      <td>...</td>\n",
       "      <td>0</td>\n",
       "      <td>0</td>\n",
       "      <td>0</td>\n",
       "      <td>0</td>\n",
       "      <td>1</td>\n",
       "      <td>0</td>\n",
       "      <td>0</td>\n",
       "      <td>0</td>\n",
       "      <td>0</td>\n",
       "      <td>0</td>\n",
       "    </tr>\n",
       "  </tbody>\n",
       "</table>\n",
       "<p>5 rows × 130 columns</p>\n",
       "</div>"
      ],
      "text/plain": [
       "   Unnamed: 0                                    ID Birth Year  Gender Flag  \\\n",
       "0           0  3095f7eb-b536-39ca-8bd4-949a290deed9       1997            2   \n",
       "1           0  3095f7eb-b536-39ca-8bd4-949a290deed9       1997            2   \n",
       "2           0  3095f7eb-b536-39ca-8bd4-949a290deed9       1997            2   \n",
       "3           0  3095f7eb-b536-39ca-8bd4-949a290deed9       1997            2   \n",
       "4           0  3095f7eb-b536-39ca-8bd4-949a290deed9       1997            2   \n",
       "\n",
       "   Skillset1 Weight  Skillset2 Weight City of profile Country of profile  \\\n",
       "0          0.874223          0.075843             NaN      United States   \n",
       "1          0.874223          0.075843             NaN      United States   \n",
       "2          0.874223          0.075843             NaN      United States   \n",
       "3          0.874223          0.075843             NaN      United States   \n",
       "4          0.874223          0.075843             NaN      United States   \n",
       "\n",
       "   Education Elite Institution  ... s2-Retail and Fashion s2-Sales  \\\n",
       "0          4             False  ...                     0        0   \n",
       "1          4             False  ...                     0        0   \n",
       "2          4             False  ...                     0        0   \n",
       "3          4             False  ...                     0        0   \n",
       "4          4             False  ...                     0        0   \n",
       "\n",
       "  s2-Sales Management  s2-Social Media and Communications  \\\n",
       "0                   0                                   0   \n",
       "1                   0                                   0   \n",
       "2                   0                                   0   \n",
       "3                   0                                   0   \n",
       "4                   0                                   0   \n",
       "\n",
       "   s2-Software Engineering  s2-Technical Product Management  \\\n",
       "0                        1                                0   \n",
       "1                        1                                0   \n",
       "2                        1                                0   \n",
       "3                        1                                0   \n",
       "4                        1                                0   \n",
       "\n",
       "  s2-Video and Film Production s2-Visual Design s2-Web Design  \\\n",
       "0                            0                0             0   \n",
       "1                            0                0             0   \n",
       "2                            0                0             0   \n",
       "3                            0                0             0   \n",
       "4                            0                0             0   \n",
       "\n",
       "  s2-Web Development  \n",
       "0                  0  \n",
       "1                  0  \n",
       "2                  0  \n",
       "3                  0  \n",
       "4                  0  \n",
       "\n",
       "[5 rows x 130 columns]"
      ]
     },
     "execution_count": 2,
     "metadata": {},
     "output_type": "execute_result"
    }
   ],
   "source": [
    "# use one-hot encoding to encode skillsets\n",
    "encodeSkill1 = pd.get_dummies(dataV1['Skillset1'], prefix = 's1', prefix_sep='-')\n",
    "encodeSkill2 = pd.get_dummies(dataV1['Skillset2'], prefix = 's2', prefix_sep='-') \n",
    "dataV1 = dataV1.drop(['Skillset1','Skillset2'], axis = 1)\n",
    "dataV1 = dataV1.join(encodeSkill1) \n",
    "dataV1 = dataV1.join(encodeSkill2)\n",
    "dataV1.head()"
   ]
  },
  {
   "cell_type": "code",
   "execution_count": 3,
   "metadata": {},
   "outputs": [
    {
     "data": {
      "text/plain": [
       "Index(['Unnamed: 0', 'ID', 'Birth Year', 'Gender Flag', 'Skillset1 Weight',\n",
       "       'Skillset2 Weight', 'City of profile', 'Country of profile',\n",
       "       'Education', 'Elite Institution',\n",
       "       ...\n",
       "       's2-Retail and Fashion', 's2-Sales', 's2-Sales Management',\n",
       "       's2-Social Media and Communications', 's2-Software Engineering',\n",
       "       's2-Technical Product Management', 's2-Video and Film Production',\n",
       "       's2-Visual Design', 's2-Web Design', 's2-Web Development'],\n",
       "      dtype='object', length=130)"
      ]
     },
     "execution_count": 3,
     "metadata": {},
     "output_type": "execute_result"
    }
   ],
   "source": [
    "dataV1.columns"
   ]
  },
  {
   "cell_type": "code",
   "execution_count": 4,
   "metadata": {},
   "outputs": [
    {
     "name": "stdout",
     "output_type": "stream",
     "text": [
      "128947\n",
      "8040\n",
      "Training data size after dropping excessive observations:  (16987, 130)\n"
     ]
    }
   ],
   "source": [
    "not_laid_off = dataV1[dataV1['laid_off'] == 0]\n",
    "laid_off = dataV1[dataV1['laid_off'] == 1]\n",
    "print(len(not_laid_off)) # Too many observations classified as not laid off\n",
    "print(len(laid_off))\n",
    "\n",
    "np.random.seed(101)\n",
    "drop_indices = np.random.choice(not_laid_off.index, 120000, replace=False)\n",
    "not_laid_off = not_laid_off.drop(drop_indices)\n",
    "\n",
    "dataV1 = pd.concat([not_laid_off, laid_off])\n",
    "print('Training data size after dropping excessive observations: ', dataV1.shape)"
   ]
  },
  {
   "cell_type": "code",
   "execution_count": 5,
   "metadata": {},
   "outputs": [
    {
     "name": "stdout",
     "output_type": "stream",
     "text": [
      "<class 'pandas.core.frame.DataFrame'>\n",
      "Int64Index: 16987 entries, 29 to 136986\n",
      "Columns: 130 entries, Unnamed: 0 to s2-Web Development\n",
      "dtypes: bool(5), float64(5), int64(5), object(21), uint8(94)\n",
      "memory usage: 5.8+ MB\n"
     ]
    }
   ],
   "source": [
    "dataV1 = dataV1.dropna(subset=['laid_off'])\n",
    "dataV1.info()"
   ]
  },
  {
   "cell_type": "code",
   "execution_count": 6,
   "metadata": {},
   "outputs": [],
   "source": [
    "dataV1 = dataV1[dataV1['Birth Year' ]!= 'None']\n",
    "dataV1['Birth Year'] = dataV1['Birth Year'].astype(float) #Convert from string to float to work for regression\n",
    "\n",
    "dataV1 = dataV1.dropna(subset=['Length'])"
   ]
  },
  {
   "cell_type": "code",
   "execution_count": 7,
   "metadata": {},
   "outputs": [],
   "source": [
    "from sklearn import metrics\n",
    "from sklearn.linear_model import LogisticRegression\n",
    "from sklearn.model_selection import train_test_split\n",
    "from sklearn.linear_model import LinearRegression\n",
    "from sklearn.preprocessing import StandardScaler\n",
    "y = dataV1['laid_off']\n",
    "X = dataV1.drop(['Unnamed: 0', 'ID',\n",
    "       'City of profile', 'Country of profile','Elite Institution',\n",
    "       'Start Date', 'StartFlag', 'End Date',\n",
    "       'EndFlag', 'CurrentEmployFlag', 'laid_off', 'Role', 'Dept', 'Company',\n",
    "       'Company_Norm', 'Ticker', 'Exchange', 'PublicFlag','Location',\n",
    "       'Industry', 'EducationFlag','DegreeType','EliteFlag','Layoff Date', 'Company Name','Dummy1','Dummy2','Dummy3','Dummy4'],axis = 1)\n"
   ]
  },
  {
   "cell_type": "code",
   "execution_count": 8,
   "metadata": {},
   "outputs": [
    {
     "name": "stderr",
     "output_type": "stream",
     "text": [
      "D:\\Anaconda\\envs\\data-x\\lib\\site-packages\\sklearn\\linear_model\\logistic.py:433: FutureWarning: Default solver will be changed to 'lbfgs' in 0.22. Specify a solver to silence this warning.\n",
      "  FutureWarning)\n"
     ]
    },
    {
     "data": {
      "text/plain": [
       "LogisticRegression(C=1.0, class_weight=None, dual=False, fit_intercept=True,\n",
       "          intercept_scaling=1, max_iter=100, multi_class='warn',\n",
       "          n_jobs=None, penalty='l2', random_state=None, solver='warn',\n",
       "          tol=0.0001, verbose=0, warm_start=False)"
      ]
     },
     "execution_count": 8,
     "metadata": {},
     "output_type": "execute_result"
    }
   ],
   "source": [
    "X_train, X_test, y_train, y_test = train_test_split(X, y, test_size=0.3,random_state=101)\n",
    "logreg = LogisticRegression()\n",
    "logreg.fit(X_train, y_train)\n"
   ]
  },
  {
   "cell_type": "code",
   "execution_count": 9,
   "metadata": {},
   "outputs": [
    {
     "data": {
      "text/plain": [
       "0.797997644287397"
      ]
     },
     "execution_count": 9,
     "metadata": {},
     "output_type": "execute_result"
    }
   ],
   "source": [
    "logreg.score(X_test,y_test)"
   ]
  },
  {
   "cell_type": "code",
   "execution_count": 10,
   "metadata": {},
   "outputs": [
    {
     "name": "stdout",
     "output_type": "stream",
     "text": [
      "5645\n",
      "6240\n"
     ]
    }
   ],
   "source": [
    "print(len(y_train[y_train == 1]))\n",
    "print(len(y_train[y_train == 0]))"
   ]
  },
  {
   "cell_type": "code",
   "execution_count": 11,
   "metadata": {},
   "outputs": [
    {
     "name": "stdout",
     "output_type": "stream",
     "text": [
      "2393\n",
      "2701\n"
     ]
    }
   ],
   "source": [
    "print(len(y_test[y_test == 1]))\n",
    "print(len(y_test[y_test == 0]))"
   ]
  },
  {
   "cell_type": "code",
   "execution_count": 12,
   "metadata": {},
   "outputs": [
    {
     "name": "stdout",
     "output_type": "stream",
     "text": [
      "Confusion matrix of test data is: \n",
      "           Predicted 0  Predicted 1\n",
      "Actual 0         2045          656\n",
      "Actual 1          373         2020\n"
     ]
    }
   ],
   "source": [
    "from sklearn.metrics import confusion_matrix\n",
    "y_true = y_test\n",
    "y_pred = logreg.predict(X_test)\n",
    "CM = pd.DataFrame(confusion_matrix(y_true, y_pred),columns = ['Predicted 0','Predicted 1'],\\\n",
    "                  index = ['Actual 0','Actual 1']\n",
    "                 )\n",
    "print ('Confusion matrix of test data is: \\n', CM)"
   ]
  },
  {
   "cell_type": "markdown",
   "metadata": {},
   "source": [
    "### Performing log regression on encoded training data:"
   ]
  },
  {
   "cell_type": "code",
   "execution_count": 13,
   "metadata": {},
   "outputs": [
    {
     "name": "stderr",
     "output_type": "stream",
     "text": [
      "D:\\Anaconda\\envs\\data-x\\lib\\site-packages\\IPython\\core\\interactiveshell.py:3020: DtypeWarning: Columns (12,24) have mixed types. Specify dtype option on import or set low_memory=False.\n",
      "  interactivity=interactivity, compiler=compiler, result=result)\n"
     ]
    }
   ],
   "source": [
    "dataV2= pd.read_csv(r\"C:\\Ran\\Berkeley\\IEOR\\290\\Project\\Data\\TrainingDatasetV2.csv\",encoding = \"latin1\")\n"
   ]
  },
  {
   "cell_type": "code",
   "execution_count": null,
   "metadata": {},
   "outputs": [],
   "source": []
  }
 ],
 "metadata": {
  "kernelspec": {
   "display_name": "Python 3",
   "language": "python",
   "name": "python3"
  },
  "language_info": {
   "codemirror_mode": {
    "name": "ipython",
    "version": 3
   },
   "file_extension": ".py",
   "mimetype": "text/x-python",
   "name": "python",
   "nbconvert_exporter": "python",
   "pygments_lexer": "ipython3",
   "version": "3.6.8"
  }
 },
 "nbformat": 4,
 "nbformat_minor": 2
}

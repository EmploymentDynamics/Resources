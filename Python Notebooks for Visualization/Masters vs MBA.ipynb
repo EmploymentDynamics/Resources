{
 "cells": [
  {
   "cell_type": "code",
   "execution_count": 1,
   "metadata": {},
   "outputs": [],
   "source": [
    "import pandas as pd\n",
    "import numpy as np\n",
    "import matplotlib.pyplot as plt\n",
    "import seaborn as sns\n",
    "%matplotlib inline\n",
    "import warnings\n",
    "warnings.filterwarnings('ignore')"
   ]
  },
  {
   "cell_type": "code",
   "execution_count": 2,
   "metadata": {},
   "outputs": [],
   "source": [
    "data = pd.read_csv(r'C:\\Ran\\Berkeley\\IEOR\\290\\Project\\Data\\New Data\\newData1.csv')"
   ]
  },
  {
   "cell_type": "code",
   "execution_count": 3,
   "metadata": {},
   "outputs": [
    {
     "data": {
      "text/html": [
       "<div>\n",
       "<style scoped>\n",
       "    .dataframe tbody tr th:only-of-type {\n",
       "        vertical-align: middle;\n",
       "    }\n",
       "\n",
       "    .dataframe tbody tr th {\n",
       "        vertical-align: top;\n",
       "    }\n",
       "\n",
       "    .dataframe thead th {\n",
       "        text-align: right;\n",
       "    }\n",
       "</style>\n",
       "<table border=\"1\" class=\"dataframe\">\n",
       "  <thead>\n",
       "    <tr style=\"text-align: right;\">\n",
       "      <th></th>\n",
       "      <th>Unnamed: 0</th>\n",
       "      <th>Unnamed: 0.1</th>\n",
       "      <th>ID</th>\n",
       "      <th>Birth Year</th>\n",
       "      <th>Gender Flag</th>\n",
       "      <th>Skillset1</th>\n",
       "      <th>Skillset1 Weight</th>\n",
       "      <th>Skillset2</th>\n",
       "      <th>Skillset2 Weight</th>\n",
       "      <th>City of profile</th>\n",
       "      <th>...</th>\n",
       "      <th>Length</th>\n",
       "      <th>Role</th>\n",
       "      <th>Dept</th>\n",
       "      <th>Location</th>\n",
       "      <th>Industry</th>\n",
       "      <th>Layoff Date</th>\n",
       "      <th>Company Name</th>\n",
       "      <th>Employees Affected</th>\n",
       "      <th>laid_off</th>\n",
       "      <th>Age</th>\n",
       "    </tr>\n",
       "  </thead>\n",
       "  <tbody>\n",
       "    <tr>\n",
       "      <th>0</th>\n",
       "      <td>0</td>\n",
       "      <td>0</td>\n",
       "      <td>3095f7eb-b536-39ca-8bd4-949a290deed9</td>\n",
       "      <td>1997</td>\n",
       "      <td>2</td>\n",
       "      <td>Web Development</td>\n",
       "      <td>0.874223</td>\n",
       "      <td>Software Engineering</td>\n",
       "      <td>0.075843</td>\n",
       "      <td>NaN</td>\n",
       "      <td>...</td>\n",
       "      <td>61.0</td>\n",
       "      <td>?</td>\n",
       "      <td>NaN</td>\n",
       "      <td>milpitas, ca</td>\n",
       "      <td>Manufacturing</td>\n",
       "      <td>10/23/2015</td>\n",
       "      <td>Western Digital Technologies, Inc.</td>\n",
       "      <td>56</td>\n",
       "      <td>0</td>\n",
       "      <td>21</td>\n",
       "    </tr>\n",
       "    <tr>\n",
       "      <th>1</th>\n",
       "      <td>1</td>\n",
       "      <td>1</td>\n",
       "      <td>3095f7eb-b536-39ca-8bd4-949a290deed9</td>\n",
       "      <td>1997</td>\n",
       "      <td>2</td>\n",
       "      <td>Web Development</td>\n",
       "      <td>0.874223</td>\n",
       "      <td>Software Engineering</td>\n",
       "      <td>0.075843</td>\n",
       "      <td>NaN</td>\n",
       "      <td>...</td>\n",
       "      <td>61.0</td>\n",
       "      <td>?</td>\n",
       "      <td>NaN</td>\n",
       "      <td>milpitas, ca</td>\n",
       "      <td>Manufacturing</td>\n",
       "      <td>10/24/2016</td>\n",
       "      <td>Western Digital Technologies, Inc.</td>\n",
       "      <td>59</td>\n",
       "      <td>0</td>\n",
       "      <td>21</td>\n",
       "    </tr>\n",
       "    <tr>\n",
       "      <th>2</th>\n",
       "      <td>2</td>\n",
       "      <td>2</td>\n",
       "      <td>3095f7eb-b536-39ca-8bd4-949a290deed9</td>\n",
       "      <td>1997</td>\n",
       "      <td>2</td>\n",
       "      <td>Web Development</td>\n",
       "      <td>0.874223</td>\n",
       "      <td>Software Engineering</td>\n",
       "      <td>0.075843</td>\n",
       "      <td>NaN</td>\n",
       "      <td>...</td>\n",
       "      <td>61.0</td>\n",
       "      <td>?</td>\n",
       "      <td>NaN</td>\n",
       "      <td>milpitas, ca</td>\n",
       "      <td>Manufacturing</td>\n",
       "      <td>6/17/2016</td>\n",
       "      <td>Western Digital Technologies, Inc.</td>\n",
       "      <td>71</td>\n",
       "      <td>0</td>\n",
       "      <td>21</td>\n",
       "    </tr>\n",
       "    <tr>\n",
       "      <th>3</th>\n",
       "      <td>3</td>\n",
       "      <td>3</td>\n",
       "      <td>3095f7eb-b536-39ca-8bd4-949a290deed9</td>\n",
       "      <td>1997</td>\n",
       "      <td>2</td>\n",
       "      <td>Web Development</td>\n",
       "      <td>0.874223</td>\n",
       "      <td>Software Engineering</td>\n",
       "      <td>0.075843</td>\n",
       "      <td>NaN</td>\n",
       "      <td>...</td>\n",
       "      <td>61.0</td>\n",
       "      <td>?</td>\n",
       "      <td>NaN</td>\n",
       "      <td>milpitas, ca</td>\n",
       "      <td>Manufacturing</td>\n",
       "      <td>7/3/2016</td>\n",
       "      <td>Western Digital Technologies, Inc.</td>\n",
       "      <td>337</td>\n",
       "      <td>0</td>\n",
       "      <td>21</td>\n",
       "    </tr>\n",
       "    <tr>\n",
       "      <th>4</th>\n",
       "      <td>4</td>\n",
       "      <td>4</td>\n",
       "      <td>3095f7eb-b536-39ca-8bd4-949a290deed9</td>\n",
       "      <td>1997</td>\n",
       "      <td>2</td>\n",
       "      <td>Web Development</td>\n",
       "      <td>0.874223</td>\n",
       "      <td>Software Engineering</td>\n",
       "      <td>0.075843</td>\n",
       "      <td>NaN</td>\n",
       "      <td>...</td>\n",
       "      <td>61.0</td>\n",
       "      <td>?</td>\n",
       "      <td>NaN</td>\n",
       "      <td>milpitas, ca</td>\n",
       "      <td>Manufacturing</td>\n",
       "      <td>8/27/2018</td>\n",
       "      <td>Western Digital Technologies, Inc.</td>\n",
       "      <td>79</td>\n",
       "      <td>0</td>\n",
       "      <td>21</td>\n",
       "    </tr>\n",
       "  </tbody>\n",
       "</table>\n",
       "<p>5 rows × 25 columns</p>\n",
       "</div>"
      ],
      "text/plain": [
       "   Unnamed: 0  Unnamed: 0.1                                    ID  Birth Year  \\\n",
       "0           0             0  3095f7eb-b536-39ca-8bd4-949a290deed9        1997   \n",
       "1           1             1  3095f7eb-b536-39ca-8bd4-949a290deed9        1997   \n",
       "2           2             2  3095f7eb-b536-39ca-8bd4-949a290deed9        1997   \n",
       "3           3             3  3095f7eb-b536-39ca-8bd4-949a290deed9        1997   \n",
       "4           4             4  3095f7eb-b536-39ca-8bd4-949a290deed9        1997   \n",
       "\n",
       "   Gender Flag        Skillset1  Skillset1 Weight             Skillset2  \\\n",
       "0            2  Web Development          0.874223  Software Engineering   \n",
       "1            2  Web Development          0.874223  Software Engineering   \n",
       "2            2  Web Development          0.874223  Software Engineering   \n",
       "3            2  Web Development          0.874223  Software Engineering   \n",
       "4            2  Web Development          0.874223  Software Engineering   \n",
       "\n",
       "   Skillset2 Weight City of profile  ... Length  Role  Dept      Location  \\\n",
       "0          0.075843             NaN  ...   61.0     ?   NaN  milpitas, ca   \n",
       "1          0.075843             NaN  ...   61.0     ?   NaN  milpitas, ca   \n",
       "2          0.075843             NaN  ...   61.0     ?   NaN  milpitas, ca   \n",
       "3          0.075843             NaN  ...   61.0     ?   NaN  milpitas, ca   \n",
       "4          0.075843             NaN  ...   61.0     ?   NaN  milpitas, ca   \n",
       "\n",
       "        Industry  Layoff Date                        Company Name  \\\n",
       "0  Manufacturing   10/23/2015  Western Digital Technologies, Inc.   \n",
       "1  Manufacturing   10/24/2016  Western Digital Technologies, Inc.   \n",
       "2  Manufacturing    6/17/2016  Western Digital Technologies, Inc.   \n",
       "3  Manufacturing     7/3/2016  Western Digital Technologies, Inc.   \n",
       "4  Manufacturing    8/27/2018  Western Digital Technologies, Inc.   \n",
       "\n",
       "  Employees Affected laid_off Age  \n",
       "0                 56        0  21  \n",
       "1                 59        0  21  \n",
       "2                 71        0  21  \n",
       "3                337        0  21  \n",
       "4                 79        0  21  \n",
       "\n",
       "[5 rows x 25 columns]"
      ]
     },
     "execution_count": 3,
     "metadata": {},
     "output_type": "execute_result"
    }
   ],
   "source": [
    "data.head()"
   ]
  },
  {
   "cell_type": "code",
   "execution_count": 4,
   "metadata": {},
   "outputs": [
    {
     "data": {
      "text/plain": [
       "Index(['Unnamed: 0', 'Unnamed: 0.1', 'ID', 'Birth Year', 'Gender Flag',\n",
       "       'Skillset1', 'Skillset1 Weight', 'Skillset2', 'Skillset2 Weight',\n",
       "       'City of profile', 'Country of profile', 'Education',\n",
       "       'Elite Institution', 'Start Date', 'End Date', 'Length', 'Role', 'Dept',\n",
       "       'Location', 'Industry', 'Layoff Date', 'Company Name',\n",
       "       'Employees Affected', 'laid_off', 'Age'],\n",
       "      dtype='object')"
      ]
     },
     "execution_count": 4,
     "metadata": {},
     "output_type": "execute_result"
    }
   ],
   "source": [
    "data.columns"
   ]
  },
  {
   "cell_type": "code",
   "execution_count": 5,
   "metadata": {},
   "outputs": [
    {
     "data": {
      "text/plain": [
       "array([1997, 2001, 1937, 1980, 1987, 1957, 1990, 1981, 1968, 1986, 1984,\n",
       "       1974, 1972, 1976, 1975, 1958, 1971, 1953, 1967, 1963, 1964, 1979,\n",
       "       1992, 1959, 1983, 1973, 1969, 1991, 1966, 1989, 1947, 1978, 1994,\n",
       "       1970, 1962, 1985, 1993, 1996, 1950, 1988, 1955, 1982, 1977, 1965,\n",
       "       1961, 1944, 1932, 1954, 1927, 1995, 1948, 1936, 1935, 1960, 1931,\n",
       "       1930, 1946, 1952, 1941, 1949, 1956, 1943, 1951, 1942, 1940, 1939,\n",
       "       1921, 1938, 1945, 1998, 1925, 1929, 1926, 1934, 1933, 1928, 1920,\n",
       "       1919], dtype=int64)"
      ]
     },
     "execution_count": 5,
     "metadata": {},
     "output_type": "execute_result"
    }
   ],
   "source": [
    "data = data.drop(['Unnamed: 0', 'Unnamed: 0.1'], axis = 1)\n",
    "data['Birth Year'] = data[data['Birth Year'] != 'None']['Birth Year']\n",
    "data['Birth Year'].unique()"
   ]
  },
  {
   "cell_type": "code",
   "execution_count": 6,
   "metadata": {},
   "outputs": [],
   "source": [
    "data = data[~data['Birth Year'].isnull()] #Drops nan\n",
    "data['Age'] = 2018 - data['Birth Year'].astype('int')\n",
    "\n",
    "data['Gender Flag'] = data['Gender Flag'].replace({0: 'unknown', 1: 'female', 2: 'male'})\n",
    "data['Education'] = data['Education'].replace({0: 'unknown', 1: 'High School', 2: 'Vocational degree', 3: 'Associates', \n",
    "                                               4: 'Bachelors', 5:'Masters', 6: 'MBA', 7: 'PhD'})\n",
    "data['Length'] = data['Length']*1/30\n",
    "# Categorize length in 1:'0-6 months', 2:'6-12 months', 3:'12-18 months', 4:'18-24 months', 5:'more than 2 years'\n",
    "data['Length']=pd.cut(data['Length'], bins=[0, 6, 12, 18,24,1000000], \n",
    "                                             include_lowest=True, \n",
    "                                             labels=['<6mo','6-12mo','12-18mo','12-24mo','>24mo'])\n",
    "\n",
    "# Convert Birthyear to Age in 1:'> 45 yrs old', 2:'36-45 yrs old', 3:'26-35 yrs old', 4:'< 26 yrs old'\n",
    "data['Age']=pd.cut(data['Age'], bins=[0, 25, 35, 45, 100000], \n",
    "                                             include_lowest=True, \n",
    "                                             labels=['>45 yrs old','36-45 yrs old','26-35 yrs old','<26 yrs old'])\n",
    "\n",
    "#data['Length'] = data['Length'].astype('int')"
   ]
  },
  {
   "cell_type": "code",
   "execution_count": 7,
   "metadata": {},
   "outputs": [],
   "source": [
    "threshold = 5  # Remove items less than or equal to threshold\n",
    "for col in data[data.columns.difference(['Age', 'Length'])]: #Cannot apply this to categorized features\n",
    "    vc = data[col].value_counts()\n",
    "    vals_to_remove = vc[vc <= threshold].index.values\n",
    "    data[col].loc[data[col].isin(vals_to_remove)] = 0"
   ]
  },
  {
   "cell_type": "code",
   "execution_count": 8,
   "metadata": {},
   "outputs": [
    {
     "data": {
      "text/html": [
       "<div>\n",
       "<style scoped>\n",
       "    .dataframe tbody tr th:only-of-type {\n",
       "        vertical-align: middle;\n",
       "    }\n",
       "\n",
       "    .dataframe tbody tr th {\n",
       "        vertical-align: top;\n",
       "    }\n",
       "\n",
       "    .dataframe thead th {\n",
       "        text-align: right;\n",
       "    }\n",
       "</style>\n",
       "<table border=\"1\" class=\"dataframe\">\n",
       "  <thead>\n",
       "    <tr style=\"text-align: right;\">\n",
       "      <th></th>\n",
       "      <th>ID</th>\n",
       "      <th>Birth Year</th>\n",
       "      <th>Gender Flag</th>\n",
       "      <th>Skillset1</th>\n",
       "      <th>Skillset1 Weight</th>\n",
       "      <th>Skillset2</th>\n",
       "      <th>Skillset2 Weight</th>\n",
       "      <th>City of profile</th>\n",
       "      <th>Country of profile</th>\n",
       "      <th>Education</th>\n",
       "      <th>...</th>\n",
       "      <th>Length</th>\n",
       "      <th>Role</th>\n",
       "      <th>Dept</th>\n",
       "      <th>Location</th>\n",
       "      <th>Industry</th>\n",
       "      <th>Layoff Date</th>\n",
       "      <th>Company Name</th>\n",
       "      <th>Employees Affected</th>\n",
       "      <th>laid_off</th>\n",
       "      <th>Age</th>\n",
       "    </tr>\n",
       "  </thead>\n",
       "  <tbody>\n",
       "    <tr>\n",
       "      <th>0</th>\n",
       "      <td>3095f7eb-b536-39ca-8bd4-949a290deed9</td>\n",
       "      <td>1997</td>\n",
       "      <td>male</td>\n",
       "      <td>Web Development</td>\n",
       "      <td>0.874223</td>\n",
       "      <td>Software Engineering</td>\n",
       "      <td>0.075843</td>\n",
       "      <td>NaN</td>\n",
       "      <td>United States</td>\n",
       "      <td>Bachelors</td>\n",
       "      <td>...</td>\n",
       "      <td>&lt;6mo</td>\n",
       "      <td>?</td>\n",
       "      <td>NaN</td>\n",
       "      <td>milpitas, ca</td>\n",
       "      <td>Manufacturing</td>\n",
       "      <td>10/23/2015</td>\n",
       "      <td>Western Digital Technologies, Inc.</td>\n",
       "      <td>56</td>\n",
       "      <td>0</td>\n",
       "      <td>&gt;45 yrs old</td>\n",
       "    </tr>\n",
       "    <tr>\n",
       "      <th>1</th>\n",
       "      <td>3095f7eb-b536-39ca-8bd4-949a290deed9</td>\n",
       "      <td>1997</td>\n",
       "      <td>male</td>\n",
       "      <td>Web Development</td>\n",
       "      <td>0.874223</td>\n",
       "      <td>Software Engineering</td>\n",
       "      <td>0.075843</td>\n",
       "      <td>NaN</td>\n",
       "      <td>United States</td>\n",
       "      <td>Bachelors</td>\n",
       "      <td>...</td>\n",
       "      <td>&lt;6mo</td>\n",
       "      <td>?</td>\n",
       "      <td>NaN</td>\n",
       "      <td>milpitas, ca</td>\n",
       "      <td>Manufacturing</td>\n",
       "      <td>10/24/2016</td>\n",
       "      <td>Western Digital Technologies, Inc.</td>\n",
       "      <td>59</td>\n",
       "      <td>0</td>\n",
       "      <td>&gt;45 yrs old</td>\n",
       "    </tr>\n",
       "    <tr>\n",
       "      <th>2</th>\n",
       "      <td>3095f7eb-b536-39ca-8bd4-949a290deed9</td>\n",
       "      <td>1997</td>\n",
       "      <td>male</td>\n",
       "      <td>Web Development</td>\n",
       "      <td>0.874223</td>\n",
       "      <td>Software Engineering</td>\n",
       "      <td>0.075843</td>\n",
       "      <td>NaN</td>\n",
       "      <td>United States</td>\n",
       "      <td>Bachelors</td>\n",
       "      <td>...</td>\n",
       "      <td>&lt;6mo</td>\n",
       "      <td>?</td>\n",
       "      <td>NaN</td>\n",
       "      <td>milpitas, ca</td>\n",
       "      <td>Manufacturing</td>\n",
       "      <td>6/17/2016</td>\n",
       "      <td>Western Digital Technologies, Inc.</td>\n",
       "      <td>71</td>\n",
       "      <td>0</td>\n",
       "      <td>&gt;45 yrs old</td>\n",
       "    </tr>\n",
       "    <tr>\n",
       "      <th>3</th>\n",
       "      <td>3095f7eb-b536-39ca-8bd4-949a290deed9</td>\n",
       "      <td>1997</td>\n",
       "      <td>male</td>\n",
       "      <td>Web Development</td>\n",
       "      <td>0.874223</td>\n",
       "      <td>Software Engineering</td>\n",
       "      <td>0.075843</td>\n",
       "      <td>NaN</td>\n",
       "      <td>United States</td>\n",
       "      <td>Bachelors</td>\n",
       "      <td>...</td>\n",
       "      <td>&lt;6mo</td>\n",
       "      <td>?</td>\n",
       "      <td>NaN</td>\n",
       "      <td>milpitas, ca</td>\n",
       "      <td>Manufacturing</td>\n",
       "      <td>7/3/2016</td>\n",
       "      <td>Western Digital Technologies, Inc.</td>\n",
       "      <td>337</td>\n",
       "      <td>0</td>\n",
       "      <td>&gt;45 yrs old</td>\n",
       "    </tr>\n",
       "    <tr>\n",
       "      <th>4</th>\n",
       "      <td>3095f7eb-b536-39ca-8bd4-949a290deed9</td>\n",
       "      <td>1997</td>\n",
       "      <td>male</td>\n",
       "      <td>Web Development</td>\n",
       "      <td>0.874223</td>\n",
       "      <td>Software Engineering</td>\n",
       "      <td>0.075843</td>\n",
       "      <td>NaN</td>\n",
       "      <td>United States</td>\n",
       "      <td>Bachelors</td>\n",
       "      <td>...</td>\n",
       "      <td>&lt;6mo</td>\n",
       "      <td>?</td>\n",
       "      <td>NaN</td>\n",
       "      <td>milpitas, ca</td>\n",
       "      <td>Manufacturing</td>\n",
       "      <td>8/27/2018</td>\n",
       "      <td>Western Digital Technologies, Inc.</td>\n",
       "      <td>79</td>\n",
       "      <td>0</td>\n",
       "      <td>&gt;45 yrs old</td>\n",
       "    </tr>\n",
       "  </tbody>\n",
       "</table>\n",
       "<p>5 rows × 23 columns</p>\n",
       "</div>"
      ],
      "text/plain": [
       "                                     ID  Birth Year Gender Flag  \\\n",
       "0  3095f7eb-b536-39ca-8bd4-949a290deed9        1997        male   \n",
       "1  3095f7eb-b536-39ca-8bd4-949a290deed9        1997        male   \n",
       "2  3095f7eb-b536-39ca-8bd4-949a290deed9        1997        male   \n",
       "3  3095f7eb-b536-39ca-8bd4-949a290deed9        1997        male   \n",
       "4  3095f7eb-b536-39ca-8bd4-949a290deed9        1997        male   \n",
       "\n",
       "         Skillset1  Skillset1 Weight             Skillset2  Skillset2 Weight  \\\n",
       "0  Web Development          0.874223  Software Engineering          0.075843   \n",
       "1  Web Development          0.874223  Software Engineering          0.075843   \n",
       "2  Web Development          0.874223  Software Engineering          0.075843   \n",
       "3  Web Development          0.874223  Software Engineering          0.075843   \n",
       "4  Web Development          0.874223  Software Engineering          0.075843   \n",
       "\n",
       "  City of profile Country of profile  Education  ...  Length Role Dept  \\\n",
       "0             NaN      United States  Bachelors  ...    <6mo    ?  NaN   \n",
       "1             NaN      United States  Bachelors  ...    <6mo    ?  NaN   \n",
       "2             NaN      United States  Bachelors  ...    <6mo    ?  NaN   \n",
       "3             NaN      United States  Bachelors  ...    <6mo    ?  NaN   \n",
       "4             NaN      United States  Bachelors  ...    <6mo    ?  NaN   \n",
       "\n",
       "       Location       Industry Layoff Date  \\\n",
       "0  milpitas, ca  Manufacturing  10/23/2015   \n",
       "1  milpitas, ca  Manufacturing  10/24/2016   \n",
       "2  milpitas, ca  Manufacturing   6/17/2016   \n",
       "3  milpitas, ca  Manufacturing    7/3/2016   \n",
       "4  milpitas, ca  Manufacturing   8/27/2018   \n",
       "\n",
       "                         Company Name Employees Affected laid_off          Age  \n",
       "0  Western Digital Technologies, Inc.                 56        0  >45 yrs old  \n",
       "1  Western Digital Technologies, Inc.                 59        0  >45 yrs old  \n",
       "2  Western Digital Technologies, Inc.                 71        0  >45 yrs old  \n",
       "3  Western Digital Technologies, Inc.                337        0  >45 yrs old  \n",
       "4  Western Digital Technologies, Inc.                 79        0  >45 yrs old  \n",
       "\n",
       "[5 rows x 23 columns]"
      ]
     },
     "execution_count": 8,
     "metadata": {},
     "output_type": "execute_result"
    }
   ],
   "source": [
    "data.head()"
   ]
  },
  {
   "cell_type": "code",
   "execution_count": 9,
   "metadata": {},
   "outputs": [],
   "source": [
    "master = data[data['Education'] == 'Masters']\n",
    "MBA = data[data['Education'] == 'MBA']\n",
    "\n",
    "master_not_laid_off = master[master['laid_off'] == 0]\n",
    "master_laid_off = master[master['laid_off'] == 1]\n",
    "\n",
    "MBA_not_laid_off = MBA[MBA['laid_off'] == 0]\n",
    "MBA_laid_off = MBA[MBA['laid_off'] == 1]"
   ]
  },
  {
   "cell_type": "code",
   "execution_count": 10,
   "metadata": {},
   "outputs": [
    {
     "name": "stdout",
     "output_type": "stream",
     "text": [
      "(13725, 23)\n",
      "(11967, 23)\n",
      "(1239, 23)\n",
      "(705, 23)\n"
     ]
    }
   ],
   "source": [
    "print(master.shape)\n",
    "print(MBA.shape)\n",
    "print(master_laid_off.shape)\n",
    "print(MBA_laid_off.shape)"
   ]
  },
  {
   "cell_type": "code",
   "execution_count": 11,
   "metadata": {},
   "outputs": [],
   "source": [
    "data = pd.concat([master, MBA], axis = 0)"
   ]
  },
  {
   "cell_type": "code",
   "execution_count": 12,
   "metadata": {},
   "outputs": [
    {
     "data": {
      "text/plain": [
       "<matplotlib.axes._subplots.AxesSubplot at 0x18b88beedd8>"
      ]
     },
     "execution_count": 12,
     "metadata": {},
     "output_type": "execute_result"
    },
    {
     "data": {
      "image/png": "[encoded data removed]",
      "text/plain": [
       "<Figure size 1152x432 with 1 Axes>"
      ]
     },
     "metadata": {
      "needs_background": "light"
     },
     "output_type": "display_data"
    }
   ],
   "source": [
    "pd.value_counts(master_laid_off['Elite Institution']).plot.barh(figsize = (16,6))"
   ]
  },
  {
   "cell_type": "code",
   "execution_count": 13,
   "metadata": {},
   "outputs": [
    {
     "data": {
      "text/plain": [
       "<matplotlib.axes._subplots.AxesSubplot at 0x18b8a54dda0>"
      ]
     },
     "execution_count": 13,
     "metadata": {},
     "output_type": "execute_result"
    },
    {
     "data": {
      "image/png": "[encoded data removed]",
      "text/plain": [
       "<Figure size 1152x432 with 1 Axes>"
      ]
     },
     "metadata": {
      "needs_background": "light"
     },
     "output_type": "display_data"
    }
   ],
   "source": [
    "pd.value_counts(MBA_laid_off['Elite Institution']).plot.barh(figsize = (16,6))"
   ]
  },
  {
   "cell_type": "markdown",
   "metadata": {},
   "source": [
    "### ML"
   ]
  },
  {
   "cell_type": "code",
   "execution_count": 14,
   "metadata": {},
   "outputs": [],
   "source": [
    "data = pd.read_csv(r'C:\\Ran\\Berkeley\\IEOR\\290\\Project\\Data\\New Data\\newData2.csv')"
   ]
  },
  {
   "cell_type": "code",
   "execution_count": 15,
   "metadata": {},
   "outputs": [
    {
     "data": {
      "text/html": [
       "<div>\n",
       "<style scoped>\n",
       "    .dataframe tbody tr th:only-of-type {\n",
       "        vertical-align: middle;\n",
       "    }\n",
       "\n",
       "    .dataframe tbody tr th {\n",
       "        vertical-align: top;\n",
       "    }\n",
       "\n",
       "    .dataframe thead th {\n",
       "        text-align: right;\n",
       "    }\n",
       "</style>\n",
       "<table border=\"1\" class=\"dataframe\">\n",
       "  <thead>\n",
       "    <tr style=\"text-align: right;\">\n",
       "      <th></th>\n",
       "      <th>ID</th>\n",
       "      <th>Birth Year</th>\n",
       "      <th>Gender Flag</th>\n",
       "      <th>Skillset1 Weight</th>\n",
       "      <th>Skillset2 Weight</th>\n",
       "      <th>City of profile</th>\n",
       "      <th>Country of profile</th>\n",
       "      <th>Education</th>\n",
       "      <th>Elite Institution</th>\n",
       "      <th>Start Date</th>\n",
       "      <th>...</th>\n",
       "      <th>s2-Product Management</th>\n",
       "      <th>s2-Public Policy</th>\n",
       "      <th>s2-Real Estate</th>\n",
       "      <th>s2-Retail and Fashion</th>\n",
       "      <th>s2-Sales</th>\n",
       "      <th>s2-Social Media and Communications</th>\n",
       "      <th>s2-Software Engineering</th>\n",
       "      <th>s2-Video and Film Production</th>\n",
       "      <th>s2-Web Design</th>\n",
       "      <th>s2-Web Development</th>\n",
       "    </tr>\n",
       "  </thead>\n",
       "  <tbody>\n",
       "    <tr>\n",
       "      <th>0</th>\n",
       "      <td>3095f7eb-b536-39ca-8bd4-949a290deed9</td>\n",
       "      <td>1997</td>\n",
       "      <td>2</td>\n",
       "      <td>0.874223</td>\n",
       "      <td>0.075843</td>\n",
       "      <td>NaN</td>\n",
       "      <td>United States</td>\n",
       "      <td>4</td>\n",
       "      <td>0</td>\n",
       "      <td>6/1/2017</td>\n",
       "      <td>...</td>\n",
       "      <td>0</td>\n",
       "      <td>0</td>\n",
       "      <td>0</td>\n",
       "      <td>0</td>\n",
       "      <td>0</td>\n",
       "      <td>0</td>\n",
       "      <td>1</td>\n",
       "      <td>0</td>\n",
       "      <td>0</td>\n",
       "      <td>0</td>\n",
       "    </tr>\n",
       "    <tr>\n",
       "      <th>1</th>\n",
       "      <td>3095f7eb-b536-39ca-8bd4-949a290deed9</td>\n",
       "      <td>1997</td>\n",
       "      <td>2</td>\n",
       "      <td>0.874223</td>\n",
       "      <td>0.075843</td>\n",
       "      <td>NaN</td>\n",
       "      <td>United States</td>\n",
       "      <td>4</td>\n",
       "      <td>0</td>\n",
       "      <td>6/1/2017</td>\n",
       "      <td>...</td>\n",
       "      <td>0</td>\n",
       "      <td>0</td>\n",
       "      <td>0</td>\n",
       "      <td>0</td>\n",
       "      <td>0</td>\n",
       "      <td>0</td>\n",
       "      <td>1</td>\n",
       "      <td>0</td>\n",
       "      <td>0</td>\n",
       "      <td>0</td>\n",
       "    </tr>\n",
       "    <tr>\n",
       "      <th>2</th>\n",
       "      <td>3095f7eb-b536-39ca-8bd4-949a290deed9</td>\n",
       "      <td>1997</td>\n",
       "      <td>2</td>\n",
       "      <td>0.874223</td>\n",
       "      <td>0.075843</td>\n",
       "      <td>NaN</td>\n",
       "      <td>United States</td>\n",
       "      <td>4</td>\n",
       "      <td>0</td>\n",
       "      <td>6/1/2017</td>\n",
       "      <td>...</td>\n",
       "      <td>0</td>\n",
       "      <td>0</td>\n",
       "      <td>0</td>\n",
       "      <td>0</td>\n",
       "      <td>0</td>\n",
       "      <td>0</td>\n",
       "      <td>1</td>\n",
       "      <td>0</td>\n",
       "      <td>0</td>\n",
       "      <td>0</td>\n",
       "    </tr>\n",
       "    <tr>\n",
       "      <th>3</th>\n",
       "      <td>3095f7eb-b536-39ca-8bd4-949a290deed9</td>\n",
       "      <td>1997</td>\n",
       "      <td>2</td>\n",
       "      <td>0.874223</td>\n",
       "      <td>0.075843</td>\n",
       "      <td>NaN</td>\n",
       "      <td>United States</td>\n",
       "      <td>4</td>\n",
       "      <td>0</td>\n",
       "      <td>6/1/2017</td>\n",
       "      <td>...</td>\n",
       "      <td>0</td>\n",
       "      <td>0</td>\n",
       "      <td>0</td>\n",
       "      <td>0</td>\n",
       "      <td>0</td>\n",
       "      <td>0</td>\n",
       "      <td>1</td>\n",
       "      <td>0</td>\n",
       "      <td>0</td>\n",
       "      <td>0</td>\n",
       "    </tr>\n",
       "    <tr>\n",
       "      <th>4</th>\n",
       "      <td>3095f7eb-b536-39ca-8bd4-949a290deed9</td>\n",
       "      <td>1997</td>\n",
       "      <td>2</td>\n",
       "      <td>0.874223</td>\n",
       "      <td>0.075843</td>\n",
       "      <td>NaN</td>\n",
       "      <td>United States</td>\n",
       "      <td>4</td>\n",
       "      <td>0</td>\n",
       "      <td>6/1/2017</td>\n",
       "      <td>...</td>\n",
       "      <td>0</td>\n",
       "      <td>0</td>\n",
       "      <td>0</td>\n",
       "      <td>0</td>\n",
       "      <td>0</td>\n",
       "      <td>0</td>\n",
       "      <td>1</td>\n",
       "      <td>0</td>\n",
       "      <td>0</td>\n",
       "      <td>0</td>\n",
       "    </tr>\n",
       "  </tbody>\n",
       "</table>\n",
       "<p>5 rows × 85 columns</p>\n",
       "</div>"
      ],
      "text/plain": [
       "                                     ID  Birth Year  Gender Flag  \\\n",
       "0  3095f7eb-b536-39ca-8bd4-949a290deed9        1997            2   \n",
       "1  3095f7eb-b536-39ca-8bd4-949a290deed9        1997            2   \n",
       "2  3095f7eb-b536-39ca-8bd4-949a290deed9        1997            2   \n",
       "3  3095f7eb-b536-39ca-8bd4-949a290deed9        1997            2   \n",
       "4  3095f7eb-b536-39ca-8bd4-949a290deed9        1997            2   \n",
       "\n",
       "   Skillset1 Weight  Skillset2 Weight City of profile Country of profile  \\\n",
       "0          0.874223          0.075843             NaN      United States   \n",
       "1          0.874223          0.075843             NaN      United States   \n",
       "2          0.874223          0.075843             NaN      United States   \n",
       "3          0.874223          0.075843             NaN      United States   \n",
       "4          0.874223          0.075843             NaN      United States   \n",
       "\n",
       "   Education  Elite Institution Start Date  ... s2-Product Management  \\\n",
       "0          4                  0   6/1/2017  ...                     0   \n",
       "1          4                  0   6/1/2017  ...                     0   \n",
       "2          4                  0   6/1/2017  ...                     0   \n",
       "3          4                  0   6/1/2017  ...                     0   \n",
       "4          4                  0   6/1/2017  ...                     0   \n",
       "\n",
       "   s2-Public Policy s2-Real Estate s2-Retail and Fashion s2-Sales  \\\n",
       "0                 0              0                     0        0   \n",
       "1                 0              0                     0        0   \n",
       "2                 0              0                     0        0   \n",
       "3                 0              0                     0        0   \n",
       "4                 0              0                     0        0   \n",
       "\n",
       "  s2-Social Media and Communications s2-Software Engineering  \\\n",
       "0                                  0                       1   \n",
       "1                                  0                       1   \n",
       "2                                  0                       1   \n",
       "3                                  0                       1   \n",
       "4                                  0                       1   \n",
       "\n",
       "  s2-Video and Film Production  s2-Web Design  s2-Web Development  \n",
       "0                            0              0                   0  \n",
       "1                            0              0                   0  \n",
       "2                            0              0                   0  \n",
       "3                            0              0                   0  \n",
       "4                            0              0                   0  \n",
       "\n",
       "[5 rows x 85 columns]"
      ]
     },
     "execution_count": 15,
     "metadata": {},
     "output_type": "execute_result"
    }
   ],
   "source": [
    "data = data.drop(['Unnamed: 0', 'Unnamed: 0.1', 'Unnamed: 0.1.1'], axis = 1)\n",
    "data.head()"
   ]
  },
  {
   "cell_type": "code",
   "execution_count": 16,
   "metadata": {},
   "outputs": [],
   "source": [
    "master = data[data['Education'] == 5]\n",
    "MBA = data[data['Education'] == 6]\n",
    "\n",
    "master_not_laid_off = master[master['laid_off'] == 0]\n",
    "master_laid_off = master[master['laid_off'] == 1]\n",
    "\n",
    "MBA_not_laid_off = MBA[MBA['laid_off'] == 0]\n",
    "MBA_laid_off = MBA[MBA['laid_off'] == 1]"
   ]
  },
  {
   "cell_type": "code",
   "execution_count": 17,
   "metadata": {},
   "outputs": [],
   "source": [
    "#Making balanced training dataset\n",
    "np.random.seed(101)\n",
    "master_not_laid_off = master_not_laid_off.sample(n=2000) \n",
    "master = pd.concat([master_not_laid_off, master_laid_off])"
   ]
  },
  {
   "cell_type": "code",
   "execution_count": 18,
   "metadata": {},
   "outputs": [],
   "source": [
    "np.random.seed(101)\n",
    "MBA_not_laid_off = MBA_not_laid_off.sample(n=1000) \n",
    "MBA = pd.concat([MBA_not_laid_off, MBA_laid_off])"
   ]
  },
  {
   "cell_type": "code",
   "execution_count": 19,
   "metadata": {},
   "outputs": [
    {
     "name": "stdout",
     "output_type": "stream",
     "text": [
      "training data has 2591 observation with 70 features\n",
      "test data has 648 observation with 70 features\n"
     ]
    }
   ],
   "source": [
    "# Reserve 20% for testing\n",
    "from sklearn import model_selection\n",
    "\n",
    "y1 = master['laid_off']\n",
    "X1 = master.drop(['Length', 'ID','Birth Year','City of profile', 'Country of profile',\n",
    "                   'Start Date','End Date','Role', 'Dept', 'Company Name',\n",
    "                   'Location','Industry','laid_off','Layoff Date', 'Employees Affected'],axis = 1)\n",
    "X1_train, X1_test, y1_train, y1_test = model_selection.train_test_split(X1, y1, test_size=0.2,random_state=101)\n",
    "\n",
    "print('training data has %d observation with %d features'% X1_train.shape)\n",
    "print('test data has %d observation with %d features'% X1_test.shape)"
   ]
  },
  {
   "cell_type": "code",
   "execution_count": 20,
   "metadata": {},
   "outputs": [],
   "source": [
    "from sklearn.preprocessing import StandardScaler\n",
    "scaler = StandardScaler()\n",
    "X1_train = scaler.fit_transform(X1_train)\n",
    "X1_test = scaler.transform(X1_test)"
   ]
  },
  {
   "cell_type": "code",
   "execution_count": 21,
   "metadata": {},
   "outputs": [
    {
     "data": {
      "text/plain": [
       "0.7669753086419753"
      ]
     },
     "execution_count": 21,
     "metadata": {},
     "output_type": "execute_result"
    }
   ],
   "source": [
    "from sklearn.ensemble import RandomForestClassifier\n",
    "RF = RandomForestClassifier()\n",
    "RF.fit(X1_train, y1_train)\n",
    "RF.score(X1_test,y1_test)"
   ]
  },
  {
   "cell_type": "code",
   "execution_count": 22,
   "metadata": {},
   "outputs": [
    {
     "data": {
      "text/plain": [
       "GridSearchCV(cv=5, error_score='raise-deprecating',\n",
       "       estimator=RandomForestClassifier(bootstrap=True, class_weight=None, criterion='gini',\n",
       "            max_depth=None, max_features='auto', max_leaf_nodes=None,\n",
       "            min_impurity_decrease=0.0, min_impurity_split=None,\n",
       "            min_samples_leaf=1, min_samples_split=2,\n",
       "            min_weight_fraction_leaf=0.0, n_estimators='warn', n_jobs=None,\n",
       "            oob_score=False, random_state=None, verbose=0,\n",
       "            warm_start=False),\n",
       "       fit_params=None, iid='warn', n_jobs=None,\n",
       "       param_grid={'n_estimators': [40, 60, 80]}, pre_dispatch='2*n_jobs',\n",
       "       refit=True, return_train_score='warn', scoring=None, verbose=0)"
      ]
     },
     "execution_count": 22,
     "metadata": {},
     "output_type": "execute_result"
    }
   ],
   "source": [
    "from sklearn.model_selection import GridSearchCV\n",
    "parameters = {\n",
    "    'n_estimators' : [40,60,80]\n",
    "}\n",
    "Grid_RF = GridSearchCV(RandomForestClassifier(),parameters, cv=5)\n",
    "Grid_RF.fit(X1_train, y1_train)"
   ]
  },
  {
   "cell_type": "code",
   "execution_count": 23,
   "metadata": {},
   "outputs": [
    {
     "name": "stdout",
     "output_type": "stream",
     "text": [
      "Best score: 0.752\n",
      "Best parameters set:\n",
      "\tn_estimators: 40\n"
     ]
    }
   ],
   "source": [
    "def print_grid_search_metrics(gs):\n",
    "    print (\"Best score: %0.3f\" % gs.best_score_)\n",
    "    print (\"Best parameters set:\")\n",
    "    best_parameters = gs.best_params_\n",
    "    for param_name in sorted(parameters.keys()):\n",
    "        print(\"\\t%s: %r\" % (param_name, best_parameters[param_name]))\n",
    "\n",
    "print_grid_search_metrics(Grid_RF)"
   ]
  },
  {
   "cell_type": "code",
   "execution_count": 24,
   "metadata": {},
   "outputs": [
    {
     "name": "stdout",
     "output_type": "stream",
     "text": [
      "Feature importance ranking by Random Forest Model:\n",
      "Age: 0.1943\n",
      "Skillset2 Weight: 0.1885\n",
      "Skillset1 Weight: 0.1833\n",
      "Gender Flag: 0.0515\n",
      "Elite Institution: 0.0292\n",
      "s1-Electrical Engineering: 0.0204\n",
      "s2-Software Engineering: 0.0178\n",
      "s2-Sales: 0.0168\n",
      "s2-IT Management and Support: 0.0165\n",
      "s2-Electrical Engineering: 0.0133\n",
      "s1-Web Development: 0.0132\n",
      "s1-Software Engineering: 0.0127\n",
      "s1-Sales: 0.012\n",
      "s2-Administration: 0.0116\n",
      "s1-Mobile Telecommunications: 0.0107\n",
      "s1-Product Management: 0.0105\n",
      "s2-Product Management: 0.0102\n",
      "s2-Mobile Telecommunications: 0.01\n",
      "s2-Web Development: 0.0097\n",
      "s2-Human Resources: 0.0093\n",
      "s1-Human Resources: 0.0093\n",
      "s1-Operations Management: 0.0087\n",
      "s2-Business Development: 0.0081\n",
      "s1-Finance: 0.008\n",
      "s2-Manufacturing and Process Management: 0.0076\n",
      "s1-Healthcare: 0.0071\n",
      "s2-Data Analysis: 0.0068\n",
      "s1-IT Management and Support: 0.0066\n",
      "s2-Finance: 0.0064\n",
      "s1-Manufacturing and Process Management: 0.0057\n",
      "s1-Social Media and Communications: 0.0055\n",
      "s2-Operations Management: 0.0054\n",
      "s1-Administration: 0.0054\n",
      "s1-Web Design: 0.0053\n",
      "s2-Digital Marketing: 0.0049\n",
      "s1-Business Development: 0.0049\n",
      "s1-Data Analysis: 0.0044\n",
      "s2-Web Design: 0.0042\n",
      "s1-Logistics: 0.004\n",
      "s2-Healthcare: 0.0039\n",
      "s2-Non-Profit and Community: 0.0036\n",
      "s2-Design: 0.0035\n",
      "s1-Digital Marketing: 0.0035\n",
      "s2-Video and Film Production: 0.0029\n",
      "s2-Industrial Management: 0.0029\n",
      "s1-Retail and Fashion: 0.0027\n",
      "s2-Logistics: 0.0024\n",
      "s2-Social Media and Communications: 0.0019\n",
      "s1-Video and Film Production: 0.0019\n",
      "s2-Energy, Oil, and Gas: 0.0016\n",
      "s2-Insurance: 0.0012\n",
      "s2-Hospitality: 0.0012\n",
      "s1-Design: 0.0012\n",
      "s2-Retail and Fashion: 0.0011\n",
      "s1-Non-Profit and Community: 0.0008\n",
      "s1-Real Estate: 0.0007\n",
      "s2-Real Estate: 0.0005\n",
      "s2-Musical Production: 0.0005\n",
      "s2-Military: 0.0005\n",
      "s2-Legal: 0.0005\n",
      "s1-Military: 0.0005\n",
      "s2-Public Policy: 0.0004\n",
      "s1-Industrial Management: 0.0004\n",
      "s1-Public Policy: 0.0001\n",
      "s1-Musical Production: 0.0\n",
      "s1-Legal: 0.0\n",
      "s1-Insurance: 0.0\n",
      "s1-Hospitality: 0.0\n",
      "s1-Energy, Oil, and Gas: 0.0\n",
      "Education: 0.0\n"
     ]
    }
   ],
   "source": [
    "importances = RF.feature_importances_\n",
    "# Print the feature ranking\n",
    "print(\"Feature importance ranking by Random Forest Model:\")\n",
    "for k,v in sorted(zip(map(lambda x: round(x, 4), importances), X1.columns), reverse=True):\n",
    "    print (v + \": \" + str(k))"
   ]
  },
  {
   "cell_type": "code",
   "execution_count": 25,
   "metadata": {},
   "outputs": [
    {
     "data": {
      "text/plain": [
       "0.6682098765432098"
      ]
     },
     "execution_count": 25,
     "metadata": {},
     "output_type": "execute_result"
    }
   ],
   "source": [
    "# Lasso regression\n",
    "from sklearn.linear_model import LogisticRegression\n",
    "LR = LogisticRegression()\n",
    "LR.fit(X1_train, y1_train)\n",
    "LR.score(X1_test, y1_test)"
   ]
  },
  {
   "cell_type": "code",
   "execution_count": 26,
   "metadata": {},
   "outputs": [
    {
     "data": {
      "text/plain": [
       "GridSearchCV(cv=5, error_score='raise-deprecating',\n",
       "       estimator=LogisticRegression(C=1.0, class_weight=None, dual=False, fit_intercept=True,\n",
       "          intercept_scaling=1, max_iter=100, multi_class='warn',\n",
       "          n_jobs=None, penalty='l2', random_state=None, solver='warn',\n",
       "          tol=0.0001, verbose=0, warm_start=False),\n",
       "       fit_params=None, iid='warn', n_jobs=None,\n",
       "       param_grid={'penalty': ('l1', 'l2'), 'C': (1, 5, 10)},\n",
       "       pre_dispatch='2*n_jobs', refit=True, return_train_score='warn',\n",
       "       scoring=None, verbose=0)"
      ]
     },
     "execution_count": 26,
     "metadata": {},
     "output_type": "execute_result"
    }
   ],
   "source": [
    "parameters = {\n",
    "    'penalty':('l1', 'l2'), \n",
    "    'C':(1, 5, 10)\n",
    "}\n",
    "Grid_LR = GridSearchCV(LogisticRegression(),parameters, cv=5)\n",
    "Grid_LR.fit(X1_train, y1_train)"
   ]
  },
  {
   "cell_type": "code",
   "execution_count": 27,
   "metadata": {},
   "outputs": [
    {
     "name": "stdout",
     "output_type": "stream",
     "text": [
      "Best score: 0.646\n",
      "Best parameters set:\n",
      "\tC: 1\n",
      "\tpenalty: 'l2'\n"
     ]
    }
   ],
   "source": [
    "print_grid_search_metrics(Grid_LR)"
   ]
  },
  {
   "cell_type": "code",
   "execution_count": 28,
   "metadata": {},
   "outputs": [],
   "source": [
    "best_LR_model = Grid_LR.best_estimator_"
   ]
  },
  {
   "cell_type": "code",
   "execution_count": 29,
   "metadata": {
    "scrolled": true
   },
   "outputs": [
    {
     "name": "stdout",
     "output_type": "stream",
     "text": [
      "Logistic Regression (L1) Coefficients\n",
      "s2-Healthcare: -0.2305\n",
      "Age: -0.229\n",
      "s1-Healthcare: -0.2178\n",
      "s1-Electrical Engineering: 0.2129\n",
      "s1-Manufacturing and Process Management: -0.2019\n",
      "s1-Social Media and Communications: 0.1748\n",
      "s2-Electrical Engineering: 0.173\n",
      "s1-Human Resources: -0.1613\n",
      "s1-Sales: -0.1483\n",
      "Gender Flag: -0.131\n",
      "s2-Logistics: 0.1294\n",
      "s2-Software Engineering: 0.1294\n",
      "s1-Web Development: 0.1266\n",
      "s1-Musical Production: 0.1241\n",
      "s1-IT Management and Support: 0.1023\n",
      "s1-Data Analysis: 0.0938\n",
      "s1-Military: -0.093\n",
      "s2-Hospitality: 0.0924\n",
      "s2-Business Development: 0.0853\n",
      "s1-Insurance: -0.0834\n",
      "s2-Military: -0.0817\n",
      "s2-Administration: -0.0766\n",
      "s2-IT Management and Support: -0.0739\n",
      "s1-Operations Management: 0.0737\n",
      "s2-Energy, Oil, and Gas: -0.0717\n",
      "s2-Real Estate: -0.0716\n",
      "s2-Insurance: 0.0648\n",
      "s1-Industrial Management: 0.0642\n",
      "s2-Operations Management: -0.061\n",
      "Skillset2 Weight: -0.0579\n",
      "s2-Retail and Fashion: 0.0576\n",
      "s2-Digital Marketing: -0.0523\n",
      "s1-Software Engineering: 0.0521\n",
      "s1-Non-Profit and Community: -0.0491\n",
      "s2-Product Management: -0.0478\n",
      "s2-Manufacturing and Process Management: 0.0475\n",
      "s2-Video and Film Production: -0.0472\n",
      "s1-Web Design: -0.0465\n",
      "s2-Data Analysis: 0.0448\n",
      "s2-Design: 0.0441\n",
      "s1-Real Estate: -0.0439\n",
      "s2-Public Policy: 0.0426\n",
      "s2-Sales: -0.0422\n",
      "s1-Finance: -0.0396\n",
      "s1-Product Management: -0.0384\n",
      "s2-Web Design: 0.0376\n",
      "s1-Design: -0.035\n",
      "s2-Legal: 0.035\n",
      "s1-Digital Marketing: 0.0347\n",
      "s1-Public Policy: 0.0347\n",
      "s2-Non-Profit and Community: -0.0306\n",
      "s2-Industrial Management: -0.0298\n",
      "s1-Administration: 0.0289\n",
      "s2-Finance: 0.0275\n",
      "s2-Mobile Telecommunications: -0.0267\n",
      "s2-Musical Production: 0.0265\n",
      "s1-Retail and Fashion: 0.0221\n",
      "s1-Business Development: 0.0197\n",
      "Elite Institution: 0.0186\n",
      "s2-Web Development: -0.0156\n",
      "Skillset1 Weight: -0.0142\n",
      "s2-Human Resources: -0.0126\n",
      "s2-Social Media and Communications: 0.0124\n",
      "s1-Logistics: 0.0117\n",
      "s1-Video and Film Production: 0.0106\n",
      "s1-Mobile Telecommunications: 0.0023\n",
      "Education: 0.0\n",
      "s1-Energy, Oil, and Gas: 0.0\n",
      "s1-Hospitality: 0.0\n",
      "s1-Legal: 0.0\n"
     ]
    }
   ],
   "source": [
    "best_LR_model.fit(X1_train, y1_train)\n",
    "\n",
    "scaler = StandardScaler()\n",
    "X_l2 = scaler.fit_transform(X1)\n",
    "best_LR_model.fit(X_l2, y1)\n",
    "best_LR_model.coef_[0]\n",
    "print (\"Logistic Regression (L1) Coefficients\")\n",
    "for k,v in sorted(zip(map(lambda x: round(x, 4), best_LR_model.coef_[0]), \\\n",
    "                      X1.columns), key=lambda k_v:(-abs(k_v[0]),k_v[1])):\n",
    "    print (v + \": \" + str(k))"
   ]
  },
  {
   "cell_type": "markdown",
   "metadata": {},
   "source": [
    "### MBA"
   ]
  },
  {
   "cell_type": "code",
   "execution_count": 41,
   "metadata": {},
   "outputs": [
    {
     "name": "stdout",
     "output_type": "stream",
     "text": [
      "training data has 1364 observation with 70 features\n",
      "test data has 341 observation with 70 features\n"
     ]
    }
   ],
   "source": [
    "# Reserve 20% for testing\n",
    "from sklearn import model_selection\n",
    "\n",
    "y2 = MBA['laid_off']\n",
    "X2 = MBA.drop(['Length', 'ID','Birth Year','City of profile', 'Country of profile',\n",
    "                   'Start Date','End Date','Role', 'Dept', 'Company Name',\n",
    "                   'Location','Industry','laid_off','Layoff Date', 'Employees Affected'],axis = 1)\n",
    "X2_train, X2_test, y2_train, y2_test = model_selection.train_test_split(X2, y2, test_size=0.2,random_state=101)\n",
    "\n",
    "print('training data has %d observation with %d features'% X2_train.shape)\n",
    "print('test data has %d observation with %d features'% X2_test.shape)"
   ]
  },
  {
   "cell_type": "code",
   "execution_count": 42,
   "metadata": {},
   "outputs": [],
   "source": [
    "from sklearn.preprocessing import StandardScaler\n",
    "scaler = StandardScaler()\n",
    "X2_train = scaler.fit_transform(X2_train)\n",
    "X2_test = scaler.transform(X2_test)"
   ]
  },
  {
   "cell_type": "code",
   "execution_count": 43,
   "metadata": {},
   "outputs": [
    {
     "data": {
      "text/plain": [
       "GridSearchCV(cv=5, error_score='raise-deprecating',\n",
       "       estimator=RandomForestClassifier(bootstrap=True, class_weight=None, criterion='gini',\n",
       "            max_depth=None, max_features='auto', max_leaf_nodes=None,\n",
       "            min_impurity_decrease=0.0, min_impurity_split=None,\n",
       "            min_samples_leaf=1, min_samples_split=2,\n",
       "            min_weight_fraction_leaf=0.0, n_estimators='warn', n_jobs=None,\n",
       "            oob_score=False, random_state=None, verbose=0,\n",
       "            warm_start=False),\n",
       "       fit_params=None, iid='warn', n_jobs=None,\n",
       "       param_grid={'n_estimators': [40, 60, 80]}, pre_dispatch='2*n_jobs',\n",
       "       refit=True, return_train_score='warn', scoring=None, verbose=0)"
      ]
     },
     "execution_count": 43,
     "metadata": {},
     "output_type": "execute_result"
    }
   ],
   "source": [
    "from sklearn.ensemble import RandomForestClassifier\n",
    "RF = RandomForestClassifier()\n",
    "RF.fit(X2_train, y2_train)\n",
    "RF.score(X2_test,y2_test)\n",
    "\n",
    "from sklearn.model_selection import GridSearchCV\n",
    "parameters = {\n",
    "    'n_estimators' : [40,60,80]\n",
    "}\n",
    "Grid_RF = GridSearchCV(RandomForestClassifier(),parameters, cv=5)\n",
    "Grid_RF.fit(X2_train, y2_train)"
   ]
  },
  {
   "cell_type": "code",
   "execution_count": 44,
   "metadata": {},
   "outputs": [
    {
     "name": "stdout",
     "output_type": "stream",
     "text": [
      "Best score: 0.727\n",
      "Best parameters set:\n",
      "\tn_estimators: 80\n"
     ]
    }
   ],
   "source": [
    "def print_grid_search_metrics(gs):\n",
    "    print (\"Best score: %0.3f\" % gs.best_score_)\n",
    "    print (\"Best parameters set:\")\n",
    "    best_parameters = gs.best_params_\n",
    "    for param_name in sorted(parameters.keys()):\n",
    "        print(\"\\t%s: %r\" % (param_name, best_parameters[param_name]))\n",
    "\n",
    "print_grid_search_metrics(Grid_RF)"
   ]
  },
  {
   "cell_type": "code",
   "execution_count": 45,
   "metadata": {},
   "outputs": [
    {
     "name": "stdout",
     "output_type": "stream",
     "text": [
      "Feature importance ranking by Random Forest Model:\n",
      "Skillset1 Weight: 0.1861\n",
      "Skillset2 Weight: 0.1846\n",
      "Age: 0.1656\n",
      "Gender Flag: 0.0577\n",
      "Elite Institution: 0.03\n",
      "s1-Finance: 0.0215\n",
      "s1-Sales: 0.0214\n",
      "s2-Sales: 0.0212\n",
      "s2-Finance: 0.02\n",
      "s1-Product Management: 0.0174\n",
      "s2-Product Management: 0.0173\n",
      "s2-Administration: 0.0151\n",
      "s2-Business Development: 0.0148\n",
      "s2-Mobile Telecommunications: 0.0123\n",
      "s1-Electrical Engineering: 0.012\n",
      "s1-Business Development: 0.012\n",
      "s1-Administration: 0.012\n",
      "s2-Operations Management: 0.0118\n",
      "s1-Digital Marketing: 0.0118\n",
      "s1-Mobile Telecommunications: 0.01\n",
      "s2-Human Resources: 0.0083\n",
      "s2-Software Engineering: 0.0081\n",
      "s2-Electrical Engineering: 0.0077\n",
      "s2-Retail and Fashion: 0.0074\n",
      "s1-Operations Management: 0.0073\n",
      "s1-Software Engineering: 0.0072\n",
      "s1-Logistics: 0.0072\n",
      "s2-Manufacturing and Process Management: 0.0064\n",
      "s1-Human Resources: 0.0064\n",
      "s2-Logistics: 0.0062\n",
      "s2-Digital Marketing: 0.006\n",
      "s2-Healthcare: 0.0059\n",
      "s1-Web Development: 0.0058\n",
      "s1-Healthcare: 0.0057\n",
      "s2-IT Management and Support: 0.0054\n",
      "s2-Data Analysis: 0.0054\n",
      "s1-Data Analysis: 0.0054\n",
      "s2-Industrial Management: 0.004\n",
      "s1-Manufacturing and Process Management: 0.0037\n",
      "s2-Web Design: 0.0032\n",
      "s2-Social Media and Communications: 0.0029\n",
      "s1-IT Management and Support: 0.0025\n",
      "s1-Web Design: 0.0018\n",
      "s2-Web Development: 0.0016\n",
      "s1-Retail and Fashion: 0.0016\n",
      "s1-Social Media and Communications: 0.0015\n",
      "s2-Energy, Oil, and Gas: 0.0014\n",
      "s1-Military: 0.0014\n",
      "s2-Military: 0.0013\n",
      "s2-Non-Profit and Community: 0.0011\n",
      "s1-Public Policy: 0.001\n",
      "s1-Real Estate: 0.0009\n",
      "s2-Video and Film Production: 0.0008\n",
      "s2-Real Estate: 0.0006\n",
      "s2-Insurance: 0.0006\n",
      "s2-Legal: 0.0004\n",
      "s1-Video and Film Production: 0.0004\n",
      "s1-Design: 0.0003\n",
      "s2-Design: 0.0002\n",
      "s1-Industrial Management: 0.0002\n",
      "s2-Musical Production: 0.0001\n",
      "s2-Public Policy: 0.0\n",
      "s2-Hospitality: 0.0\n",
      "s1-Non-Profit and Community: 0.0\n",
      "s1-Musical Production: 0.0\n",
      "s1-Legal: 0.0\n",
      "s1-Insurance: 0.0\n",
      "s1-Hospitality: 0.0\n",
      "s1-Energy, Oil, and Gas: 0.0\n",
      "Education: 0.0\n"
     ]
    }
   ],
   "source": [
    "importances = RF.feature_importances_\n",
    "# Print the feature ranking\n",
    "print(\"Feature importance ranking by Random Forest Model:\")\n",
    "for k,v in sorted(zip(map(lambda x: round(x, 4), importances), X2.columns), reverse=True):\n",
    "    print (v + \": \" + str(k))"
   ]
  },
  {
   "cell_type": "code",
   "execution_count": 46,
   "metadata": {},
   "outputs": [
    {
     "data": {
      "text/plain": [
       "0.6158357771260997"
      ]
     },
     "execution_count": 46,
     "metadata": {},
     "output_type": "execute_result"
    }
   ],
   "source": [
    "LR = LogisticRegression()\n",
    "LR.fit(X2_train, y2_train)\n",
    "LR.score(X2_test, y2_test)"
   ]
  },
  {
   "cell_type": "code",
   "execution_count": 47,
   "metadata": {},
   "outputs": [
    {
     "data": {
      "text/plain": [
       "GridSearchCV(cv=5, error_score='raise-deprecating',\n",
       "       estimator=LogisticRegression(C=1.0, class_weight=None, dual=False, fit_intercept=True,\n",
       "          intercept_scaling=1, max_iter=100, multi_class='warn',\n",
       "          n_jobs=None, penalty='l2', random_state=None, solver='warn',\n",
       "          tol=0.0001, verbose=0, warm_start=False),\n",
       "       fit_params=None, iid='warn', n_jobs=None,\n",
       "       param_grid={'penalty': ('l1', 'l2'), 'C': (1, 5, 10)},\n",
       "       pre_dispatch='2*n_jobs', refit=True, return_train_score='warn',\n",
       "       scoring=None, verbose=0)"
      ]
     },
     "execution_count": 47,
     "metadata": {},
     "output_type": "execute_result"
    }
   ],
   "source": [
    "parameters = {\n",
    "    'penalty':('l1', 'l2'), \n",
    "    'C':(1, 5, 10)\n",
    "}\n",
    "Grid_LR = GridSearchCV(LogisticRegression(),parameters, cv=5)\n",
    "Grid_LR.fit(X2_train, y2_train)"
   ]
  },
  {
   "cell_type": "code",
   "execution_count": 48,
   "metadata": {},
   "outputs": [
    {
     "name": "stdout",
     "output_type": "stream",
     "text": [
      "Best score: 0.617\n",
      "Best parameters set:\n",
      "\tC: 5\n",
      "\tpenalty: 'l2'\n"
     ]
    }
   ],
   "source": [
    "print_grid_search_metrics(Grid_LR)"
   ]
  },
  {
   "cell_type": "code",
   "execution_count": 49,
   "metadata": {},
   "outputs": [],
   "source": [
    "best_LR_model = Grid_LR.best_estimator_"
   ]
  },
  {
   "cell_type": "code",
   "execution_count": 50,
   "metadata": {},
   "outputs": [
    {
     "name": "stdout",
     "output_type": "stream",
     "text": [
      "Logistic Regression (L1) Coefficients\n",
      "Skillset1 Weight: -0.3453\n",
      "s2-Legal: -0.2935\n",
      "s2-Real Estate: -0.2316\n",
      "Age: -0.1897\n",
      "s1-Video and Film Production: 0.1854\n",
      "s1-Sales: -0.1767\n",
      "s1-Electrical Engineering: 0.1731\n",
      "s1-Design: -0.1632\n",
      "s1-Web Development: 0.1617\n",
      "s1-Insurance: 0.156\n",
      "s1-Energy, Oil, and Gas: 0.1543\n",
      "s2-Healthcare: -0.1539\n",
      "s2-Musical Production: 0.1528\n",
      "s1-Industrial Management: 0.1483\n",
      "Skillset2 Weight: -0.1467\n",
      "s2-Military: 0.1443\n",
      "s2-Operations Management: 0.1292\n",
      "s1-Data Analysis: 0.1201\n",
      "s2-Sales: -0.1075\n",
      "s1-Software Engineering: 0.1062\n",
      "s1-Operations Management: -0.1025\n",
      "Gender Flag: -0.1018\n",
      "s1-Healthcare: -0.1007\n",
      "s2-Mobile Telecommunications: -0.0987\n",
      "s2-Finance: 0.0947\n",
      "s1-Web Design: 0.0935\n",
      "s1-Digital Marketing: 0.0885\n",
      "Elite Institution: 0.0837\n",
      "s1-Human Resources: -0.0802\n",
      "s1-Logistics: 0.078\n",
      "s2-Human Resources: 0.0746\n",
      "s1-Finance: 0.0718\n",
      "s2-Non-Profit and Community: 0.0679\n",
      "s1-IT Management and Support: -0.0659\n",
      "s2-Retail and Fashion: 0.0635\n",
      "s2-Web Design: -0.0632\n",
      "s2-Manufacturing and Process Management: 0.057\n",
      "s2-Web Development: -0.0561\n",
      "s2-Video and Film Production: -0.056\n",
      "s1-Military: -0.0546\n",
      "s2-Administration: 0.0499\n",
      "s2-Digital Marketing: -0.0454\n",
      "s2-Logistics: 0.0446\n",
      "s1-Administration: -0.0438\n",
      "s2-IT Management and Support: 0.0426\n",
      "s1-Manufacturing and Process Management: 0.0399\n",
      "s2-Social Media and Communications: 0.0388\n",
      "s1-Product Management: 0.0371\n",
      "s2-Energy, Oil, and Gas: 0.0365\n",
      "s2-Industrial Management: 0.0346\n",
      "s2-Product Management: -0.0247\n",
      "s2-Insurance: -0.0213\n",
      "s1-Social Media and Communications: 0.0177\n",
      "s2-Design: -0.016\n",
      "s1-Mobile Telecommunications: -0.0149\n",
      "s2-Software Engineering: -0.0146\n",
      "s2-Business Development: 0.0139\n",
      "s1-Real Estate: 0.0121\n",
      "s1-Public Policy: 0.0093\n",
      "s1-Business Development: 0.0079\n",
      "s2-Electrical Engineering: -0.0066\n",
      "s1-Retail and Fashion: -0.0051\n",
      "s2-Data Analysis: -0.0033\n",
      "Education: 0.0\n",
      "s1-Hospitality: 0.0\n",
      "s1-Legal: 0.0\n",
      "s1-Musical Production: 0.0\n",
      "s1-Non-Profit and Community: 0.0\n",
      "s2-Hospitality: 0.0\n",
      "s2-Public Policy: 0.0\n"
     ]
    }
   ],
   "source": [
    "best_LR_model.fit(X2_train, y2_train)\n",
    "\n",
    "scaler = StandardScaler()\n",
    "X_l2 = scaler.fit_transform(X2)\n",
    "best_LR_model.fit(X_l2, y2)\n",
    "best_LR_model.coef_[0]\n",
    "print (\"Logistic Regression (L1) Coefficients\")\n",
    "for k,v in sorted(zip(map(lambda x: round(x, 4), best_LR_model.coef_[0]), \\\n",
    "                      X2.columns), key=lambda k_v:(-abs(k_v[0]),k_v[1])):\n",
    "    print (v + \": \" + str(k))"
   ]
  },
  {
   "cell_type": "markdown",
   "metadata": {},
   "source": [
    "### Control the Age parameter because they both contribute negatively towards the probability of being laid off or not"
   ]
  },
  {
   "cell_type": "code",
   "execution_count": 54,
   "metadata": {},
   "outputs": [
    {
     "data": {
      "text/plain": [
       "Text(0.5, 1.0, 'MBA')"
      ]
     },
     "execution_count": 54,
     "metadata": {},
     "output_type": "execute_result"
    },
    {
     "data": {
      "image/png": "[encoded data removed]",
      "text/plain": [
       "<Figure size 1440x216 with 2 Axes>"
      ]
     },
     "metadata": {
      "needs_background": "light"
     },
     "output_type": "display_data"
    }
   ],
   "source": [
    "fig, axs = plt.subplots(ncols=2,figsize=(20,3))\n",
    "sns.distplot(master['Age'], ax=axs[0]).set_title('masters')\n",
    "sns.distplot(MBA['Age'], ax=axs[1]).set_title('MBA')"
   ]
  },
  {
   "cell_type": "code",
   "execution_count": 58,
   "metadata": {},
   "outputs": [
    {
     "data": {
      "text/plain": [
       "40.54751773049645"
      ]
     },
     "execution_count": 58,
     "metadata": {},
     "output_type": "execute_result"
    }
   ],
   "source": [
    "MBA_laid_off['Age'].mean()"
   ]
  },
  {
   "cell_type": "code",
   "execution_count": null,
   "metadata": {},
   "outputs": [],
   "source": []
  }
 ],
 "metadata": {
  "kernelspec": {
   "display_name": "Python 3",
   "language": "python",
   "name": "python3"
  },
  "language_info": {
   "codemirror_mode": {
    "name": "ipython",
    "version": 3
   },
   "file_extension": ".py",
   "mimetype": "text/x-python",
   "name": "python",
   "nbconvert_exporter": "python",
   "pygments_lexer": "ipython3",
   "version": "3.6.8"
  }
 },
 "nbformat": 4,
 "nbformat_minor": 2
}

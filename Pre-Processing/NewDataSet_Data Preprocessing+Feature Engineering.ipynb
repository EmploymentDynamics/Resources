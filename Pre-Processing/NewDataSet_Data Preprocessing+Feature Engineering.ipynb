{
 "cells": [
  {
   "cell_type": "code",
   "execution_count": 1,
   "metadata": {},
   "outputs": [],
   "source": [
    "import pandas as pd\n",
    "import numpy as np\n",
    "import matplotlib.pyplot as plt\n",
    "import seaborn as sns"
   ]
  },
  {
   "cell_type": "code",
   "execution_count": 2,
   "metadata": {},
   "outputs": [
    {
     "name": "stderr",
     "output_type": "stream",
     "text": [
      "/Users/Jade/anaconda3/lib/python3.6/site-packages/IPython/core/interactiveshell.py:2785: DtypeWarning: Columns (33) have mixed types. Specify dtype option on import or set low_memory=False.\n",
      "  interactivity=interactivity, compiler=compiler, result=result)\n"
     ]
    },
    {
     "data": {
      "text/html": [
       "<div>\n",
       "<style scoped>\n",
       "    .dataframe tbody tr th:only-of-type {\n",
       "        vertical-align: middle;\n",
       "    }\n",
       "\n",
       "    .dataframe tbody tr th {\n",
       "        vertical-align: top;\n",
       "    }\n",
       "\n",
       "    .dataframe thead th {\n",
       "        text-align: right;\n",
       "    }\n",
       "</style>\n",
       "<table border=\"1\" class=\"dataframe\">\n",
       "  <thead>\n",
       "    <tr style=\"text-align: right;\">\n",
       "      <th></th>\n",
       "      <th>Unnamed: 0</th>\n",
       "      <th>ID</th>\n",
       "      <th>Birth Year</th>\n",
       "      <th>Gender Flag</th>\n",
       "      <th>Skillset1</th>\n",
       "      <th>Skillset1 Weight</th>\n",
       "      <th>Skillset2</th>\n",
       "      <th>Skillset2 Weight</th>\n",
       "      <th>City of profile</th>\n",
       "      <th>Country of profile</th>\n",
       "      <th>...</th>\n",
       "      <th>DegreeType</th>\n",
       "      <th>EliteFlag</th>\n",
       "      <th>Dummy1</th>\n",
       "      <th>Dummy2</th>\n",
       "      <th>Dummy3</th>\n",
       "      <th>Dummy4</th>\n",
       "      <th>Layoff Date</th>\n",
       "      <th>Company Name</th>\n",
       "      <th>Employees Affected</th>\n",
       "      <th>laid_off</th>\n",
       "    </tr>\n",
       "  </thead>\n",
       "  <tbody>\n",
       "    <tr>\n",
       "      <th>0</th>\n",
       "      <td>6</td>\n",
       "      <td>d5dc4adf-7444-38c2-84d7-10dcaa5cba78</td>\n",
       "      <td>2001</td>\n",
       "      <td>2</td>\n",
       "      <td>Web Design</td>\n",
       "      <td>0.868526</td>\n",
       "      <td>Digital Marketing</td>\n",
       "      <td>0.085376</td>\n",
       "      <td>San Francisco</td>\n",
       "      <td>United States</td>\n",
       "      <td>...</td>\n",
       "      <td>NaN</td>\n",
       "      <td>False</td>\n",
       "      <td>NaN</td>\n",
       "      <td>NaN</td>\n",
       "      <td>BBG009S3NB30</td>\n",
       "      <td>1.53691E+12</td>\n",
       "      <td>4/3/2017</td>\n",
       "      <td>Google</td>\n",
       "      <td>104</td>\n",
       "      <td>0</td>\n",
       "    </tr>\n",
       "    <tr>\n",
       "      <th>1</th>\n",
       "      <td>7</td>\n",
       "      <td>d5dc4adf-7444-38c2-84d7-10dcaa5cba78</td>\n",
       "      <td>2001</td>\n",
       "      <td>2</td>\n",
       "      <td>Web Design</td>\n",
       "      <td>0.868526</td>\n",
       "      <td>Digital Marketing</td>\n",
       "      <td>0.085376</td>\n",
       "      <td>San Francisco</td>\n",
       "      <td>United States</td>\n",
       "      <td>...</td>\n",
       "      <td>NaN</td>\n",
       "      <td>False</td>\n",
       "      <td>NaN</td>\n",
       "      <td>NaN</td>\n",
       "      <td>BBG009S3NB30</td>\n",
       "      <td>1.53691E+12</td>\n",
       "      <td>3/13/2017</td>\n",
       "      <td>Google</td>\n",
       "      <td>94</td>\n",
       "      <td>0</td>\n",
       "    </tr>\n",
       "    <tr>\n",
       "      <th>2</th>\n",
       "      <td>8</td>\n",
       "      <td>a08647eb-c02a-3f3b-9212-5e99c5821621</td>\n",
       "      <td>None</td>\n",
       "      <td>2</td>\n",
       "      <td>IT Management and Support</td>\n",
       "      <td>0.480207</td>\n",
       "      <td>Technical Product Management</td>\n",
       "      <td>0.329701</td>\n",
       "      <td>Detroit</td>\n",
       "      <td>United States</td>\n",
       "      <td>...</td>\n",
       "      <td>NaN</td>\n",
       "      <td>False</td>\n",
       "      <td>NaN</td>\n",
       "      <td>NaN</td>\n",
       "      <td>BBG000BWXBC2</td>\n",
       "      <td>1.53701E+12</td>\n",
       "      <td>4/15/2016</td>\n",
       "      <td>Walmart</td>\n",
       "      <td>607</td>\n",
       "      <td>0</td>\n",
       "    </tr>\n",
       "    <tr>\n",
       "      <th>3</th>\n",
       "      <td>9</td>\n",
       "      <td>a08647eb-c02a-3f3b-9212-5e99c5821621</td>\n",
       "      <td>None</td>\n",
       "      <td>2</td>\n",
       "      <td>IT Management and Support</td>\n",
       "      <td>0.480207</td>\n",
       "      <td>Technical Product Management</td>\n",
       "      <td>0.329701</td>\n",
       "      <td>Detroit</td>\n",
       "      <td>United States</td>\n",
       "      <td>...</td>\n",
       "      <td>NaN</td>\n",
       "      <td>False</td>\n",
       "      <td>NaN</td>\n",
       "      <td>NaN</td>\n",
       "      <td>BBG000BWXBC2</td>\n",
       "      <td>1.53701E+12</td>\n",
       "      <td>3/31/2017</td>\n",
       "      <td>Walmart</td>\n",
       "      <td>174</td>\n",
       "      <td>0</td>\n",
       "    </tr>\n",
       "    <tr>\n",
       "      <th>4</th>\n",
       "      <td>23</td>\n",
       "      <td>04f6646b-fdf1-3098-8112-ab9b1a3cb87f</td>\n",
       "      <td>1985</td>\n",
       "      <td>2</td>\n",
       "      <td>Software Engineering</td>\n",
       "      <td>0.985448</td>\n",
       "      <td>Web Development</td>\n",
       "      <td>0.006848</td>\n",
       "      <td>Mountain View</td>\n",
       "      <td>United States</td>\n",
       "      <td>...</td>\n",
       "      <td>NaN</td>\n",
       "      <td>False</td>\n",
       "      <td>NaN</td>\n",
       "      <td>NaN</td>\n",
       "      <td>BBG000BQLTW7</td>\n",
       "      <td>1.53883E+12</td>\n",
       "      <td>10/31/2017</td>\n",
       "      <td>Oracle America, Inc.</td>\n",
       "      <td>964</td>\n",
       "      <td>0</td>\n",
       "    </tr>\n",
       "  </tbody>\n",
       "</table>\n",
       "<p>5 rows × 38 columns</p>\n",
       "</div>"
      ],
      "text/plain": [
       "   Unnamed: 0                                    ID Birth Year  Gender Flag  \\\n",
       "0           6  d5dc4adf-7444-38c2-84d7-10dcaa5cba78       2001            2   \n",
       "1           7  d5dc4adf-7444-38c2-84d7-10dcaa5cba78       2001            2   \n",
       "2           8  a08647eb-c02a-3f3b-9212-5e99c5821621       None            2   \n",
       "3           9  a08647eb-c02a-3f3b-9212-5e99c5821621       None            2   \n",
       "4          23  04f6646b-fdf1-3098-8112-ab9b1a3cb87f       1985            2   \n",
       "\n",
       "                   Skillset1  Skillset1 Weight                     Skillset2  \\\n",
       "0                 Web Design          0.868526             Digital Marketing   \n",
       "1                 Web Design          0.868526             Digital Marketing   \n",
       "2  IT Management and Support          0.480207  Technical Product Management   \n",
       "3  IT Management and Support          0.480207  Technical Product Management   \n",
       "4       Software Engineering          0.985448               Web Development   \n",
       "\n",
       "   Skillset2 Weight City of profile Country of profile   ...     DegreeType  \\\n",
       "0          0.085376   San Francisco      United States   ...            NaN   \n",
       "1          0.085376   San Francisco      United States   ...            NaN   \n",
       "2          0.329701         Detroit      United States   ...            NaN   \n",
       "3          0.329701         Detroit      United States   ...            NaN   \n",
       "4          0.006848   Mountain View      United States   ...            NaN   \n",
       "\n",
       "   EliteFlag Dummy1  Dummy2        Dummy3       Dummy4  Layoff Date  \\\n",
       "0      False    NaN     NaN  BBG009S3NB30  1.53691E+12     4/3/2017   \n",
       "1      False    NaN     NaN  BBG009S3NB30  1.53691E+12    3/13/2017   \n",
       "2      False    NaN     NaN  BBG000BWXBC2  1.53701E+12    4/15/2016   \n",
       "3      False    NaN     NaN  BBG000BWXBC2  1.53701E+12    3/31/2017   \n",
       "4      False    NaN     NaN  BBG000BQLTW7  1.53883E+12   10/31/2017   \n",
       "\n",
       "           Company Name Employees Affected laid_off  \n",
       "0                Google                104        0  \n",
       "1                Google                 94        0  \n",
       "2               Walmart                607        0  \n",
       "3               Walmart                174        0  \n",
       "4  Oracle America, Inc.                964        0  \n",
       "\n",
       "[5 rows x 38 columns]"
      ]
     },
     "execution_count": 2,
     "metadata": {},
     "output_type": "execute_result"
    }
   ],
   "source": [
    "data = pd.read_csv('/Users/Jade/Desktop/NewDataSet.csv',encoding = \"latin1\")\n",
    "data.head()"
   ]
  },
  {
   "cell_type": "code",
   "execution_count": 3,
   "metadata": {},
   "outputs": [
    {
     "name": "stdout",
     "output_type": "stream",
     "text": [
      "<class 'pandas.core.frame.DataFrame'>\n",
      "RangeIndex: 68171 entries, 0 to 68170\n",
      "Data columns (total 38 columns):\n",
      "Unnamed: 0            68171 non-null int64\n",
      "ID                    68171 non-null object\n",
      "Birth Year            68171 non-null object\n",
      "Gender Flag           68171 non-null int64\n",
      "Skillset1             68171 non-null object\n",
      "Skillset1 Weight      68171 non-null float64\n",
      "Skillset2             68171 non-null object\n",
      "Skillset2 Weight      68171 non-null float64\n",
      "City of profile       61905 non-null object\n",
      "Country of profile    68171 non-null object\n",
      "Education             68171 non-null int64\n",
      "Elite Institution     68171 non-null bool\n",
      "Start Date            68171 non-null object\n",
      "StartFlag             68171 non-null bool\n",
      "End Date              68171 non-null object\n",
      "EndFlag               68171 non-null bool\n",
      "CurrentEmployFlag     68171 non-null bool\n",
      "Length                68171 non-null int64\n",
      "Role                  68171 non-null object\n",
      "Dept                  42013 non-null object\n",
      "Company               68171 non-null object\n",
      "Company_Norm          68171 non-null object\n",
      "Ticker                68160 non-null object\n",
      "Exchange              68171 non-null object\n",
      "PublicFlag            68171 non-null bool\n",
      "Location              44112 non-null object\n",
      "Industry              56029 non-null float64\n",
      "EducationFlag         68171 non-null bool\n",
      "DegreeType            2 non-null float64\n",
      "EliteFlag             68171 non-null bool\n",
      "Dummy1                0 non-null float64\n",
      "Dummy2                0 non-null float64\n",
      "Dummy3                68158 non-null object\n",
      "Dummy4                68171 non-null object\n",
      "Layoff Date           68171 non-null object\n",
      "Company Name          68171 non-null object\n",
      "Employees Affected    68171 non-null int64\n",
      "laid_off              68171 non-null int64\n",
      "dtypes: bool(7), float64(6), int64(6), object(19)\n",
      "memory usage: 16.6+ MB\n"
     ]
    }
   ],
   "source": [
    "data.info()"
   ]
  },
  {
   "cell_type": "code",
   "execution_count": 4,
   "metadata": {},
   "outputs": [],
   "source": [
    "# drop useless features\n",
    "data = data.drop(['Dummy1','Dummy2','Dummy3','Dummy4','EliteFlag','DegreeType','EducationFlag','PublicFlag','Exchange','Ticker','Company_Norm','Company','StartFlag','EndFlag','CurrentEmployFlag','Unnamed: 0'],axis = 1)\n"
   ]
  },
  {
   "cell_type": "code",
   "execution_count": 5,
   "metadata": {},
   "outputs": [
    {
     "name": "stdout",
     "output_type": "stream",
     "text": [
      "<class 'pandas.core.frame.DataFrame'>\n",
      "RangeIndex: 68171 entries, 0 to 68170\n",
      "Data columns (total 22 columns):\n",
      "ID                    68171 non-null object\n",
      "Birth Year            68171 non-null object\n",
      "Gender Flag           68171 non-null int64\n",
      "Skillset1             68171 non-null object\n",
      "Skillset1 Weight      68171 non-null float64\n",
      "Skillset2             68171 non-null object\n",
      "Skillset2 Weight      68171 non-null float64\n",
      "City of profile       61905 non-null object\n",
      "Country of profile    68171 non-null object\n",
      "Education             68171 non-null int64\n",
      "Elite Institution     68171 non-null bool\n",
      "Start Date            68171 non-null object\n",
      "End Date              68171 non-null object\n",
      "Length                68171 non-null int64\n",
      "Role                  68171 non-null object\n",
      "Dept                  42013 non-null object\n",
      "Location              44112 non-null object\n",
      "Industry              56029 non-null float64\n",
      "Layoff Date           68171 non-null object\n",
      "Company Name          68171 non-null object\n",
      "Employees Affected    68171 non-null int64\n",
      "laid_off              68171 non-null int64\n",
      "dtypes: bool(1), float64(3), int64(5), object(13)\n",
      "memory usage: 11.0+ MB\n"
     ]
    }
   ],
   "source": [
    "data.info()"
   ]
  },
  {
   "cell_type": "markdown",
   "metadata": {},
   "source": [
    "# Feature Engineering"
   ]
  },
  {
   "cell_type": "markdown",
   "metadata": {},
   "source": [
    "## Age"
   ]
  },
  {
   "cell_type": "code",
   "execution_count": 6,
   "metadata": {},
   "outputs": [
    {
     "data": {
      "text/plain": [
       "Birth Year    81\n",
       "dtype: int64"
      ]
     },
     "execution_count": 6,
     "metadata": {},
     "output_type": "execute_result"
    }
   ],
   "source": [
    "# convert birth year to age\n",
    "# count how many None in Birth Year\n",
    "data[['Birth Year']].eq('None').sum()"
   ]
  },
  {
   "cell_type": "code",
   "execution_count": 7,
   "metadata": {},
   "outputs": [],
   "source": [
    "# Delete the rows where birth year = None and convert to age\n",
    "data = data[data['Birth Year']!='None']\n",
    "data['Age'] = 2018 - data['Birth Year'].astype('int')"
   ]
  },
  {
   "cell_type": "markdown",
   "metadata": {},
   "source": [
    "## Elite Institute"
   ]
  },
  {
   "cell_type": "code",
   "execution_count": 8,
   "metadata": {},
   "outputs": [],
   "source": [
    "# convert true and flase to 1 and 0\n",
    "data['Elite Institution'] = data['Elite Institution'].astype('uint8')"
   ]
  },
  {
   "cell_type": "markdown",
   "metadata": {},
   "source": [
    "## Skillset"
   ]
  },
  {
   "cell_type": "code",
   "execution_count": 9,
   "metadata": {},
   "outputs": [],
   "source": [
    "data['Skillset1'] = data['Skillset1'].astype(str)\n",
    "data['Skillset2'] = data['Skillset2'].astype(str)"
   ]
  },
  {
   "cell_type": "code",
   "execution_count": 10,
   "metadata": {},
   "outputs": [],
   "source": [
    "data.loc[data['Skillset1'].str.contains('Human Resources',case = False),'Skillset1'] = 'Human Resources'\n",
    "data.loc[data['Skillset2'].str.contains('Human Resources',case = False),'Skillset2'] = 'Human Resources'\n",
    "data.loc[data['Skillset1'].str.contains('Coaching',case = False),'Skillset1'] = 'Human Resources'\n",
    "data.loc[data['Skillset2'].str.contains('Coaching',case = False),'Skillset2'] = 'Human Resources'\n",
    "data.loc[data['Skillset1'].str.contains('Education',case = False),'Skillset1'] = 'Human Resources'\n",
    "data.loc[data['Skillset2'].str.contains('Education',case = False),'Skillset2'] = 'Human Resources'\n",
    "data.loc[data['Skillset1'].str.contains('Recruiting',case = False),'Skillset1'] = 'Human Resources'\n",
    "data.loc[data['Skillset2'].str.contains('Recruiting',case = False),'Skillset2'] = 'Human Resources'"
   ]
  },
  {
   "cell_type": "code",
   "execution_count": 11,
   "metadata": {},
   "outputs": [],
   "source": [
    "data.loc[data['Skillset1'].str.contains('Sales' or 'CRM',case = False),'Skillset1'] = 'Sales'\n",
    "data.loc[data['Skillset2'].str.contains('Sales' or 'CRM',case = False),'Skillset2'] = 'Sales'"
   ]
  },
  {
   "cell_type": "code",
   "execution_count": 12,
   "metadata": {},
   "outputs": [],
   "source": [
    "data.loc[data['Skillset1'].str.contains('Construction',case = False),'Skillset1'] = 'Industrial Management'\n",
    "data.loc[data['Skillset2'].str.contains('Construction',case = False),'Skillset2'] = 'Industrial Management'"
   ]
  },
  {
   "cell_type": "code",
   "execution_count": 13,
   "metadata": {},
   "outputs": [],
   "source": [
    "data.loc[data['Skillset1'].str.contains('Product Management',case = False),'Skillset1'] = 'Product Management'\n",
    "data.loc[data['Skillset2'].str.contains('Product Management',case = False),'Skillset2'] = 'Product Management'"
   ]
  },
  {
   "cell_type": "code",
   "execution_count": 14,
   "metadata": {},
   "outputs": [],
   "source": [
    "data.loc[data['Skillset1'].str.contains('Middle Management',case = False),'Skillset1'] = 'Administration'\n",
    "data.loc[data['Skillset2'].str.contains('Middle Management',case = False),'Skillset2'] = 'Administration'"
   ]
  },
  {
   "cell_type": "code",
   "execution_count": 15,
   "metadata": {},
   "outputs": [],
   "source": [
    "data.loc[data['Skillset1'].str.contains('Pharmaceutical',case = False),'Skillset1'] = 'Healthcare'\n",
    "data.loc[data['Skillset2'].str.contains('Pharmaceutical',case = False),'Skillset2'] = 'Healthcare'"
   ]
  },
  {
   "cell_type": "code",
   "execution_count": 16,
   "metadata": {},
   "outputs": [],
   "source": [
    "data.loc[data['Skillset1'].str.contains('Accounting',case = False),'Skillset1'] = 'Finance'\n",
    "data.loc[data['Skillset2'].str.contains('Accounting',case = False),'Skillset2'] = 'Finance'\n",
    "data.loc[data['Skillset1'].str.contains('Banking',case = False),'Skillset1'] = 'Finance'\n",
    "data.loc[data['Skillset2'].str.contains('Banking',case = False),'Skillset2'] = 'Finance'"
   ]
  },
  {
   "cell_type": "code",
   "execution_count": 17,
   "metadata": {},
   "outputs": [],
   "source": [
    "data.loc[data['Skillset1'].str.contains('Graphic',case = False),'Skillset1'] = 'Design'\n",
    "data.loc[data['Skillset2'].str.contains('Graphic',case = False),'Skillset2'] = 'Design'\n",
    "data.loc[data['Skillset1'].str.contains('Visual',case = False),'Skillset1'] = 'Design'\n",
    "data.loc[data['Skillset2'].str.contains('Visual',case = False),'Skillset2'] = 'Design'"
   ]
  },
  {
   "cell_type": "code",
   "execution_count": 18,
   "metadata": {},
   "outputs": [
    {
     "data": {
      "text/plain": [
       "array(['Web Design', 'Software Engineering', 'Data Analysis',\n",
       "       'Human Resources', 'Finance', 'Product Management', 'Sales',\n",
       "       'Web Development', 'Digital Marketing', 'Operations Management',\n",
       "       'Administration', 'Design', 'Manufacturing and Process Management',\n",
       "       'Hospitality', 'Real Estate', 'Retail and Fashion', 'Healthcare',\n",
       "       'Logistics', 'Video and Film Production', 'Insurance',\n",
       "       'IT Management and Support', 'Social Media and Communications',\n",
       "       'Business Development', 'Electrical Engineering',\n",
       "       'Non-Profit and Community', 'Legal', 'Military',\n",
       "       'Musical Production', 'Mobile Telecommunications', 'Public Policy',\n",
       "       'Industrial Management', 'Energy, Oil, and Gas'], dtype=object)"
      ]
     },
     "execution_count": 18,
     "metadata": {},
     "output_type": "execute_result"
    }
   ],
   "source": [
    "data['Skillset1'].unique()"
   ]
  },
  {
   "cell_type": "code",
   "execution_count": 19,
   "metadata": {},
   "outputs": [
    {
     "data": {
      "text/plain": [
       "array(['Digital Marketing', 'Web Development', 'Administration', 'Design',\n",
       "       'Data Analysis', 'Software Engineering', 'Sales',\n",
       "       'IT Management and Support', 'Business Development',\n",
       "       'Human Resources', 'Mobile Telecommunications', 'Finance',\n",
       "       'Web Design', 'Video and Film Production',\n",
       "       'Non-Profit and Community', 'Electrical Engineering', 'Healthcare',\n",
       "       'Operations Management', 'Product Management',\n",
       "       'Manufacturing and Process Management', 'Insurance',\n",
       "       'Social Media and Communications', 'Retail and Fashion',\n",
       "       'Logistics', 'Legal', 'Hospitality', 'Military',\n",
       "       'Musical Production', 'Industrial Management', 'Public Policy',\n",
       "       'Real Estate', 'Energy, Oil, and Gas'], dtype=object)"
      ]
     },
     "execution_count": 19,
     "metadata": {},
     "output_type": "execute_result"
    }
   ],
   "source": [
    "data['Skillset2'].unique()"
   ]
  },
  {
   "cell_type": "code",
   "execution_count": 20,
   "metadata": {},
   "outputs": [
    {
     "data": {
      "text/html": [
       "<div>\n",
       "<style scoped>\n",
       "    .dataframe tbody tr th:only-of-type {\n",
       "        vertical-align: middle;\n",
       "    }\n",
       "\n",
       "    .dataframe tbody tr th {\n",
       "        vertical-align: top;\n",
       "    }\n",
       "\n",
       "    .dataframe thead th {\n",
       "        text-align: right;\n",
       "    }\n",
       "</style>\n",
       "<table border=\"1\" class=\"dataframe\">\n",
       "  <thead>\n",
       "    <tr style=\"text-align: right;\">\n",
       "      <th></th>\n",
       "      <th>ID</th>\n",
       "      <th>Birth Year</th>\n",
       "      <th>Gender Flag</th>\n",
       "      <th>Skillset1 Weight</th>\n",
       "      <th>Skillset2 Weight</th>\n",
       "      <th>City of profile</th>\n",
       "      <th>Country of profile</th>\n",
       "      <th>Education</th>\n",
       "      <th>Elite Institution</th>\n",
       "      <th>Start Date</th>\n",
       "      <th>...</th>\n",
       "      <th>s2-Product Management</th>\n",
       "      <th>s2-Public Policy</th>\n",
       "      <th>s2-Real Estate</th>\n",
       "      <th>s2-Retail and Fashion</th>\n",
       "      <th>s2-Sales</th>\n",
       "      <th>s2-Social Media and Communications</th>\n",
       "      <th>s2-Software Engineering</th>\n",
       "      <th>s2-Video and Film Production</th>\n",
       "      <th>s2-Web Design</th>\n",
       "      <th>s2-Web Development</th>\n",
       "    </tr>\n",
       "  </thead>\n",
       "  <tbody>\n",
       "    <tr>\n",
       "      <th>0</th>\n",
       "      <td>d5dc4adf-7444-38c2-84d7-10dcaa5cba78</td>\n",
       "      <td>2001</td>\n",
       "      <td>2</td>\n",
       "      <td>0.868526</td>\n",
       "      <td>0.085376</td>\n",
       "      <td>San Francisco</td>\n",
       "      <td>United States</td>\n",
       "      <td>0</td>\n",
       "      <td>0</td>\n",
       "      <td>2007/2/1</td>\n",
       "      <td>...</td>\n",
       "      <td>0</td>\n",
       "      <td>0</td>\n",
       "      <td>0</td>\n",
       "      <td>0</td>\n",
       "      <td>0</td>\n",
       "      <td>0</td>\n",
       "      <td>0</td>\n",
       "      <td>0</td>\n",
       "      <td>0</td>\n",
       "      <td>0</td>\n",
       "    </tr>\n",
       "    <tr>\n",
       "      <th>1</th>\n",
       "      <td>d5dc4adf-7444-38c2-84d7-10dcaa5cba78</td>\n",
       "      <td>2001</td>\n",
       "      <td>2</td>\n",
       "      <td>0.868526</td>\n",
       "      <td>0.085376</td>\n",
       "      <td>San Francisco</td>\n",
       "      <td>United States</td>\n",
       "      <td>0</td>\n",
       "      <td>0</td>\n",
       "      <td>2007/2/1</td>\n",
       "      <td>...</td>\n",
       "      <td>0</td>\n",
       "      <td>0</td>\n",
       "      <td>0</td>\n",
       "      <td>0</td>\n",
       "      <td>0</td>\n",
       "      <td>0</td>\n",
       "      <td>0</td>\n",
       "      <td>0</td>\n",
       "      <td>0</td>\n",
       "      <td>0</td>\n",
       "    </tr>\n",
       "    <tr>\n",
       "      <th>4</th>\n",
       "      <td>04f6646b-fdf1-3098-8112-ab9b1a3cb87f</td>\n",
       "      <td>1985</td>\n",
       "      <td>2</td>\n",
       "      <td>0.985448</td>\n",
       "      <td>0.006848</td>\n",
       "      <td>Mountain View</td>\n",
       "      <td>United States</td>\n",
       "      <td>4</td>\n",
       "      <td>0</td>\n",
       "      <td>2007/7/1</td>\n",
       "      <td>...</td>\n",
       "      <td>0</td>\n",
       "      <td>0</td>\n",
       "      <td>0</td>\n",
       "      <td>0</td>\n",
       "      <td>0</td>\n",
       "      <td>0</td>\n",
       "      <td>0</td>\n",
       "      <td>0</td>\n",
       "      <td>0</td>\n",
       "      <td>1</td>\n",
       "    </tr>\n",
       "    <tr>\n",
       "      <th>5</th>\n",
       "      <td>04f6646b-fdf1-3098-8112-ab9b1a3cb87f</td>\n",
       "      <td>1985</td>\n",
       "      <td>2</td>\n",
       "      <td>0.985448</td>\n",
       "      <td>0.006848</td>\n",
       "      <td>Mountain View</td>\n",
       "      <td>United States</td>\n",
       "      <td>4</td>\n",
       "      <td>0</td>\n",
       "      <td>2007/7/1</td>\n",
       "      <td>...</td>\n",
       "      <td>0</td>\n",
       "      <td>0</td>\n",
       "      <td>0</td>\n",
       "      <td>0</td>\n",
       "      <td>0</td>\n",
       "      <td>0</td>\n",
       "      <td>0</td>\n",
       "      <td>0</td>\n",
       "      <td>0</td>\n",
       "      <td>1</td>\n",
       "    </tr>\n",
       "    <tr>\n",
       "      <th>6</th>\n",
       "      <td>04f6646b-fdf1-3098-8112-ab9b1a3cb87f</td>\n",
       "      <td>1985</td>\n",
       "      <td>2</td>\n",
       "      <td>0.985448</td>\n",
       "      <td>0.006848</td>\n",
       "      <td>Mountain View</td>\n",
       "      <td>United States</td>\n",
       "      <td>4</td>\n",
       "      <td>0</td>\n",
       "      <td>2014/9/1</td>\n",
       "      <td>...</td>\n",
       "      <td>0</td>\n",
       "      <td>0</td>\n",
       "      <td>0</td>\n",
       "      <td>0</td>\n",
       "      <td>0</td>\n",
       "      <td>0</td>\n",
       "      <td>0</td>\n",
       "      <td>0</td>\n",
       "      <td>0</td>\n",
       "      <td>1</td>\n",
       "    </tr>\n",
       "  </tbody>\n",
       "</table>\n",
       "<p>5 rows × 85 columns</p>\n",
       "</div>"
      ],
      "text/plain": [
       "                                     ID Birth Year  Gender Flag  \\\n",
       "0  d5dc4adf-7444-38c2-84d7-10dcaa5cba78       2001            2   \n",
       "1  d5dc4adf-7444-38c2-84d7-10dcaa5cba78       2001            2   \n",
       "4  04f6646b-fdf1-3098-8112-ab9b1a3cb87f       1985            2   \n",
       "5  04f6646b-fdf1-3098-8112-ab9b1a3cb87f       1985            2   \n",
       "6  04f6646b-fdf1-3098-8112-ab9b1a3cb87f       1985            2   \n",
       "\n",
       "   Skillset1 Weight  Skillset2 Weight City of profile Country of profile  \\\n",
       "0          0.868526          0.085376   San Francisco      United States   \n",
       "1          0.868526          0.085376   San Francisco      United States   \n",
       "4          0.985448          0.006848   Mountain View      United States   \n",
       "5          0.985448          0.006848   Mountain View      United States   \n",
       "6          0.985448          0.006848   Mountain View      United States   \n",
       "\n",
       "   Education  Elite Institution Start Date         ...          \\\n",
       "0          0                  0   2007/2/1         ...           \n",
       "1          0                  0   2007/2/1         ...           \n",
       "4          4                  0   2007/7/1         ...           \n",
       "5          4                  0   2007/7/1         ...           \n",
       "6          4                  0   2014/9/1         ...           \n",
       "\n",
       "  s2-Product Management  s2-Public Policy s2-Real Estate  \\\n",
       "0                     0                 0              0   \n",
       "1                     0                 0              0   \n",
       "4                     0                 0              0   \n",
       "5                     0                 0              0   \n",
       "6                     0                 0              0   \n",
       "\n",
       "  s2-Retail and Fashion s2-Sales  s2-Social Media and Communications  \\\n",
       "0                     0        0                                   0   \n",
       "1                     0        0                                   0   \n",
       "4                     0        0                                   0   \n",
       "5                     0        0                                   0   \n",
       "6                     0        0                                   0   \n",
       "\n",
       "  s2-Software Engineering s2-Video and Film Production  s2-Web Design  \\\n",
       "0                       0                            0              0   \n",
       "1                       0                            0              0   \n",
       "4                       0                            0              0   \n",
       "5                       0                            0              0   \n",
       "6                       0                            0              0   \n",
       "\n",
       "   s2-Web Development  \n",
       "0                   0  \n",
       "1                   0  \n",
       "4                   1  \n",
       "5                   1  \n",
       "6                   1  \n",
       "\n",
       "[5 rows x 85 columns]"
      ]
     },
     "execution_count": 20,
     "metadata": {},
     "output_type": "execute_result"
    }
   ],
   "source": [
    "# Enode skill set\n",
    "# use one-hot encoding to encode skillsets\n",
    "encodeSkill1 = pd.get_dummies(data['Skillset1'], prefix = 's1', prefix_sep='-')\n",
    "encodeSkill2 = pd.get_dummies(data['Skillset2'], prefix = 's2', prefix_sep='-') \n",
    "data = data.drop(['Skillset1','Skillset2'], axis = 1)\n",
    "data = data.join(encodeSkill1) \n",
    "data = data.join(encodeSkill2)\n",
    "data.head()"
   ]
  },
  {
   "cell_type": "code",
   "execution_count": 22,
   "metadata": {},
   "outputs": [],
   "source": [
    "data.to_csv('newData1.csv')"
   ]
  },
  {
   "cell_type": "code",
   "execution_count": null,
   "metadata": {},
   "outputs": [],
   "source": []
  }
 ],
 "metadata": {
  "kernelspec": {
   "display_name": "Python 3",
   "language": "python",
   "name": "python3"
  },
  "language_info": {
   "codemirror_mode": {
    "name": "ipython",
    "version": 3
   },
   "file_extension": ".py",
   "mimetype": "text/x-python",
   "name": "python",
   "nbconvert_exporter": "python",
   "pygments_lexer": "ipython3",
   "version": "3.6.5"
  }
 },
 "nbformat": 4,
 "nbformat_minor": 2
}

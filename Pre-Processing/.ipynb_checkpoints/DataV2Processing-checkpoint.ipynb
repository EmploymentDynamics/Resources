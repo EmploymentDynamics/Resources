{
 "cells": [
  {
   "cell_type": "code",
   "execution_count": 1,
   "metadata": {},
   "outputs": [],
   "source": [
    "import pandas as pd\n",
    "import numpy as np\n",
    "import matplotlib.pyplot as plt\n",
    "\n",
    "%matplotlib inline"
   ]
  },
  {
   "cell_type": "code",
   "execution_count": 2,
   "metadata": {},
   "outputs": [
    {
     "name": "stderr",
     "output_type": "stream",
     "text": [
      "D:\\Anaconda\\envs\\data-x\\lib\\site-packages\\IPython\\core\\interactiveshell.py:3020: DtypeWarning: Columns (12,24) have mixed types. Specify dtype option on import or set low_memory=False.\n",
      "  interactivity=interactivity, compiler=compiler, result=result)\n"
     ]
    }
   ],
   "source": [
    "data = pd.read_csv(r'C:\\Ran\\Berkeley\\IEOR\\290\\Project\\Data\\TrainingDatasetV2.csv', encoding = 'latin1')"
   ]
  },
  {
   "cell_type": "code",
   "execution_count": 3,
   "metadata": {},
   "outputs": [],
   "source": [
    "data = data[~data.Role.str.contains(\"intern\")] # Removing interns"
   ]
  },
  {
   "cell_type": "code",
   "execution_count": 4,
   "metadata": {},
   "outputs": [
    {
     "data": {
      "text/plain": [
       "array(['541512', '334413', '334210', '511210', '33411', '334112',\n",
       "       '334220', '999977', '519130', '517210', '333314', '51', '333316',\n",
       "       '334419', '54', 'FALSE', '334412', nan, 517210.0, 51.0, 334210.0,\n",
       "       511210.0, 334220.0, 334413.0, 519130.0, 334112.0, 541512.0,\n",
       "       33411.0, 333316.0, 333314.0, 999977.0, 334419.0], dtype=object)"
      ]
     },
     "execution_count": 4,
     "metadata": {},
     "output_type": "execute_result"
    }
   ],
   "source": [
    "data['Industry'].unique()"
   ]
  },
  {
   "cell_type": "code",
   "execution_count": 5,
   "metadata": {},
   "outputs": [],
   "source": [
    "data['Industry'] = data['Industry'].astype(str).replace({'541512': 'Computer Systems Design', \n",
    "                          '541512.0': 'Computer Systems Design',\n",
    "                          '334413': 'Semiconductor Manufacturing', \n",
    "                          '334413.0': 'Semiconductor Manufacturing',\n",
    "                          '334210': 'Carrier equipment', \n",
    "                          '334210.0': 'Carrier equipment',\n",
    "                          '511210':'Software development and publishing',\n",
    "                          '511210.0':'Software development and publishing',\n",
    "                          '33411':'Computer Manufacturing', \n",
    "                          '33411.0':'Computer Manufacturing',\n",
    "                          '334112':'CD-ROM drives manufacturing', \n",
    "                          '334112.0':'CD-ROM drives manufacturing',\n",
    "                          '334220':'Radio manufacturing', \n",
    "                          '334220.0':'Radio manufacturing', \n",
    "                          '999977':'Nonclassifiable Establishments' , \n",
    "                          '999977.0':'Nonclassifiable Establishments' ,\n",
    "                          '519130':'Internet Broadcasting', \n",
    "                          '519130.0':'Internet Broadcasting',\n",
    "                          '517210':'Petroleum Products', \n",
    "                          '517210.0':'Petroleum Products',\n",
    "                          '333314':'Optical Device Manufacturing', \n",
    "                          '333314.0':'Optical Device Manufacturing',\n",
    "                          '51': 'Information and Cultural Industries', \n",
    "                          '51.0': 'Information and Cultural Industries', \n",
    "                          '333316': 'Photo Equipment Manufacturing', \n",
    "                          '333316.0': 'Photo Equipment Manufacturing',                               \n",
    "                          '334419': 'Other Manufacturing', \n",
    "                          '334419.0': 'Other Manufacturing',\n",
    "                          '334412': 'Circuit Board Manufacturing', \n",
    "                          '334412.0': 'Circuit Board Manufacturing', \n",
    "                          '54': 'Professional, Scientific, and Technical Service', \n",
    "                          })"
   ]
  },
  {
   "cell_type": "code",
   "execution_count": 6,
   "metadata": {},
   "outputs": [
    {
     "data": {
      "text/plain": [
       "array(['Computer Systems Design', 'Semiconductor Manufacturing',\n",
       "       'Carrier equipment', 'Software development and publishing',\n",
       "       'Computer Manufacturing', 'CD-ROM drives manufacturing',\n",
       "       'Radio manufacturing', 'Nonclassifiable Establishments',\n",
       "       'Internet Broadcasting', 'Petroleum Products',\n",
       "       'Optical Device Manufacturing',\n",
       "       'Information and Cultural Industries',\n",
       "       'Photo Equipment Manufacturing', 'Other Manufacturing',\n",
       "       'Professional, Scientific, and Technical Service', 'FALSE',\n",
       "       'Circuit Board Manufacturing', 'nan'], dtype=object)"
      ]
     },
     "execution_count": 6,
     "metadata": {},
     "output_type": "execute_result"
    }
   ],
   "source": [
    "data['Industry'].unique()"
   ]
  },
  {
   "cell_type": "code",
   "execution_count": 7,
   "metadata": {},
   "outputs": [],
   "source": [
    "data['Length'] = data['Length'].abs() #Replacing negative lengths"
   ]
  },
  {
   "cell_type": "code",
   "execution_count": 8,
   "metadata": {},
   "outputs": [
    {
     "data": {
      "text/plain": [
       "san francisco bay area                 14189\n",
       "san jose, ca                            7798\n",
       "mountain view, ca                       5152\n",
       "san jose                                3099\n",
       "san jose, california                    1753\n",
       "santa clara, ca                         1742\n",
       "mountain view, california                906\n",
       "milpitas, ca                             852\n",
       "mountain view                            802\n",
       "cupertino, ca                            800\n",
       "greater san diego area                   741\n",
       "palo alto, ca                            702\n",
       "bengaluru area, india                    659\n",
       "santa clara, california                  484\n",
       "santa clara                              480\n",
       "pune area, india                         465\n",
       "raleigh-durham, north carolina area      437\n",
       "san francisco, ca                        391\n",
       "redwood shores, ca                       387\n",
       "portland, oregon area                    362\n",
       "united states                            342\n",
       "bangalore                                323\n",
       "san jose ca                              292\n",
       "san francisco                            281\n",
       "folsom, ca                               279\n",
       "palo alto                                260\n",
       "greater los angeles area                 259\n",
       "hillsboro, or                            257\n",
       "san ramon, ca                            244\n",
       "dallas/fort worth area                   238\n",
       "                                       ...  \n",
       "singapore                                186\n",
       "san mateo, ca                            179\n",
       "hillsboro, oregon                        179\n",
       "paris area, france                       179\n",
       "chandler, az                             178\n",
       "folsom, california                       173\n",
       "san jose,ca                              173\n",
       "palo alto, california                    169\n",
       "greater atlanta area                     159\n",
       "san diego, ca                            153\n",
       "dublin, ireland                          146\n",
       "greater boston area                      140\n",
       "irvine, ca                               138\n",
       "san diego                                136\n",
       "hyderabad area, india                    133\n",
       "cupertino                                131\n",
       "tokyo, japan                             131\n",
       "greater seattle area                     129\n",
       "beijing city, china                      124\n",
       "pleasanton, ca                           123\n",
       "phoenix, arizona area                    122\n",
       "toronto, canada area                     121\n",
       "mountain view ca                         120\n",
       "culver city, ca                          118\n",
       "austin, texas area                       115\n",
       "stockholm, sweden                        114\n",
       "shanghai city, china                     106\n",
       "chandler, arizona                        104\n",
       "fremont, ca                              103\n",
       "reading, united kingdom                  103\n",
       "Name: Location, Length: 72, dtype: int64"
      ]
     },
     "execution_count": 8,
     "metadata": {},
     "output_type": "execute_result"
    }
   ],
   "source": [
    "data['Location'].value_counts().loc[lambda x : x >100] "
   ]
  },
  {
   "cell_type": "code",
   "execution_count": 9,
   "metadata": {},
   "outputs": [
    {
     "name": "stderr",
     "output_type": "stream",
     "text": [
      "D:\\Anaconda\\envs\\data-x\\lib\\site-packages\\ipykernel_launcher.py:15: SettingWithCopyWarning: \n",
      "A value is trying to be set on a copy of a slice from a DataFrame\n",
      "\n",
      "See the caveats in the documentation: http://pandas.pydata.org/pandas-docs/stable/indexing.html#indexing-view-versus-copy\n",
      "  from ipykernel import kernelapp as app\n",
      "D:\\Anaconda\\envs\\data-x\\lib\\site-packages\\ipykernel_launcher.py:18: SettingWithCopyWarning: \n",
      "A value is trying to be set on a copy of a slice from a DataFrame\n",
      "\n",
      "See the caveats in the documentation: http://pandas.pydata.org/pandas-docs/stable/indexing.html#indexing-view-versus-copy\n",
      "D:\\Anaconda\\envs\\data-x\\lib\\site-packages\\ipykernel_launcher.py:13: SettingWithCopyWarning: \n",
      "A value is trying to be set on a copy of a slice from a DataFrame\n",
      "\n",
      "See the caveats in the documentation: http://pandas.pydata.org/pandas-docs/stable/indexing.html#indexing-view-versus-copy\n",
      "  del sys.path[0]\n"
     ]
    }
   ],
   "source": [
    "data['Location Flag'] = 0\n",
    "\n",
    "data['Location'] = data['Location'].astype(str)#To make iterable\n",
    "\n",
    "for idx, location in data['Location'].iteritems():\n",
    "    \n",
    "    if 'ca' in location or 'california' in location or 'bay' in location or 'francisco' in location \\\n",
    "        or 'san jose' in location or 'silicon valley' in location or 'cupertino' in location or 'palo alto'in location\\\n",
    "        or 'redwood' in location or 'clara' in location or 'mountain view' in location or location == 'nan':\n",
    "        \n",
    "        if 'carolina' in location or 'rica' in location or 'chicago' in location or 'africa' in location or 'irvine'\\\n",
    "            in location or 'angeles' in location or 'canada' in location or 'dominican' in location: #Edge cases\n",
    "            data['Location Flag'][idx] = 0\n",
    "        else:\n",
    "            data['Location Flag'][idx] = 1 #Location is within 'bay area'\n",
    "        \n",
    "    else:\n",
    "        data['Location Flag'][idx] = 0\n",
    "\n",
    "# Warning: Takes 30 min to run  "
   ]
  },
  {
   "cell_type": "code",
   "execution_count": 10,
   "metadata": {},
   "outputs": [
    {
     "name": "stdout",
     "output_type": "stream",
     "text": [
      "V2 shape (95770, 30)\n",
      "V3 shape (76911, 30)\n"
     ]
    }
   ],
   "source": [
    "dataV3 = data[data['Location Flag'] == 1]\n",
    "\n",
    "print(\"V2 shape\", data.shape)\n",
    "print(\"V3 shape\", dataV3.shape)"
   ]
  },
  {
   "cell_type": "code",
   "execution_count": 14,
   "metadata": {},
   "outputs": [
    {
     "name": "stderr",
     "output_type": "stream",
     "text": [
      "D:\\Anaconda\\envs\\data-x\\lib\\site-packages\\pandas\\core\\frame.py:3930: SettingWithCopyWarning: \n",
      "A value is trying to be set on a copy of a slice from a DataFrame\n",
      "\n",
      "See the caveats in the documentation: http://pandas.pydata.org/pandas-docs/stable/indexing.html#indexing-view-versus-copy\n",
      "  errors=errors)\n"
     ]
    }
   ],
   "source": [
    "dataV3.drop(['Location Flag'], axis = 1, inplace = True)"
   ]
  },
  {
   "cell_type": "code",
   "execution_count": 16,
   "metadata": {},
   "outputs": [
    {
     "data": {
      "text/html": [
       "<div>\n",
       "<style scoped>\n",
       "    .dataframe tbody tr th:only-of-type {\n",
       "        vertical-align: middle;\n",
       "    }\n",
       "\n",
       "    .dataframe tbody tr th {\n",
       "        vertical-align: top;\n",
       "    }\n",
       "\n",
       "    .dataframe thead th {\n",
       "        text-align: right;\n",
       "    }\n",
       "</style>\n",
       "<table border=\"1\" class=\"dataframe\">\n",
       "  <thead>\n",
       "    <tr style=\"text-align: right;\">\n",
       "      <th></th>\n",
       "      <th>ID</th>\n",
       "      <th>Birth Year</th>\n",
       "      <th>Gender Flag</th>\n",
       "      <th>Skillset1</th>\n",
       "      <th>Skillset1 Weight</th>\n",
       "      <th>Skillset2</th>\n",
       "      <th>Skillset2 Weight</th>\n",
       "      <th>City of profile</th>\n",
       "      <th>Country of profile</th>\n",
       "      <th>Education</th>\n",
       "      <th>...</th>\n",
       "      <th>Company</th>\n",
       "      <th>Company_Norm</th>\n",
       "      <th>Ticker</th>\n",
       "      <th>Exchange</th>\n",
       "      <th>Location</th>\n",
       "      <th>Industry</th>\n",
       "      <th>Layoff Date</th>\n",
       "      <th>Company Name</th>\n",
       "      <th>Employees Affected</th>\n",
       "      <th>laid_off</th>\n",
       "    </tr>\n",
       "  </thead>\n",
       "  <tbody>\n",
       "    <tr>\n",
       "      <th>0</th>\n",
       "      <td>6b89d91d-7b71-37fe-bb4c-0084018d63c0</td>\n",
       "      <td>2001</td>\n",
       "      <td>0</td>\n",
       "      <td>Software Engineering</td>\n",
       "      <td>0.570285</td>\n",
       "      <td>Web Development</td>\n",
       "      <td>0.277136</td>\n",
       "      <td>San Ramon</td>\n",
       "      <td>United States</td>\n",
       "      <td>0</td>\n",
       "      <td>...</td>\n",
       "      <td>VMware</td>\n",
       "      <td>VMware</td>\n",
       "      <td>VMW</td>\n",
       "      <td>XNYS</td>\n",
       "      <td>san francisco, ca</td>\n",
       "      <td>Computer Systems Design</td>\n",
       "      <td>3/12/2018</td>\n",
       "      <td>VMware, Inc</td>\n",
       "      <td>159</td>\n",
       "      <td>0.0</td>\n",
       "    </tr>\n",
       "    <tr>\n",
       "      <th>1</th>\n",
       "      <td>6b89d91d-7b71-37fe-bb4c-0084018d63c0</td>\n",
       "      <td>2001</td>\n",
       "      <td>0</td>\n",
       "      <td>Software Engineering</td>\n",
       "      <td>0.570285</td>\n",
       "      <td>Web Development</td>\n",
       "      <td>0.277136</td>\n",
       "      <td>San Ramon</td>\n",
       "      <td>United States</td>\n",
       "      <td>0</td>\n",
       "      <td>...</td>\n",
       "      <td>VMware</td>\n",
       "      <td>VMware</td>\n",
       "      <td>VMW</td>\n",
       "      <td>XNYS</td>\n",
       "      <td>san francisco, ca</td>\n",
       "      <td>Computer Systems Design</td>\n",
       "      <td>3/28/2016</td>\n",
       "      <td>VMware, Inc</td>\n",
       "      <td>170</td>\n",
       "      <td>0.0</td>\n",
       "    </tr>\n",
       "    <tr>\n",
       "      <th>11</th>\n",
       "      <td>a8dc3d34-5108-365a-9625-6711be684d92</td>\n",
       "      <td>1979</td>\n",
       "      <td>0</td>\n",
       "      <td>Software Engineering</td>\n",
       "      <td>0.949158</td>\n",
       "      <td>Electrical Engineering</td>\n",
       "      <td>0.033769</td>\n",
       "      <td>San Francisco</td>\n",
       "      <td>United States</td>\n",
       "      <td>4</td>\n",
       "      <td>...</td>\n",
       "      <td>Cisco Systems</td>\n",
       "      <td>Cisco Systems</td>\n",
       "      <td>CSCO</td>\n",
       "      <td>XNAS</td>\n",
       "      <td>nan</td>\n",
       "      <td>Carrier equipment</td>\n",
       "      <td>1/17/2017</td>\n",
       "      <td>Cisco Systems, Inc.</td>\n",
       "      <td>25</td>\n",
       "      <td>0.0</td>\n",
       "    </tr>\n",
       "    <tr>\n",
       "      <th>12</th>\n",
       "      <td>a8dc3d34-5108-365a-9625-6711be684d92</td>\n",
       "      <td>1979</td>\n",
       "      <td>0</td>\n",
       "      <td>Software Engineering</td>\n",
       "      <td>0.949158</td>\n",
       "      <td>Electrical Engineering</td>\n",
       "      <td>0.033769</td>\n",
       "      <td>San Francisco</td>\n",
       "      <td>United States</td>\n",
       "      <td>4</td>\n",
       "      <td>...</td>\n",
       "      <td>Cisco Systems</td>\n",
       "      <td>Cisco Systems</td>\n",
       "      <td>CSCO</td>\n",
       "      <td>XNAS</td>\n",
       "      <td>nan</td>\n",
       "      <td>Carrier equipment</td>\n",
       "      <td>1/20/2016</td>\n",
       "      <td>Cisco Systems, Inc.</td>\n",
       "      <td>123</td>\n",
       "      <td>0.0</td>\n",
       "    </tr>\n",
       "    <tr>\n",
       "      <th>13</th>\n",
       "      <td>a8dc3d34-5108-365a-9625-6711be684d92</td>\n",
       "      <td>1979</td>\n",
       "      <td>0</td>\n",
       "      <td>Software Engineering</td>\n",
       "      <td>0.949158</td>\n",
       "      <td>Electrical Engineering</td>\n",
       "      <td>0.033769</td>\n",
       "      <td>San Francisco</td>\n",
       "      <td>United States</td>\n",
       "      <td>4</td>\n",
       "      <td>...</td>\n",
       "      <td>Cisco Systems</td>\n",
       "      <td>Cisco Systems</td>\n",
       "      <td>CSCO</td>\n",
       "      <td>XNAS</td>\n",
       "      <td>nan</td>\n",
       "      <td>Carrier equipment</td>\n",
       "      <td>10/10/2014</td>\n",
       "      <td>Cisco Systems, Inc.</td>\n",
       "      <td>1005</td>\n",
       "      <td>0.0</td>\n",
       "    </tr>\n",
       "  </tbody>\n",
       "</table>\n",
       "<p>5 rows × 29 columns</p>\n",
       "</div>"
      ],
      "text/plain": [
       "                                      ID Birth Year  Gender Flag  \\\n",
       "0   6b89d91d-7b71-37fe-bb4c-0084018d63c0       2001            0   \n",
       "1   6b89d91d-7b71-37fe-bb4c-0084018d63c0       2001            0   \n",
       "11  a8dc3d34-5108-365a-9625-6711be684d92       1979            0   \n",
       "12  a8dc3d34-5108-365a-9625-6711be684d92       1979            0   \n",
       "13  a8dc3d34-5108-365a-9625-6711be684d92       1979            0   \n",
       "\n",
       "               Skillset1  Skillset1 Weight               Skillset2  \\\n",
       "0   Software Engineering          0.570285         Web Development   \n",
       "1   Software Engineering          0.570285         Web Development   \n",
       "11  Software Engineering          0.949158  Electrical Engineering   \n",
       "12  Software Engineering          0.949158  Electrical Engineering   \n",
       "13  Software Engineering          0.949158  Electrical Engineering   \n",
       "\n",
       "    Skillset2 Weight City of profile Country of profile  Education  ...  \\\n",
       "0           0.277136       San Ramon      United States          0  ...   \n",
       "1           0.277136       San Ramon      United States          0  ...   \n",
       "11          0.033769   San Francisco      United States          4  ...   \n",
       "12          0.033769   San Francisco      United States          4  ...   \n",
       "13          0.033769   San Francisco      United States          4  ...   \n",
       "\n",
       "          Company   Company_Norm Ticker Exchange           Location  \\\n",
       "0          VMware         VMware    VMW     XNYS  san francisco, ca   \n",
       "1          VMware         VMware    VMW     XNYS  san francisco, ca   \n",
       "11  Cisco Systems  Cisco Systems   CSCO     XNAS                nan   \n",
       "12  Cisco Systems  Cisco Systems   CSCO     XNAS                nan   \n",
       "13  Cisco Systems  Cisco Systems   CSCO     XNAS                nan   \n",
       "\n",
       "                   Industry  Layoff Date         Company Name  \\\n",
       "0   Computer Systems Design    3/12/2018          VMware, Inc   \n",
       "1   Computer Systems Design    3/28/2016          VMware, Inc   \n",
       "11        Carrier equipment    1/17/2017  Cisco Systems, Inc.   \n",
       "12        Carrier equipment    1/20/2016  Cisco Systems, Inc.   \n",
       "13        Carrier equipment   10/10/2014  Cisco Systems, Inc.   \n",
       "\n",
       "   Employees Affected laid_off  \n",
       "0                 159      0.0  \n",
       "1                 170      0.0  \n",
       "11                 25      0.0  \n",
       "12                123      0.0  \n",
       "13               1005      0.0  \n",
       "\n",
       "[5 rows x 29 columns]"
      ]
     },
     "execution_count": 16,
     "metadata": {},
     "output_type": "execute_result"
    }
   ],
   "source": [
    "dataV3.head()"
   ]
  },
  {
   "cell_type": "code",
   "execution_count": 15,
   "metadata": {},
   "outputs": [
    {
     "data": {
      "text/plain": [
       "5657"
      ]
     },
     "execution_count": 15,
     "metadata": {},
     "output_type": "execute_result"
    }
   ],
   "source": [
    "len(dataV3[dataV3['laid_off'] == 1])"
   ]
  },
  {
   "cell_type": "code",
   "execution_count": 17,
   "metadata": {},
   "outputs": [],
   "source": [
    "dataV3.to_csv(r'C:\\Ran\\Berkeley\\IEOR\\290\\Project\\Data\\TrainingDatasetV3.csv')"
   ]
  },
  {
   "cell_type": "code",
   "execution_count": null,
   "metadata": {},
   "outputs": [],
   "source": []
  }
 ],
 "metadata": {
  "kernelspec": {
   "display_name": "Python 3",
   "language": "python",
   "name": "python3"
  },
  "language_info": {
   "codemirror_mode": {
    "name": "ipython",
    "version": 3
   },
   "file_extension": ".py",
   "mimetype": "text/x-python",
   "name": "python",
   "nbconvert_exporter": "python",
   "pygments_lexer": "ipython3",
   "version": "3.6.8"
  }
 },
 "nbformat": 4,
 "nbformat_minor": 2
}

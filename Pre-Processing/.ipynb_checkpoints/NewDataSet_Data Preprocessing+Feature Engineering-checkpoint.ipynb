{
 "cells": [
  {
   "cell_type": "code",
   "execution_count": 2,
   "metadata": {},
   "outputs": [],
   "source": [
    "import pandas as pd\n",
    "import numpy as np\n",
    "import matplotlib.pyplot as plt\n",
    "import seaborn as sns"
   ]
  },
  {
   "cell_type": "code",
   "execution_count": 4,
   "metadata": {},
   "outputs": [
    {
     "name": "stderr",
     "output_type": "stream",
     "text": [
      "D:\\Anaconda\\envs\\data-x\\lib\\site-packages\\IPython\\core\\interactiveshell.py:3020: DtypeWarning: Columns (2,13,33) have mixed types. Specify dtype option on import or set low_memory=False.\n",
      "  interactivity=interactivity, compiler=compiler, result=result)\n"
     ]
    },
    {
     "data": {
      "text/html": [
       "<div>\n",
       "<style scoped>\n",
       "    .dataframe tbody tr th:only-of-type {\n",
       "        vertical-align: middle;\n",
       "    }\n",
       "\n",
       "    .dataframe tbody tr th {\n",
       "        vertical-align: top;\n",
       "    }\n",
       "\n",
       "    .dataframe thead th {\n",
       "        text-align: right;\n",
       "    }\n",
       "</style>\n",
       "<table border=\"1\" class=\"dataframe\">\n",
       "  <thead>\n",
       "    <tr style=\"text-align: right;\">\n",
       "      <th></th>\n",
       "      <th>Unnamed: 0</th>\n",
       "      <th>ID</th>\n",
       "      <th>Birth Year</th>\n",
       "      <th>Gender Flag</th>\n",
       "      <th>Skillset1</th>\n",
       "      <th>Skillset1 Weight</th>\n",
       "      <th>Skillset2</th>\n",
       "      <th>Skillset2 Weight</th>\n",
       "      <th>City of profile</th>\n",
       "      <th>Country of profile</th>\n",
       "      <th>...</th>\n",
       "      <th>DegreeType</th>\n",
       "      <th>EliteFlag</th>\n",
       "      <th>Dummy1</th>\n",
       "      <th>Dummy2</th>\n",
       "      <th>Dummy3</th>\n",
       "      <th>Dummy4</th>\n",
       "      <th>Layoff Date</th>\n",
       "      <th>Company Name</th>\n",
       "      <th>Employees Affected</th>\n",
       "      <th>laid_off</th>\n",
       "    </tr>\n",
       "  </thead>\n",
       "  <tbody>\n",
       "    <tr>\n",
       "      <th>0</th>\n",
       "      <td>0</td>\n",
       "      <td>3095f7eb-b536-39ca-8bd4-949a290deed9</td>\n",
       "      <td>1997</td>\n",
       "      <td>2</td>\n",
       "      <td>Web Development</td>\n",
       "      <td>0.874223</td>\n",
       "      <td>Software Engineering</td>\n",
       "      <td>0.075843</td>\n",
       "      <td>NaN</td>\n",
       "      <td>United States</td>\n",
       "      <td>...</td>\n",
       "      <td>NaN</td>\n",
       "      <td>False</td>\n",
       "      <td>NaN</td>\n",
       "      <td>NaN</td>\n",
       "      <td>BBG000BWNFZ9</td>\n",
       "      <td>1497024570000</td>\n",
       "      <td>10/23/2015</td>\n",
       "      <td>Western Digital Technologies, Inc.</td>\n",
       "      <td>56</td>\n",
       "      <td>0</td>\n",
       "    </tr>\n",
       "    <tr>\n",
       "      <th>1</th>\n",
       "      <td>1</td>\n",
       "      <td>3095f7eb-b536-39ca-8bd4-949a290deed9</td>\n",
       "      <td>1997</td>\n",
       "      <td>2</td>\n",
       "      <td>Web Development</td>\n",
       "      <td>0.874223</td>\n",
       "      <td>Software Engineering</td>\n",
       "      <td>0.075843</td>\n",
       "      <td>NaN</td>\n",
       "      <td>United States</td>\n",
       "      <td>...</td>\n",
       "      <td>NaN</td>\n",
       "      <td>False</td>\n",
       "      <td>NaN</td>\n",
       "      <td>NaN</td>\n",
       "      <td>BBG000BWNFZ9</td>\n",
       "      <td>1497024570000</td>\n",
       "      <td>10/24/2016</td>\n",
       "      <td>Western Digital Technologies, Inc.</td>\n",
       "      <td>59</td>\n",
       "      <td>0</td>\n",
       "    </tr>\n",
       "    <tr>\n",
       "      <th>2</th>\n",
       "      <td>2</td>\n",
       "      <td>3095f7eb-b536-39ca-8bd4-949a290deed9</td>\n",
       "      <td>1997</td>\n",
       "      <td>2</td>\n",
       "      <td>Web Development</td>\n",
       "      <td>0.874223</td>\n",
       "      <td>Software Engineering</td>\n",
       "      <td>0.075843</td>\n",
       "      <td>NaN</td>\n",
       "      <td>United States</td>\n",
       "      <td>...</td>\n",
       "      <td>NaN</td>\n",
       "      <td>False</td>\n",
       "      <td>NaN</td>\n",
       "      <td>NaN</td>\n",
       "      <td>BBG000BWNFZ9</td>\n",
       "      <td>1497024570000</td>\n",
       "      <td>6/17/2016</td>\n",
       "      <td>Western Digital Technologies, Inc.</td>\n",
       "      <td>71</td>\n",
       "      <td>0</td>\n",
       "    </tr>\n",
       "    <tr>\n",
       "      <th>3</th>\n",
       "      <td>3</td>\n",
       "      <td>3095f7eb-b536-39ca-8bd4-949a290deed9</td>\n",
       "      <td>1997</td>\n",
       "      <td>2</td>\n",
       "      <td>Web Development</td>\n",
       "      <td>0.874223</td>\n",
       "      <td>Software Engineering</td>\n",
       "      <td>0.075843</td>\n",
       "      <td>NaN</td>\n",
       "      <td>United States</td>\n",
       "      <td>...</td>\n",
       "      <td>NaN</td>\n",
       "      <td>False</td>\n",
       "      <td>NaN</td>\n",
       "      <td>NaN</td>\n",
       "      <td>BBG000BWNFZ9</td>\n",
       "      <td>1497024570000</td>\n",
       "      <td>7/3/2016</td>\n",
       "      <td>Western Digital Technologies, Inc.</td>\n",
       "      <td>337</td>\n",
       "      <td>0</td>\n",
       "    </tr>\n",
       "    <tr>\n",
       "      <th>4</th>\n",
       "      <td>4</td>\n",
       "      <td>3095f7eb-b536-39ca-8bd4-949a290deed9</td>\n",
       "      <td>1997</td>\n",
       "      <td>2</td>\n",
       "      <td>Web Development</td>\n",
       "      <td>0.874223</td>\n",
       "      <td>Software Engineering</td>\n",
       "      <td>0.075843</td>\n",
       "      <td>NaN</td>\n",
       "      <td>United States</td>\n",
       "      <td>...</td>\n",
       "      <td>NaN</td>\n",
       "      <td>False</td>\n",
       "      <td>NaN</td>\n",
       "      <td>NaN</td>\n",
       "      <td>BBG000BWNFZ9</td>\n",
       "      <td>1497024570000</td>\n",
       "      <td>8/27/2018</td>\n",
       "      <td>Western Digital Technologies, Inc.</td>\n",
       "      <td>79</td>\n",
       "      <td>0</td>\n",
       "    </tr>\n",
       "  </tbody>\n",
       "</table>\n",
       "<p>5 rows × 38 columns</p>\n",
       "</div>"
      ],
      "text/plain": [
       "   Unnamed: 0                                    ID Birth Year  Gender Flag  \\\n",
       "0           0  3095f7eb-b536-39ca-8bd4-949a290deed9       1997            2   \n",
       "1           1  3095f7eb-b536-39ca-8bd4-949a290deed9       1997            2   \n",
       "2           2  3095f7eb-b536-39ca-8bd4-949a290deed9       1997            2   \n",
       "3           3  3095f7eb-b536-39ca-8bd4-949a290deed9       1997            2   \n",
       "4           4  3095f7eb-b536-39ca-8bd4-949a290deed9       1997            2   \n",
       "\n",
       "         Skillset1  Skillset1 Weight             Skillset2  Skillset2 Weight  \\\n",
       "0  Web Development          0.874223  Software Engineering          0.075843   \n",
       "1  Web Development          0.874223  Software Engineering          0.075843   \n",
       "2  Web Development          0.874223  Software Engineering          0.075843   \n",
       "3  Web Development          0.874223  Software Engineering          0.075843   \n",
       "4  Web Development          0.874223  Software Engineering          0.075843   \n",
       "\n",
       "  City of profile Country of profile  ...  DegreeType  EliteFlag Dummy1  \\\n",
       "0             NaN      United States  ...         NaN      False    NaN   \n",
       "1             NaN      United States  ...         NaN      False    NaN   \n",
       "2             NaN      United States  ...         NaN      False    NaN   \n",
       "3             NaN      United States  ...         NaN      False    NaN   \n",
       "4             NaN      United States  ...         NaN      False    NaN   \n",
       "\n",
       "  Dummy2        Dummy3         Dummy4  Layoff Date  \\\n",
       "0    NaN  BBG000BWNFZ9  1497024570000   10/23/2015   \n",
       "1    NaN  BBG000BWNFZ9  1497024570000   10/24/2016   \n",
       "2    NaN  BBG000BWNFZ9  1497024570000    6/17/2016   \n",
       "3    NaN  BBG000BWNFZ9  1497024570000     7/3/2016   \n",
       "4    NaN  BBG000BWNFZ9  1497024570000    8/27/2018   \n",
       "\n",
       "                         Company Name Employees Affected laid_off  \n",
       "0  Western Digital Technologies, Inc.                 56        0  \n",
       "1  Western Digital Technologies, Inc.                 59        0  \n",
       "2  Western Digital Technologies, Inc.                 71        0  \n",
       "3  Western Digital Technologies, Inc.                337        0  \n",
       "4  Western Digital Technologies, Inc.                 79        0  \n",
       "\n",
       "[5 rows x 38 columns]"
      ]
     },
     "execution_count": 4,
     "metadata": {},
     "output_type": "execute_result"
    }
   ],
   "source": [
    "data = pd.read_csv(r'C:\\Ran\\Berkeley\\IEOR\\290\\Project\\Data\\New Data\\NewDataSet(Generated).csv')\n",
    "data.head()"
   ]
  },
  {
   "cell_type": "code",
   "execution_count": 5,
   "metadata": {},
   "outputs": [
    {
     "name": "stdout",
     "output_type": "stream",
     "text": [
      "<class 'pandas.core.frame.DataFrame'>\n",
      "RangeIndex: 131484 entries, 0 to 131483\n",
      "Data columns (total 38 columns):\n",
      "Unnamed: 0            131484 non-null int64\n",
      "ID                    131484 non-null object\n",
      "Birth Year            131484 non-null object\n",
      "Gender Flag           131484 non-null int64\n",
      "Skillset1             131484 non-null object\n",
      "Skillset1 Weight      131484 non-null float64\n",
      "Skillset2             131484 non-null object\n",
      "Skillset2 Weight      131484 non-null float64\n",
      "City of profile       119068 non-null object\n",
      "Country of profile    131484 non-null object\n",
      "Education             131484 non-null int64\n",
      "Elite Institution     131484 non-null bool\n",
      "Start Date            131484 non-null object\n",
      "StartFlag             131484 non-null object\n",
      "End Date              131484 non-null object\n",
      "EndFlag               131484 non-null bool\n",
      "CurrentEmployFlag     131484 non-null bool\n",
      "Length                131471 non-null float64\n",
      "Role                  131484 non-null object\n",
      "Dept                  84820 non-null object\n",
      "Company               131484 non-null object\n",
      "Company_Norm          131484 non-null object\n",
      "Ticker                131392 non-null object\n",
      "Exchange              131416 non-null object\n",
      "PublicFlag            131484 non-null bool\n",
      "Location              85229 non-null object\n",
      "Industry              119261 non-null float64\n",
      "EducationFlag         131484 non-null bool\n",
      "DegreeType            2 non-null float64\n",
      "EliteFlag             131484 non-null bool\n",
      "Dummy1                0 non-null float64\n",
      "Dummy2                0 non-null float64\n",
      "Dummy3                131390 non-null object\n",
      "Dummy4                131484 non-null object\n",
      "Layoff Date           131484 non-null object\n",
      "Company Name          131484 non-null object\n",
      "Employees Affected    131484 non-null int64\n",
      "laid_off              131484 non-null int64\n",
      "dtypes: bool(6), float64(7), int64(5), object(20)\n",
      "memory usage: 32.9+ MB\n"
     ]
    }
   ],
   "source": [
    "data.info()"
   ]
  },
  {
   "cell_type": "code",
   "execution_count": 6,
   "metadata": {},
   "outputs": [],
   "source": [
    "# drop useless features\n",
    "data = data.drop(['Dummy1','Dummy2','Dummy3','Dummy4','EliteFlag','DegreeType','EducationFlag','PublicFlag','Exchange','Ticker','Company_Norm','Company','StartFlag','EndFlag','CurrentEmployFlag','Unnamed: 0'],axis = 1)\n"
   ]
  },
  {
   "cell_type": "code",
   "execution_count": 7,
   "metadata": {},
   "outputs": [
    {
     "name": "stdout",
     "output_type": "stream",
     "text": [
      "<class 'pandas.core.frame.DataFrame'>\n",
      "RangeIndex: 131484 entries, 0 to 131483\n",
      "Data columns (total 22 columns):\n",
      "ID                    131484 non-null object\n",
      "Birth Year            131484 non-null object\n",
      "Gender Flag           131484 non-null int64\n",
      "Skillset1             131484 non-null object\n",
      "Skillset1 Weight      131484 non-null float64\n",
      "Skillset2             131484 non-null object\n",
      "Skillset2 Weight      131484 non-null float64\n",
      "City of profile       119068 non-null object\n",
      "Country of profile    131484 non-null object\n",
      "Education             131484 non-null int64\n",
      "Elite Institution     131484 non-null bool\n",
      "Start Date            131484 non-null object\n",
      "End Date              131484 non-null object\n",
      "Length                131471 non-null float64\n",
      "Role                  131484 non-null object\n",
      "Dept                  84820 non-null object\n",
      "Location              85229 non-null object\n",
      "Industry              119261 non-null float64\n",
      "Layoff Date           131484 non-null object\n",
      "Company Name          131484 non-null object\n",
      "Employees Affected    131484 non-null int64\n",
      "laid_off              131484 non-null int64\n",
      "dtypes: bool(1), float64(4), int64(4), object(13)\n",
      "memory usage: 21.2+ MB\n"
     ]
    }
   ],
   "source": [
    "data.info()"
   ]
  },
  {
   "cell_type": "markdown",
   "metadata": {},
   "source": [
    "# Feature Engineering"
   ]
  },
  {
   "cell_type": "markdown",
   "metadata": {},
   "source": [
    "## Age"
   ]
  },
  {
   "cell_type": "code",
   "execution_count": 8,
   "metadata": {},
   "outputs": [
    {
     "data": {
      "text/plain": [
       "Birth Year    97\n",
       "dtype: int64"
      ]
     },
     "execution_count": 8,
     "metadata": {},
     "output_type": "execute_result"
    }
   ],
   "source": [
    "# convert birth year to age\n",
    "# count how many None in Birth Year\n",
    "data[['Birth Year']].eq('None').sum()"
   ]
  },
  {
   "cell_type": "code",
   "execution_count": 9,
   "metadata": {},
   "outputs": [],
   "source": [
    "# Delete the rows where birth year = None and convert to age\n",
    "data = data[data['Birth Year']!='None']\n",
    "data['Age'] = 2018 - data['Birth Year'].astype('int')"
   ]
  },
  {
   "cell_type": "markdown",
   "metadata": {},
   "source": [
    "## Elite Institute"
   ]
  },
  {
   "cell_type": "code",
   "execution_count": 10,
   "metadata": {},
   "outputs": [],
   "source": [
    "# convert true and flase to 1 and 0\n",
    "data['Elite Institution'] = data['Elite Institution'].astype('uint8')"
   ]
  },
  {
   "cell_type": "markdown",
   "metadata": {},
   "source": [
    "## Skillset"
   ]
  },
  {
   "cell_type": "code",
   "execution_count": 11,
   "metadata": {},
   "outputs": [],
   "source": [
    "data['Skillset1'] = data['Skillset1'].astype(str)\n",
    "data['Skillset2'] = data['Skillset2'].astype(str)"
   ]
  },
  {
   "cell_type": "code",
   "execution_count": 12,
   "metadata": {},
   "outputs": [],
   "source": [
    "data.loc[data['Skillset1'].str.contains('Human Resources',case = False),'Skillset1'] = 'Human Resources'\n",
    "data.loc[data['Skillset2'].str.contains('Human Resources',case = False),'Skillset2'] = 'Human Resources'\n",
    "data.loc[data['Skillset1'].str.contains('Coaching',case = False),'Skillset1'] = 'Human Resources'\n",
    "data.loc[data['Skillset2'].str.contains('Coaching',case = False),'Skillset2'] = 'Human Resources'\n",
    "data.loc[data['Skillset1'].str.contains('Education',case = False),'Skillset1'] = 'Human Resources'\n",
    "data.loc[data['Skillset2'].str.contains('Education',case = False),'Skillset2'] = 'Human Resources'\n",
    "data.loc[data['Skillset1'].str.contains('Recruiting',case = False),'Skillset1'] = 'Human Resources'\n",
    "data.loc[data['Skillset2'].str.contains('Recruiting',case = False),'Skillset2'] = 'Human Resources'"
   ]
  },
  {
   "cell_type": "code",
   "execution_count": 13,
   "metadata": {},
   "outputs": [],
   "source": [
    "data.loc[data['Skillset1'].str.contains('Sales' or 'CRM',case = False),'Skillset1'] = 'Sales'\n",
    "data.loc[data['Skillset2'].str.contains('Sales' or 'CRM',case = False),'Skillset2'] = 'Sales'"
   ]
  },
  {
   "cell_type": "code",
   "execution_count": 14,
   "metadata": {},
   "outputs": [],
   "source": [
    "data.loc[data['Skillset1'].str.contains('Construction',case = False),'Skillset1'] = 'Industrial Management'\n",
    "data.loc[data['Skillset2'].str.contains('Construction',case = False),'Skillset2'] = 'Industrial Management'"
   ]
  },
  {
   "cell_type": "code",
   "execution_count": 15,
   "metadata": {},
   "outputs": [],
   "source": [
    "data.loc[data['Skillset1'].str.contains('Product Management',case = False),'Skillset1'] = 'Product Management'\n",
    "data.loc[data['Skillset2'].str.contains('Product Management',case = False),'Skillset2'] = 'Product Management'"
   ]
  },
  {
   "cell_type": "code",
   "execution_count": 16,
   "metadata": {},
   "outputs": [],
   "source": [
    "data.loc[data['Skillset1'].str.contains('Middle Management',case = False),'Skillset1'] = 'Administration'\n",
    "data.loc[data['Skillset2'].str.contains('Middle Management',case = False),'Skillset2'] = 'Administration'"
   ]
  },
  {
   "cell_type": "code",
   "execution_count": 17,
   "metadata": {},
   "outputs": [],
   "source": [
    "data.loc[data['Skillset1'].str.contains('Pharmaceutical',case = False),'Skillset1'] = 'Healthcare'\n",
    "data.loc[data['Skillset2'].str.contains('Pharmaceutical',case = False),'Skillset2'] = 'Healthcare'"
   ]
  },
  {
   "cell_type": "code",
   "execution_count": 18,
   "metadata": {},
   "outputs": [],
   "source": [
    "data.loc[data['Skillset1'].str.contains('Accounting',case = False),'Skillset1'] = 'Finance'\n",
    "data.loc[data['Skillset2'].str.contains('Accounting',case = False),'Skillset2'] = 'Finance'\n",
    "data.loc[data['Skillset1'].str.contains('Banking',case = False),'Skillset1'] = 'Finance'\n",
    "data.loc[data['Skillset2'].str.contains('Banking',case = False),'Skillset2'] = 'Finance'"
   ]
  },
  {
   "cell_type": "code",
   "execution_count": 19,
   "metadata": {},
   "outputs": [],
   "source": [
    "data.loc[data['Skillset1'].str.contains('Graphic',case = False),'Skillset1'] = 'Design'\n",
    "data.loc[data['Skillset2'].str.contains('Graphic',case = False),'Skillset2'] = 'Design'\n",
    "data.loc[data['Skillset1'].str.contains('Visual',case = False),'Skillset1'] = 'Design'\n",
    "data.loc[data['Skillset2'].str.contains('Visual',case = False),'Skillset2'] = 'Design'"
   ]
  },
  {
   "cell_type": "code",
   "execution_count": 20,
   "metadata": {},
   "outputs": [
    {
     "data": {
      "text/plain": [
       "array(['Web Development', 'Web Design', 'Administration',\n",
       "       'Software Engineering', 'Data Analysis', 'Human Resources',\n",
       "       'Finance', 'Product Management', 'Sales', 'Electrical Engineering',\n",
       "       'Digital Marketing', 'Mobile Telecommunications', 'Legal',\n",
       "       'Operations Management', 'Healthcare', 'Design',\n",
       "       'Manufacturing and Process Management', 'Business Development',\n",
       "       'Hospitality', 'Real Estate', 'Retail and Fashion', 'Logistics',\n",
       "       'Video and Film Production', 'Insurance',\n",
       "       'IT Management and Support', 'Social Media and Communications',\n",
       "       'Non-Profit and Community', 'Military', 'Musical Production',\n",
       "       'Public Policy', 'Industrial Management', 'Energy, Oil, and Gas'],\n",
       "      dtype=object)"
      ]
     },
     "execution_count": 20,
     "metadata": {},
     "output_type": "execute_result"
    }
   ],
   "source": [
    "data['Skillset1'].unique()"
   ]
  },
  {
   "cell_type": "code",
   "execution_count": 21,
   "metadata": {},
   "outputs": [
    {
     "data": {
      "text/plain": [
       "array(['Software Engineering', 'Digital Marketing', 'Real Estate',\n",
       "       'Web Development', 'Administration', 'Design', 'Data Analysis',\n",
       "       'Mobile Telecommunications', 'Sales', 'IT Management and Support',\n",
       "       'Business Development', 'Logistics', 'Human Resources', 'Finance',\n",
       "       'Web Design', 'Video and Film Production',\n",
       "       'Non-Profit and Community', 'Electrical Engineering', 'Healthcare',\n",
       "       'Operations Management', 'Product Management',\n",
       "       'Manufacturing and Process Management', 'Insurance',\n",
       "       'Social Media and Communications', 'Retail and Fashion', 'Legal',\n",
       "       'Hospitality', 'Military', 'Musical Production',\n",
       "       'Industrial Management', 'Public Policy', 'Energy, Oil, and Gas'],\n",
       "      dtype=object)"
      ]
     },
     "execution_count": 21,
     "metadata": {},
     "output_type": "execute_result"
    }
   ],
   "source": [
    "data['Skillset2'].unique()"
   ]
  },
  {
   "cell_type": "code",
   "execution_count": 20,
   "metadata": {},
   "outputs": [
    {
     "data": {
      "text/html": [
       "<div>\n",
       "<style scoped>\n",
       "    .dataframe tbody tr th:only-of-type {\n",
       "        vertical-align: middle;\n",
       "    }\n",
       "\n",
       "    .dataframe tbody tr th {\n",
       "        vertical-align: top;\n",
       "    }\n",
       "\n",
       "    .dataframe thead th {\n",
       "        text-align: right;\n",
       "    }\n",
       "</style>\n",
       "<table border=\"1\" class=\"dataframe\">\n",
       "  <thead>\n",
       "    <tr style=\"text-align: right;\">\n",
       "      <th></th>\n",
       "      <th>ID</th>\n",
       "      <th>Birth Year</th>\n",
       "      <th>Gender Flag</th>\n",
       "      <th>Skillset1 Weight</th>\n",
       "      <th>Skillset2 Weight</th>\n",
       "      <th>City of profile</th>\n",
       "      <th>Country of profile</th>\n",
       "      <th>Education</th>\n",
       "      <th>Elite Institution</th>\n",
       "      <th>Start Date</th>\n",
       "      <th>...</th>\n",
       "      <th>s2-Product Management</th>\n",
       "      <th>s2-Public Policy</th>\n",
       "      <th>s2-Real Estate</th>\n",
       "      <th>s2-Retail and Fashion</th>\n",
       "      <th>s2-Sales</th>\n",
       "      <th>s2-Social Media and Communications</th>\n",
       "      <th>s2-Software Engineering</th>\n",
       "      <th>s2-Video and Film Production</th>\n",
       "      <th>s2-Web Design</th>\n",
       "      <th>s2-Web Development</th>\n",
       "    </tr>\n",
       "  </thead>\n",
       "  <tbody>\n",
       "    <tr>\n",
       "      <th>0</th>\n",
       "      <td>d5dc4adf-7444-38c2-84d7-10dcaa5cba78</td>\n",
       "      <td>2001</td>\n",
       "      <td>2</td>\n",
       "      <td>0.868526</td>\n",
       "      <td>0.085376</td>\n",
       "      <td>San Francisco</td>\n",
       "      <td>United States</td>\n",
       "      <td>0</td>\n",
       "      <td>0</td>\n",
       "      <td>2007/2/1</td>\n",
       "      <td>...</td>\n",
       "      <td>0</td>\n",
       "      <td>0</td>\n",
       "      <td>0</td>\n",
       "      <td>0</td>\n",
       "      <td>0</td>\n",
       "      <td>0</td>\n",
       "      <td>0</td>\n",
       "      <td>0</td>\n",
       "      <td>0</td>\n",
       "      <td>0</td>\n",
       "    </tr>\n",
       "    <tr>\n",
       "      <th>1</th>\n",
       "      <td>d5dc4adf-7444-38c2-84d7-10dcaa5cba78</td>\n",
       "      <td>2001</td>\n",
       "      <td>2</td>\n",
       "      <td>0.868526</td>\n",
       "      <td>0.085376</td>\n",
       "      <td>San Francisco</td>\n",
       "      <td>United States</td>\n",
       "      <td>0</td>\n",
       "      <td>0</td>\n",
       "      <td>2007/2/1</td>\n",
       "      <td>...</td>\n",
       "      <td>0</td>\n",
       "      <td>0</td>\n",
       "      <td>0</td>\n",
       "      <td>0</td>\n",
       "      <td>0</td>\n",
       "      <td>0</td>\n",
       "      <td>0</td>\n",
       "      <td>0</td>\n",
       "      <td>0</td>\n",
       "      <td>0</td>\n",
       "    </tr>\n",
       "    <tr>\n",
       "      <th>4</th>\n",
       "      <td>04f6646b-fdf1-3098-8112-ab9b1a3cb87f</td>\n",
       "      <td>1985</td>\n",
       "      <td>2</td>\n",
       "      <td>0.985448</td>\n",
       "      <td>0.006848</td>\n",
       "      <td>Mountain View</td>\n",
       "      <td>United States</td>\n",
       "      <td>4</td>\n",
       "      <td>0</td>\n",
       "      <td>2007/7/1</td>\n",
       "      <td>...</td>\n",
       "      <td>0</td>\n",
       "      <td>0</td>\n",
       "      <td>0</td>\n",
       "      <td>0</td>\n",
       "      <td>0</td>\n",
       "      <td>0</td>\n",
       "      <td>0</td>\n",
       "      <td>0</td>\n",
       "      <td>0</td>\n",
       "      <td>1</td>\n",
       "    </tr>\n",
       "    <tr>\n",
       "      <th>5</th>\n",
       "      <td>04f6646b-fdf1-3098-8112-ab9b1a3cb87f</td>\n",
       "      <td>1985</td>\n",
       "      <td>2</td>\n",
       "      <td>0.985448</td>\n",
       "      <td>0.006848</td>\n",
       "      <td>Mountain View</td>\n",
       "      <td>United States</td>\n",
       "      <td>4</td>\n",
       "      <td>0</td>\n",
       "      <td>2007/7/1</td>\n",
       "      <td>...</td>\n",
       "      <td>0</td>\n",
       "      <td>0</td>\n",
       "      <td>0</td>\n",
       "      <td>0</td>\n",
       "      <td>0</td>\n",
       "      <td>0</td>\n",
       "      <td>0</td>\n",
       "      <td>0</td>\n",
       "      <td>0</td>\n",
       "      <td>1</td>\n",
       "    </tr>\n",
       "    <tr>\n",
       "      <th>6</th>\n",
       "      <td>04f6646b-fdf1-3098-8112-ab9b1a3cb87f</td>\n",
       "      <td>1985</td>\n",
       "      <td>2</td>\n",
       "      <td>0.985448</td>\n",
       "      <td>0.006848</td>\n",
       "      <td>Mountain View</td>\n",
       "      <td>United States</td>\n",
       "      <td>4</td>\n",
       "      <td>0</td>\n",
       "      <td>2014/9/1</td>\n",
       "      <td>...</td>\n",
       "      <td>0</td>\n",
       "      <td>0</td>\n",
       "      <td>0</td>\n",
       "      <td>0</td>\n",
       "      <td>0</td>\n",
       "      <td>0</td>\n",
       "      <td>0</td>\n",
       "      <td>0</td>\n",
       "      <td>0</td>\n",
       "      <td>1</td>\n",
       "    </tr>\n",
       "  </tbody>\n",
       "</table>\n",
       "<p>5 rows × 85 columns</p>\n",
       "</div>"
      ],
      "text/plain": [
       "                                     ID Birth Year  Gender Flag  \\\n",
       "0  d5dc4adf-7444-38c2-84d7-10dcaa5cba78       2001            2   \n",
       "1  d5dc4adf-7444-38c2-84d7-10dcaa5cba78       2001            2   \n",
       "4  04f6646b-fdf1-3098-8112-ab9b1a3cb87f       1985            2   \n",
       "5  04f6646b-fdf1-3098-8112-ab9b1a3cb87f       1985            2   \n",
       "6  04f6646b-fdf1-3098-8112-ab9b1a3cb87f       1985            2   \n",
       "\n",
       "   Skillset1 Weight  Skillset2 Weight City of profile Country of profile  \\\n",
       "0          0.868526          0.085376   San Francisco      United States   \n",
       "1          0.868526          0.085376   San Francisco      United States   \n",
       "4          0.985448          0.006848   Mountain View      United States   \n",
       "5          0.985448          0.006848   Mountain View      United States   \n",
       "6          0.985448          0.006848   Mountain View      United States   \n",
       "\n",
       "   Education  Elite Institution Start Date         ...          \\\n",
       "0          0                  0   2007/2/1         ...           \n",
       "1          0                  0   2007/2/1         ...           \n",
       "4          4                  0   2007/7/1         ...           \n",
       "5          4                  0   2007/7/1         ...           \n",
       "6          4                  0   2014/9/1         ...           \n",
       "\n",
       "  s2-Product Management  s2-Public Policy s2-Real Estate  \\\n",
       "0                     0                 0              0   \n",
       "1                     0                 0              0   \n",
       "4                     0                 0              0   \n",
       "5                     0                 0              0   \n",
       "6                     0                 0              0   \n",
       "\n",
       "  s2-Retail and Fashion s2-Sales  s2-Social Media and Communications  \\\n",
       "0                     0        0                                   0   \n",
       "1                     0        0                                   0   \n",
       "4                     0        0                                   0   \n",
       "5                     0        0                                   0   \n",
       "6                     0        0                                   0   \n",
       "\n",
       "  s2-Software Engineering s2-Video and Film Production  s2-Web Design  \\\n",
       "0                       0                            0              0   \n",
       "1                       0                            0              0   \n",
       "4                       0                            0              0   \n",
       "5                       0                            0              0   \n",
       "6                       0                            0              0   \n",
       "\n",
       "   s2-Web Development  \n",
       "0                   0  \n",
       "1                   0  \n",
       "4                   1  \n",
       "5                   1  \n",
       "6                   1  \n",
       "\n",
       "[5 rows x 85 columns]"
      ]
     },
     "execution_count": 20,
     "metadata": {},
     "output_type": "execute_result"
    }
   ],
   "source": [
    "# Enode skill set\n",
    "# use one-hot encoding to encode skillsets\n",
    "#encodeSkill1 = pd.get_dummies(data['Skillset1'], prefix = 's1', prefix_sep='-')\n",
    "#encodeSkill2 = pd.get_dummies(data['Skillset2'], prefix = 's2', prefix_sep='-') \n",
    "#data = data.drop(['Skillset1','Skillset2'], axis = 1)\n",
    "#data = data.join(encodeSkill1) \n",
    "#data = data.join(encodeSkill2)\n",
    "#data.head()"
   ]
  },
  {
   "cell_type": "code",
   "execution_count": 24,
   "metadata": {},
   "outputs": [],
   "source": [
    "data.to_csv(r'C:\\Ran\\Berkeley\\IEOR\\290\\Project\\Data\\New Data\\newData1.csv')"
   ]
  },
  {
   "cell_type": "code",
   "execution_count": null,
   "metadata": {},
   "outputs": [],
   "source": []
  }
 ],
 "metadata": {
  "kernelspec": {
   "display_name": "Python 3",
   "language": "python",
   "name": "python3"
  },
  "language_info": {
   "codemirror_mode": {
    "name": "ipython",
    "version": 3
   },
   "file_extension": ".py",
   "mimetype": "text/x-python",
   "name": "python",
   "nbconvert_exporter": "python",
   "pygments_lexer": "ipython3",
   "version": "3.6.8"
  }
 },
 "nbformat": 4,
 "nbformat_minor": 2
}

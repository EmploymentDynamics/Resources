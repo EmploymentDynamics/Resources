{
 "cells": [
  {
   "cell_type": "code",
   "execution_count": 1,
   "metadata": {},
   "outputs": [],
   "source": [
    "import pandas as pd"
   ]
  },
  {
   "cell_type": "code",
   "execution_count": 2,
   "metadata": {},
   "outputs": [],
   "source": [
    "#Storing data\n",
    "bayarea=pd.read_csv(r\"C:\\Users\\Rohit\\Desktop\\RequiredData\\bay_area.csv\", sep = \"\\t\",nrows=10000)\n",
    "warn=pd.read_csv(r\"C:\\Users\\Rohit\\Desktop\\RequiredData\\warn_bay_area.csv\")\n"
   ]
  },
  {
   "cell_type": "code",
   "execution_count": null,
   "metadata": {},
   "outputs": [],
   "source": []
  },
  {
   "cell_type": "code",
   "execution_count": 21,
   "metadata": {},
   "outputs": [],
   "source": []
  },
  {
   "cell_type": "code",
   "execution_count": 4,
   "metadata": {},
   "outputs": [],
   "source": [
    "colnames=['ID', 'Birth Year', 'Gender Flag', 'Skillset1', 'Skillset1 Weight', 'Skillset2', 'Skillset2 Weight', 'City of profile','Country of profile','Education','Elite Institution', 'Start Date', 'StartFlag','End Date', 'EndFlag', 'CurrentEmployFlag','Length','Role','Dept','Company','Company_Norm','Ticker','Exchange','PublicFlag','Location','Industry','EducationFlag','DegreeType','EliteFlag','Dummy1','Dummy2','Dummy3','Dummy4'] \n",
    "bayarea.columns=colnames\n"
   ]
  },
  {
   "cell_type": "code",
   "execution_count": 5,
   "metadata": {},
   "outputs": [],
   "source": [
    "#If skillset weight1 and weight2 are empty, then remove the row\n",
    "listdrop=[]\n",
    "for i in range(len(bayarea)):\n",
    "    if(bayarea.iloc[i,3]=='-1') and (bayarea.iloc[i,5]=='-1'):\n",
    "        listdrop.append(i)\n",
    "        \n",
    "        \n"
   ]
  },
  {
   "cell_type": "code",
   "execution_count": 6,
   "metadata": {},
   "outputs": [
    {
     "name": "stderr",
     "output_type": "stream",
     "text": [
      "C:\\Users\\Rohit\\Anaconda3\\lib\\site-packages\\pandas\\core\\indexes\\base.py:2095: FutureWarning: Using a non-tuple sequence for multidimensional indexing is deprecated; use `arr[tuple(seq)]` instead of `arr[seq]`. In the future this will be interpreted as an array index, `arr[np.array(seq)]`, which will result either in an error or a different result.\n",
      "  result = getitem(key)\n"
     ]
    }
   ],
   "source": [
    "bayarea=bayarea.drop(bayarea.index[[listdrop]])\n"
   ]
  },
  {
   "cell_type": "code",
   "execution_count": 7,
   "metadata": {},
   "outputs": [],
   "source": [
    "#Converting company names to list\n",
    "bay_area_company=bayarea['Company']\n",
    "bay_area_company=bay_area_company.tolist()\n",
    "warn_company=warn['Company Name']\n",
    "warn_company=warn_company.tolist()"
   ]
  },
  {
   "cell_type": "code",
   "execution_count": 8,
   "metadata": {},
   "outputs": [],
   "source": [
    "#cleaning strings in bay_area_company to make it easier to compare\n",
    "temp=bay_area_company\n",
    "for x in range(len(temp)):\n",
    "    if(type(temp[x]) is str):\n",
    "        temp[x]=temp[x].lower()\n",
    "        temp[x]=temp[x].lstrip()\n",
    "        temp[x]=temp[x].rstrip()\n",
    "\n",
    "commoncompany=[]\n",
    "for x in range((len(warn_company))):\n",
    "    for y in range((len(temp))):\n",
    "        if(type(warn_company[x]) is str and type(temp[y]) is str):\n",
    "            if(warn_company[x].lower() in temp[y] or temp[y] in warn_company[x].lower()):\n",
    "                commoncompany.append(warn_company[x])\n",
    "    "
   ]
  },
  {
   "cell_type": "code",
   "execution_count": 13,
   "metadata": {},
   "outputs": [
    {
     "name": "stdout",
     "output_type": "stream",
     "text": [
      "['ADOBE SYSTEMS INC', 'ADOBE SYSTEMS INCORPORATED', 'ALTA BATES SUMMIT MED.CTR.-ALTA BATES CAMPUS', 'ALTA BATES SUMMIT MEDICAL CENTER-HERRICK CAMPUS', 'ALTA BATES SUMMIT MEDICAL CENTER-SUMMIT CAMPUS', 'ALTA BATES SUMMIT MEIDCAL CENTER - SUMMIT CAMPUS', 'APPLIED MATERIALS INC', 'APPLIED MATERIALS, INC. - GARRETT DRIVE', 'APPLIED MATERIALS, INC. -OAKMEAD VILLAGE DRIVE', 'APPLIED MATERIALS, INC.-SCOTT BOULEVARD', 'BANK OF AMERICA-CONCORD', 'BAY AREA NEWS GROUP-SHARED SERVICES CENTER', 'DISNEY INTERACTIVE-PALO ALTO', 'EL CAMINO HOSPITAL', 'INTUIT INC', 'MARC ECKO ENTERPRISES DIRECT LLC-GILROY', 'MARC ECKO ENTERPRISES DIRECT LLC-MILPITAS', 'PALO ALTO MEDICAL FOUNDATION- SUTTER HEALTH', 'PHOENIX BIG CINEMAS - FREMONT', 'SERRA CORPORATION-HAYWARD', 'SERRA CORPORATION-SAN JOSE', 'SONY ELECTRONICS, INC.-SAN JOSE', 'SUTTER EAST BAY HOSP-BATES SUMMIT MED CTR', 'SUTTER HEALTH(ABSMC)- PROVIDENCE PAVILLION CAMPUS', 'SUTTER HEALTH-ALTA BATES MED CTR-ALTA BATES CAMPUS', 'SUTTER HEALTH-ALTA BATES MED CTR-HERRICK CAMPUS', 'SUTTER HEALTH-ALTA BATES MED CTR-SUMMIT CAMPUS', 'SUTTER HEALTH-ALTA BATES SUMMIT MEDICAL CENTER', 'SUTTER HEALTH/ABSMC - SUMMIT CAMPUS', 'SYMANTEC CORPORATION', 'THE RITZ-CARLTON, SAN FRANCISCO', 'UPS-NORTH BAY(RICHMOND) HUB', 'USS-POSCO', 'Cesar Chavez Student Center, SFU', 'Hewlett-Packard Company', 'Symantec Corporation', 'Sutter East Bay Hospitals-Providence Pavillion', 'Sutter East Bay Hospitals - ABSMC Summit', 'Intuit, Inc.', 'Intuit Inc.', 'Bank of America', 'Wells Fargo', 'MV Transportation, Inc.', 'Broadcom Corporation', 'Hewlitt-Packard Company', 'Sutter Health/ABSMC Summit', 'Disney Interactive', 'USS-POSCO Industries', 'San Francisco Marriott Marquis', 'Microsoft and Nokia, Inc.', 'Cisco Systems, Inc.', 'Microsoft and Nokia Inc.', 'Hewlett-Packard Company (HP)', 'Valley Waste Management', 'Symantec Corporation - Mountain View', 'MILLS-PENINSULA HEALTH', 'INTERMUNE, INC', 'ARAMARK', 'Kixeye Inc.', 'Chevron', 'VMware, Inc', 'Tabula, Inc.', 'JPMorgan Chase & Co.', 'Citrix Systems, Inc', \"Fireman's Fund Insurance Company\", 'AT&T', 'Mandarin Oriental San Francisco Inc.', 'Marriott', 'Perfect World Co., Ltd', \"Fireman's Fund Insurnace Company\", 'Owens-Brockway Glass Container Inc.', 'AT&T Global Customer Service', \"Raley's\", 'Intel Corporation', 'University of Phoenix', 'Maxim Integrated Product', 'KLA-Tencor Corporation', 'Berkeley Pyramid Alehouse', 'Kixeye, Inc.', 'Boston Scientific Corporation', 'Hilton San Francisco Union Square', 'Western Digital Technologies, Inc.', 'MiaSole Hi-Tech Corp.', 'Barclays Capital Inc.', 'Western Digital, LLC', 'Twitter, Inc.', 'Marvell Semiconductor, Inc.', 'abercrombie kids', 'Citrix Systems, Inc.', 'Adecco Group NA', 'Walmart', 'VMware, Inc.', 'JCPenney', 'Yahoo! Inc.', 'Valley Fine Foods', 'SurveyMonkey Inc.', 'Georgia-Pacific Gypsum LLC', 'Williams-Sonoma, Inc.', 'Lockheed Martin Corporation', 'Western Digital Technology, Inc.', 'First Student', 'L-3 Communications Divisions, Electron', 'StemCells, Inc.', 'eBay, Inc.', 'Merchant e-Solutions, Inc.', 'FireEye, Inc.', 'Valley Medical Oncology Consultants', 'Hotel Nikko San Francisco', 'Thermo Fisher Scientific', 'CAM-BAS Inc.', 'Visa Inc.', 'UPS', 'Target', \"Macy's\", 'Google Inc.', 'Oracle America, Inc.', 'AOL Inc.', 'Walmart Stores, Inc.', 'Verizon', 'Stanford Health Care', 'Google', 'Fitbit, Inc.', 'Bank of the West', 'VF Outdoor, LLC', 'Quixey, Inc.', 'DaVita Rx', 'J.C. Penney Corporation, Inc.', 'California Pacific Medical Center', 'Yahoo Holdings, Inc.', 'The Ritz-Carlton, Half Moon Bay', 'Brocade Communications Systems, Inc.', 'Eventbrite, Inc.', 'Graphic Packaging International, Inc.', 'RR Donnelley', 'PharMerica (8822-San Francisco-KHPS', 'General Electric Company', 'Marvell Semiconductor', 'Toys R Us- Delaware, Inc.', 'Raleys', 'FAA San Bruno. Inc., dba Melody Toyota', 'Intel', 'Tesla, Inc.', 'eBay Inc.']\n"
     ]
    }
   ],
   "source": [
    "#only store unique values in commoncompany\n",
    "output = []\n",
    "for x in commoncompany:\n",
    "    if x not in output:\n",
    "        output.append(x)\n",
    "print(output)"
   ]
  },
  {
   "cell_type": "code",
   "execution_count": 32,
   "metadata": {},
   "outputs": [],
   "source": [
    "company=(a.iloc[:,20])\n",
    "company=company.tolist()\n"
   ]
  },
  {
   "cell_type": "code",
   "execution_count": 90,
   "metadata": {
    "scrolled": false
   },
   "outputs": [
    {
     "data": {
      "text/plain": [
       "False"
      ]
     },
     "execution_count": 90,
     "metadata": {},
     "output_type": "execute_result"
    }
   ],
   "source": [
    "'ADOBE' in warn_company"
   ]
  }
 ],
 "metadata": {
  "kernelspec": {
   "display_name": "Python 3",
   "language": "python",
   "name": "python3"
  },
  "language_info": {
   "codemirror_mode": {
    "name": "ipython",
    "version": 3
   },
   "file_extension": ".py",
   "mimetype": "text/x-python",
   "name": "python",
   "nbconvert_exporter": "python",
   "pygments_lexer": "ipython3",
   "version": "3.7.1"
  }
 },
 "nbformat": 4,
 "nbformat_minor": 2
}
